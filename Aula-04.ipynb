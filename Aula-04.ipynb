{
  "nbformat": 4,
  "nbformat_minor": 0,
  "metadata": {
    "kernelspec": {
      "display_name": "Python 3",
      "language": "python",
      "name": "python3"
    },
    "language_info": {
      "codemirror_mode": {
        "name": "ipython",
        "version": 3
      },
      "file_extension": ".py",
      "mimetype": "text/x-python",
      "name": "python",
      "nbconvert_exporter": "python",
      "pygments_lexer": "ipython3",
      "version": "3.6.4"
    },
    "colab": {
      "provenance": []
    }
  },
  "cells": [
    {
      "cell_type": "markdown",
      "metadata": {
        "id": "p8_FeTJNyXyz"
      },
      "source": [
        "![](https://ucb.catolica.edu.br/hubfs/SITE/logo__catolica--footer.svg)\n",
        "\n",
        "## Novas Tecnologias\n",
        "\n",
        "Professor: Remis Balaniuk, 2024\n",
        "\n",
        "## Introdução ao Numpy e Pandas"
      ]
    },
    {
      "cell_type": "markdown",
      "metadata": {
        "id": "Rqkwe8hck_rH"
      },
      "source": [
        "## O que é o Numpy\n",
        "\n",
        "O NumPy é um pacote Python que significa 'Python Numérico'. É a biblioteca principal de computação científica, que contém um poderoso objeto de matriz n-dimensional, fornece ferramentas para integrar C, C ++ etc. Também é útil em álgebra linear, capacidade de números aleatórios etc. A matriz NumPy também pode ser usada como um eficiente recipiente multidimensional para dados genéricos.\n",
        "\n",
        "Matriz NumPy: A matriz Numpy é um poderoso objeto de matriz N-dimensional na forma de linhas e colunas. Podemos inicializar matrizes numpy a partir de listas Python aninhadas e acessar seus elementos."
      ]
    },
    {
      "cell_type": "code",
      "metadata": {
        "id": "6GGXby-5VMqk"
      },
      "source": [
        "# por convenção utiliza-se o alias np ao importar a biblioteca Numpy\n",
        "import numpy as np\n"
      ],
      "execution_count": 2,
      "outputs": []
    },
    {
      "cell_type": "code",
      "metadata": {
        "id": "5A66ng2376ty",
        "outputId": "96b9e9cd-2128-4124-d229-a7bfeb2b2aed",
        "colab": {
          "base_uri": "https://localhost:8080/"
        }
      },
      "source": [
        "a = np.array([1, 2, 3])\n",
        "print(\"Array unidimensional a:\",a)\n",
        "print(\"Tipo do a:\",type(a))\n",
        "print(\"Shape do a:\",a.shape)\n",
        "print(\"Lendo posições do a:\",a[0], a[1], a[2])\n",
        "a[0] = 5\n",
        "print(a)\n",
        "\n",
        "b = np.array([[1,2,3],[4,5,6]])\n",
        "print(\"Array bidimensional b:\")\n",
        "print(b)\n",
        "print(\"Tipo do b:\",type(b))\n",
        "print(\"Shape do b:\",b.shape)\n",
        "print(\"Lendo posições do b:\",b[0,0],b[1,0],b[1,2])\n",
        "b[1,1] = 5\n",
        "print(b)"
      ],
      "execution_count": null,
      "outputs": [
        {
          "output_type": "stream",
          "name": "stdout",
          "text": [
            "Array unidimensional a: [1 2 3]\n",
            "Tipo do a: <class 'numpy.ndarray'>\n",
            "Shape do a: (3,)\n",
            "Lendo posições do a: 1 2 3\n",
            "[5 2 3]\n",
            "Array bidimensional b:\n",
            "[[1 2 3]\n",
            " [4 5 6]]\n",
            "Tipo do b: <class 'numpy.ndarray'>\n",
            "Shape do b: (2, 3)\n",
            "Lendo posições do b: 1 4 6\n",
            "[[1 2 3]\n",
            " [4 5 6]]\n"
          ]
        }
      ]
    },
    {
      "cell_type": "code",
      "source": [
        "x = np.array([[1,2,'c'],[4,5,6]])"
      ],
      "metadata": {
        "id": "0ZH51WV5EO7w"
      },
      "execution_count": null,
      "outputs": []
    },
    {
      "cell_type": "code",
      "source": [
        "x"
      ],
      "metadata": {
        "colab": {
          "base_uri": "https://localhost:8080/"
        },
        "id": "QVCdCvjIPJeY",
        "outputId": "6eb63983-d302-41b5-eb17-b836485bff07"
      },
      "execution_count": null,
      "outputs": [
        {
          "output_type": "execute_result",
          "data": {
            "text/plain": [
              "array([['1', '2', 'c'],\n",
              "       ['4', '5', '6']], dtype='<U21')"
            ]
          },
          "metadata": {},
          "execution_count": 8
        }
      ]
    },
    {
      "cell_type": "markdown",
      "metadata": {
        "id": "ErLMOYPX8TUC"
      },
      "source": [
        "É possível criar matrizes numpy por meio de funções:"
      ]
    },
    {
      "cell_type": "code",
      "metadata": {
        "id": "uIy8sWh18cwg",
        "outputId": "0d8a55ba-6c45-4ded-d0d9-1c5fb8ea36b7",
        "colab": {
          "base_uri": "https://localhost:8080/"
        }
      },
      "source": [
        "a = np.zeros((2,2))   # Cria matriz com zeros: no parâmetro deve passar o \"shape\" desejado como uma tupla\n",
        "print(a)\n",
        "\n",
        "b = np.ones((1,2))    # Cria matriz com uns\n",
        "print(b)\n",
        "\n",
        "c = np.full((2,2), 7)  # Cria matriz constante\n",
        "print(c)\n",
        "\n",
        "d = np.eye(2)         #Cria matriz identidade 2x2\n",
        "print(d)\n",
        "\n",
        "e = np.random.random((2,2))  # Cria matriz com números aleatórios entre 0 e 1\n",
        "print(e)\n",
        "\n",
        "f = np.arange(0, 3 * np.pi, 0.1)  # cria um vetor usando range (intervalo): início, fim e passo\n",
        "print(f)\n",
        "\n",
        "#random.randint(low, high=None, size=None, dtype=int)\n",
        "g = np.random.randint(100, high=200, size=20) # cria vetor com números inteiros aleatórios dentro de um intervalo\n",
        "print(g)"
      ],
      "execution_count": null,
      "outputs": [
        {
          "output_type": "stream",
          "name": "stdout",
          "text": [
            "[[0. 0.]\n",
            " [0. 0.]]\n",
            "[[1. 1.]]\n",
            "[[7 7]\n",
            " [7 7]]\n",
            "[[1. 0.]\n",
            " [0. 1.]]\n",
            "[[0.92176986 0.05735761]\n",
            " [0.6275649  0.44368245]]\n",
            "[0.  0.1 0.2 0.3 0.4 0.5 0.6 0.7 0.8 0.9 1.  1.1 1.2 1.3 1.4 1.5 1.6 1.7\n",
            " 1.8 1.9 2.  2.1 2.2 2.3 2.4 2.5 2.6 2.7 2.8 2.9 3.  3.1 3.2 3.3 3.4 3.5\n",
            " 3.6 3.7 3.8 3.9 4.  4.1 4.2 4.3 4.4 4.5 4.6 4.7 4.8 4.9 5.  5.1 5.2 5.3\n",
            " 5.4 5.5 5.6 5.7 5.8 5.9 6.  6.1 6.2 6.3 6.4 6.5 6.6 6.7 6.8 6.9 7.  7.1\n",
            " 7.2 7.3 7.4 7.5 7.6 7.7 7.8 7.9 8.  8.1 8.2 8.3 8.4 8.5 8.6 8.7 8.8 8.9\n",
            " 9.  9.1 9.2 9.3 9.4]\n",
            "[103 167 103 152 139 198 116 155 188 118 110 167 187 126 196 178 161 143\n",
            " 160 153]\n"
          ]
        }
      ]
    },
    {
      "cell_type": "code",
      "metadata": {
        "id": "L8SkkB8rL298",
        "outputId": "98215381-16cd-4c96-8282-4c5a20cf2634",
        "colab": {
          "base_uri": "https://localhost:8080/"
        }
      },
      "source": [
        "type(a[0,0])"
      ],
      "execution_count": null,
      "outputs": [
        {
          "output_type": "execute_result",
          "data": {
            "text/plain": [
              "numpy.float64"
            ]
          },
          "metadata": {},
          "execution_count": 14
        }
      ]
    },
    {
      "cell_type": "code",
      "source": [
        "g.shape"
      ],
      "metadata": {
        "colab": {
          "base_uri": "https://localhost:8080/"
        },
        "id": "qd_RTl-WH7Ci",
        "outputId": "63850684-3563-4179-9d8b-728644620ac6"
      },
      "execution_count": null,
      "outputs": [
        {
          "output_type": "execute_result",
          "data": {
            "text/plain": [
              "(4, 5)"
            ]
          },
          "metadata": {},
          "execution_count": 13
        }
      ]
    },
    {
      "cell_type": "code",
      "source": [
        "g = g.reshape((4,5))"
      ],
      "metadata": {
        "id": "t2KLJ5nPHsa8"
      },
      "execution_count": null,
      "outputs": []
    },
    {
      "cell_type": "code",
      "source": [
        "g"
      ],
      "metadata": {
        "colab": {
          "base_uri": "https://localhost:8080/"
        },
        "id": "jmIbIXa7IBMP",
        "outputId": "a140a50e-9d80-43f3-cb7f-b480956506bf"
      },
      "execution_count": null,
      "outputs": [
        {
          "output_type": "execute_result",
          "data": {
            "text/plain": [
              "array([[164, 181, 197, 191, 182],\n",
              "       [134, 141, 116, 114, 122],\n",
              "       [167, 132, 186, 106, 122],\n",
              "       [136, 182, 198, 118, 124]])"
            ]
          },
          "metadata": {},
          "execution_count": 22
        }
      ]
    },
    {
      "cell_type": "markdown",
      "source": [
        "## Arrays só podem conter dados de um mesmo tipo."
      ],
      "metadata": {
        "id": "NRiSwpEf3oJj"
      }
    },
    {
      "cell_type": "code",
      "source": [
        "ax = np.array([1, 2, 3,'x'])"
      ],
      "metadata": {
        "id": "hX0JY1Eu3WUs"
      },
      "execution_count": null,
      "outputs": []
    },
    {
      "cell_type": "code",
      "source": [
        "ax"
      ],
      "metadata": {
        "colab": {
          "base_uri": "https://localhost:8080/"
        },
        "id": "b4HH7OxEPwpX",
        "outputId": "5f2eb8dc-a9de-4568-f31a-ed060c57478c"
      },
      "execution_count": null,
      "outputs": [
        {
          "output_type": "execute_result",
          "data": {
            "text/plain": [
              "array(['1', '2', '3', 'x'], dtype='<U21')"
            ]
          },
          "metadata": {},
          "execution_count": 11
        }
      ]
    },
    {
      "cell_type": "code",
      "source": [
        "ax[0] = 0"
      ],
      "metadata": {
        "id": "VrBOOsYaPzte"
      },
      "execution_count": null,
      "outputs": []
    },
    {
      "cell_type": "code",
      "source": [
        "ax"
      ],
      "metadata": {
        "colab": {
          "base_uri": "https://localhost:8080/"
        },
        "id": "0HHvhzbtP29l",
        "outputId": "080614e4-f734-48cf-801b-8054f56c8869"
      },
      "execution_count": null,
      "outputs": [
        {
          "output_type": "execute_result",
          "data": {
            "text/plain": [
              "array(['0', '2', '3', 'x'], dtype='<U21')"
            ]
          },
          "metadata": {},
          "execution_count": 10
        }
      ]
    },
    {
      "cell_type": "markdown",
      "source": [
        "Note que o Numpy converteu tudo para string:"
      ],
      "metadata": {
        "id": "nuBSexZx4Kyx"
      }
    },
    {
      "cell_type": "code",
      "source": [
        "print(type(ax[0]),type(ax[1]))"
      ],
      "metadata": {
        "colab": {
          "base_uri": "https://localhost:8080/"
        },
        "id": "uoMiCYzY31ih",
        "outputId": "3b3333f4-4d0d-495e-de34-69abb6c5865d"
      },
      "execution_count": null,
      "outputs": [
        {
          "output_type": "stream",
          "name": "stdout",
          "text": [
            "<class 'numpy.str_'> <class 'numpy.str_'>\n"
          ]
        }
      ]
    },
    {
      "cell_type": "markdown",
      "source": [
        "## Estruturas multidimensionais precisam ter os mesmos comprimentos:"
      ],
      "metadata": {
        "id": "G0hRlN-S4TMQ"
      }
    },
    {
      "cell_type": "code",
      "source": [
        "bx = np.array([[1,2,3],[4,5,6],1])"
      ],
      "metadata": {
        "colab": {
          "base_uri": "https://localhost:8080/",
          "height": 180
        },
        "id": "Sm6Hp8xC3ddc",
        "outputId": "5da69aae-d710-4a25-be37-ed1a46dc8f61"
      },
      "execution_count": null,
      "outputs": [
        {
          "output_type": "error",
          "ename": "ValueError",
          "evalue": "setting an array element with a sequence. The requested array has an inhomogeneous shape after 1 dimensions. The detected shape was (3,) + inhomogeneous part.",
          "traceback": [
            "\u001b[0;31m---------------------------------------------------------------------------\u001b[0m",
            "\u001b[0;31mValueError\u001b[0m                                Traceback (most recent call last)",
            "\u001b[0;32m<ipython-input-14-2d6778ecc7e5>\u001b[0m in \u001b[0;36m<cell line: 1>\u001b[0;34m()\u001b[0m\n\u001b[0;32m----> 1\u001b[0;31m \u001b[0mbx\u001b[0m \u001b[0;34m=\u001b[0m \u001b[0mnp\u001b[0m\u001b[0;34m.\u001b[0m\u001b[0marray\u001b[0m\u001b[0;34m(\u001b[0m\u001b[0;34m[\u001b[0m\u001b[0;34m[\u001b[0m\u001b[0;36m1\u001b[0m\u001b[0;34m,\u001b[0m\u001b[0;36m2\u001b[0m\u001b[0;34m,\u001b[0m\u001b[0;36m3\u001b[0m\u001b[0;34m]\u001b[0m\u001b[0;34m,\u001b[0m\u001b[0;34m[\u001b[0m\u001b[0;36m4\u001b[0m\u001b[0;34m,\u001b[0m\u001b[0;36m5\u001b[0m\u001b[0;34m,\u001b[0m\u001b[0;36m6\u001b[0m\u001b[0;34m]\u001b[0m\u001b[0;34m,\u001b[0m\u001b[0;36m1\u001b[0m\u001b[0;34m]\u001b[0m\u001b[0;34m)\u001b[0m\u001b[0;34m\u001b[0m\u001b[0;34m\u001b[0m\u001b[0m\n\u001b[0m",
            "\u001b[0;31mValueError\u001b[0m: setting an array element with a sequence. The requested array has an inhomogeneous shape after 1 dimensions. The detected shape was (3,) + inhomogeneous part."
          ]
        }
      ]
    },
    {
      "cell_type": "markdown",
      "metadata": {
        "id": "tsvXd44SgC2R"
      },
      "source": [
        "## Casting de arrays\n",
        "\n",
        "É possível alterar o tipo dos valores contidos em um array."
      ]
    },
    {
      "cell_type": "code",
      "metadata": {
        "id": "lL5IuPOUgN4b",
        "outputId": "ce344c87-2bd5-4a9d-9c94-ae9ed7d7435c",
        "colab": {
          "base_uri": "https://localhost:8080/"
        }
      },
      "source": [
        "print(c,c.astype(float))"
      ],
      "execution_count": null,
      "outputs": [
        {
          "output_type": "stream",
          "name": "stdout",
          "text": [
            "[[7 7]\n",
            " [7 7]] [[7. 7.]\n",
            " [7. 7.]]\n"
          ]
        }
      ]
    },
    {
      "cell_type": "code",
      "source": [
        "c"
      ],
      "metadata": {
        "colab": {
          "base_uri": "https://localhost:8080/"
        },
        "id": "_FHdPkXTQQ-G",
        "outputId": "8d5cda3a-e2ab-40c7-c247-b60437a4d044"
      },
      "execution_count": null,
      "outputs": [
        {
          "output_type": "execute_result",
          "data": {
            "text/plain": [
              "array([[7, 7],\n",
              "       [7, 7]])"
            ]
          },
          "metadata": {},
          "execution_count": 13
        }
      ]
    },
    {
      "cell_type": "code",
      "source": [
        "c = c.astype(float)"
      ],
      "metadata": {
        "id": "Foh7QN6FQUXP"
      },
      "execution_count": null,
      "outputs": []
    },
    {
      "cell_type": "code",
      "source": [
        "c"
      ],
      "metadata": {
        "colab": {
          "base_uri": "https://localhost:8080/"
        },
        "id": "dW7KosA2QYtX",
        "outputId": "865f7252-95c2-4b60-bfa0-6aa9ced16e68"
      },
      "execution_count": null,
      "outputs": [
        {
          "output_type": "execute_result",
          "data": {
            "text/plain": [
              "array([[7., 7.],\n",
              "       [7., 7.]])"
            ]
          },
          "metadata": {},
          "execution_count": 15
        }
      ]
    },
    {
      "cell_type": "markdown",
      "metadata": {
        "id": "7ZvDKFWI9RLo"
      },
      "source": [
        "### Acessando dados de um ndarray\n",
        "\n",
        "A indexação nas matrizes é semelhante à das listas Python:"
      ]
    },
    {
      "cell_type": "code",
      "metadata": {
        "id": "NSEwMxUP9Yhg",
        "outputId": "bd95fd8c-8885-4c98-9ad8-22cebabd9f3d",
        "colab": {
          "base_uri": "https://localhost:8080/"
        }
      },
      "source": [
        "a = np.array([[1,2,3,4], [5,6,7,8], [9,10,11,12]])\n",
        "# acessando linhas\n",
        "row_r1 = a[1, :]\n",
        "row_r2 = a[1:3, :]\n",
        "print(\"Segunda linha (note que é um array unidimensional):\",row_r1, row_r1.shape)\n",
        "print(\"Segunda e terceira linhas (note que é um array bidimensional):\",row_r2, row_r2.shape)\n",
        "\n",
        "# acessando colunas\n",
        "col_r1 = a[:, 1]\n",
        "col_r2 = a[:, 1:3]\n",
        "print(\"Segunda coluna (note que é um array unidimensional):\",col_r1, col_r1.shape)\n",
        "print(\"Segunda e terceira colunas (note que é um array bidimensional):\",col_r2, col_r2.shape)"
      ],
      "execution_count": null,
      "outputs": [
        {
          "output_type": "stream",
          "name": "stdout",
          "text": [
            "Segunda linha (note que é um array unidimensional): [5 6 7 8] (4,)\n",
            "Segunda e terceira linhas (note que é um array bidimensional): [[ 5  6  7  8]\n",
            " [ 9 10 11 12]] (2, 4)\n",
            "Segunda coluna (note que é um array unidimensional): [ 2  6 10] (3,)\n",
            "Segunda e terceira colunas (note que é um array bidimensional): [[ 2  3]\n",
            " [ 6  7]\n",
            " [10 11]] (3, 2)\n"
          ]
        }
      ]
    },
    {
      "cell_type": "markdown",
      "source": [
        "## Exercício 1\n",
        "\n",
        "Crie uma matriz com 50x50 contendo números inteiros randômicos entre 1 e 100.\n",
        "\n",
        "- Mostre as 100 posições centrais (10x10 no centro da matriz)\n"
      ],
      "metadata": {
        "id": "sJqpvGSVbVLh"
      }
    },
    {
      "cell_type": "code",
      "source": [],
      "metadata": {
        "id": "ezZ6vhflLr-O"
      },
      "execution_count": null,
      "outputs": []
    },
    {
      "cell_type": "markdown",
      "metadata": {
        "id": "kVerORi7-WfQ"
      },
      "source": [
        "### Expressões em arrays\n",
        "\n",
        "Além das formas convencionais de acesso aos dados em matrizes (listas de listas Python), o Numpy permite a seleção de pedaços (slices) da matriz por meio de expressões lógicas."
      ]
    },
    {
      "cell_type": "code",
      "source": [
        "filtro = a % 5 == 0"
      ],
      "metadata": {
        "id": "8PcBaXqnKtS3"
      },
      "execution_count": null,
      "outputs": []
    },
    {
      "cell_type": "code",
      "source": [
        "filtro"
      ],
      "metadata": {
        "colab": {
          "base_uri": "https://localhost:8080/"
        },
        "id": "uJY-5gCKKwZE",
        "outputId": "5635e2b9-e8f1-4724-97e2-0a77ab482b68"
      },
      "execution_count": null,
      "outputs": [
        {
          "output_type": "execute_result",
          "data": {
            "text/plain": [
              "array([[False, False, False, False],\n",
              "       [ True, False, False, False],\n",
              "       [False,  True, False, False]])"
            ]
          },
          "metadata": {},
          "execution_count": 27
        }
      ]
    },
    {
      "cell_type": "code",
      "source": [
        "a[a > 5]"
      ],
      "metadata": {
        "colab": {
          "base_uri": "https://localhost:8080/"
        },
        "id": "oPnbyfckLf1l",
        "outputId": "11ea5c4f-3eb8-48fe-b9c5-c4bd71f12b27"
      },
      "execution_count": null,
      "outputs": [
        {
          "output_type": "execute_result",
          "data": {
            "text/plain": [
              "array([ 6,  7,  8,  9, 10, 11, 12])"
            ]
          },
          "metadata": {},
          "execution_count": 29
        }
      ]
    },
    {
      "cell_type": "code",
      "metadata": {
        "id": "5pHikeD2-ddq",
        "outputId": "4b8bbb0f-2e30-46bf-dd22-be25e4267a15",
        "colab": {
          "base_uri": "https://localhost:8080/"
        }
      },
      "source": [
        "a = np.array([[1,2], [3, 4], [5, 6]])\n",
        "\n",
        "# testa elemento por elemento da matriz\n",
        "bool_idx = (a > 2)\n",
        "\n",
        "# retorna uma matriz de boolenos de mesmo shape\n",
        "print(bool_idx)\n",
        "\n",
        "# matrizes booleanas podem ser tratadas como contendo inteiros\n",
        "print(bool_idx.sum())\n",
        "\n",
        "# pode ser usado como filtro: note que o resultado é uma matriz unidimensional\n",
        "print(a[bool_idx])\n",
        "\n",
        "# forma curta\n",
        "print(a[a > 2])"
      ],
      "execution_count": 6,
      "outputs": [
        {
          "output_type": "stream",
          "name": "stdout",
          "text": [
            "[[False False]\n",
            " [ True  True]\n",
            " [ True  True]]\n",
            "4\n",
            "[3 4 5 6]\n",
            "[3 4 5 6]\n"
          ]
        }
      ]
    },
    {
      "cell_type": "markdown",
      "source": [
        "É possível também selecionar linhas e ou colunas a partir de listas de índices numa ordem desejada."
      ],
      "metadata": {
        "id": "y8EsEt_coJeB"
      }
    },
    {
      "cell_type": "code",
      "source": [
        "a = np.array([[1,2,4], [3, 4,8], [5, 6, 4]])"
      ],
      "metadata": {
        "id": "IRUKkE0lohAX"
      },
      "execution_count": null,
      "outputs": []
    },
    {
      "cell_type": "code",
      "source": [
        "a"
      ],
      "metadata": {
        "colab": {
          "base_uri": "https://localhost:8080/"
        },
        "id": "IujmC-82L8kv",
        "outputId": "22036b9b-8b4c-4172-b5d3-2a7234d4defb"
      },
      "execution_count": null,
      "outputs": [
        {
          "output_type": "execute_result",
          "data": {
            "text/plain": [
              "array([[1, 2, 4],\n",
              "       [3, 4, 8],\n",
              "       [5, 6, 4]])"
            ]
          },
          "metadata": {},
          "execution_count": 32
        }
      ]
    },
    {
      "cell_type": "code",
      "source": [
        "a[:,1:][1:,:]"
      ],
      "metadata": {
        "colab": {
          "base_uri": "https://localhost:8080/"
        },
        "id": "kS1u_O1rMMD9",
        "outputId": "10a53f21-03cb-45ac-b88a-c1d3ff3acb18"
      },
      "execution_count": null,
      "outputs": [
        {
          "output_type": "execute_result",
          "data": {
            "text/plain": [
              "array([[4, 8],\n",
              "       [6, 4]])"
            ]
          },
          "metadata": {},
          "execution_count": 33
        }
      ]
    },
    {
      "cell_type": "code",
      "source": [
        "a[[2,0],:]"
      ],
      "metadata": {
        "colab": {
          "base_uri": "https://localhost:8080/"
        },
        "id": "Iyvz_m0xn6HC",
        "outputId": "8c7334d9-3d6c-48cf-cba5-079ac84ecaf4"
      },
      "execution_count": null,
      "outputs": [
        {
          "output_type": "execute_result",
          "data": {
            "text/plain": [
              "array([[5, 6, 4],\n",
              "       [1, 2, 4]])"
            ]
          },
          "metadata": {},
          "execution_count": 34
        }
      ]
    },
    {
      "cell_type": "code",
      "source": [
        "a[:,[1,0]]"
      ],
      "metadata": {
        "colab": {
          "base_uri": "https://localhost:8080/"
        },
        "id": "MP66NwaEondy",
        "outputId": "646642b7-eb09-4f6c-c0b6-9faf6b75df69"
      },
      "execution_count": null,
      "outputs": [
        {
          "output_type": "execute_result",
          "data": {
            "text/plain": [
              "array([[2, 1],\n",
              "       [4, 3],\n",
              "       [6, 5]])"
            ]
          },
          "metadata": {},
          "execution_count": 35
        }
      ]
    },
    {
      "cell_type": "code",
      "source": [
        "# primeira seleção inverte as colunas e a segunda seleciona a terceira e a primeira linhas\n",
        "a[:,[1,0]][[2,0],:]"
      ],
      "metadata": {
        "colab": {
          "base_uri": "https://localhost:8080/"
        },
        "id": "cAXwfC4Qo8XQ",
        "outputId": "866acf2c-6b36-4d7f-9cc2-ec56a434d977"
      },
      "execution_count": null,
      "outputs": [
        {
          "output_type": "execute_result",
          "data": {
            "text/plain": [
              "array([[6, 5],\n",
              "       [2, 1]])"
            ]
          },
          "metadata": {},
          "execution_count": 50
        }
      ]
    },
    {
      "cell_type": "code",
      "source": [
        "a[]"
      ],
      "metadata": {
        "colab": {
          "base_uri": "https://localhost:8080/"
        },
        "id": "dD8WOhEqM1M0",
        "outputId": "9741580b-bbaa-46ff-e5c2-c3176e938f0a"
      },
      "execution_count": null,
      "outputs": [
        {
          "output_type": "execute_result",
          "data": {
            "text/plain": [
              "array([[1, 2],\n",
              "       [3, 4],\n",
              "       [5, 6]])"
            ]
          },
          "metadata": {},
          "execution_count": 31
        }
      ]
    },
    {
      "cell_type": "markdown",
      "source": [
        "## Exercício 2\n",
        "\n",
        "Use a matriz com 50x50 contendo números inteiros randômicos entre 0 e 100 criada no exercício anterior:\n",
        "\n",
        "- Mostre os múltiplos de 7\n",
        "\n",
        "- Conte a quantidade de números pares"
      ],
      "metadata": {
        "id": "u69_MzSrbkvQ"
      }
    },
    {
      "cell_type": "code",
      "source": [],
      "metadata": {
        "id": "SI_6-nSmK9Xv"
      },
      "execution_count": null,
      "outputs": []
    },
    {
      "cell_type": "markdown",
      "metadata": {
        "id": "WhcKP7DI_XWB"
      },
      "source": [
        "Operações envolvendo matrizes:"
      ]
    },
    {
      "cell_type": "code",
      "metadata": {
        "id": "a43iwzGp_b9g",
        "outputId": "183052c4-d4b6-467d-c287-6c750a15b5c1",
        "colab": {
          "base_uri": "https://localhost:8080/"
        }
      },
      "source": [
        "x = np.array([[1,2],[3,4]], dtype=np.float64)\n",
        "y = np.array([[5,6],[7,8]], dtype=np.float64)\n",
        "print(\"x:\",x,\"y:\",y)\n",
        "# soma elemento a elemento\n",
        "print(\"Soma:\",x + y)\n",
        "print(\"Soma com add:\",np.add(x, y))\n",
        "\n",
        "# diferença elemento a elemento\n",
        "print(\"Diferença:\",x - y)\n",
        "print(\"Diferença com subtract:\",np.subtract(x, y))\n",
        "\n",
        "# produto elemento a elemento\n",
        "print(\"Multiplicação:\",x * y)\n",
        "print(\"Multiplicação com multiply:\",np.multiply(x, y))\n",
        "\n",
        "# divisão\n",
        "print(\"Divisão:\",x / y)\n",
        "print(\"Divisão com divide:\",np.divide(x, y))\n",
        "\n",
        "# raiz quadrada\n",
        "print(\"Raiz quadrada:\",np.sqrt(x))\n",
        "\n",
        "# produto por um escalar\n",
        "print(\"Produto escalar:\",x*2)"
      ],
      "execution_count": null,
      "outputs": [
        {
          "output_type": "stream",
          "name": "stdout",
          "text": [
            "x: [[1. 2.]\n",
            " [3. 4.]] y: [[5. 6.]\n",
            " [7. 8.]]\n",
            "Soma: [[ 6.  8.]\n",
            " [10. 12.]]\n",
            "Soma com add: [[ 6.  8.]\n",
            " [10. 12.]]\n",
            "Diferença: [[-4. -4.]\n",
            " [-4. -4.]]\n",
            "Diferença com subtract: [[-4. -4.]\n",
            " [-4. -4.]]\n",
            "Multiplicação: [[ 5. 12.]\n",
            " [21. 32.]]\n",
            "Multiplicação com multiply: [[ 5. 12.]\n",
            " [21. 32.]]\n",
            "Divisão: [[0.2        0.33333333]\n",
            " [0.42857143 0.5       ]]\n",
            "Divisão com divide: [[0.2        0.33333333]\n",
            " [0.42857143 0.5       ]]\n",
            "Raiz quadrada: [[1.         1.41421356]\n",
            " [1.73205081 2.        ]]\n",
            "Produto escalar: [[2. 4.]\n",
            " [6. 8.]]\n"
          ]
        }
      ]
    },
    {
      "cell_type": "code",
      "source": [
        "np.eye(5)*3"
      ],
      "metadata": {
        "colab": {
          "base_uri": "https://localhost:8080/"
        },
        "id": "B_FU19ANRqLY",
        "outputId": "f1f51d52-cea1-4d2e-ac16-0606592d71ae"
      },
      "execution_count": null,
      "outputs": [
        {
          "output_type": "execute_result",
          "data": {
            "text/plain": [
              "array([[3., 0., 0., 0., 0.],\n",
              "       [0., 3., 0., 0., 0.],\n",
              "       [0., 0., 3., 0., 0.],\n",
              "       [0., 0., 0., 3., 0.],\n",
              "       [0., 0., 0., 0., 3.]])"
            ]
          },
          "metadata": {},
          "execution_count": 49
        }
      ]
    },
    {
      "cell_type": "markdown",
      "source": [
        "## Exercício 3\n",
        "\n",
        "Use a matriz com 50x50 contendo números inteiros randômicos entre 0 e 100 criada no exercício anterior:\n",
        "\n",
        "- crie uma nova matriz contendo as raízes quadradas dos seus elementos\n",
        "\n",
        "- mostre o resultado da divisão elemento a elemento da matriz original pela nova matriz"
      ],
      "metadata": {
        "id": "D7e1I7eCb40A"
      }
    },
    {
      "cell_type": "code",
      "source": [],
      "metadata": {
        "id": "UvHDFvIQK30Y"
      },
      "execution_count": null,
      "outputs": []
    },
    {
      "cell_type": "markdown",
      "metadata": {
        "id": "Nv885jOsAqTA"
      },
      "source": [
        "O NumPy tem recursos poderosos de processamento de matrizes, tais como o broadcasting e o reshape.\n",
        "\n",
        "### Broadcast:\n",
        "\n",
        "O termo __broadcast__ refere-se a como numpy trata matrizes com diferentes dimensões durante operações aritméticas que levam a certas restrições: a matriz menor é transmitida por toda a matriz maior, para que tenham formas compatíveis.\n",
        "A transmissão fornece um meio de vetorizar as operações da matriz, de modo que o loop ocorre em C em vez de Python, como sabemos que o Numpy foi implementado em C. Isso é feito sem fazer cópias desnecessárias dos dados e o que leva a implementações eficientes de algoritmos."
      ]
    },
    {
      "cell_type": "code",
      "metadata": {
        "id": "aJopWPCmA1ce",
        "outputId": "8619652f-7c0b-43c2-8ac8-e73ce7a36b1d",
        "colab": {
          "base_uri": "https://localhost:8080/"
        }
      },
      "source": [
        "#broadcasting\n",
        "x = np.array([[1,2,3], [4,5,6], [7,8,9], [10, 11, 12]])\n",
        "v = np.array([1, 0, 1])\n",
        "y = x + v  # adiciona v a cada linha de x\n",
        "print(y)"
      ],
      "execution_count": null,
      "outputs": [
        {
          "output_type": "stream",
          "name": "stdout",
          "text": [
            "[[ 2  2  4]\n",
            " [ 5  5  7]\n",
            " [ 8  8 10]\n",
            " [11 11 13]]\n"
          ]
        }
      ]
    },
    {
      "cell_type": "code",
      "source": [
        "x"
      ],
      "metadata": {
        "colab": {
          "base_uri": "https://localhost:8080/"
        },
        "id": "pMBpJoPGTx0p",
        "outputId": "4917b4f2-7c74-40e1-8a61-e463c2f06a4a"
      },
      "execution_count": null,
      "outputs": [
        {
          "output_type": "execute_result",
          "data": {
            "text/plain": [
              "array([[ 1,  2,  3],\n",
              "       [ 4,  5,  6],\n",
              "       [ 7,  8,  9],\n",
              "       [10, 11, 12]])"
            ]
          },
          "metadata": {},
          "execution_count": 57
        }
      ]
    },
    {
      "cell_type": "markdown",
      "source": [
        "## Exercício 4\n",
        "\n",
        "Use a matriz com 50x50 contendo números inteiros randômicos entre 0 e 100 criada no exercício anterior:\n",
        "\n",
        "- crie uma nova matriz onde as colunas ímpares sejam negativas mas tenham o mesmo módulo dos valores da matriz original"
      ],
      "metadata": {
        "id": "K8ucb7tCdCTf"
      }
    },
    {
      "cell_type": "code",
      "source": [],
      "metadata": {
        "id": "fv91ukGvK0Mv"
      },
      "execution_count": null,
      "outputs": []
    },
    {
      "cell_type": "markdown",
      "metadata": {
        "id": "iADXfYEJauqs"
      },
      "source": [
        "### Reshape:\n",
        "\n",
        "Permite a mudança do shape de uma matriz sem fazer cópias."
      ]
    },
    {
      "cell_type": "code",
      "source": [
        "a = np.array([x for x in range(27)])\n",
        "\n",
        "o = a.reshape((3,3,3))\n",
        "\n",
        "print(a,o)"
      ],
      "metadata": {
        "colab": {
          "base_uri": "https://localhost:8080/"
        },
        "id": "SjvZL1-ohQPS",
        "outputId": "aaff3ba9-1cc4-4a9d-daab-9d1daebe3cb3"
      },
      "execution_count": null,
      "outputs": [
        {
          "output_type": "stream",
          "name": "stdout",
          "text": [
            "[ 0  1  2  3  4  5  6  7  8  9 10 11 12 13 14 15 16 17 18 19 20 21 22 23\n",
            " 24 25 26] [[[ 0  1  2]\n",
            "  [ 3  4  5]\n",
            "  [ 6  7  8]]\n",
            "\n",
            " [[ 9 10 11]\n",
            "  [12 13 14]\n",
            "  [15 16 17]]\n",
            "\n",
            " [[18 19 20]\n",
            "  [21 22 23]\n",
            "  [24 25 26]]]\n"
          ]
        }
      ]
    },
    {
      "cell_type": "markdown",
      "source": [
        "Use o -1 para deixar uma dimensão livre"
      ],
      "metadata": {
        "id": "OXYfvDj_pmKC"
      }
    },
    {
      "cell_type": "code",
      "source": [
        "# só define o número de linhas\n",
        "a = np.arange(10).reshape(2,-1)\n",
        "a"
      ],
      "metadata": {
        "colab": {
          "base_uri": "https://localhost:8080/"
        },
        "id": "icUZrAq4pwpJ",
        "outputId": "c0d7adbd-e98a-4960-8799-bdb07a036d15"
      },
      "execution_count": null,
      "outputs": [
        {
          "output_type": "execute_result",
          "data": {
            "text/plain": [
              "array([[0, 1, 2, 3, 4],\n",
              "       [5, 6, 7, 8, 9]])"
            ]
          },
          "metadata": {},
          "execution_count": 24
        }
      ]
    },
    {
      "cell_type": "markdown",
      "source": [
        "## Exercício 5\n",
        "\n",
        "Use a matriz com 50x50 contendo números inteiros randômicos entre 0 e 100 criada no exercício anterior:\n",
        "\n",
        "- crie uma nova matriz com os mesmos valores mas só 10 linhas"
      ],
      "metadata": {
        "id": "DlotrykbdT_B"
      }
    },
    {
      "cell_type": "code",
      "source": [],
      "metadata": {
        "id": "rrjT4nZldbW6"
      },
      "execution_count": null,
      "outputs": []
    },
    {
      "cell_type": "code",
      "metadata": {
        "id": "Flyj05N1BFeQ",
        "outputId": "ef14a3a5-ddf1-49e3-af0b-1bb9b9f365a6",
        "colab": {
          "base_uri": "https://localhost:8080/"
        }
      },
      "source": [
        "v = np.array([1,2,3])  # v tem shape (3,)\n",
        "print(\"produto de vetor por vetor transposto:\",v * np.reshape(v, (3, 1)) )\n",
        "print(\"dot product:\",np.dot(v , np.reshape(v, (3, 1))))\n",
        "\n",
        "w = np.array([4,5])\n",
        "\n",
        "# faz a transposta e multiplica por w criando uma nova matriz\n",
        "print(\"produto de vetor transposto por vetor (resulta numa matrix):\",np.reshape(v, (3, 1)) * w)"
      ],
      "execution_count": null,
      "outputs": [
        {
          "output_type": "stream",
          "name": "stdout",
          "text": [
            "produto de vetor por vetor transposto: [[1 2 3]\n",
            " [2 4 6]\n",
            " [3 6 9]]\n",
            "dot product: [14]\n",
            "produto de vetor transposto por vetor (resulta numa matrix: [[ 4  5]\n",
            " [ 8 10]\n",
            " [12 15]]\n"
          ]
        }
      ]
    },
    {
      "cell_type": "markdown",
      "metadata": {
        "id": "cXZ-d3T4BzKj"
      },
      "source": [
        "\n",
        "\n",
        "\n",
        "\n",
        "### Operações nas linhas ou colunas:"
      ]
    },
    {
      "cell_type": "code",
      "metadata": {
        "id": "UqwZqoYnB3o8",
        "outputId": "173a9ef4-fd2d-4bf0-ae66-3a3691665694",
        "colab": {
          "base_uri": "https://localhost:8080/"
        }
      },
      "source": [
        "x = np.array([[1,2,3], [4,5,6], [7,8,9], [10, 11, 12]])\n",
        "print(\"x:\",x)\n",
        "print(\"mínimo da matriz toda:\",x.min())\n",
        "print(\"mínimo coluna a coluna:\",x.min(axis=0)) # note o parâmetro axis indicando a direção do loop: axis=0 indica que cada min vai analisar todas as linhas de uma coluna\n",
        "print(\"mínimo linha a linha:\",x.min(axis=1)) # axis=1 indica que cada min vai analisar todas as colunas de uma linha\n",
        "print(\"soma da matriz toda:\",x.sum())\n",
        "print(\"soma coluna a coluna:\",x.sum(axis=0))\n",
        "print(\"soma linha a linha:\",x.sum(axis=1))\n",
        "print(\"posição do maior valor coluna a coluna\",x.argmax(axis=0))\n",
        "print(\"posição do maior valor linha a linha\",x.argmax(axis=1))\n",
        "print(\"posição do maior valor da matriz toda (posição em 1D)\",x.argmax())\n",
        "print(\"média da matriz toda:\",x.mean())\n",
        "print(\"média coluna a coluna:\",x.mean(axis=0))\n",
        "print(\"média linha a linha:\",x.mean(axis=1))"
      ],
      "execution_count": 10,
      "outputs": [
        {
          "output_type": "stream",
          "name": "stdout",
          "text": [
            "x: [[ 1  2  3]\n",
            " [ 4  5  6]\n",
            " [ 7  8  9]\n",
            " [10 11 12]]\n",
            "mínimo da matriz toda: 1\n",
            "mínimo coluna a coluna: [1 2 3]\n",
            "mínimo linha a linha: [ 1  4  7 10]\n",
            "soma da matriz toda: 78\n",
            "soma coluna a coluna: [22 26 30]\n",
            "soma linha a linha: [ 6 15 24 33]\n",
            "posição do maior valor coluna a coluna [3 3 3]\n",
            "posição do maior valor linha a linha [2 2 2 2]\n",
            "posição do maior valor da matriz toda (posição em 1D) 11\n",
            "média da matriz toda: 6.5\n",
            "média coluna a coluna: [5.5 6.5 7.5]\n",
            "média linha a linha: [ 2.  5.  8. 11.]\n"
          ]
        }
      ]
    },
    {
      "cell_type": "code",
      "source": [
        "(x.argmax()//x.shape[0],x.argmax()%x.shape[1])"
      ],
      "metadata": {
        "colab": {
          "base_uri": "https://localhost:8080/"
        },
        "id": "cVYzpp43LkvO",
        "outputId": "f6e4382a-166c-4a98-d65a-9e1429bf1e8c"
      },
      "execution_count": 5,
      "outputs": [
        {
          "output_type": "execute_result",
          "data": {
            "text/plain": [
              "(2, 2)"
            ]
          },
          "metadata": {},
          "execution_count": 5
        }
      ]
    },
    {
      "cell_type": "markdown",
      "metadata": {
        "id": "5cQXeRXZCYpP"
      },
      "source": [
        "## Exercício 6\n",
        "\n",
        "Use a matriz com 50x50 contendo números inteiros randômicos entre 1 e 100 criada no exercício anterior:\n",
        "\n",
        "- Conte a quantidade de números ali contidos maiores do que 50.\n",
        "\n",
        "- Encontre o maior valor da matriz\n",
        "\n",
        "- Encontre, linha a linha, o maior valor e sua posição\n",
        "\n",
        "- Encontre a coluna cuja soma dos valores é a maior da matriz\n",
        "\n",
        "- Encontre a linha e a coluna do maior valor da matriz\n"
      ]
    },
    {
      "cell_type": "code",
      "source": [],
      "metadata": {
        "id": "cGIO5pQqLaJ3"
      },
      "execution_count": null,
      "outputs": []
    },
    {
      "cell_type": "markdown",
      "source": [
        "## Empilhamento horizontal de matrizes Numpy\n",
        "\n",
        "Empilhando 2 matrizes numpy horizontalmente, ou seja, 2 matrizes com a mesma 1ª dimensão (número de linhas em matrizes 2D)"
      ],
      "metadata": {
        "id": "W_kj2KCehxxC"
      }
    },
    {
      "cell_type": "code",
      "source": [
        "a1 = np.array([[1,2,3],\n",
        "               [4,5,6]])\n",
        "\n",
        "a2 = np.array([[7,8,9],\n",
        "               [10,11,12]])\n",
        "\n",
        "o = np.hstack((a1, a2))\n",
        "\n",
        "print(o)"
      ],
      "metadata": {
        "id": "Fkes22DbhZ0y",
        "colab": {
          "base_uri": "https://localhost:8080/"
        },
        "outputId": "28a12e11-6f73-4964-fea5-0cce165718d0"
      },
      "execution_count": null,
      "outputs": [
        {
          "output_type": "stream",
          "name": "stdout",
          "text": [
            "[[ 1  2  3  7  8  9]\n",
            " [ 4  5  6 10 11 12]]\n"
          ]
        }
      ]
    },
    {
      "cell_type": "markdown",
      "source": [
        "## Empilhamento vertical de matrizes Numpy\n",
        "\n",
        "Empilhando 2 matrizes numpy verticalmente, ou seja, 2 matrizes com a mesma última dimensão (número de colunas em matrizes 2D)"
      ],
      "metadata": {
        "id": "16oCDy4Bh7di"
      }
    },
    {
      "cell_type": "code",
      "source": [
        "a1 = np.array([[1,2],\n",
        "               [3,4],\n",
        "               [5,6]])\n",
        "\n",
        "a2 = np.array([[7,8],\n",
        "               [9,10],\n",
        "               [10,11]])\n",
        "\n",
        "o = np.vstack((a1, a2))\n",
        "\n",
        "print(o)"
      ],
      "metadata": {
        "id": "b4LGcVJjh364",
        "colab": {
          "base_uri": "https://localhost:8080/"
        },
        "outputId": "d8c23c2f-ab84-47a5-a5c9-9843716cee81"
      },
      "execution_count": null,
      "outputs": [
        {
          "output_type": "stream",
          "name": "stdout",
          "text": [
            "[[ 1  2]\n",
            " [ 3  4]\n",
            " [ 5  6]\n",
            " [ 7  8]\n",
            " [ 9 10]\n",
            " [10 11]]\n"
          ]
        }
      ]
    },
    {
      "cell_type": "markdown",
      "source": [
        "## Como extrair itens que satisfazem uma determinada condição do array 1D\n",
        "\n",
        "O método where permite determinar a posição de elementos de um  array segundo uma condição."
      ],
      "metadata": {
        "id": "sa6AAjTimVSp"
      }
    },
    {
      "cell_type": "code",
      "source": [
        "arr = np.random.randint(100, high=200, size=20)\n",
        "print(arr)\n",
        "np.where(arr%2 == 0)"
      ],
      "metadata": {
        "colab": {
          "base_uri": "https://localhost:8080/"
        },
        "id": "WUVQt8ofmxwu",
        "outputId": "fa3c67f1-185f-42df-9421-fda4c4a94271"
      },
      "execution_count": null,
      "outputs": [
        {
          "output_type": "stream",
          "name": "stdout",
          "text": [
            "[116 191 114 158 132 119 193 162 114 123 122 150 189 142 162 182 175 106\n",
            " 164 185]\n"
          ]
        },
        {
          "output_type": "execute_result",
          "data": {
            "text/plain": [
              "(array([ 0,  2,  3,  4,  7,  8, 10, 11, 13, 14, 15, 17, 18]),)"
            ]
          },
          "metadata": {},
          "execution_count": 19
        }
      ]
    },
    {
      "cell_type": "markdown",
      "source": [
        "## Obtendo as posições (índices) onde os elementos de 2 matrizes numpy correspondem\n",
        "\n",
        "Dados 2 arrays numpy, extraia os índices nos quais os elementos nos 2 arrays correspondem"
      ],
      "metadata": {
        "id": "v1WvTsFuiMxd"
      }
    },
    {
      "cell_type": "code",
      "source": [
        "a = np.array([1,2,3,4,5])\n",
        "\n",
        "b = np.array([1,3,2,4,5])\n",
        "\n",
        "print(np.where(a == b))"
      ],
      "metadata": {
        "colab": {
          "base_uri": "https://localhost:8080/"
        },
        "id": "tX1Fm-XoiSIv",
        "outputId": "6e17f90d-1b23-4bff-8ab9-0e25a10ad206"
      },
      "execution_count": null,
      "outputs": [
        {
          "output_type": "stream",
          "name": "stdout",
          "text": [
            "(array([0, 3, 4]),)\n"
          ]
        }
      ]
    },
    {
      "cell_type": "markdown",
      "source": [
        "Quando o array tem mais de uma dimensão retorna uma tupla de arrays 1D que devem ser lidos posição a posição para obter os índices das posições da resposta."
      ],
      "metadata": {
        "id": "iWa3BbyDPJpS"
      }
    },
    {
      "cell_type": "code",
      "source": [
        "a = np.array([[1,2,3],[4,5,6]])\n",
        "\n",
        "b = np.array([[1,3,2],[4,5,7]])\n",
        "\n",
        "print(np.where(a == b))\n",
        "\n",
        "resp = np.where(a == b)\n",
        "\n",
        "print('Posições (linha coluna): ',end='')\n",
        "for i in range(len(resp[0])):\n",
        "  print('(',resp[0][i],resp[1][i],') ',end='')"
      ],
      "metadata": {
        "colab": {
          "base_uri": "https://localhost:8080/"
        },
        "id": "XPvJCThQOn3D",
        "outputId": "62dcb55f-4f69-4569-a569-94e115850801"
      },
      "execution_count": 14,
      "outputs": [
        {
          "output_type": "stream",
          "name": "stdout",
          "text": [
            "(array([0, 1, 1]), array([0, 0, 1]))\n",
            "Posições (linha coluna): ( 0 0 ) ( 1 0 ) ( 1 1 ) "
          ]
        }
      ]
    },
    {
      "cell_type": "code",
      "source": [
        "a1 = np.array([[1,2],\n",
        "               [3,4],\n",
        "               [5,6]])\n",
        "\n",
        "a2 = np.array([[7,8],\n",
        "               [9,10],\n",
        "               [10,11]])\n",
        "\n",
        "# quais posições na matriz 2 são múltiplos da mesma posição da matriz 1\n",
        "print(np.where(a2 % a1 == 0))\n",
        "resp = np.where(a2 % a1 == 0)\n",
        "\n",
        "print('Posições (linha coluna): ',end='')\n",
        "for i in range(len(resp[0])):\n",
        "  print('(',resp[0][i],resp[1][i],') ',end='')"
      ],
      "metadata": {
        "colab": {
          "base_uri": "https://localhost:8080/"
        },
        "id": "0WGWP6YVOR8U",
        "outputId": "fcd38bf0-a04b-42e4-e937-3a11987a0323"
      },
      "execution_count": 15,
      "outputs": [
        {
          "output_type": "stream",
          "name": "stdout",
          "text": [
            "(array([0, 0, 1, 2]), array([0, 1, 0, 0]))\n",
            "Posições (linha coluna): ( 0 0 ) ( 0 1 ) ( 1 0 ) ( 2 0 ) "
          ]
        }
      ]
    },
    {
      "cell_type": "markdown",
      "source": [
        "## Substituindo itens que satisfaçam uma condição sem afetar o array original\n",
        "\n"
      ],
      "metadata": {
        "id": "GPkQt63ToAh7"
      }
    },
    {
      "cell_type": "code",
      "source": [
        "arr = np.arange(10)\n",
        "out = np.where(arr % 2 == 1, -1, arr)\n",
        "print(arr)\n",
        "out"
      ],
      "metadata": {
        "colab": {
          "base_uri": "https://localhost:8080/"
        },
        "id": "DO4QvVUkoGn0",
        "outputId": "b3ea2fa6-4847-4d5f-f9bd-2a96c50b6e6c"
      },
      "execution_count": null,
      "outputs": [
        {
          "output_type": "stream",
          "name": "stdout",
          "text": [
            "[0 1 2 3 4 5 6 7 8 9]\n"
          ]
        },
        {
          "output_type": "execute_result",
          "data": {
            "text/plain": [
              "array([ 0, -1,  2, -1,  4, -1,  6, -1,  8, -1])"
            ]
          },
          "metadata": {},
          "execution_count": 6
        }
      ]
    },
    {
      "cell_type": "code",
      "source": [
        "# cria nova matriz a partir de a2 na qual os valores que não são múltiplos da mesma posição de a1 ficam = a zero\n",
        "a3 = np.where(a2 % a1 != 0, 0, a2)\n",
        "a3"
      ],
      "metadata": {
        "colab": {
          "base_uri": "https://localhost:8080/"
        },
        "id": "PMcuI9UoQxZH",
        "outputId": "b0cc77b7-474b-4b16-b713-2d3b090e7eaf"
      },
      "execution_count": 18,
      "outputs": [
        {
          "output_type": "execute_result",
          "data": {
            "text/plain": [
              "array([[ 7,  8],\n",
              "       [ 9,  0],\n",
              "       [10,  0]])"
            ]
          },
          "metadata": {},
          "execution_count": 18
        }
      ]
    },
    {
      "cell_type": "markdown",
      "source": [
        "## Exercício 7\n",
        "\n",
        "Use a matriz com 50x50 contendo números inteiros randômicos entre 0 e 100 criada no exercício anterior:\n",
        "\n",
        "- crie uma nova matriz a partir da matriz anterior onde os valores maiores do que a média fiquem iguais a zero"
      ],
      "metadata": {
        "id": "PzB7PYw6eRgY"
      }
    },
    {
      "cell_type": "code",
      "source": [],
      "metadata": {
        "id": "7TFKnDkdetFy"
      },
      "execution_count": null,
      "outputs": []
    },
    {
      "cell_type": "markdown",
      "source": [
        "## Geração de uma determinada contagem de números igualmente espaçados dentro de um intervalo especificado\n",
        "\n",
        "Gerando uma sequência de 5 números igualmente espaçados no intervalo de 0 a 100 (ambos inclusive)"
      ],
      "metadata": {
        "id": "Hnnw9EV7igqX"
      }
    },
    {
      "cell_type": "code",
      "source": [
        "o = np.linspace(0, 100, 5)\n",
        "\n",
        "print(o)"
      ],
      "metadata": {
        "id": "jqpnbD91ilCe",
        "colab": {
          "base_uri": "https://localhost:8080/"
        },
        "outputId": "fccd2bfc-9dcb-4cca-ce31-83aba9bfe3a3"
      },
      "execution_count": null,
      "outputs": [
        {
          "output_type": "stream",
          "name": "stdout",
          "text": [
            "[  0.  25.  50.  75. 100.]\n"
          ]
        }
      ]
    },
    {
      "cell_type": "markdown",
      "source": [
        "## Geração de array pela repetição de um pequeno array em cada dimensão\n",
        "\n",
        "Gerando uma matriz repetindo uma matriz menor de 2 dimensões, 10 vezes"
      ],
      "metadata": {
        "id": "7hvHYzlGixTt"
      }
    },
    {
      "cell_type": "code",
      "source": [
        "a = np.array([[1,2,3],\n",
        "              [4,5,6]])\n",
        "\n",
        "o = np.tile(a, 10)\n",
        "\n",
        "print(o)"
      ],
      "metadata": {
        "id": "qD9iucULi34k",
        "colab": {
          "base_uri": "https://localhost:8080/"
        },
        "outputId": "60986ef8-0dbb-4208-cfb5-d95815df3c2a"
      },
      "execution_count": null,
      "outputs": [
        {
          "output_type": "stream",
          "name": "stdout",
          "text": [
            "[[1 2 3 1 2 3 1 2 3 1 2 3 1 2 3 1 2 3 1 2 3 1 2 3 1 2 3 1 2 3]\n",
            " [4 5 6 4 5 6 4 5 6 4 5 6 4 5 6 4 5 6 4 5 6 4 5 6 4 5 6 4 5 6]]\n"
          ]
        }
      ]
    },
    {
      "cell_type": "markdown",
      "source": [
        "## Transposição de Matriz\n",
        "\n",
        "Saída da transposição de uma matriz (como matriz numpy)"
      ],
      "metadata": {
        "id": "y-pastgTjHw0"
      }
    },
    {
      "cell_type": "code",
      "source": [
        "a = np.array([[1,2,3],\n",
        "              [4,5,6],\n",
        "              [7,8,9]])\n",
        "\n",
        "a_transpose = a.T\n",
        "\n",
        "print(a_transpose)"
      ],
      "metadata": {
        "id": "-JxFa7V5jP-t",
        "colab": {
          "base_uri": "https://localhost:8080/"
        },
        "outputId": "82f0c435-5928-4da3-b530-d4d3b5f88942"
      },
      "execution_count": null,
      "outputs": [
        {
          "output_type": "stream",
          "name": "stdout",
          "text": [
            "[[1 4 7]\n",
            " [2 5 8]\n",
            " [3 6 9]]\n"
          ]
        }
      ]
    },
    {
      "cell_type": "markdown",
      "source": [
        "## Gerando os índices dos elementos da matriz de forma que os elementos da matriz apareçam em ordem crescente\n",
        "\n",
        "O método argsort retorna as posições dos valores do array considerando sua ordem. No exemplo abaixo os índices dos elementos da matriz são usados de forma que os elementos da matriz apareçam em ordem crescente"
      ],
      "metadata": {
        "id": "ux7Nki34jbzH"
      }
    },
    {
      "cell_type": "code",
      "source": [
        "array = np.array([10,1,5,2])\n",
        "\n",
        "indexes = np.argsort(array)\n",
        "\n",
        "print(indexes)"
      ],
      "metadata": {
        "colab": {
          "base_uri": "https://localhost:8080/"
        },
        "id": "9vAvFUYGjyC3",
        "outputId": "fd03d45c-a305-487a-8a31-d6194b990ed5"
      },
      "execution_count": null,
      "outputs": [
        {
          "output_type": "stream",
          "name": "stdout",
          "text": [
            "[1 3 2 0]\n"
          ]
        }
      ]
    },
    {
      "cell_type": "code",
      "source": [
        "array[indexes]"
      ],
      "metadata": {
        "colab": {
          "base_uri": "https://localhost:8080/"
        },
        "id": "-lMHUfrel9mQ",
        "outputId": "e07ba942-b382-4ba3-eab4-eb6060fe92f3"
      },
      "execution_count": null,
      "outputs": [
        {
          "output_type": "execute_result",
          "data": {
            "text/plain": [
              "array([ 1,  2,  5, 10])"
            ]
          },
          "metadata": {},
          "execution_count": 3
        }
      ]
    },
    {
      "cell_type": "markdown",
      "source": [
        "Em mais de uma dimensão:"
      ],
      "metadata": {
        "id": "AuFD0YFZTxf3"
      }
    },
    {
      "cell_type": "code",
      "source": [
        "array = np.array([[10,1,5],[2,0,9]])\n",
        "\n",
        "indexes = np.argsort(array)\n",
        "\n",
        "print(indexes)"
      ],
      "metadata": {
        "colab": {
          "base_uri": "https://localhost:8080/"
        },
        "id": "u4_fc4V6T5UF",
        "outputId": "19e6a44c-c38e-4e64-ac8d-b28539e7c828"
      },
      "execution_count": 26,
      "outputs": [
        {
          "output_type": "stream",
          "name": "stdout",
          "text": [
            "[[1 2 0]\n",
            " [1 0 2]]\n"
          ]
        }
      ]
    },
    {
      "cell_type": "code",
      "source": [
        "np.sort(array)"
      ],
      "metadata": {
        "colab": {
          "base_uri": "https://localhost:8080/"
        },
        "id": "J23tcBzcVPVz",
        "outputId": "b99e0cb0-2775-4f77-f646-b6528722df34"
      },
      "execution_count": 31,
      "outputs": [
        {
          "output_type": "execute_result",
          "data": {
            "text/plain": [
              "array([[ 1,  5, 10],\n",
              "       [ 0,  2,  9]])"
            ]
          },
          "metadata": {},
          "execution_count": 31
        }
      ]
    },
    {
      "cell_type": "markdown",
      "source": [
        "Note que o argsort gerou uma lista de índices por linha da matriz."
      ],
      "metadata": {
        "id": "O8t9WkmUT9ET"
      }
    },
    {
      "cell_type": "code",
      "source": [
        "# criando o mesmo resultado do np.sort com os índices do argsort\n",
        "new = np.array([ array[i,indexes[i]] for i in range(array.shape[0])])\n",
        "new"
      ],
      "metadata": {
        "colab": {
          "base_uri": "https://localhost:8080/"
        },
        "id": "kuDLRhlAUKe0",
        "outputId": "5874cdde-d13b-482a-d681-e8957d5bbe00"
      },
      "execution_count": 30,
      "outputs": [
        {
          "output_type": "execute_result",
          "data": {
            "text/plain": [
              "array([[ 1,  5, 10],\n",
              "       [ 0,  2,  9]])"
            ]
          },
          "metadata": {},
          "execution_count": 30
        }
      ]
    },
    {
      "cell_type": "markdown",
      "source": [
        "Para ordenar todos os elementos da matriz mantendo o mesmo shape:"
      ],
      "metadata": {
        "id": "jxRamEEkVbeb"
      }
    },
    {
      "cell_type": "code",
      "source": [
        "array = np.array([[10,1,5],[2,0,9]])\n",
        "\n",
        "indexes = np.argsort(array.flatten())\n",
        "\n",
        "print(indexes)"
      ],
      "metadata": {
        "colab": {
          "base_uri": "https://localhost:8080/"
        },
        "id": "Q8iJmeH5SJf_",
        "outputId": "0d4fe7c7-1c03-4348-80e0-e00b8b53d931"
      },
      "execution_count": 24,
      "outputs": [
        {
          "output_type": "stream",
          "name": "stdout",
          "text": [
            "[4 1 3 2 5 0]\n"
          ]
        }
      ]
    },
    {
      "cell_type": "code",
      "source": [
        "array = np.array([[10,1,5],[2,0,9]])\n",
        "sh = array.shape\n",
        "array = array.flatten()\n",
        "array = array[np.argsort(array)]\n",
        "array = array.reshape(sh)\n",
        "array"
      ],
      "metadata": {
        "colab": {
          "base_uri": "https://localhost:8080/"
        },
        "id": "ksXTFtY_SXWp",
        "outputId": "f74e77ac-bb46-4e66-ddd3-7e335e4b0c93"
      },
      "execution_count": 25,
      "outputs": [
        {
          "output_type": "execute_result",
          "data": {
            "text/plain": [
              "array([[ 0,  1,  2],\n",
              "       [ 5,  9, 10]])"
            ]
          },
          "metadata": {},
          "execution_count": 25
        }
      ]
    },
    {
      "cell_type": "markdown",
      "source": [
        "## Exercício 8\n",
        "\n",
        "Crie uma nova matriz de 5x5 com os 25 maiores elementos da matriz 50x50 criada para os exercícios anteriores."
      ],
      "metadata": {
        "id": "R_rD1rxbWmT4"
      }
    },
    {
      "cell_type": "code",
      "source": [],
      "metadata": {
        "id": "n1GVXHH5W1xQ"
      },
      "execution_count": null,
      "outputs": []
    },
    {
      "cell_type": "markdown",
      "metadata": {
        "id": "nt6z1Zt2bz8j"
      },
      "source": [
        "## Integração com pacote para geração de gráficos\n",
        "\n",
        "O Numpy se integra de forma bastante direta com o matplotlib, poderoso pacote de geração de gráficos\n",
        "\n",
        "VEREMOS EM MAIOR DETALHE NA SEGUNDA PARTE DA DISCIPLINA!"
      ]
    },
    {
      "cell_type": "code",
      "metadata": {
        "id": "2XgKy8HyaqFI",
        "outputId": "e64497e8-9ebe-4009-86fc-70461ceb4992",
        "colab": {
          "base_uri": "https://localhost:8080/",
          "height": 472
        }
      },
      "source": [
        "import matplotlib.pyplot as plt\n",
        "\n",
        "# Calcula coordenadas x and y para pontos em curvas de seno e cosseno\n",
        "x = np.arange(0, 3 * np.pi, 0.1) # gera array de coordenadas para o eixo x usando um range\n",
        "y_sin = np.sin(x) # calcula o seno para todos os valores de x e gera novo array\n",
        "y_cos = np.cos(x)\n",
        "\n",
        "# Plot dos pontos usando matplotlib\n",
        "plt.plot(x, y_sin)\n",
        "plt.plot(x, y_cos)\n",
        "plt.xlabel('eixo x')\n",
        "plt.ylabel('eixo y')\n",
        "plt.title('Seno e cosseno')\n",
        "plt.legend(['Seno', 'Cosseno'])\n",
        "\n",
        "plt.show()"
      ],
      "execution_count": 32,
      "outputs": [
        {
          "output_type": "display_data",
          "data": {
            "text/plain": [
              "<Figure size 640x480 with 1 Axes>"
            ],
            "image/png": "[encoded data removed]"
          },
          "metadata": {}
        }
      ]
    },
    {
      "cell_type": "markdown",
      "metadata": {
        "id": "9S98l7clz_xS"
      },
      "source": [
        "### Principais diferenças entre listas Python e arrays Numpy:\n",
        "\n",
        "- Listas podem ser homogêneas ou heterogêneas.\n",
        "\n",
        "- Operações entre listas e elementos simples não é possível na lista Python\n",
        "\n",
        "- Por padrão, a lista Python é unidimensional. Podemos criar uma lista de listas mas então, haverá uma lista 1 D armazenando outra lista 1D\n",
        "\n",
        "- Os elementos de uma lista não precisam ser contíguos na memória.\n",
        "\n",
        "- Não é possível selecionar elementos de uma lista Python usando expressões lógicas."
      ]
    },
    {
      "cell_type": "markdown",
      "metadata": {
        "id": "eFgw2h_BAY0w"
      },
      "source": [
        "Para mais informações sobre o NumPy acesse a documentação em http://docs.scipy.org/doc/numpy/reference/"
      ]
    },
    {
      "cell_type": "code",
      "source": [],
      "metadata": {
        "id": "iKGHP8CFwZaI"
      },
      "execution_count": null,
      "outputs": []
    },
    {
      "cell_type": "markdown",
      "metadata": {
        "id": "LmuLIIGoyXy2"
      },
      "source": [
        "## O que é o Pandas?\n",
        "\n",
        "Pandas é uma biblioteca, feita na liguagem Python, que fornece estruturas de dados de alto nível e funções próprias para __análise de dados__ projetadas para tornar o trabalho com dados tabulares ou estruturados mais produtivo e fácil."
      ]
    },
    {
      "cell_type": "code",
      "metadata": {
        "id": "iia-BPztyXy3"
      },
      "source": [
        "# por convenção utiliza-se o alias pd ao importar a biblioteca Pandas\n",
        "import pandas as pd\n",
        "\n",
        "# outros imports que serão úteis\n",
        "import os\n",
        "import re\n",
        "from collections import OrderedDict"
      ],
      "execution_count": 33,
      "outputs": []
    },
    {
      "cell_type": "markdown",
      "metadata": {
        "id": "SN7XoVGtyXy8"
      },
      "source": [
        "## Estruturas de Dados\n",
        "\n",
        "\n",
        "### Series\n",
        "\n",
        "Uma série é um tipo de objeto que armazena uma lista de valores e índices associados a eles.\n",
        "\n",
        "Esse objeto pode ser comparado a uma coluna do excel ou uma coluna de uma tabela de banco de dados."
      ]
    },
    {
      "cell_type": "code",
      "metadata": {
        "id": "9z5HK8MtyXy9"
      },
      "source": [
        "# Criação simples de uma série\n",
        "s1 = pd.Series(['Mamão', 'Melão', 'Melancia'])\n",
        "\n",
        "print(type(s1))\n",
        "\n",
        "s1"
      ],
      "execution_count": null,
      "outputs": []
    },
    {
      "cell_type": "code",
      "metadata": {
        "id": "FBnMrCo71zYG"
      },
      "source": [
        "dir(s1)"
      ],
      "execution_count": null,
      "outputs": []
    },
    {
      "cell_type": "code",
      "metadata": {
        "id": "aIP-3WcS0nSO"
      },
      "source": [
        "s1[5]"
      ],
      "execution_count": null,
      "outputs": []
    },
    {
      "cell_type": "code",
      "metadata": {
        "id": "AmEE9nCK1JU5",
        "outputId": "a105700f-71d5-4e74-97ef-0c3c25ae7926",
        "colab": {
          "base_uri": "https://localhost:8080/",
          "height": 104
        }
      },
      "source": [
        "s1.describe()"
      ],
      "execution_count": null,
      "outputs": [
        {
          "output_type": "execute_result",
          "data": {
            "text/plain": [
              "count         3\n",
              "unique        3\n",
              "top       Mamão\n",
              "freq          1\n",
              "dtype: object"
            ]
          },
          "metadata": {
            "tags": []
          },
          "execution_count": 35
        }
      ]
    },
    {
      "cell_type": "code",
      "metadata": {
        "id": "v76GbUrh41ec",
        "outputId": "3ff7f3a3-0bc3-46e1-cca4-830c10fff160",
        "colab": {
          "base_uri": "https://localhost:8080/",
          "height": 35
        }
      },
      "source": [
        "s1.shape"
      ],
      "execution_count": null,
      "outputs": [
        {
          "output_type": "execute_result",
          "data": {
            "text/plain": [
              "(3,)"
            ]
          },
          "metadata": {
            "tags": []
          },
          "execution_count": 36
        }
      ]
    },
    {
      "cell_type": "code",
      "metadata": {
        "id": "gCrS28sLyXzD",
        "outputId": "53c2b2f1-e7cb-44a8-fa47-339d6aea684a",
        "colab": {
          "base_uri": "https://localhost:8080/",
          "height": 86
        }
      },
      "source": [
        "# Criação de uma série com o nome associado (nome da coluna no excel)\n",
        "s2 = pd.Series(['Cão', 'Gato', 'Cavalo'], name='Animais')\n",
        "s2"
      ],
      "execution_count": null,
      "outputs": [
        {
          "output_type": "execute_result",
          "data": {
            "text/plain": [
              "0       Cão\n",
              "1      Gato\n",
              "2    Cavalo\n",
              "Name: Animais, dtype: object"
            ]
          },
          "metadata": {
            "tags": []
          },
          "execution_count": 37
        }
      ]
    },
    {
      "cell_type": "markdown",
      "metadata": {
        "id": "jlQ3bpik2UAB"
      },
      "source": [
        "## Índices versus dados\n",
        "\n",
        "O Pandas mistura os conceitos de dicionário e lista, permitindo que a coleção de dados propriamente dita seja acessível pela posição (índice sequencial) ou por algum índice (chamado genericamente de \"index\") criado como uma coleção de chaves que apontam para os dados.\n",
        "\n",
        "O index é como um endereço, e é assim que qualquer ponto de dados num dataframe ou série de dados Pandas pode ser acessado. Linhas e colunas têm índices.\n"
      ]
    },
    {
      "cell_type": "code",
      "metadata": {
        "id": "w1PV7CDByXzI",
        "outputId": "33915194-adf1-4e39-c114-2520239d50b4",
        "colab": {
          "base_uri": "https://localhost:8080/",
          "height": 86
        }
      },
      "source": [
        "# Criação de uma série com nome e índice\n",
        "s3 = pd.Series(\n",
        "    [27, 28.3, 29.1],\n",
        "    name='Temperatura',\n",
        "    index=['2018-02-01', '2018-02-02', '2018-02-03']\n",
        ")\n",
        "s3"
      ],
      "execution_count": null,
      "outputs": [
        {
          "output_type": "execute_result",
          "data": {
            "text/plain": [
              "2018-02-01    27.0\n",
              "2018-02-02    28.3\n",
              "2018-02-03    29.1\n",
              "Name: Temperatura, dtype: float64"
            ]
          },
          "metadata": {
            "tags": []
          },
          "execution_count": 4
        }
      ]
    },
    {
      "cell_type": "code",
      "metadata": {
        "id": "CsHv93Cs1nug",
        "outputId": "d51409dc-147f-4988-8714-6b84e80fff63",
        "colab": {
          "base_uri": "https://localhost:8080/",
          "height": 35
        }
      },
      "source": [
        "s3['2018-02-01']"
      ],
      "execution_count": null,
      "outputs": [
        {
          "output_type": "execute_result",
          "data": {
            "text/plain": [
              "27.0"
            ]
          },
          "metadata": {
            "tags": []
          },
          "execution_count": 39
        }
      ]
    },
    {
      "cell_type": "code",
      "metadata": {
        "scrolled": true,
        "id": "u7HLP5mCyXzN",
        "outputId": "c0184a04-1e50-496b-9822-9081bb5366c3",
        "colab": {
          "base_uri": "https://localhost:8080/",
          "height": 86
        }
      },
      "source": [
        "# Criação de uma série à partir de um dicionário\n",
        "s4 = pd.Series(\n",
        "    {\n",
        "        '2018-02-01': 27,\n",
        "        '2018-02-02': 28.3,\n",
        "        '2018-02-03': 29.1,\n",
        "    },\n",
        "    name='Temperatura',\n",
        ")\n",
        "s4"
      ],
      "execution_count": null,
      "outputs": [
        {
          "output_type": "execute_result",
          "data": {
            "text/plain": [
              "2018-02-01    27.0\n",
              "2018-02-02    28.3\n",
              "2018-02-03    29.1\n",
              "Name: Temperatura, dtype: float64"
            ]
          },
          "metadata": {
            "tags": []
          },
          "execution_count": 5
        }
      ]
    },
    {
      "cell_type": "code",
      "metadata": {
        "id": "djXCqLjb8-FD",
        "colab": {
          "base_uri": "https://localhost:8080/",
          "height": 69
        },
        "outputId": "9e94eaaf-d148-46a0-b8d9-3dc2b20d4e7f"
      },
      "source": [
        "for i in range(len(s4)):\n",
        "  print(s4[i])"
      ],
      "execution_count": null,
      "outputs": [
        {
          "output_type": "stream",
          "text": [
            "27.0\n",
            "28.3\n",
            "29.1\n"
          ],
          "name": "stdout"
        }
      ]
    },
    {
      "cell_type": "markdown",
      "metadata": {
        "id": "o12u-krwyXzS"
      },
      "source": [
        "#### Características, métodos e operações"
      ]
    },
    {
      "cell_type": "markdown",
      "metadata": {
        "id": "ngtnu676yXzT"
      },
      "source": [
        "* alguns atributos importantes"
      ]
    },
    {
      "cell_type": "code",
      "metadata": {
        "id": "-CDfhrObyXzT",
        "outputId": "f66ad669-32c7-4e7b-9b3c-9be35dd10401",
        "colab": {
          "base_uri": "https://localhost:8080/",
          "height": 207
        }
      },
      "source": [
        "print('Valores:', s4.values, '\\nTipo:', type(s4.values))\n",
        "print('\\nÍndices:', s4.index, '\\nTipo:', type(s4.index))\n",
        "print('\\nNome:', s4.name, '\\nTipo:', type(s4.name))\n",
        "print('\\nShape:', s4.shape, '\\nTipo:', type(s4.shape))"
      ],
      "execution_count": null,
      "outputs": [
        {
          "output_type": "stream",
          "text": [
            "Valores: [27.  28.3 29.1] \n",
            "Tipo: <class 'numpy.ndarray'>\n",
            "\n",
            "Índices: Index(['2018-02-01', '2018-02-02', '2018-02-03'], dtype='object') \n",
            "Tipo: <class 'pandas.core.indexes.base.Index'>\n",
            "\n",
            "Nome: Temperatura \n",
            "Tipo: <class 'str'>\n",
            "\n",
            "Shape: (3,) \n",
            "Tipo: <class 'tuple'>\n"
          ],
          "name": "stdout"
        }
      ]
    },
    {
      "cell_type": "markdown",
      "metadata": {
        "id": "0zMOwsNxyXzY"
      },
      "source": [
        "* As séries possuem características de tipos sequenciais, ou seja, podem ser fatiadas, acessadas ou modificadas pela ordem numérica. Além disso, é um objeto compatível com ndarray do NumPy, dessa forma aceita expressões e pode ser utilizado como parâmetro para a maioria das funções disponíveis no NumPy"
      ]
    },
    {
      "cell_type": "code",
      "metadata": {
        "id": "MORz8e1WyXzZ",
        "outputId": "c584802f-60e5-4353-9e12-2b82ed896d9e",
        "colab": {
          "base_uri": "https://localhost:8080/",
          "height": 466
        }
      },
      "source": [
        "# utilizando índice de ordem\n",
        "print(s4[0])\n",
        "\n",
        "# utilizando sintaxe de slices\n",
        "print('\\n', s4[:2], sep='')\n",
        "\n",
        "# utilizando expressões booleanas para slices\n",
        "print('\\n', s4[ s4 >= 28 ], sep='')\n",
        "\n",
        "# alterando um valor\n",
        "s4[2] = 30.1\n",
        "print('\\n', s4[2], sep='')\n",
        "\n",
        "# alterando o tipo\n",
        "s4_str = s4.astype(str)\n",
        "print('\\n', s4_str, sep='')\n",
        "\n",
        "# redefinindo o índice\n",
        "s4_str.index = pd.Index(['b', 'c', 'a'])\n",
        "print('\\n', s4_str, sep='')\n",
        "s4_str = s4_str.sort_index()\n",
        "print('\\n', s4_str, sep='')"
      ],
      "execution_count": null,
      "outputs": [
        {
          "output_type": "stream",
          "text": [
            "27.0\n",
            "\n",
            "2018-02-01    27.0\n",
            "2018-02-02    28.3\n",
            "Name: Temperatura, dtype: float64\n",
            "\n",
            "2018-02-02    28.3\n",
            "2018-02-03    29.1\n",
            "Name: Temperatura, dtype: float64\n",
            "\n",
            "30.1\n",
            "\n",
            "2018-02-01    27.0\n",
            "2018-02-02    28.3\n",
            "2018-02-03    30.1\n",
            "Name: Temperatura, dtype: object\n",
            "\n",
            "b    27.0\n",
            "c    28.3\n",
            "a    30.1\n",
            "Name: Temperatura, dtype: object\n",
            "\n",
            "a    30.1\n",
            "b    27.0\n",
            "c    28.3\n",
            "Name: Temperatura, dtype: object\n"
          ],
          "name": "stdout"
        }
      ]
    },
    {
      "cell_type": "markdown",
      "metadata": {
        "id": "b-q3XcFJyXzd"
      },
      "source": [
        "* as séries podem ser comparadas a um dicionário de tamanho fixo, onde valores podem ser recuperados e alterados pela sua chave, que consiste no índice"
      ]
    },
    {
      "cell_type": "code",
      "metadata": {
        "id": "_Ch7M_geyXzd",
        "outputId": "374903d8-a5ad-4384-f900-14795cf27f67",
        "colab": {
          "base_uri": "https://localhost:8080/",
          "height": 100
        }
      },
      "source": [
        "# retornar valor utilizando colchetes e o índice desejado\n",
        "print(s4['2018-02-02'])\n",
        "\n",
        "# se utilizarmos colchetes para uma chave não existente teremos um erro\n",
        "try:\n",
        "    print(s4['2018-02-10'])\n",
        "except Exception as e:\n",
        "    print('{}:'.format(e.__class__.__name__), e)\n",
        "\n",
        "# utilizar o método get apenas retorna None se o índice não existir\n",
        "print(s4.get('2018-02-10'))\n",
        "\n",
        "# é possível testar se um índice está na série\n",
        "print('2018-02-02' in s4)\n",
        "\n",
        "# é possível testar se um valor está na série\n",
        "print(28.3 in s4.values)\n"
      ],
      "execution_count": null,
      "outputs": [
        {
          "output_type": "stream",
          "text": [
            "28.3\n",
            "KeyError: '2018-02-10'\n",
            "None\n",
            "True\n",
            "True\n"
          ],
          "name": "stdout"
        }
      ]
    },
    {
      "cell_type": "markdown",
      "metadata": {
        "id": "HXt78P-nPOLB"
      },
      "source": [
        "## Percorrendo a série"
      ]
    },
    {
      "cell_type": "code",
      "metadata": {
        "id": "vTQNpDh9PSB1",
        "outputId": "afc64f0f-42d7-49db-f97f-8780b5abe149",
        "colab": {
          "base_uri": "https://localhost:8080/",
          "height": 69
        }
      },
      "source": [
        "for i in s4.index:\n",
        "  print(i,s4[i])"
      ],
      "execution_count": null,
      "outputs": [
        {
          "output_type": "stream",
          "text": [
            "2018-02-01 27.0\n",
            "2018-02-02 28.3\n",
            "2018-02-03 30.1\n"
          ],
          "name": "stdout"
        }
      ]
    },
    {
      "cell_type": "code",
      "metadata": {
        "id": "cTxTJrzX9Yr0",
        "colab": {
          "base_uri": "https://localhost:8080/",
          "height": 69
        },
        "outputId": "4c01fc40-03be-417d-cd2b-d568892e7f6d"
      },
      "source": [
        "for i in s4.values:\n",
        "  print(i)"
      ],
      "execution_count": null,
      "outputs": [
        {
          "output_type": "stream",
          "text": [
            "27.0\n",
            "28.3\n",
            "29.1\n"
          ],
          "name": "stdout"
        }
      ]
    },
    {
      "cell_type": "code",
      "metadata": {
        "id": "PrzmzvUOQBJ1",
        "outputId": "6362d004-1c7c-4e71-a5e3-f08447e1a8dc",
        "colab": {
          "base_uri": "https://localhost:8080/",
          "height": 69
        }
      },
      "source": [
        "for i in range(len(s4)):\n",
        "  print(s4[i])"
      ],
      "execution_count": null,
      "outputs": [
        {
          "output_type": "stream",
          "text": [
            "27.0\n",
            "28.3\n",
            "30.1\n"
          ],
          "name": "stdout"
        }
      ]
    },
    {
      "cell_type": "code",
      "metadata": {
        "id": "_RL3mQ0rQZHN",
        "outputId": "1efd68a8-6235-40cf-b2bf-23bee7d999b3",
        "colab": {
          "base_uri": "https://localhost:8080/",
          "height": 66
        }
      },
      "source": [
        "for i in range(s4.shape[0]):\n",
        "  print(s4.index[i],s4.values[i])"
      ],
      "execution_count": null,
      "outputs": [
        {
          "output_type": "stream",
          "text": [
            "2018-02-01 27.0\n",
            "2018-02-02 28.3\n",
            "2018-02-03 30.1\n"
          ],
          "name": "stdout"
        }
      ]
    },
    {
      "cell_type": "code",
      "metadata": {
        "id": "O7jSSUbgQRUJ"
      },
      "source": [],
      "execution_count": null,
      "outputs": []
    },
    {
      "cell_type": "markdown",
      "metadata": {
        "id": "Bg2dS2BPFr1v"
      },
      "source": [
        "## Exercício 1\n",
        "\n",
        "Crie uma série para armazenar os valores da tabela abaixo (casos da covid por estado em 11/5/2020):\n",
        "\n",
        "Estado\ttotaldecasos\n",
        "\n",
        "AC\t1447\n",
        "AL\t2258\n",
        "AM\t12599\n",
        "AP\t2613\n",
        "BA\t5774\n",
        "CE\t16775\n",
        "DF\t2682\n",
        "ES\t4599\n",
        "GO\t1093\n",
        "MA\t8144\n",
        "MG\t3320\n",
        "MS\t362\n",
        "MT\t519\n",
        "PA\t7563\n",
        "PB\t2341\n",
        "PE\t13275\n",
        "PI\t1332\n",
        "PR\t1835\n",
        "RJ\t17062\n",
        "RN\t1928\n",
        "RO\t1302\n",
        "RR\t1290\n",
        "RS\t2576\n",
        "SC\t3429\n",
        "SE\t1771\n",
        "SP\t46131\n",
        "TO\t747\n",
        "\n",
        "\n",
        "Explore sua série."
      ]
    },
    {
      "cell_type": "code",
      "source": [],
      "metadata": {
        "id": "6N5mONxXw4sZ"
      },
      "execution_count": null,
      "outputs": []
    },
    {
      "cell_type": "markdown",
      "metadata": {
        "id": "qELhU0bb-yBD"
      },
      "source": [
        "### Tratamento de exceções no Python\n",
        "\n",
        "Como visto, diversas operações de um script podem não ser realizáveis, o que acarreta um erro e a interrupção da execução. Para lidar com essa situação podemos usar o comando \"try\", que supervisiona a execução de um bloco de instruções e captura o erro se ele ocorrer:"
      ]
    },
    {
      "cell_type": "code",
      "metadata": {
        "id": "8wWBudkS_T4Y",
        "outputId": "72ca10c8-30f6-404b-c251-55ab7e35dab1",
        "colab": {
          "base_uri": "https://localhost:8080/",
          "height": 50
        }
      },
      "source": [
        "x = input(\"digite um número:\")\n",
        "try:\n",
        "  print(1/float(x))\n",
        "except:\n",
        "  print(\"Erro ao calcular 1/x\")"
      ],
      "execution_count": null,
      "outputs": [
        {
          "output_type": "stream",
          "text": [
            "digite um número:0\n",
            "Erro ao calcular 1/x\n"
          ],
          "name": "stdout"
        }
      ]
    },
    {
      "cell_type": "markdown",
      "metadata": {
        "id": "D7vUhdGw_6E2"
      },
      "source": [
        "É possível filtrar um tipo de erro específico:"
      ]
    },
    {
      "cell_type": "code",
      "metadata": {
        "id": "Da6nHI0XAeot",
        "outputId": "14108edb-5acf-45a1-a0ee-a0773b1ade02",
        "colab": {
          "base_uri": "https://localhost:8080/",
          "height": 50
        }
      },
      "source": [
        "x = input(\"digite um número:\")\n",
        "try:\n",
        "  print(1/float(x))\n",
        "except(ZeroDivisionError):\n",
        "  print(\"Divisão por zero!\")"
      ],
      "execution_count": null,
      "outputs": [
        {
          "output_type": "stream",
          "text": [
            "digite um número:0\n",
            "Divisão por zero!\n"
          ],
          "name": "stdout"
        }
      ]
    },
    {
      "cell_type": "markdown",
      "metadata": {
        "id": "1uU-yfWvAxJ1"
      },
      "source": [
        "É possível também \"criar\" um erro para avisar que algum problema ocorreu:"
      ]
    },
    {
      "cell_type": "code",
      "metadata": {
        "id": "7LGhOILaAs-7",
        "outputId": "54099904-cec9-47b3-abd1-b97b5fc3491c",
        "colab": {
          "base_uri": "https://localhost:8080/",
          "height": 50
        }
      },
      "source": [
        "x = input(\"digite um número:\")\n",
        "try:\n",
        "  if float(x)==0:\n",
        "    raise Exception(\"A operação não admite zero!\")\n",
        "  print(1/float(x))\n",
        "except Exception as er:\n",
        "  print(\"Erro na operação:\",er)"
      ],
      "execution_count": null,
      "outputs": [
        {
          "output_type": "stream",
          "text": [
            "digite um número:0\n",
            "Erro na operação: A operação não admite zero!\n"
          ],
          "name": "stdout"
        }
      ]
    },
    {
      "cell_type": "markdown",
      "metadata": {
        "id": "m51RRblQB8QZ"
      },
      "source": [
        "Para mais informações sobre códigos de erro visite: https://www.tutorialsteacher.com/python/error-types-in-python"
      ]
    },
    {
      "cell_type": "markdown",
      "metadata": {
        "id": "T7wPWKdyyXzh"
      },
      "source": [
        "### Voltando às séries Pandas:\n",
        "\n",
        "* as séries aceitam operações vetorizadas, mas o alinhamento para as operações são sempre baseado no índice"
      ]
    },
    {
      "cell_type": "code",
      "metadata": {
        "id": "WSucqH1syXzi",
        "outputId": "263efaa8-ed8a-4741-bcc6-8aeacfc6729c",
        "colab": {
          "base_uri": "https://localhost:8080/"
        }
      },
      "source": [
        "# medições de temperatura\n",
        "s55 = pd.Series(\n",
        "    [27, 28.3, 29.1,np.nan],\n",
        "    name='Temperatura Sensor A',\n",
        "    index=['2018-02-01', '2018-02-02', '2018-02-03','2018-02-05']\n",
        ")\n",
        "\n",
        "print('\\n s55:\\n', s55, \"\\n\",\"\\nteste de Nan:\\n\",s55.isna(),\"\\n\",sep='')\n",
        "#s5.notna() para obter os que não são NaN\n",
        "s5 = s55[s55.notna()]\n",
        "\n",
        "print('\\ns5:\\n', s5, sep='')\n",
        "\n",
        "s6 = pd.Series(\n",
        "    [28.6, 32.1, 26],\n",
        "    name='Temperatura Sensor B',\n",
        "    index=['2018-02-02', '2018-02-03', '2018-02-04']\n",
        ")\n",
        "print('\\ns6:\\n', s6, sep='')\n",
        "\n",
        "# média\n",
        "s7 = (s5 + s6)/2\n",
        "s7.rename('Temperatura Média', inplace=True)\n",
        "print('\\n', s7, sep='')"
      ],
      "execution_count": 50,
      "outputs": [
        {
          "output_type": "stream",
          "name": "stdout",
          "text": [
            "\n",
            " s55:\n",
            "2018-02-01    27.0\n",
            "2018-02-02    28.3\n",
            "2018-02-03    29.1\n",
            "2018-02-05     NaN\n",
            "Name: Temperatura Sensor A, dtype: float64\n",
            "\n",
            "teste de Nan:\n",
            "2018-02-01    False\n",
            "2018-02-02    False\n",
            "2018-02-03    False\n",
            "2018-02-05     True\n",
            "Name: Temperatura Sensor A, dtype: bool\n",
            "\n",
            "\n",
            "s5:\n",
            "2018-02-01    27.0\n",
            "2018-02-02    28.3\n",
            "2018-02-03    29.1\n",
            "Name: Temperatura Sensor A, dtype: float64\n",
            "\n",
            "s6:\n",
            "2018-02-02    28.6\n",
            "2018-02-03    32.1\n",
            "2018-02-04    26.0\n",
            "Name: Temperatura Sensor B, dtype: float64\n",
            "\n",
            "2018-02-01      NaN\n",
            "2018-02-02    28.45\n",
            "2018-02-03    30.60\n",
            "2018-02-04      NaN\n",
            "Name: Temperatura Média, dtype: float64\n"
          ]
        }
      ]
    },
    {
      "cell_type": "markdown",
      "metadata": {
        "id": "ze-BaKBkqJbv"
      },
      "source": [
        "# Exercício 2\n",
        "\n",
        "Altere as séries acima de forma a obter uma série média sem NaN."
      ]
    },
    {
      "cell_type": "code",
      "source": [],
      "metadata": {
        "id": "cETYpVJnw9vJ"
      },
      "execution_count": null,
      "outputs": []
    },
    {
      "cell_type": "markdown",
      "metadata": {
        "id": "Jgxk9Hh_yXzm"
      },
      "source": [
        "### Alguns métodos comuns nas séries"
      ]
    },
    {
      "cell_type": "code",
      "metadata": {
        "scrolled": true,
        "id": "ryQGREo3yXzn",
        "outputId": "44d86f0f-0f69-477a-f0ca-c0369dc8a3d6",
        "colab": {
          "base_uri": "https://localhost:8080/",
          "height": 100
        }
      },
      "source": [
        "temperaturas = [17, 18, 24, 27, 18, 25, 27, 35, 35, 18, 17, 13, 36, 32, 31]\n",
        "s8 = pd.Series(temperaturas)\n",
        "\n",
        "# contagem do número de elementos\n",
        "print('contagem: ',s8.count())\n",
        "\n",
        "# menor valor\n",
        "print('min: ', s8.min())\n",
        "\n",
        "# maior valor\n",
        "print('max: ', s8.max())\n",
        "\n",
        "# média\n",
        "print('mean: ', s8.mean())\n",
        "\n",
        "# mediana\n",
        "print('median: ', s8.median())"
      ],
      "execution_count": null,
      "outputs": [
        {
          "output_type": "stream",
          "text": [
            "contagem:  15\n",
            "min:  13\n",
            "max:  36\n",
            "mean:  24.866666666666667\n",
            "median:  25.0\n"
          ],
          "name": "stdout"
        }
      ]
    },
    {
      "cell_type": "code",
      "metadata": {
        "id": "c97YVZ6j31U7",
        "outputId": "d0fcfcff-ad5e-4e3a-8d26-507ddcbdc684",
        "colab": {
          "base_uri": "https://localhost:8080/",
          "height": 116
        }
      },
      "source": [
        "#mostra os valores iniciais\n",
        "s8.head()"
      ],
      "execution_count": null,
      "outputs": [
        {
          "output_type": "execute_result",
          "data": {
            "text/plain": [
              "0    17\n",
              "1    18\n",
              "2    24\n",
              "3    27\n",
              "4    18\n",
              "dtype: int64"
            ]
          },
          "metadata": {
            "tags": []
          },
          "execution_count": 117
        }
      ]
    },
    {
      "cell_type": "code",
      "metadata": {
        "id": "qP3DxbcPp2gd",
        "outputId": "bd1e3376-0a62-4a95-8896-ac7e6f310d04",
        "colab": {
          "base_uri": "https://localhost:8080/",
          "height": 204
        }
      },
      "source": [
        "s8.head(10)"
      ],
      "execution_count": null,
      "outputs": [
        {
          "output_type": "execute_result",
          "data": {
            "text/plain": [
              "0    17\n",
              "1    18\n",
              "2    24\n",
              "3    27\n",
              "4    18\n",
              "5    25\n",
              "6    27\n",
              "7    35\n",
              "8    35\n",
              "9    18\n",
              "dtype: int64"
            ]
          },
          "metadata": {
            "tags": []
          },
          "execution_count": 19
        }
      ]
    },
    {
      "cell_type": "markdown",
      "metadata": {
        "id": "VxwBTk5nSCa2"
      },
      "source": [
        "Mostra os valores finais:"
      ]
    },
    {
      "cell_type": "code",
      "metadata": {
        "id": "-6HhkI4OR6qO",
        "outputId": "2e807bb4-2501-426f-a21e-74688665060f",
        "colab": {
          "base_uri": "https://localhost:8080/",
          "height": 116
        }
      },
      "source": [
        "#mostra os valores finais\n",
        "s8.tail()"
      ],
      "execution_count": null,
      "outputs": [
        {
          "output_type": "execute_result",
          "data": {
            "text/plain": [
              "10    17\n",
              "11    13\n",
              "12    36\n",
              "13    32\n",
              "14    31\n",
              "dtype: int64"
            ]
          },
          "metadata": {
            "tags": []
          },
          "execution_count": 88
        }
      ]
    },
    {
      "cell_type": "code",
      "metadata": {
        "id": "r-fm7S4ebF61",
        "outputId": "f3853632-0611-4461-bd11-5ce71afe04ea",
        "colab": {
          "base_uri": "https://localhost:8080/",
          "height": 83
        }
      },
      "source": [
        "# faz uma amostragem aleatória\n",
        "s8.sample(3)"
      ],
      "execution_count": null,
      "outputs": [
        {
          "output_type": "execute_result",
          "data": {
            "text/plain": [
              "2     24\n",
              "4     18\n",
              "14    31\n",
              "dtype: int64"
            ]
          },
          "metadata": {
            "tags": []
          },
          "execution_count": 89
        }
      ]
    },
    {
      "cell_type": "markdown",
      "metadata": {
        "id": "gaD-WbnIyXz6"
      },
      "source": [
        "Documentação do Pandas para a classe Series:\n",
        "https://pandas.pydata.org/pandas-docs/stable/api.html#series"
      ]
    },
    {
      "cell_type": "markdown",
      "metadata": {
        "id": "TnLWHKGr45JW"
      },
      "source": [
        "# Exercício 3\n",
        "\n",
        "Crie uma série com as variáveis de câmbio e índice definidas abaixo:\n",
        "\n",
        "cambiodolarAg1 = [2.4, 2.2, 2.5, 2.0, 2.3, 2.25]\n",
        "\n",
        "indices = ['2017-05-03','2017-05-04','2017-05-05','2017-05-06','2017-05-07','2017-05-08'].\n",
        "\n",
        "Em seguida faça:\n",
        "\n",
        "- Mostre as estatísticas básicas da série\n",
        "\n",
        "- Filtre os registros pelo índice 2017-05-04\n",
        "\n",
        "- Filtre os registros pelo intervalo 2017-05-04 a 2017-05-06\n",
        "\n",
        "- Mostre as estatísticas básicas só para a seleção acima\n",
        "\n",
        "- Filtre os registros das posições 1 a 3 (final incluso)\n",
        "\n",
        "- Filtre os registros com cambio maior que 2.2\n",
        "\n"
      ]
    },
    {
      "cell_type": "code",
      "source": [],
      "metadata": {
        "id": "SLQhUQ4jxKG6"
      },
      "execution_count": null,
      "outputs": []
    },
    {
      "cell_type": "markdown",
      "metadata": {
        "id": "gvS8jlE1yXz7"
      },
      "source": [
        "### DataFrame\n",
        "\n",
        "É um objeto que representa uma matriz de 2 dimensões, onde todas as colunas são alinhadas pelo mesmo índice. Um dataframe pode ter séries (colunas) com tipos diferentes.\n",
        "\n",
        "Pode ser comparado a uma planilha excel ou a uma tabela de banco de dados."
      ]
    },
    {
      "cell_type": "code",
      "metadata": {
        "id": "9NHrxjiNyXz8",
        "outputId": "be40840a-72a0-48d8-e47f-e46535a406fc",
        "colab": {
          "base_uri": "https://localhost:8080/",
          "height": 175
        }
      },
      "source": [
        "# Criação de um DataFrame à partir de um dicionário de séries de mesmo índice\n",
        "d = OrderedDict({\n",
        "    'Sensor A': s5,\n",
        "    'Sensor B': s6,\n",
        "    'Médias': s7,\n",
        "})\n",
        "df1 = pd.DataFrame(d)\n",
        "df1"
      ],
      "execution_count": 51,
      "outputs": [
        {
          "output_type": "execute_result",
          "data": {
            "text/plain": [
              "            Sensor A  Sensor B  Médias\n",
              "2018-02-01      27.0       NaN     NaN\n",
              "2018-02-02      28.3      28.6   28.45\n",
              "2018-02-03      29.1      32.1   30.60\n",
              "2018-02-04       NaN      26.0     NaN"
            ],
            "text/html": [
              "\n",
              "  <div id=\"df-2d3b4bea-d6c7-4459-a129-fe3b66930164\" class=\"colab-df-container\">\n",
              "    <div>\n",
              "<style scoped>\n",
              "    .dataframe tbody tr th:only-of-type {\n",
              "        vertical-align: middle;\n",
              "    }\n",
              "\n",
              "    .dataframe tbody tr th {\n",
              "        vertical-align: top;\n",
              "    }\n",
              "\n",
              "    .dataframe thead th {\n",
              "        text-align: right;\n",
              "    }\n",
              "</style>\n",
              "<table border=\"1\" class=\"dataframe\">\n",
              "  <thead>\n",
              "    <tr style=\"text-align: right;\">\n",
              "      <th></th>\n",
              "      <th>Sensor A</th>\n",
              "      <th>Sensor B</th>\n",
              "      <th>Médias</th>\n",
              "    </tr>\n",
              "  </thead>\n",
              "  <tbody>\n",
              "    <tr>\n",
              "      <th>2018-02-01</th>\n",
              "      <td>27.0</td>\n",
              "      <td>NaN</td>\n",
              "      <td>NaN</td>\n",
              "    </tr>\n",
              "    <tr>\n",
              "      <th>2018-02-02</th>\n",
              "      <td>28.3</td>\n",
              "      <td>28.6</td>\n",
              "      <td>28.45</td>\n",
              "    </tr>\n",
              "    <tr>\n",
              "      <th>2018-02-03</th>\n",
              "      <td>29.1</td>\n",
              "      <td>32.1</td>\n",
              "      <td>30.60</td>\n",
              "    </tr>\n",
              "    <tr>\n",
              "      <th>2018-02-04</th>\n",
              "      <td>NaN</td>\n",
              "      <td>26.0</td>\n",
              "      <td>NaN</td>\n",
              "    </tr>\n",
              "  </tbody>\n",
              "</table>\n",
              "</div>\n",
              "    <div class=\"colab-df-buttons\">\n",
              "\n",
              "  <div class=\"colab-df-container\">\n",
              "    <button class=\"colab-df-convert\" onclick=\"convertToInteractive('df-2d3b4bea-d6c7-4459-a129-fe3b66930164')\"\n",
              "            title=\"Convert this dataframe to an interactive table.\"\n",
              "            style=\"display:none;\">\n",
              "\n",
              "  <svg xmlns=\"http://www.w3.org/2000/svg\" height=\"24px\" viewBox=\"0 -960 960 960\">\n",
              "    <path d=\"M120-120v-720h720v720H120Zm60-500h600v-160H180v160Zm220 220h160v-160H400v160Zm0 220h160v-160H400v160ZM180-400h160v-160H180v160Zm440 0h160v-160H620v160ZM180-180h160v-160H180v160Zm440 0h160v-160H620v160Z\"/>\n",
              "  </svg>\n",
              "    </button>\n",
              "\n",
              "  <style>\n",
              "    .colab-df-container {\n",
              "      display:flex;\n",
              "      gap: 12px;\n",
              "    }\n",
              "\n",
              "    .colab-df-convert {\n",
              "      background-color: #E8F0FE;\n",
              "      border: none;\n",
              "      border-radius: 50%;\n",
              "      cursor: pointer;\n",
              "      display: none;\n",
              "      fill: #1967D2;\n",
              "      height: 32px;\n",
              "      padding: 0 0 0 0;\n",
              "      width: 32px;\n",
              "    }\n",
              "\n",
              "    .colab-df-convert:hover {\n",
              "      background-color: #E2EBFA;\n",
              "      box-shadow: 0px 1px 2px rgba(60, 64, 67, 0.3), 0px 1px 3px 1px rgba(60, 64, 67, 0.15);\n",
              "      fill: #174EA6;\n",
              "    }\n",
              "\n",
              "    .colab-df-buttons div {\n",
              "      margin-bottom: 4px;\n",
              "    }\n",
              "\n",
              "    [theme=dark] .colab-df-convert {\n",
              "      background-color: #3B4455;\n",
              "      fill: #D2E3FC;\n",
              "    }\n",
              "\n",
              "    [theme=dark] .colab-df-convert:hover {\n",
              "      background-color: #434B5C;\n",
              "      box-shadow: 0px 1px 3px 1px rgba(0, 0, 0, 0.15);\n",
              "      filter: drop-shadow(0px 1px 2px rgba(0, 0, 0, 0.3));\n",
              "      fill: #FFFFFF;\n",
              "    }\n",
              "  </style>\n",
              "\n",
              "    <script>\n",
              "      const buttonEl =\n",
              "        document.querySelector('#df-2d3b4bea-d6c7-4459-a129-fe3b66930164 button.colab-df-convert');\n",
              "      buttonEl.style.display =\n",
              "        google.colab.kernel.accessAllowed ? 'block' : 'none';\n",
              "\n",
              "      async function convertToInteractive(key) {\n",
              "        const element = document.querySelector('#df-2d3b4bea-d6c7-4459-a129-fe3b66930164');\n",
              "        const dataTable =\n",
              "          await google.colab.kernel.invokeFunction('convertToInteractive',\n",
              "                                                    [key], {});\n",
              "        if (!dataTable) return;\n",
              "\n",
              "        const docLinkHtml = 'Like what you see? Visit the ' +\n",
              "          '<a target=\"_blank\" href=https://colab.research.google.com/notebooks/data_table.ipynb>data table notebook</a>'\n",
              "          + ' to learn more about interactive tables.';\n",
              "        element.innerHTML = '';\n",
              "        dataTable['output_type'] = 'display_data';\n",
              "        await google.colab.output.renderOutput(dataTable, element);\n",
              "        const docLink = document.createElement('div');\n",
              "        docLink.innerHTML = docLinkHtml;\n",
              "        element.appendChild(docLink);\n",
              "      }\n",
              "    </script>\n",
              "  </div>\n",
              "\n",
              "\n",
              "<div id=\"df-c787edcc-30e7-4094-a2e1-6c18fdcf4927\">\n",
              "  <button class=\"colab-df-quickchart\" onclick=\"quickchart('df-c787edcc-30e7-4094-a2e1-6c18fdcf4927')\"\n",
              "            title=\"Suggest charts\"\n",
              "            style=\"display:none;\">\n",
              "\n",
              "<svg xmlns=\"http://www.w3.org/2000/svg\" height=\"24px\"viewBox=\"0 0 24 24\"\n",
              "     width=\"24px\">\n",
              "    <g>\n",
              "        <path d=\"M19 3H5c-1.1 0-2 .9-2 2v14c0 1.1.9 2 2 2h14c1.1 0 2-.9 2-2V5c0-1.1-.9-2-2-2zM9 17H7v-7h2v7zm4 0h-2V7h2v10zm4 0h-2v-4h2v4z\"/>\n",
              "    </g>\n",
              "</svg>\n",
              "  </button>\n",
              "\n",
              "<style>\n",
              "  .colab-df-quickchart {\n",
              "      --bg-color: #E8F0FE;\n",
              "      --fill-color: #1967D2;\n",
              "      --hover-bg-color: #E2EBFA;\n",
              "      --hover-fill-color: #174EA6;\n",
              "      --disabled-fill-color: #AAA;\n",
              "      --disabled-bg-color: #DDD;\n",
              "  }\n",
              "\n",
              "  [theme=dark] .colab-df-quickchart {\n",
              "      --bg-color: #3B4455;\n",
              "      --fill-color: #D2E3FC;\n",
              "      --hover-bg-color: #434B5C;\n",
              "      --hover-fill-color: #FFFFFF;\n",
              "      --disabled-bg-color: #3B4455;\n",
              "      --disabled-fill-color: #666;\n",
              "  }\n",
              "\n",
              "  .colab-df-quickchart {\n",
              "    background-color: var(--bg-color);\n",
              "    border: none;\n",
              "    border-radius: 50%;\n",
              "    cursor: pointer;\n",
              "    display: none;\n",
              "    fill: var(--fill-color);\n",
              "    height: 32px;\n",
              "    padding: 0;\n",
              "    width: 32px;\n",
              "  }\n",
              "\n",
              "  .colab-df-quickchart:hover {\n",
              "    background-color: var(--hover-bg-color);\n",
              "    box-shadow: 0 1px 2px rgba(60, 64, 67, 0.3), 0 1px 3px 1px rgba(60, 64, 67, 0.15);\n",
              "    fill: var(--button-hover-fill-color);\n",
              "  }\n",
              "\n",
              "  .colab-df-quickchart-complete:disabled,\n",
              "  .colab-df-quickchart-complete:disabled:hover {\n",
              "    background-color: var(--disabled-bg-color);\n",
              "    fill: var(--disabled-fill-color);\n",
              "    box-shadow: none;\n",
              "  }\n",
              "\n",
              "  .colab-df-spinner {\n",
              "    border: 2px solid var(--fill-color);\n",
              "    border-color: transparent;\n",
              "    border-bottom-color: var(--fill-color);\n",
              "    animation:\n",
              "      spin 1s steps(1) infinite;\n",
              "  }\n",
              "\n",
              "  @keyframes spin {\n",
              "    0% {\n",
              "      border-color: transparent;\n",
              "      border-bottom-color: var(--fill-color);\n",
              "      border-left-color: var(--fill-color);\n",
              "    }\n",
              "    20% {\n",
              "      border-color: transparent;\n",
              "      border-left-color: var(--fill-color);\n",
              "      border-top-color: var(--fill-color);\n",
              "    }\n",
              "    30% {\n",
              "      border-color: transparent;\n",
              "      border-left-color: var(--fill-color);\n",
              "      border-top-color: var(--fill-color);\n",
              "      border-right-color: var(--fill-color);\n",
              "    }\n",
              "    40% {\n",
              "      border-color: transparent;\n",
              "      border-right-color: var(--fill-color);\n",
              "      border-top-color: var(--fill-color);\n",
              "    }\n",
              "    60% {\n",
              "      border-color: transparent;\n",
              "      border-right-color: var(--fill-color);\n",
              "    }\n",
              "    80% {\n",
              "      border-color: transparent;\n",
              "      border-right-color: var(--fill-color);\n",
              "      border-bottom-color: var(--fill-color);\n",
              "    }\n",
              "    90% {\n",
              "      border-color: transparent;\n",
              "      border-bottom-color: var(--fill-color);\n",
              "    }\n",
              "  }\n",
              "</style>\n",
              "\n",
              "  <script>\n",
              "    async function quickchart(key) {\n",
              "      const quickchartButtonEl =\n",
              "        document.querySelector('#' + key + ' button');\n",
              "      quickchartButtonEl.disabled = true;  // To prevent multiple clicks.\n",
              "      quickchartButtonEl.classList.add('colab-df-spinner');\n",
              "      try {\n",
              "        const charts = await google.colab.kernel.invokeFunction(\n",
              "            'suggestCharts', [key], {});\n",
              "      } catch (error) {\n",
              "        console.error('Error during call to suggestCharts:', error);\n",
              "      }\n",
              "      quickchartButtonEl.classList.remove('colab-df-spinner');\n",
              "      quickchartButtonEl.classList.add('colab-df-quickchart-complete');\n",
              "    }\n",
              "    (() => {\n",
              "      let quickchartButtonEl =\n",
              "        document.querySelector('#df-c787edcc-30e7-4094-a2e1-6c18fdcf4927 button');\n",
              "      quickchartButtonEl.style.display =\n",
              "        google.colab.kernel.accessAllowed ? 'block' : 'none';\n",
              "    })();\n",
              "  </script>\n",
              "</div>\n",
              "\n",
              "  <div id=\"id_cc926ada-11c4-4f2e-8399-7fa9b2d5d66c\">\n",
              "    <style>\n",
              "      .colab-df-generate {\n",
              "        background-color: #E8F0FE;\n",
              "        border: none;\n",
              "        border-radius: 50%;\n",
              "        cursor: pointer;\n",
              "        display: none;\n",
              "        fill: #1967D2;\n",
              "        height: 32px;\n",
              "        padding: 0 0 0 0;\n",
              "        width: 32px;\n",
              "      }\n",
              "\n",
              "      .colab-df-generate:hover {\n",
              "        background-color: #E2EBFA;\n",
              "        box-shadow: 0px 1px 2px rgba(60, 64, 67, 0.3), 0px 1px 3px 1px rgba(60, 64, 67, 0.15);\n",
              "        fill: #174EA6;\n",
              "      }\n",
              "\n",
              "      [theme=dark] .colab-df-generate {\n",
              "        background-color: #3B4455;\n",
              "        fill: #D2E3FC;\n",
              "      }\n",
              "\n",
              "      [theme=dark] .colab-df-generate:hover {\n",
              "        background-color: #434B5C;\n",
              "        box-shadow: 0px 1px 3px 1px rgba(0, 0, 0, 0.15);\n",
              "        filter: drop-shadow(0px 1px 2px rgba(0, 0, 0, 0.3));\n",
              "        fill: #FFFFFF;\n",
              "      }\n",
              "    </style>\n",
              "    <button class=\"colab-df-generate\" onclick=\"generateWithVariable('df1')\"\n",
              "            title=\"Generate code using this dataframe.\"\n",
              "            style=\"display:none;\">\n",
              "\n",
              "  <svg xmlns=\"http://www.w3.org/2000/svg\" height=\"24px\"viewBox=\"0 0 24 24\"\n",
              "       width=\"24px\">\n",
              "    <path d=\"M7,19H8.4L18.45,9,17,7.55,7,17.6ZM5,21V16.75L18.45,3.32a2,2,0,0,1,2.83,0l1.4,1.43a1.91,1.91,0,0,1,.58,1.4,1.91,1.91,0,0,1-.58,1.4L9.25,21ZM18.45,9,17,7.55Zm-12,3A5.31,5.31,0,0,0,4.9,8.1,5.31,5.31,0,0,0,1,6.5,5.31,5.31,0,0,0,4.9,4.9,5.31,5.31,0,0,0,6.5,1,5.31,5.31,0,0,0,8.1,4.9,5.31,5.31,0,0,0,12,6.5,5.46,5.46,0,0,0,6.5,12Z\"/>\n",
              "  </svg>\n",
              "    </button>\n",
              "    <script>\n",
              "      (() => {\n",
              "      const buttonEl =\n",
              "        document.querySelector('#id_cc926ada-11c4-4f2e-8399-7fa9b2d5d66c button.colab-df-generate');\n",
              "      buttonEl.style.display =\n",
              "        google.colab.kernel.accessAllowed ? 'block' : 'none';\n",
              "\n",
              "      buttonEl.onclick = () => {\n",
              "        google.colab.notebook.generateWithVariable('df1');\n",
              "      }\n",
              "      })();\n",
              "    </script>\n",
              "  </div>\n",
              "\n",
              "    </div>\n",
              "  </div>\n"
            ],
            "application/vnd.google.colaboratory.intrinsic+json": {
              "type": "dataframe",
              "variable_name": "df1",
              "summary": "{\n  \"name\": \"df1\",\n  \"rows\": 4,\n  \"fields\": [\n    {\n      \"column\": \"Sensor A\",\n      \"properties\": {\n        \"dtype\": \"number\",\n        \"std\": 1.0598742063723103,\n        \"min\": 27.0,\n        \"max\": 29.1,\n        \"num_unique_values\": 3,\n        \"samples\": [\n          27.0,\n          28.3,\n          29.1\n        ],\n        \"semantic_type\": \"\",\n        \"description\": \"\"\n      }\n    },\n    {\n      \"column\": \"Sensor B\",\n      \"properties\": {\n        \"dtype\": \"number\",\n        \"std\": 3.061045573002794,\n        \"min\": 26.0,\n        \"max\": 32.1,\n        \"num_unique_values\": 3,\n        \"samples\": [\n          28.6,\n          32.1,\n          26.0\n        ],\n        \"semantic_type\": \"\",\n        \"description\": \"\"\n      }\n    },\n    {\n      \"column\": \"M\\u00e9dias\",\n      \"properties\": {\n        \"dtype\": \"number\",\n        \"std\": 1.5202795795510762,\n        \"min\": 28.450000000000003,\n        \"max\": 30.6,\n        \"num_unique_values\": 2,\n        \"samples\": [\n          30.6,\n          28.450000000000003\n        ],\n        \"semantic_type\": \"\",\n        \"description\": \"\"\n      }\n    }\n  ]\n}"
            }
          },
          "metadata": {},
          "execution_count": 51
        }
      ]
    },
    {
      "cell_type": "code",
      "metadata": {
        "id": "CoSIYKzk1X9H",
        "outputId": "aae30c8b-8fba-4cfb-f304-3e1dad812f1b",
        "colab": {
          "base_uri": "https://localhost:8080/",
          "height": 288
        }
      },
      "source": [
        "df1.describe()"
      ],
      "execution_count": null,
      "outputs": [
        {
          "output_type": "execute_result",
          "data": {
            "text/html": [
              "<div>\n",
              "<style scoped>\n",
              "    .dataframe tbody tr th:only-of-type {\n",
              "        vertical-align: middle;\n",
              "    }\n",
              "\n",
              "    .dataframe tbody tr th {\n",
              "        vertical-align: top;\n",
              "    }\n",
              "\n",
              "    .dataframe thead th {\n",
              "        text-align: right;\n",
              "    }\n",
              "</style>\n",
              "<table border=\"1\" class=\"dataframe\">\n",
              "  <thead>\n",
              "    <tr style=\"text-align: right;\">\n",
              "      <th></th>\n",
              "      <th>Sensor A</th>\n",
              "      <th>Sensor B</th>\n",
              "      <th>Médias</th>\n",
              "    </tr>\n",
              "  </thead>\n",
              "  <tbody>\n",
              "    <tr>\n",
              "      <th>count</th>\n",
              "      <td>3.000000</td>\n",
              "      <td>3.000000</td>\n",
              "      <td>2.00000</td>\n",
              "    </tr>\n",
              "    <tr>\n",
              "      <th>mean</th>\n",
              "      <td>28.133333</td>\n",
              "      <td>28.900000</td>\n",
              "      <td>29.52500</td>\n",
              "    </tr>\n",
              "    <tr>\n",
              "      <th>std</th>\n",
              "      <td>1.059874</td>\n",
              "      <td>3.061046</td>\n",
              "      <td>1.52028</td>\n",
              "    </tr>\n",
              "    <tr>\n",
              "      <th>min</th>\n",
              "      <td>27.000000</td>\n",
              "      <td>26.000000</td>\n",
              "      <td>28.45000</td>\n",
              "    </tr>\n",
              "    <tr>\n",
              "      <th>25%</th>\n",
              "      <td>27.650000</td>\n",
              "      <td>27.300000</td>\n",
              "      <td>28.98750</td>\n",
              "    </tr>\n",
              "    <tr>\n",
              "      <th>50%</th>\n",
              "      <td>28.300000</td>\n",
              "      <td>28.600000</td>\n",
              "      <td>29.52500</td>\n",
              "    </tr>\n",
              "    <tr>\n",
              "      <th>75%</th>\n",
              "      <td>28.700000</td>\n",
              "      <td>30.350000</td>\n",
              "      <td>30.06250</td>\n",
              "    </tr>\n",
              "    <tr>\n",
              "      <th>max</th>\n",
              "      <td>29.100000</td>\n",
              "      <td>32.100000</td>\n",
              "      <td>30.60000</td>\n",
              "    </tr>\n",
              "  </tbody>\n",
              "</table>\n",
              "</div>"
            ],
            "text/plain": [
              "        Sensor A   Sensor B    Médias\n",
              "count   3.000000   3.000000   2.00000\n",
              "mean   28.133333  28.900000  29.52500\n",
              "std     1.059874   3.061046   1.52028\n",
              "min    27.000000  26.000000  28.45000\n",
              "25%    27.650000  27.300000  28.98750\n",
              "50%    28.300000  28.600000  29.52500\n",
              "75%    28.700000  30.350000  30.06250\n",
              "max    29.100000  32.100000  30.60000"
            ]
          },
          "metadata": {
            "tags": []
          },
          "execution_count": 21
        }
      ]
    },
    {
      "cell_type": "code",
      "metadata": {
        "id": "40YvcofhrQgG",
        "outputId": "7d3ccdaf-734e-4016-eba9-f9c452e879d6",
        "colab": {
          "base_uri": "https://localhost:8080/",
          "height": 167
        }
      },
      "source": [
        "#versão curta\n",
        "d = {\n",
        "    'Sensor A': s5,\n",
        "    'Sensor B': s6,\n",
        "    'Médias': s7,\n",
        "}\n",
        "df1 = pd.DataFrame(d)\n",
        "df1"
      ],
      "execution_count": null,
      "outputs": [
        {
          "output_type": "execute_result",
          "data": {
            "text/html": [
              "<div>\n",
              "<style scoped>\n",
              "    .dataframe tbody tr th:only-of-type {\n",
              "        vertical-align: middle;\n",
              "    }\n",
              "\n",
              "    .dataframe tbody tr th {\n",
              "        vertical-align: top;\n",
              "    }\n",
              "\n",
              "    .dataframe thead th {\n",
              "        text-align: right;\n",
              "    }\n",
              "</style>\n",
              "<table border=\"1\" class=\"dataframe\">\n",
              "  <thead>\n",
              "    <tr style=\"text-align: right;\">\n",
              "      <th></th>\n",
              "      <th>Sensor A</th>\n",
              "      <th>Sensor B</th>\n",
              "      <th>Médias</th>\n",
              "    </tr>\n",
              "  </thead>\n",
              "  <tbody>\n",
              "    <tr>\n",
              "      <th>2018-02-01</th>\n",
              "      <td>27.0</td>\n",
              "      <td>NaN</td>\n",
              "      <td>NaN</td>\n",
              "    </tr>\n",
              "    <tr>\n",
              "      <th>2018-02-02</th>\n",
              "      <td>28.3</td>\n",
              "      <td>28.6</td>\n",
              "      <td>28.45</td>\n",
              "    </tr>\n",
              "    <tr>\n",
              "      <th>2018-02-03</th>\n",
              "      <td>29.1</td>\n",
              "      <td>32.1</td>\n",
              "      <td>30.60</td>\n",
              "    </tr>\n",
              "    <tr>\n",
              "      <th>2018-02-04</th>\n",
              "      <td>NaN</td>\n",
              "      <td>26.0</td>\n",
              "      <td>NaN</td>\n",
              "    </tr>\n",
              "  </tbody>\n",
              "</table>\n",
              "</div>"
            ],
            "text/plain": [
              "            Sensor A  Sensor B  Médias\n",
              "2018-02-01      27.0       NaN     NaN\n",
              "2018-02-02      28.3      28.6   28.45\n",
              "2018-02-03      29.1      32.1   30.60\n",
              "2018-02-04       NaN      26.0     NaN"
            ]
          },
          "metadata": {
            "tags": []
          },
          "execution_count": 120
        }
      ]
    },
    {
      "cell_type": "code",
      "metadata": {
        "id": "MoG9Zs3TCkxy",
        "colab": {
          "base_uri": "https://localhost:8080/",
          "height": 86
        },
        "outputId": "6f470d41-f4d7-42ba-e697-ab8a371700e3"
      },
      "source": [
        "df1.values"
      ],
      "execution_count": null,
      "outputs": [
        {
          "output_type": "execute_result",
          "data": {
            "text/plain": [
              "array([[27.  ,   nan,   nan],\n",
              "       [28.3 , 28.6 , 28.45],\n",
              "       [29.1 , 32.1 , 30.6 ],\n",
              "       [  nan, 26.  ,   nan]])"
            ]
          },
          "metadata": {
            "tags": []
          },
          "execution_count": 24
        }
      ]
    },
    {
      "cell_type": "code",
      "metadata": {
        "id": "-vyM81PtDaD-",
        "colab": {
          "base_uri": "https://localhost:8080/",
          "height": 35
        },
        "outputId": "b9890f98-6401-4bab-e9b6-a55a5cae19c7"
      },
      "source": [
        "df1.index"
      ],
      "execution_count": null,
      "outputs": [
        {
          "output_type": "execute_result",
          "data": {
            "text/plain": [
              "Index(['2018-02-01', '2018-02-02', '2018-02-03', '2018-02-04'], dtype='object')"
            ]
          },
          "metadata": {
            "tags": []
          },
          "execution_count": 25
        }
      ]
    },
    {
      "cell_type": "markdown",
      "metadata": {
        "id": "mIPEQ_MQyX0A"
      },
      "source": [
        "Observem que o índice do dataframe é formado pela união dos elementos dos índices de cada série.\n",
        "\n",
        "Se para uma determinada posição do índice, uma série não tiver um valor definido, é automaticamente inserido um `NaN` correspondente a *Not a Number*, que identifica um dado faltante."
      ]
    },
    {
      "cell_type": "code",
      "metadata": {
        "id": "rz8HGcgpyX0B",
        "outputId": "8ecd502f-f5bc-4a2d-c166-8f6e46c891f4",
        "colab": {
          "base_uri": "https://localhost:8080/",
          "height": 108
        }
      },
      "source": [
        "# se passarmos uma lista com os índices, todos os dados que não estiverem\n",
        "# de acordo com os índices informados serão descartados\n",
        "df2 = pd.DataFrame(d, index=['2018-02-02', '2018-02-03'])\n",
        "df2"
      ],
      "execution_count": null,
      "outputs": [
        {
          "output_type": "execute_result",
          "data": {
            "text/html": [
              "<div>\n",
              "<style scoped>\n",
              "    .dataframe tbody tr th:only-of-type {\n",
              "        vertical-align: middle;\n",
              "    }\n",
              "\n",
              "    .dataframe tbody tr th {\n",
              "        vertical-align: top;\n",
              "    }\n",
              "\n",
              "    .dataframe thead th {\n",
              "        text-align: right;\n",
              "    }\n",
              "</style>\n",
              "<table border=\"1\" class=\"dataframe\">\n",
              "  <thead>\n",
              "    <tr style=\"text-align: right;\">\n",
              "      <th></th>\n",
              "      <th>Sensor A</th>\n",
              "      <th>Sensor B</th>\n",
              "      <th>Médias</th>\n",
              "    </tr>\n",
              "  </thead>\n",
              "  <tbody>\n",
              "    <tr>\n",
              "      <th>2018-02-02</th>\n",
              "      <td>28.3</td>\n",
              "      <td>28.6</td>\n",
              "      <td>28.45</td>\n",
              "    </tr>\n",
              "    <tr>\n",
              "      <th>2018-02-03</th>\n",
              "      <td>29.1</td>\n",
              "      <td>32.1</td>\n",
              "      <td>30.60</td>\n",
              "    </tr>\n",
              "  </tbody>\n",
              "</table>\n",
              "</div>"
            ],
            "text/plain": [
              "            Sensor A  Sensor B  Médias\n",
              "2018-02-02      28.3      28.6   28.45\n",
              "2018-02-03      29.1      32.1   30.60"
            ]
          },
          "metadata": {
            "tags": []
          },
          "execution_count": 22
        }
      ]
    },
    {
      "cell_type": "code",
      "metadata": {
        "id": "Zq0NqGbZyX0G",
        "outputId": "59e97011-725c-4094-b24e-d4f1547cfc7d",
        "colab": {
          "base_uri": "https://localhost:8080/",
          "height": 143
        }
      },
      "source": [
        "# Criação de um DataFrame à partir de um dicionário de listas (todas do mesmo comprimento)\n",
        "\n",
        "d = dict({\n",
        "    'Produto': ['Maçã', 'Leite', 'Canela'],\n",
        "    'Unidade de Medida': ['kg', 'L', 'g'],\n",
        "    'Valor Unitário': [4.99, 6.7, 1.6],\n",
        "})\n",
        "df3 = pd.DataFrame(d)\n",
        "df3"
      ],
      "execution_count": 34,
      "outputs": [
        {
          "output_type": "execute_result",
          "data": {
            "text/plain": [
              "  Produto Unidade de Medida  Valor Unitário\n",
              "0    Maçã                kg            4.99\n",
              "1   Leite                 L            6.70\n",
              "2  Canela                 g            1.60"
            ],
            "text/html": [
              "\n",
              "  <div id=\"df-c533f50b-40e4-4ac2-8c19-34aef2bcebf6\" class=\"colab-df-container\">\n",
              "    <div>\n",
              "<style scoped>\n",
              "    .dataframe tbody tr th:only-of-type {\n",
              "        vertical-align: middle;\n",
              "    }\n",
              "\n",
              "    .dataframe tbody tr th {\n",
              "        vertical-align: top;\n",
              "    }\n",
              "\n",
              "    .dataframe thead th {\n",
              "        text-align: right;\n",
              "    }\n",
              "</style>\n",
              "<table border=\"1\" class=\"dataframe\">\n",
              "  <thead>\n",
              "    <tr style=\"text-align: right;\">\n",
              "      <th></th>\n",
              "      <th>Produto</th>\n",
              "      <th>Unidade de Medida</th>\n",
              "      <th>Valor Unitário</th>\n",
              "    </tr>\n",
              "  </thead>\n",
              "  <tbody>\n",
              "    <tr>\n",
              "      <th>0</th>\n",
              "      <td>Maçã</td>\n",
              "      <td>kg</td>\n",
              "      <td>4.99</td>\n",
              "    </tr>\n",
              "    <tr>\n",
              "      <th>1</th>\n",
              "      <td>Leite</td>\n",
              "      <td>L</td>\n",
              "      <td>6.70</td>\n",
              "    </tr>\n",
              "    <tr>\n",
              "      <th>2</th>\n",
              "      <td>Canela</td>\n",
              "      <td>g</td>\n",
              "      <td>1.60</td>\n",
              "    </tr>\n",
              "  </tbody>\n",
              "</table>\n",
              "</div>\n",
              "    <div class=\"colab-df-buttons\">\n",
              "\n",
              "  <div class=\"colab-df-container\">\n",
              "    <button class=\"colab-df-convert\" onclick=\"convertToInteractive('df-c533f50b-40e4-4ac2-8c19-34aef2bcebf6')\"\n",
              "            title=\"Convert this dataframe to an interactive table.\"\n",
              "            style=\"display:none;\">\n",
              "\n",
              "  <svg xmlns=\"http://www.w3.org/2000/svg\" height=\"24px\" viewBox=\"0 -960 960 960\">\n",
              "    <path d=\"M120-120v-720h720v720H120Zm60-500h600v-160H180v160Zm220 220h160v-160H400v160Zm0 220h160v-160H400v160ZM180-400h160v-160H180v160Zm440 0h160v-160H620v160ZM180-180h160v-160H180v160Zm440 0h160v-160H620v160Z\"/>\n",
              "  </svg>\n",
              "    </button>\n",
              "\n",
              "  <style>\n",
              "    .colab-df-container {\n",
              "      display:flex;\n",
              "      gap: 12px;\n",
              "    }\n",
              "\n",
              "    .colab-df-convert {\n",
              "      background-color: #E8F0FE;\n",
              "      border: none;\n",
              "      border-radius: 50%;\n",
              "      cursor: pointer;\n",
              "      display: none;\n",
              "      fill: #1967D2;\n",
              "      height: 32px;\n",
              "      padding: 0 0 0 0;\n",
              "      width: 32px;\n",
              "    }\n",
              "\n",
              "    .colab-df-convert:hover {\n",
              "      background-color: #E2EBFA;\n",
              "      box-shadow: 0px 1px 2px rgba(60, 64, 67, 0.3), 0px 1px 3px 1px rgba(60, 64, 67, 0.15);\n",
              "      fill: #174EA6;\n",
              "    }\n",
              "\n",
              "    .colab-df-buttons div {\n",
              "      margin-bottom: 4px;\n",
              "    }\n",
              "\n",
              "    [theme=dark] .colab-df-convert {\n",
              "      background-color: #3B4455;\n",
              "      fill: #D2E3FC;\n",
              "    }\n",
              "\n",
              "    [theme=dark] .colab-df-convert:hover {\n",
              "      background-color: #434B5C;\n",
              "      box-shadow: 0px 1px 3px 1px rgba(0, 0, 0, 0.15);\n",
              "      filter: drop-shadow(0px 1px 2px rgba(0, 0, 0, 0.3));\n",
              "      fill: #FFFFFF;\n",
              "    }\n",
              "  </style>\n",
              "\n",
              "    <script>\n",
              "      const buttonEl =\n",
              "        document.querySelector('#df-c533f50b-40e4-4ac2-8c19-34aef2bcebf6 button.colab-df-convert');\n",
              "      buttonEl.style.display =\n",
              "        google.colab.kernel.accessAllowed ? 'block' : 'none';\n",
              "\n",
              "      async function convertToInteractive(key) {\n",
              "        const element = document.querySelector('#df-c533f50b-40e4-4ac2-8c19-34aef2bcebf6');\n",
              "        const dataTable =\n",
              "          await google.colab.kernel.invokeFunction('convertToInteractive',\n",
              "                                                    [key], {});\n",
              "        if (!dataTable) return;\n",
              "\n",
              "        const docLinkHtml = 'Like what you see? Visit the ' +\n",
              "          '<a target=\"_blank\" href=https://colab.research.google.com/notebooks/data_table.ipynb>data table notebook</a>'\n",
              "          + ' to learn more about interactive tables.';\n",
              "        element.innerHTML = '';\n",
              "        dataTable['output_type'] = 'display_data';\n",
              "        await google.colab.output.renderOutput(dataTable, element);\n",
              "        const docLink = document.createElement('div');\n",
              "        docLink.innerHTML = docLinkHtml;\n",
              "        element.appendChild(docLink);\n",
              "      }\n",
              "    </script>\n",
              "  </div>\n",
              "\n",
              "\n",
              "<div id=\"df-5fa17800-b12c-460a-8c88-8cb682571f10\">\n",
              "  <button class=\"colab-df-quickchart\" onclick=\"quickchart('df-5fa17800-b12c-460a-8c88-8cb682571f10')\"\n",
              "            title=\"Suggest charts\"\n",
              "            style=\"display:none;\">\n",
              "\n",
              "<svg xmlns=\"http://www.w3.org/2000/svg\" height=\"24px\"viewBox=\"0 0 24 24\"\n",
              "     width=\"24px\">\n",
              "    <g>\n",
              "        <path d=\"M19 3H5c-1.1 0-2 .9-2 2v14c0 1.1.9 2 2 2h14c1.1 0 2-.9 2-2V5c0-1.1-.9-2-2-2zM9 17H7v-7h2v7zm4 0h-2V7h2v10zm4 0h-2v-4h2v4z\"/>\n",
              "    </g>\n",
              "</svg>\n",
              "  </button>\n",
              "\n",
              "<style>\n",
              "  .colab-df-quickchart {\n",
              "      --bg-color: #E8F0FE;\n",
              "      --fill-color: #1967D2;\n",
              "      --hover-bg-color: #E2EBFA;\n",
              "      --hover-fill-color: #174EA6;\n",
              "      --disabled-fill-color: #AAA;\n",
              "      --disabled-bg-color: #DDD;\n",
              "  }\n",
              "\n",
              "  [theme=dark] .colab-df-quickchart {\n",
              "      --bg-color: #3B4455;\n",
              "      --fill-color: #D2E3FC;\n",
              "      --hover-bg-color: #434B5C;\n",
              "      --hover-fill-color: #FFFFFF;\n",
              "      --disabled-bg-color: #3B4455;\n",
              "      --disabled-fill-color: #666;\n",
              "  }\n",
              "\n",
              "  .colab-df-quickchart {\n",
              "    background-color: var(--bg-color);\n",
              "    border: none;\n",
              "    border-radius: 50%;\n",
              "    cursor: pointer;\n",
              "    display: none;\n",
              "    fill: var(--fill-color);\n",
              "    height: 32px;\n",
              "    padding: 0;\n",
              "    width: 32px;\n",
              "  }\n",
              "\n",
              "  .colab-df-quickchart:hover {\n",
              "    background-color: var(--hover-bg-color);\n",
              "    box-shadow: 0 1px 2px rgba(60, 64, 67, 0.3), 0 1px 3px 1px rgba(60, 64, 67, 0.15);\n",
              "    fill: var(--button-hover-fill-color);\n",
              "  }\n",
              "\n",
              "  .colab-df-quickchart-complete:disabled,\n",
              "  .colab-df-quickchart-complete:disabled:hover {\n",
              "    background-color: var(--disabled-bg-color);\n",
              "    fill: var(--disabled-fill-color);\n",
              "    box-shadow: none;\n",
              "  }\n",
              "\n",
              "  .colab-df-spinner {\n",
              "    border: 2px solid var(--fill-color);\n",
              "    border-color: transparent;\n",
              "    border-bottom-color: var(--fill-color);\n",
              "    animation:\n",
              "      spin 1s steps(1) infinite;\n",
              "  }\n",
              "\n",
              "  @keyframes spin {\n",
              "    0% {\n",
              "      border-color: transparent;\n",
              "      border-bottom-color: var(--fill-color);\n",
              "      border-left-color: var(--fill-color);\n",
              "    }\n",
              "    20% {\n",
              "      border-color: transparent;\n",
              "      border-left-color: var(--fill-color);\n",
              "      border-top-color: var(--fill-color);\n",
              "    }\n",
              "    30% {\n",
              "      border-color: transparent;\n",
              "      border-left-color: var(--fill-color);\n",
              "      border-top-color: var(--fill-color);\n",
              "      border-right-color: var(--fill-color);\n",
              "    }\n",
              "    40% {\n",
              "      border-color: transparent;\n",
              "      border-right-color: var(--fill-color);\n",
              "      border-top-color: var(--fill-color);\n",
              "    }\n",
              "    60% {\n",
              "      border-color: transparent;\n",
              "      border-right-color: var(--fill-color);\n",
              "    }\n",
              "    80% {\n",
              "      border-color: transparent;\n",
              "      border-right-color: var(--fill-color);\n",
              "      border-bottom-color: var(--fill-color);\n",
              "    }\n",
              "    90% {\n",
              "      border-color: transparent;\n",
              "      border-bottom-color: var(--fill-color);\n",
              "    }\n",
              "  }\n",
              "</style>\n",
              "\n",
              "  <script>\n",
              "    async function quickchart(key) {\n",
              "      const quickchartButtonEl =\n",
              "        document.querySelector('#' + key + ' button');\n",
              "      quickchartButtonEl.disabled = true;  // To prevent multiple clicks.\n",
              "      quickchartButtonEl.classList.add('colab-df-spinner');\n",
              "      try {\n",
              "        const charts = await google.colab.kernel.invokeFunction(\n",
              "            'suggestCharts', [key], {});\n",
              "      } catch (error) {\n",
              "        console.error('Error during call to suggestCharts:', error);\n",
              "      }\n",
              "      quickchartButtonEl.classList.remove('colab-df-spinner');\n",
              "      quickchartButtonEl.classList.add('colab-df-quickchart-complete');\n",
              "    }\n",
              "    (() => {\n",
              "      let quickchartButtonEl =\n",
              "        document.querySelector('#df-5fa17800-b12c-460a-8c88-8cb682571f10 button');\n",
              "      quickchartButtonEl.style.display =\n",
              "        google.colab.kernel.accessAllowed ? 'block' : 'none';\n",
              "    })();\n",
              "  </script>\n",
              "</div>\n",
              "\n",
              "  <div id=\"id_bc10f58f-a8f5-4731-a6a0-15684d17c4b6\">\n",
              "    <style>\n",
              "      .colab-df-generate {\n",
              "        background-color: #E8F0FE;\n",
              "        border: none;\n",
              "        border-radius: 50%;\n",
              "        cursor: pointer;\n",
              "        display: none;\n",
              "        fill: #1967D2;\n",
              "        height: 32px;\n",
              "        padding: 0 0 0 0;\n",
              "        width: 32px;\n",
              "      }\n",
              "\n",
              "      .colab-df-generate:hover {\n",
              "        background-color: #E2EBFA;\n",
              "        box-shadow: 0px 1px 2px rgba(60, 64, 67, 0.3), 0px 1px 3px 1px rgba(60, 64, 67, 0.15);\n",
              "        fill: #174EA6;\n",
              "      }\n",
              "\n",
              "      [theme=dark] .colab-df-generate {\n",
              "        background-color: #3B4455;\n",
              "        fill: #D2E3FC;\n",
              "      }\n",
              "\n",
              "      [theme=dark] .colab-df-generate:hover {\n",
              "        background-color: #434B5C;\n",
              "        box-shadow: 0px 1px 3px 1px rgba(0, 0, 0, 0.15);\n",
              "        filter: drop-shadow(0px 1px 2px rgba(0, 0, 0, 0.3));\n",
              "        fill: #FFFFFF;\n",
              "      }\n",
              "    </style>\n",
              "    <button class=\"colab-df-generate\" onclick=\"generateWithVariable('df3')\"\n",
              "            title=\"Generate code using this dataframe.\"\n",
              "            style=\"display:none;\">\n",
              "\n",
              "  <svg xmlns=\"http://www.w3.org/2000/svg\" height=\"24px\"viewBox=\"0 0 24 24\"\n",
              "       width=\"24px\">\n",
              "    <path d=\"M7,19H8.4L18.45,9,17,7.55,7,17.6ZM5,21V16.75L18.45,3.32a2,2,0,0,1,2.83,0l1.4,1.43a1.91,1.91,0,0,1,.58,1.4,1.91,1.91,0,0,1-.58,1.4L9.25,21ZM18.45,9,17,7.55Zm-12,3A5.31,5.31,0,0,0,4.9,8.1,5.31,5.31,0,0,0,1,6.5,5.31,5.31,0,0,0,4.9,4.9,5.31,5.31,0,0,0,6.5,1,5.31,5.31,0,0,0,8.1,4.9,5.31,5.31,0,0,0,12,6.5,5.46,5.46,0,0,0,6.5,12Z\"/>\n",
              "  </svg>\n",
              "    </button>\n",
              "    <script>\n",
              "      (() => {\n",
              "      const buttonEl =\n",
              "        document.querySelector('#id_bc10f58f-a8f5-4731-a6a0-15684d17c4b6 button.colab-df-generate');\n",
              "      buttonEl.style.display =\n",
              "        google.colab.kernel.accessAllowed ? 'block' : 'none';\n",
              "\n",
              "      buttonEl.onclick = () => {\n",
              "        google.colab.notebook.generateWithVariable('df3');\n",
              "      }\n",
              "      })();\n",
              "    </script>\n",
              "  </div>\n",
              "\n",
              "    </div>\n",
              "  </div>\n"
            ],
            "application/vnd.google.colaboratory.intrinsic+json": {
              "type": "dataframe",
              "variable_name": "df3",
              "summary": "{\n  \"name\": \"df3\",\n  \"rows\": 3,\n  \"fields\": [\n    {\n      \"column\": \"Produto\",\n      \"properties\": {\n        \"dtype\": \"string\",\n        \"num_unique_values\": 3,\n        \"samples\": [\n          \"Ma\\u00e7\\u00e3\",\n          \"Leite\",\n          \"Canela\"\n        ],\n        \"semantic_type\": \"\",\n        \"description\": \"\"\n      }\n    },\n    {\n      \"column\": \"Unidade de Medida\",\n      \"properties\": {\n        \"dtype\": \"string\",\n        \"num_unique_values\": 3,\n        \"samples\": [\n          \"kg\",\n          \"L\",\n          \"g\"\n        ],\n        \"semantic_type\": \"\",\n        \"description\": \"\"\n      }\n    },\n    {\n      \"column\": \"Valor Unit\\u00e1rio\",\n      \"properties\": {\n        \"dtype\": \"number\",\n        \"std\": 2.5957079959040077,\n        \"min\": 1.6,\n        \"max\": 6.7,\n        \"num_unique_values\": 3,\n        \"samples\": [\n          4.99,\n          6.7,\n          1.6\n        ],\n        \"semantic_type\": \"\",\n        \"description\": \"\"\n      }\n    }\n  ]\n}"
            }
          },
          "metadata": {},
          "execution_count": 34
        }
      ]
    },
    {
      "cell_type": "code",
      "metadata": {
        "id": "P_H3iK6KyX0J",
        "outputId": "06567d5c-87b0-4c86-ee4f-db499de6479e",
        "colab": {
          "base_uri": "https://localhost:8080/"
        }
      },
      "source": [
        "# Se nenhum índice é informado, o DataFrame terá um RangeIndex iniciando em 0.\n",
        "print(df3.index)"
      ],
      "execution_count": 35,
      "outputs": [
        {
          "output_type": "stream",
          "name": "stdout",
          "text": [
            "RangeIndex(start=0, stop=3, step=1)\n"
          ]
        }
      ]
    },
    {
      "cell_type": "markdown",
      "source": [
        "Definindo um índice usando umas das colunas (os valores não podem repetir):"
      ],
      "metadata": {
        "id": "U6IgPfi_dIj6"
      }
    },
    {
      "cell_type": "code",
      "source": [
        "df3 = df3.set_index('Produto')"
      ],
      "metadata": {
        "id": "4UVftnb5c9Q5"
      },
      "execution_count": 42,
      "outputs": []
    },
    {
      "cell_type": "code",
      "source": [
        "df3"
      ],
      "metadata": {
        "colab": {
          "base_uri": "https://localhost:8080/",
          "height": 175
        },
        "id": "uArOhZjHdZ9s",
        "outputId": "7cbe410d-59ea-4a99-d39c-55f798ec3083"
      },
      "execution_count": 43,
      "outputs": [
        {
          "output_type": "execute_result",
          "data": {
            "text/plain": [
              "        Unidade de Medida  Valor Unitário\n",
              "Produto                                  \n",
              "Maçã                   kg            4.99\n",
              "Leite                   L            6.70\n",
              "Canela                  g            1.60"
            ],
            "text/html": [
              "\n",
              "  <div id=\"df-c1cc19aa-189d-4500-9e7b-58dd833fadc6\" class=\"colab-df-container\">\n",
              "    <div>\n",
              "<style scoped>\n",
              "    .dataframe tbody tr th:only-of-type {\n",
              "        vertical-align: middle;\n",
              "    }\n",
              "\n",
              "    .dataframe tbody tr th {\n",
              "        vertical-align: top;\n",
              "    }\n",
              "\n",
              "    .dataframe thead th {\n",
              "        text-align: right;\n",
              "    }\n",
              "</style>\n",
              "<table border=\"1\" class=\"dataframe\">\n",
              "  <thead>\n",
              "    <tr style=\"text-align: right;\">\n",
              "      <th></th>\n",
              "      <th>Unidade de Medida</th>\n",
              "      <th>Valor Unitário</th>\n",
              "    </tr>\n",
              "    <tr>\n",
              "      <th>Produto</th>\n",
              "      <th></th>\n",
              "      <th></th>\n",
              "    </tr>\n",
              "  </thead>\n",
              "  <tbody>\n",
              "    <tr>\n",
              "      <th>Maçã</th>\n",
              "      <td>kg</td>\n",
              "      <td>4.99</td>\n",
              "    </tr>\n",
              "    <tr>\n",
              "      <th>Leite</th>\n",
              "      <td>L</td>\n",
              "      <td>6.70</td>\n",
              "    </tr>\n",
              "    <tr>\n",
              "      <th>Canela</th>\n",
              "      <td>g</td>\n",
              "      <td>1.60</td>\n",
              "    </tr>\n",
              "  </tbody>\n",
              "</table>\n",
              "</div>\n",
              "    <div class=\"colab-df-buttons\">\n",
              "\n",
              "  <div class=\"colab-df-container\">\n",
              "    <button class=\"colab-df-convert\" onclick=\"convertToInteractive('df-c1cc19aa-189d-4500-9e7b-58dd833fadc6')\"\n",
              "            title=\"Convert this dataframe to an interactive table.\"\n",
              "            style=\"display:none;\">\n",
              "\n",
              "  <svg xmlns=\"http://www.w3.org/2000/svg\" height=\"24px\" viewBox=\"0 -960 960 960\">\n",
              "    <path d=\"M120-120v-720h720v720H120Zm60-500h600v-160H180v160Zm220 220h160v-160H400v160Zm0 220h160v-160H400v160ZM180-400h160v-160H180v160Zm440 0h160v-160H620v160ZM180-180h160v-160H180v160Zm440 0h160v-160H620v160Z\"/>\n",
              "  </svg>\n",
              "    </button>\n",
              "\n",
              "  <style>\n",
              "    .colab-df-container {\n",
              "      display:flex;\n",
              "      gap: 12px;\n",
              "    }\n",
              "\n",
              "    .colab-df-convert {\n",
              "      background-color: #E8F0FE;\n",
              "      border: none;\n",
              "      border-radius: 50%;\n",
              "      cursor: pointer;\n",
              "      display: none;\n",
              "      fill: #1967D2;\n",
              "      height: 32px;\n",
              "      padding: 0 0 0 0;\n",
              "      width: 32px;\n",
              "    }\n",
              "\n",
              "    .colab-df-convert:hover {\n",
              "      background-color: #E2EBFA;\n",
              "      box-shadow: 0px 1px 2px rgba(60, 64, 67, 0.3), 0px 1px 3px 1px rgba(60, 64, 67, 0.15);\n",
              "      fill: #174EA6;\n",
              "    }\n",
              "\n",
              "    .colab-df-buttons div {\n",
              "      margin-bottom: 4px;\n",
              "    }\n",
              "\n",
              "    [theme=dark] .colab-df-convert {\n",
              "      background-color: #3B4455;\n",
              "      fill: #D2E3FC;\n",
              "    }\n",
              "\n",
              "    [theme=dark] .colab-df-convert:hover {\n",
              "      background-color: #434B5C;\n",
              "      box-shadow: 0px 1px 3px 1px rgba(0, 0, 0, 0.15);\n",
              "      filter: drop-shadow(0px 1px 2px rgba(0, 0, 0, 0.3));\n",
              "      fill: #FFFFFF;\n",
              "    }\n",
              "  </style>\n",
              "\n",
              "    <script>\n",
              "      const buttonEl =\n",
              "        document.querySelector('#df-c1cc19aa-189d-4500-9e7b-58dd833fadc6 button.colab-df-convert');\n",
              "      buttonEl.style.display =\n",
              "        google.colab.kernel.accessAllowed ? 'block' : 'none';\n",
              "\n",
              "      async function convertToInteractive(key) {\n",
              "        const element = document.querySelector('#df-c1cc19aa-189d-4500-9e7b-58dd833fadc6');\n",
              "        const dataTable =\n",
              "          await google.colab.kernel.invokeFunction('convertToInteractive',\n",
              "                                                    [key], {});\n",
              "        if (!dataTable) return;\n",
              "\n",
              "        const docLinkHtml = 'Like what you see? Visit the ' +\n",
              "          '<a target=\"_blank\" href=https://colab.research.google.com/notebooks/data_table.ipynb>data table notebook</a>'\n",
              "          + ' to learn more about interactive tables.';\n",
              "        element.innerHTML = '';\n",
              "        dataTable['output_type'] = 'display_data';\n",
              "        await google.colab.output.renderOutput(dataTable, element);\n",
              "        const docLink = document.createElement('div');\n",
              "        docLink.innerHTML = docLinkHtml;\n",
              "        element.appendChild(docLink);\n",
              "      }\n",
              "    </script>\n",
              "  </div>\n",
              "\n",
              "\n",
              "<div id=\"df-90284f29-8094-4d60-bcb5-0d6bf191459a\">\n",
              "  <button class=\"colab-df-quickchart\" onclick=\"quickchart('df-90284f29-8094-4d60-bcb5-0d6bf191459a')\"\n",
              "            title=\"Suggest charts\"\n",
              "            style=\"display:none;\">\n",
              "\n",
              "<svg xmlns=\"http://www.w3.org/2000/svg\" height=\"24px\"viewBox=\"0 0 24 24\"\n",
              "     width=\"24px\">\n",
              "    <g>\n",
              "        <path d=\"M19 3H5c-1.1 0-2 .9-2 2v14c0 1.1.9 2 2 2h14c1.1 0 2-.9 2-2V5c0-1.1-.9-2-2-2zM9 17H7v-7h2v7zm4 0h-2V7h2v10zm4 0h-2v-4h2v4z\"/>\n",
              "    </g>\n",
              "</svg>\n",
              "  </button>\n",
              "\n",
              "<style>\n",
              "  .colab-df-quickchart {\n",
              "      --bg-color: #E8F0FE;\n",
              "      --fill-color: #1967D2;\n",
              "      --hover-bg-color: #E2EBFA;\n",
              "      --hover-fill-color: #174EA6;\n",
              "      --disabled-fill-color: #AAA;\n",
              "      --disabled-bg-color: #DDD;\n",
              "  }\n",
              "\n",
              "  [theme=dark] .colab-df-quickchart {\n",
              "      --bg-color: #3B4455;\n",
              "      --fill-color: #D2E3FC;\n",
              "      --hover-bg-color: #434B5C;\n",
              "      --hover-fill-color: #FFFFFF;\n",
              "      --disabled-bg-color: #3B4455;\n",
              "      --disabled-fill-color: #666;\n",
              "  }\n",
              "\n",
              "  .colab-df-quickchart {\n",
              "    background-color: var(--bg-color);\n",
              "    border: none;\n",
              "    border-radius: 50%;\n",
              "    cursor: pointer;\n",
              "    display: none;\n",
              "    fill: var(--fill-color);\n",
              "    height: 32px;\n",
              "    padding: 0;\n",
              "    width: 32px;\n",
              "  }\n",
              "\n",
              "  .colab-df-quickchart:hover {\n",
              "    background-color: var(--hover-bg-color);\n",
              "    box-shadow: 0 1px 2px rgba(60, 64, 67, 0.3), 0 1px 3px 1px rgba(60, 64, 67, 0.15);\n",
              "    fill: var(--button-hover-fill-color);\n",
              "  }\n",
              "\n",
              "  .colab-df-quickchart-complete:disabled,\n",
              "  .colab-df-quickchart-complete:disabled:hover {\n",
              "    background-color: var(--disabled-bg-color);\n",
              "    fill: var(--disabled-fill-color);\n",
              "    box-shadow: none;\n",
              "  }\n",
              "\n",
              "  .colab-df-spinner {\n",
              "    border: 2px solid var(--fill-color);\n",
              "    border-color: transparent;\n",
              "    border-bottom-color: var(--fill-color);\n",
              "    animation:\n",
              "      spin 1s steps(1) infinite;\n",
              "  }\n",
              "\n",
              "  @keyframes spin {\n",
              "    0% {\n",
              "      border-color: transparent;\n",
              "      border-bottom-color: var(--fill-color);\n",
              "      border-left-color: var(--fill-color);\n",
              "    }\n",
              "    20% {\n",
              "      border-color: transparent;\n",
              "      border-left-color: var(--fill-color);\n",
              "      border-top-color: var(--fill-color);\n",
              "    }\n",
              "    30% {\n",
              "      border-color: transparent;\n",
              "      border-left-color: var(--fill-color);\n",
              "      border-top-color: var(--fill-color);\n",
              "      border-right-color: var(--fill-color);\n",
              "    }\n",
              "    40% {\n",
              "      border-color: transparent;\n",
              "      border-right-color: var(--fill-color);\n",
              "      border-top-color: var(--fill-color);\n",
              "    }\n",
              "    60% {\n",
              "      border-color: transparent;\n",
              "      border-right-color: var(--fill-color);\n",
              "    }\n",
              "    80% {\n",
              "      border-color: transparent;\n",
              "      border-right-color: var(--fill-color);\n",
              "      border-bottom-color: var(--fill-color);\n",
              "    }\n",
              "    90% {\n",
              "      border-color: transparent;\n",
              "      border-bottom-color: var(--fill-color);\n",
              "    }\n",
              "  }\n",
              "</style>\n",
              "\n",
              "  <script>\n",
              "    async function quickchart(key) {\n",
              "      const quickchartButtonEl =\n",
              "        document.querySelector('#' + key + ' button');\n",
              "      quickchartButtonEl.disabled = true;  // To prevent multiple clicks.\n",
              "      quickchartButtonEl.classList.add('colab-df-spinner');\n",
              "      try {\n",
              "        const charts = await google.colab.kernel.invokeFunction(\n",
              "            'suggestCharts', [key], {});\n",
              "      } catch (error) {\n",
              "        console.error('Error during call to suggestCharts:', error);\n",
              "      }\n",
              "      quickchartButtonEl.classList.remove('colab-df-spinner');\n",
              "      quickchartButtonEl.classList.add('colab-df-quickchart-complete');\n",
              "    }\n",
              "    (() => {\n",
              "      let quickchartButtonEl =\n",
              "        document.querySelector('#df-90284f29-8094-4d60-bcb5-0d6bf191459a button');\n",
              "      quickchartButtonEl.style.display =\n",
              "        google.colab.kernel.accessAllowed ? 'block' : 'none';\n",
              "    })();\n",
              "  </script>\n",
              "</div>\n",
              "\n",
              "  <div id=\"id_19c44115-0222-48ca-97ea-f480d756f598\">\n",
              "    <style>\n",
              "      .colab-df-generate {\n",
              "        background-color: #E8F0FE;\n",
              "        border: none;\n",
              "        border-radius: 50%;\n",
              "        cursor: pointer;\n",
              "        display: none;\n",
              "        fill: #1967D2;\n",
              "        height: 32px;\n",
              "        padding: 0 0 0 0;\n",
              "        width: 32px;\n",
              "      }\n",
              "\n",
              "      .colab-df-generate:hover {\n",
              "        background-color: #E2EBFA;\n",
              "        box-shadow: 0px 1px 2px rgba(60, 64, 67, 0.3), 0px 1px 3px 1px rgba(60, 64, 67, 0.15);\n",
              "        fill: #174EA6;\n",
              "      }\n",
              "\n",
              "      [theme=dark] .colab-df-generate {\n",
              "        background-color: #3B4455;\n",
              "        fill: #D2E3FC;\n",
              "      }\n",
              "\n",
              "      [theme=dark] .colab-df-generate:hover {\n",
              "        background-color: #434B5C;\n",
              "        box-shadow: 0px 1px 3px 1px rgba(0, 0, 0, 0.15);\n",
              "        filter: drop-shadow(0px 1px 2px rgba(0, 0, 0, 0.3));\n",
              "        fill: #FFFFFF;\n",
              "      }\n",
              "    </style>\n",
              "    <button class=\"colab-df-generate\" onclick=\"generateWithVariable('df3')\"\n",
              "            title=\"Generate code using this dataframe.\"\n",
              "            style=\"display:none;\">\n",
              "\n",
              "  <svg xmlns=\"http://www.w3.org/2000/svg\" height=\"24px\"viewBox=\"0 0 24 24\"\n",
              "       width=\"24px\">\n",
              "    <path d=\"M7,19H8.4L18.45,9,17,7.55,7,17.6ZM5,21V16.75L18.45,3.32a2,2,0,0,1,2.83,0l1.4,1.43a1.91,1.91,0,0,1,.58,1.4,1.91,1.91,0,0,1-.58,1.4L9.25,21ZM18.45,9,17,7.55Zm-12,3A5.31,5.31,0,0,0,4.9,8.1,5.31,5.31,0,0,0,1,6.5,5.31,5.31,0,0,0,4.9,4.9,5.31,5.31,0,0,0,6.5,1,5.31,5.31,0,0,0,8.1,4.9,5.31,5.31,0,0,0,12,6.5,5.46,5.46,0,0,0,6.5,12Z\"/>\n",
              "  </svg>\n",
              "    </button>\n",
              "    <script>\n",
              "      (() => {\n",
              "      const buttonEl =\n",
              "        document.querySelector('#id_19c44115-0222-48ca-97ea-f480d756f598 button.colab-df-generate');\n",
              "      buttonEl.style.display =\n",
              "        google.colab.kernel.accessAllowed ? 'block' : 'none';\n",
              "\n",
              "      buttonEl.onclick = () => {\n",
              "        google.colab.notebook.generateWithVariable('df3');\n",
              "      }\n",
              "      })();\n",
              "    </script>\n",
              "  </div>\n",
              "\n",
              "    </div>\n",
              "  </div>\n"
            ],
            "application/vnd.google.colaboratory.intrinsic+json": {
              "type": "dataframe",
              "variable_name": "df3",
              "summary": "{\n  \"name\": \"df3\",\n  \"rows\": 3,\n  \"fields\": [\n    {\n      \"column\": \"Produto\",\n      \"properties\": {\n        \"dtype\": \"string\",\n        \"num_unique_values\": 3,\n        \"samples\": [\n          \"Ma\\u00e7\\u00e3\",\n          \"Leite\",\n          \"Canela\"\n        ],\n        \"semantic_type\": \"\",\n        \"description\": \"\"\n      }\n    },\n    {\n      \"column\": \"Unidade de Medida\",\n      \"properties\": {\n        \"dtype\": \"string\",\n        \"num_unique_values\": 3,\n        \"samples\": [\n          \"kg\",\n          \"L\",\n          \"g\"\n        ],\n        \"semantic_type\": \"\",\n        \"description\": \"\"\n      }\n    },\n    {\n      \"column\": \"Valor Unit\\u00e1rio\",\n      \"properties\": {\n        \"dtype\": \"number\",\n        \"std\": 2.5957079959040077,\n        \"min\": 1.6,\n        \"max\": 6.7,\n        \"num_unique_values\": 3,\n        \"samples\": [\n          4.99,\n          6.7,\n          1.6\n        ],\n        \"semantic_type\": \"\",\n        \"description\": \"\"\n      }\n    }\n  ]\n}"
            }
          },
          "metadata": {},
          "execution_count": 43
        }
      ]
    },
    {
      "cell_type": "code",
      "source": [
        "print(df3.index)"
      ],
      "metadata": {
        "colab": {
          "base_uri": "https://localhost:8080/"
        },
        "id": "At2bVPsUdswX",
        "outputId": "afd646de-458e-4b86-b99d-67e4b60a7269"
      },
      "execution_count": 44,
      "outputs": [
        {
          "output_type": "stream",
          "name": "stdout",
          "text": [
            "Index(['Maçã', 'Leite', 'Canela'], dtype='object', name='Produto')\n"
          ]
        }
      ]
    },
    {
      "cell_type": "code",
      "metadata": {
        "scrolled": true,
        "id": "c1RWdUihyX0M",
        "outputId": "3c62af4a-0b08-4f45-c8c5-c927a65d30fb",
        "colab": {
          "base_uri": "https://localhost:8080/",
          "height": 168
        }
      },
      "source": [
        "# Uma série pode ser transformada em um DataFrame de uma coluna utilizando o método 'to_frame'\n",
        "df4 = s7.to_frame()\n",
        "df4"
      ],
      "execution_count": null,
      "outputs": [
        {
          "output_type": "execute_result",
          "data": {
            "text/html": [
              "<div>\n",
              "<style scoped>\n",
              "    .dataframe tbody tr th:only-of-type {\n",
              "        vertical-align: middle;\n",
              "    }\n",
              "\n",
              "    .dataframe tbody tr th {\n",
              "        vertical-align: top;\n",
              "    }\n",
              "\n",
              "    .dataframe thead th {\n",
              "        text-align: right;\n",
              "    }\n",
              "</style>\n",
              "<table border=\"1\" class=\"dataframe\">\n",
              "  <thead>\n",
              "    <tr style=\"text-align: right;\">\n",
              "      <th></th>\n",
              "      <th>Temperatura Média</th>\n",
              "    </tr>\n",
              "  </thead>\n",
              "  <tbody>\n",
              "    <tr>\n",
              "      <th>2018-02-01</th>\n",
              "      <td>NaN</td>\n",
              "    </tr>\n",
              "    <tr>\n",
              "      <th>2018-02-02</th>\n",
              "      <td>28.45</td>\n",
              "    </tr>\n",
              "    <tr>\n",
              "      <th>2018-02-03</th>\n",
              "      <td>30.60</td>\n",
              "    </tr>\n",
              "    <tr>\n",
              "      <th>2018-02-04</th>\n",
              "      <td>NaN</td>\n",
              "    </tr>\n",
              "  </tbody>\n",
              "</table>\n",
              "</div>"
            ],
            "text/plain": [
              "            Temperatura Média\n",
              "2018-02-01                NaN\n",
              "2018-02-02              28.45\n",
              "2018-02-03              30.60\n",
              "2018-02-04                NaN"
            ]
          },
          "metadata": {
            "tags": []
          },
          "execution_count": 28
        }
      ]
    },
    {
      "cell_type": "markdown",
      "source": [
        "## Criando o dataframe a partir de uma lista de tuplas"
      ],
      "metadata": {
        "id": "fFKEAD-4Hp5t"
      }
    },
    {
      "cell_type": "code",
      "source": [
        "nomes_colunas = ['Produto', 'Peso', 'Preço']\n",
        "\n",
        "produtos = [\n",
        "            ('Picanha',2.5,150.20),\n",
        "            ('Tomate',1.2,12.5),\n",
        "            ('Banana',1.5,8.3),\n",
        "            ('Maça',0.8,5.8)\n",
        "]"
      ],
      "metadata": {
        "id": "9Xp-GmUYHQI4"
      },
      "execution_count": 45,
      "outputs": []
    },
    {
      "cell_type": "code",
      "source": [
        "df100 = pd.DataFrame(produtos,columns = nomes_colunas)"
      ],
      "metadata": {
        "id": "R-dqZmNqHS3-"
      },
      "execution_count": 46,
      "outputs": []
    },
    {
      "cell_type": "code",
      "source": [
        "df100.head()"
      ],
      "metadata": {
        "colab": {
          "base_uri": "https://localhost:8080/",
          "height": 175
        },
        "id": "gHoNLw4XHhDS",
        "outputId": "ece7bb61-6c7f-47ab-f0e8-2f02953c0334"
      },
      "execution_count": 47,
      "outputs": [
        {
          "output_type": "execute_result",
          "data": {
            "text/plain": [
              "   Produto  Peso  Preço\n",
              "0  Picanha   2.5  150.2\n",
              "1   Tomate   1.2   12.5\n",
              "2   Banana   1.5    8.3\n",
              "3     Maça   0.8    5.8"
            ],
            "text/html": [
              "\n",
              "  <div id=\"df-f87ac21f-58c8-49fd-9966-cdd0d7f89c5a\" class=\"colab-df-container\">\n",
              "    <div>\n",
              "<style scoped>\n",
              "    .dataframe tbody tr th:only-of-type {\n",
              "        vertical-align: middle;\n",
              "    }\n",
              "\n",
              "    .dataframe tbody tr th {\n",
              "        vertical-align: top;\n",
              "    }\n",
              "\n",
              "    .dataframe thead th {\n",
              "        text-align: right;\n",
              "    }\n",
              "</style>\n",
              "<table border=\"1\" class=\"dataframe\">\n",
              "  <thead>\n",
              "    <tr style=\"text-align: right;\">\n",
              "      <th></th>\n",
              "      <th>Produto</th>\n",
              "      <th>Peso</th>\n",
              "      <th>Preço</th>\n",
              "    </tr>\n",
              "  </thead>\n",
              "  <tbody>\n",
              "    <tr>\n",
              "      <th>0</th>\n",
              "      <td>Picanha</td>\n",
              "      <td>2.5</td>\n",
              "      <td>150.2</td>\n",
              "    </tr>\n",
              "    <tr>\n",
              "      <th>1</th>\n",
              "      <td>Tomate</td>\n",
              "      <td>1.2</td>\n",
              "      <td>12.5</td>\n",
              "    </tr>\n",
              "    <tr>\n",
              "      <th>2</th>\n",
              "      <td>Banana</td>\n",
              "      <td>1.5</td>\n",
              "      <td>8.3</td>\n",
              "    </tr>\n",
              "    <tr>\n",
              "      <th>3</th>\n",
              "      <td>Maça</td>\n",
              "      <td>0.8</td>\n",
              "      <td>5.8</td>\n",
              "    </tr>\n",
              "  </tbody>\n",
              "</table>\n",
              "</div>\n",
              "    <div class=\"colab-df-buttons\">\n",
              "\n",
              "  <div class=\"colab-df-container\">\n",
              "    <button class=\"colab-df-convert\" onclick=\"convertToInteractive('df-f87ac21f-58c8-49fd-9966-cdd0d7f89c5a')\"\n",
              "            title=\"Convert this dataframe to an interactive table.\"\n",
              "            style=\"display:none;\">\n",
              "\n",
              "  <svg xmlns=\"http://www.w3.org/2000/svg\" height=\"24px\" viewBox=\"0 -960 960 960\">\n",
              "    <path d=\"M120-120v-720h720v720H120Zm60-500h600v-160H180v160Zm220 220h160v-160H400v160Zm0 220h160v-160H400v160ZM180-400h160v-160H180v160Zm440 0h160v-160H620v160ZM180-180h160v-160H180v160Zm440 0h160v-160H620v160Z\"/>\n",
              "  </svg>\n",
              "    </button>\n",
              "\n",
              "  <style>\n",
              "    .colab-df-container {\n",
              "      display:flex;\n",
              "      gap: 12px;\n",
              "    }\n",
              "\n",
              "    .colab-df-convert {\n",
              "      background-color: #E8F0FE;\n",
              "      border: none;\n",
              "      border-radius: 50%;\n",
              "      cursor: pointer;\n",
              "      display: none;\n",
              "      fill: #1967D2;\n",
              "      height: 32px;\n",
              "      padding: 0 0 0 0;\n",
              "      width: 32px;\n",
              "    }\n",
              "\n",
              "    .colab-df-convert:hover {\n",
              "      background-color: #E2EBFA;\n",
              "      box-shadow: 0px 1px 2px rgba(60, 64, 67, 0.3), 0px 1px 3px 1px rgba(60, 64, 67, 0.15);\n",
              "      fill: #174EA6;\n",
              "    }\n",
              "\n",
              "    .colab-df-buttons div {\n",
              "      margin-bottom: 4px;\n",
              "    }\n",
              "\n",
              "    [theme=dark] .colab-df-convert {\n",
              "      background-color: #3B4455;\n",
              "      fill: #D2E3FC;\n",
              "    }\n",
              "\n",
              "    [theme=dark] .colab-df-convert:hover {\n",
              "      background-color: #434B5C;\n",
              "      box-shadow: 0px 1px 3px 1px rgba(0, 0, 0, 0.15);\n",
              "      filter: drop-shadow(0px 1px 2px rgba(0, 0, 0, 0.3));\n",
              "      fill: #FFFFFF;\n",
              "    }\n",
              "  </style>\n",
              "\n",
              "    <script>\n",
              "      const buttonEl =\n",
              "        document.querySelector('#df-f87ac21f-58c8-49fd-9966-cdd0d7f89c5a button.colab-df-convert');\n",
              "      buttonEl.style.display =\n",
              "        google.colab.kernel.accessAllowed ? 'block' : 'none';\n",
              "\n",
              "      async function convertToInteractive(key) {\n",
              "        const element = document.querySelector('#df-f87ac21f-58c8-49fd-9966-cdd0d7f89c5a');\n",
              "        const dataTable =\n",
              "          await google.colab.kernel.invokeFunction('convertToInteractive',\n",
              "                                                    [key], {});\n",
              "        if (!dataTable) return;\n",
              "\n",
              "        const docLinkHtml = 'Like what you see? Visit the ' +\n",
              "          '<a target=\"_blank\" href=https://colab.research.google.com/notebooks/data_table.ipynb>data table notebook</a>'\n",
              "          + ' to learn more about interactive tables.';\n",
              "        element.innerHTML = '';\n",
              "        dataTable['output_type'] = 'display_data';\n",
              "        await google.colab.output.renderOutput(dataTable, element);\n",
              "        const docLink = document.createElement('div');\n",
              "        docLink.innerHTML = docLinkHtml;\n",
              "        element.appendChild(docLink);\n",
              "      }\n",
              "    </script>\n",
              "  </div>\n",
              "\n",
              "\n",
              "<div id=\"df-f3db4458-75bd-470d-9ca8-0536aff3e7d3\">\n",
              "  <button class=\"colab-df-quickchart\" onclick=\"quickchart('df-f3db4458-75bd-470d-9ca8-0536aff3e7d3')\"\n",
              "            title=\"Suggest charts\"\n",
              "            style=\"display:none;\">\n",
              "\n",
              "<svg xmlns=\"http://www.w3.org/2000/svg\" height=\"24px\"viewBox=\"0 0 24 24\"\n",
              "     width=\"24px\">\n",
              "    <g>\n",
              "        <path d=\"M19 3H5c-1.1 0-2 .9-2 2v14c0 1.1.9 2 2 2h14c1.1 0 2-.9 2-2V5c0-1.1-.9-2-2-2zM9 17H7v-7h2v7zm4 0h-2V7h2v10zm4 0h-2v-4h2v4z\"/>\n",
              "    </g>\n",
              "</svg>\n",
              "  </button>\n",
              "\n",
              "<style>\n",
              "  .colab-df-quickchart {\n",
              "      --bg-color: #E8F0FE;\n",
              "      --fill-color: #1967D2;\n",
              "      --hover-bg-color: #E2EBFA;\n",
              "      --hover-fill-color: #174EA6;\n",
              "      --disabled-fill-color: #AAA;\n",
              "      --disabled-bg-color: #DDD;\n",
              "  }\n",
              "\n",
              "  [theme=dark] .colab-df-quickchart {\n",
              "      --bg-color: #3B4455;\n",
              "      --fill-color: #D2E3FC;\n",
              "      --hover-bg-color: #434B5C;\n",
              "      --hover-fill-color: #FFFFFF;\n",
              "      --disabled-bg-color: #3B4455;\n",
              "      --disabled-fill-color: #666;\n",
              "  }\n",
              "\n",
              "  .colab-df-quickchart {\n",
              "    background-color: var(--bg-color);\n",
              "    border: none;\n",
              "    border-radius: 50%;\n",
              "    cursor: pointer;\n",
              "    display: none;\n",
              "    fill: var(--fill-color);\n",
              "    height: 32px;\n",
              "    padding: 0;\n",
              "    width: 32px;\n",
              "  }\n",
              "\n",
              "  .colab-df-quickchart:hover {\n",
              "    background-color: var(--hover-bg-color);\n",
              "    box-shadow: 0 1px 2px rgba(60, 64, 67, 0.3), 0 1px 3px 1px rgba(60, 64, 67, 0.15);\n",
              "    fill: var(--button-hover-fill-color);\n",
              "  }\n",
              "\n",
              "  .colab-df-quickchart-complete:disabled,\n",
              "  .colab-df-quickchart-complete:disabled:hover {\n",
              "    background-color: var(--disabled-bg-color);\n",
              "    fill: var(--disabled-fill-color);\n",
              "    box-shadow: none;\n",
              "  }\n",
              "\n",
              "  .colab-df-spinner {\n",
              "    border: 2px solid var(--fill-color);\n",
              "    border-color: transparent;\n",
              "    border-bottom-color: var(--fill-color);\n",
              "    animation:\n",
              "      spin 1s steps(1) infinite;\n",
              "  }\n",
              "\n",
              "  @keyframes spin {\n",
              "    0% {\n",
              "      border-color: transparent;\n",
              "      border-bottom-color: var(--fill-color);\n",
              "      border-left-color: var(--fill-color);\n",
              "    }\n",
              "    20% {\n",
              "      border-color: transparent;\n",
              "      border-left-color: var(--fill-color);\n",
              "      border-top-color: var(--fill-color);\n",
              "    }\n",
              "    30% {\n",
              "      border-color: transparent;\n",
              "      border-left-color: var(--fill-color);\n",
              "      border-top-color: var(--fill-color);\n",
              "      border-right-color: var(--fill-color);\n",
              "    }\n",
              "    40% {\n",
              "      border-color: transparent;\n",
              "      border-right-color: var(--fill-color);\n",
              "      border-top-color: var(--fill-color);\n",
              "    }\n",
              "    60% {\n",
              "      border-color: transparent;\n",
              "      border-right-color: var(--fill-color);\n",
              "    }\n",
              "    80% {\n",
              "      border-color: transparent;\n",
              "      border-right-color: var(--fill-color);\n",
              "      border-bottom-color: var(--fill-color);\n",
              "    }\n",
              "    90% {\n",
              "      border-color: transparent;\n",
              "      border-bottom-color: var(--fill-color);\n",
              "    }\n",
              "  }\n",
              "</style>\n",
              "\n",
              "  <script>\n",
              "    async function quickchart(key) {\n",
              "      const quickchartButtonEl =\n",
              "        document.querySelector('#' + key + ' button');\n",
              "      quickchartButtonEl.disabled = true;  // To prevent multiple clicks.\n",
              "      quickchartButtonEl.classList.add('colab-df-spinner');\n",
              "      try {\n",
              "        const charts = await google.colab.kernel.invokeFunction(\n",
              "            'suggestCharts', [key], {});\n",
              "      } catch (error) {\n",
              "        console.error('Error during call to suggestCharts:', error);\n",
              "      }\n",
              "      quickchartButtonEl.classList.remove('colab-df-spinner');\n",
              "      quickchartButtonEl.classList.add('colab-df-quickchart-complete');\n",
              "    }\n",
              "    (() => {\n",
              "      let quickchartButtonEl =\n",
              "        document.querySelector('#df-f3db4458-75bd-470d-9ca8-0536aff3e7d3 button');\n",
              "      quickchartButtonEl.style.display =\n",
              "        google.colab.kernel.accessAllowed ? 'block' : 'none';\n",
              "    })();\n",
              "  </script>\n",
              "</div>\n",
              "\n",
              "    </div>\n",
              "  </div>\n"
            ],
            "application/vnd.google.colaboratory.intrinsic+json": {
              "type": "dataframe",
              "variable_name": "df100",
              "summary": "{\n  \"name\": \"df100\",\n  \"rows\": 4,\n  \"fields\": [\n    {\n      \"column\": \"Produto\",\n      \"properties\": {\n        \"dtype\": \"string\",\n        \"num_unique_values\": 4,\n        \"samples\": [\n          \"Tomate\",\n          \"Ma\\u00e7a\",\n          \"Picanha\"\n        ],\n        \"semantic_type\": \"\",\n        \"description\": \"\"\n      }\n    },\n    {\n      \"column\": \"Peso\",\n      \"properties\": {\n        \"dtype\": \"number\",\n        \"std\": 0.725718035235908,\n        \"min\": 0.8,\n        \"max\": 2.5,\n        \"num_unique_values\": 4,\n        \"samples\": [\n          1.2,\n          0.8,\n          2.5\n        ],\n        \"semantic_type\": \"\",\n        \"description\": \"\"\n      }\n    },\n    {\n      \"column\": \"Pre\\u00e7o\",\n      \"properties\": {\n        \"dtype\": \"number\",\n        \"std\": 70.72071832214375,\n        \"min\": 5.8,\n        \"max\": 150.2,\n        \"num_unique_values\": 4,\n        \"samples\": [\n          12.5,\n          5.8,\n          150.2\n        ],\n        \"semantic_type\": \"\",\n        \"description\": \"\"\n      }\n    }\n  ]\n}"
            }
          },
          "metadata": {},
          "execution_count": 47
        }
      ]
    },
    {
      "cell_type": "markdown",
      "metadata": {
        "id": "AuesrE68yX0P"
      },
      "source": [
        "* Características e atributos importantes do dataframe\n"
      ]
    },
    {
      "cell_type": "code",
      "metadata": {
        "id": "9YZ-MfBdyX0Q",
        "outputId": "b6d9febb-537a-4287-ee9c-1db9d497f4ba",
        "colab": {
          "base_uri": "https://localhost:8080/"
        }
      },
      "source": [
        "print('Valores:', df1.values, '\\nTipo:', type(df1.values))\n",
        "print('\\nÍndices:', df1.index, '\\nTipo:', type(df1.index))\n",
        "print('\\Colunas:', df1.columns, '\\nTipo:', type(df1.columns))\n",
        "print('\\nShape:', df1.shape, '\\nTipo:', type(df1.shape))"
      ],
      "execution_count": 52,
      "outputs": [
        {
          "output_type": "stream",
          "name": "stdout",
          "text": [
            "Valores: [[27.     nan   nan]\n",
            " [28.3  28.6  28.45]\n",
            " [29.1  32.1  30.6 ]\n",
            " [  nan 26.     nan]] \n",
            "Tipo: <class 'numpy.ndarray'>\n",
            "\n",
            "Índices: Index(['2018-02-01', '2018-02-02', '2018-02-03', '2018-02-04'], dtype='object') \n",
            "Tipo: <class 'pandas.core.indexes.base.Index'>\n",
            "\\Colunas: Index(['Sensor A', 'Sensor B', 'Médias'], dtype='object') \n",
            "Tipo: <class 'pandas.core.indexes.base.Index'>\n",
            "\n",
            "Shape: (4, 3) \n",
            "Tipo: <class 'tuple'>\n"
          ]
        }
      ]
    },
    {
      "cell_type": "markdown",
      "metadata": {
        "id": "3qRblhUSyX0T"
      },
      "source": [
        "O dataframe possui o método info() que descreve algumas características básicas como, tipo de dado, quantidade de registros, intervalo do índice, registros não nulos por coluna e tamanho em memória."
      ]
    },
    {
      "cell_type": "code",
      "metadata": {
        "id": "QjYnrSSIyX0T",
        "outputId": "7da453d5-739e-4602-f573-dddc9d6bab60",
        "colab": {
          "base_uri": "https://localhost:8080/"
        }
      },
      "source": [
        "df1.info()"
      ],
      "execution_count": 53,
      "outputs": [
        {
          "output_type": "stream",
          "name": "stdout",
          "text": [
            "<class 'pandas.core.frame.DataFrame'>\n",
            "Index: 4 entries, 2018-02-01 to 2018-02-04\n",
            "Data columns (total 3 columns):\n",
            " #   Column    Non-Null Count  Dtype  \n",
            "---  ------    --------------  -----  \n",
            " 0   Sensor A  3 non-null      float64\n",
            " 1   Sensor B  3 non-null      float64\n",
            " 2   Médias    2 non-null      float64\n",
            "dtypes: float64(3)\n",
            "memory usage: 128.0+ bytes\n"
          ]
        }
      ]
    },
    {
      "cell_type": "code",
      "metadata": {
        "id": "GyJPIunsEWJ9",
        "colab": {
          "base_uri": "https://localhost:8080/",
          "height": 288
        },
        "outputId": "de954381-f8ae-480b-9139-3ac583faf283"
      },
      "source": [
        "df1.describe()"
      ],
      "execution_count": null,
      "outputs": [
        {
          "output_type": "execute_result",
          "data": {
            "text/html": [
              "<div>\n",
              "<style scoped>\n",
              "    .dataframe tbody tr th:only-of-type {\n",
              "        vertical-align: middle;\n",
              "    }\n",
              "\n",
              "    .dataframe tbody tr th {\n",
              "        vertical-align: top;\n",
              "    }\n",
              "\n",
              "    .dataframe thead th {\n",
              "        text-align: right;\n",
              "    }\n",
              "</style>\n",
              "<table border=\"1\" class=\"dataframe\">\n",
              "  <thead>\n",
              "    <tr style=\"text-align: right;\">\n",
              "      <th></th>\n",
              "      <th>Sensor A</th>\n",
              "      <th>Sensor B</th>\n",
              "      <th>Médias</th>\n",
              "    </tr>\n",
              "  </thead>\n",
              "  <tbody>\n",
              "    <tr>\n",
              "      <th>count</th>\n",
              "      <td>3.000000</td>\n",
              "      <td>3.000000</td>\n",
              "      <td>2.00000</td>\n",
              "    </tr>\n",
              "    <tr>\n",
              "      <th>mean</th>\n",
              "      <td>28.133333</td>\n",
              "      <td>28.900000</td>\n",
              "      <td>29.52500</td>\n",
              "    </tr>\n",
              "    <tr>\n",
              "      <th>std</th>\n",
              "      <td>1.059874</td>\n",
              "      <td>3.061046</td>\n",
              "      <td>1.52028</td>\n",
              "    </tr>\n",
              "    <tr>\n",
              "      <th>min</th>\n",
              "      <td>27.000000</td>\n",
              "      <td>26.000000</td>\n",
              "      <td>28.45000</td>\n",
              "    </tr>\n",
              "    <tr>\n",
              "      <th>25%</th>\n",
              "      <td>27.650000</td>\n",
              "      <td>27.300000</td>\n",
              "      <td>28.98750</td>\n",
              "    </tr>\n",
              "    <tr>\n",
              "      <th>50%</th>\n",
              "      <td>28.300000</td>\n",
              "      <td>28.600000</td>\n",
              "      <td>29.52500</td>\n",
              "    </tr>\n",
              "    <tr>\n",
              "      <th>75%</th>\n",
              "      <td>28.700000</td>\n",
              "      <td>30.350000</td>\n",
              "      <td>30.06250</td>\n",
              "    </tr>\n",
              "    <tr>\n",
              "      <th>max</th>\n",
              "      <td>29.100000</td>\n",
              "      <td>32.100000</td>\n",
              "      <td>30.60000</td>\n",
              "    </tr>\n",
              "  </tbody>\n",
              "</table>\n",
              "</div>"
            ],
            "text/plain": [
              "        Sensor A   Sensor B    Médias\n",
              "count   3.000000   3.000000   2.00000\n",
              "mean   28.133333  28.900000  29.52500\n",
              "std     1.059874   3.061046   1.52028\n",
              "min    27.000000  26.000000  28.45000\n",
              "25%    27.650000  27.300000  28.98750\n",
              "50%    28.300000  28.600000  29.52500\n",
              "75%    28.700000  30.350000  30.06250\n",
              "max    29.100000  32.100000  30.60000"
            ]
          },
          "metadata": {
            "tags": []
          },
          "execution_count": 31
        }
      ]
    },
    {
      "cell_type": "markdown",
      "metadata": {
        "id": "v7pqbHi1yX0X"
      },
      "source": [
        "A operação padrão de indexação/fatiamento do DataFrame é um pouco diferente do fatiamento (*slicing*) de uma Série. Enquanto a série representa apenas uma coluna, o dataframe pode conter várias colunas.\n",
        "\n",
        "Dessa forma, os slices no dataframe podem abranger linhas e/ou colunas. Abaixo veremos uma série de exemplos simples de slices em DataFrames."
      ]
    },
    {
      "cell_type": "code",
      "metadata": {
        "id": "oFFkq6WKyX0X"
      },
      "source": [
        "# seleção de uma coluna no dataframe retorna uma série\n",
        "x = df1['Sensor A']"
      ],
      "execution_count": null,
      "outputs": []
    },
    {
      "cell_type": "code",
      "metadata": {
        "id": "8sIEcE8PFdxS",
        "colab": {
          "base_uri": "https://localhost:8080/",
          "height": 35
        },
        "outputId": "f39f6493-72ca-49ef-f49f-ad320f1f3324"
      },
      "source": [
        "type(x)"
      ],
      "execution_count": null,
      "outputs": [
        {
          "output_type": "execute_result",
          "data": {
            "text/plain": [
              "pandas.core.series.Series"
            ]
          },
          "metadata": {
            "tags": []
          },
          "execution_count": 34
        }
      ]
    },
    {
      "cell_type": "markdown",
      "metadata": {
        "id": "XhemBpdCWhKP"
      },
      "source": [
        "Para acessar pela chave do índice usa-se a função \"loc\"."
      ]
    },
    {
      "cell_type": "code",
      "metadata": {
        "id": "2J3NpFUTWLu0"
      },
      "source": [
        "# a seleção de uma linha também retorna uma série\n",
        "linha = df1.loc['2018-02-01']"
      ],
      "execution_count": null,
      "outputs": []
    },
    {
      "cell_type": "code",
      "metadata": {
        "id": "7_VE5Sh9UvCR",
        "outputId": "80ab1b97-d661-494a-a6ed-6fea4c7e748e",
        "colab": {
          "base_uri": "https://localhost:8080/",
          "height": 83
        }
      },
      "source": [
        "#note que os nomes das colunas viraram ínidces na série criada\n",
        "print(linha,linha.index,linha.values)"
      ],
      "execution_count": null,
      "outputs": [
        {
          "output_type": "stream",
          "text": [
            "Sensor A    27.0\n",
            "Sensor B     NaN\n",
            "Médias       NaN\n",
            "Name: 2018-02-01, dtype: float64 Index(['Sensor A', 'Sensor B', 'Médias'], dtype='object') [27. nan nan]\n"
          ],
          "name": "stdout"
        }
      ]
    },
    {
      "cell_type": "code",
      "metadata": {
        "id": "5saHQp-9yX0a"
      },
      "source": [
        "# seleção de mais de uma coluna no dataframe retorna um novo dataframe com a seleção\n",
        "y = df1[['Sensor B', 'Sensor A']]"
      ],
      "execution_count": null,
      "outputs": []
    },
    {
      "cell_type": "code",
      "metadata": {
        "id": "F9k4Dg7xF-dN",
        "colab": {
          "base_uri": "https://localhost:8080/",
          "height": 35
        },
        "outputId": "523f5eb8-b691-4be3-af74-b4a6addb8073"
      },
      "source": [
        "type(y)"
      ],
      "execution_count": null,
      "outputs": [
        {
          "output_type": "execute_result",
          "data": {
            "text/plain": [
              "pandas.core.frame.DataFrame"
            ]
          },
          "metadata": {
            "tags": []
          },
          "execution_count": 38
        }
      ]
    },
    {
      "cell_type": "code",
      "metadata": {
        "id": "J6Pn_N9LXBWE",
        "outputId": "0a3ae4a9-7eac-4ca4-98c1-d2f464d9d346",
        "colab": {
          "base_uri": "https://localhost:8080/",
          "height": 108
        }
      },
      "source": [
        "# da mesma forma, a seleção de mais de uma linha no dataframe retorna um novo dataframe com a seleção\n",
        "df1.loc[['2018-02-01','2018-02-02']]"
      ],
      "execution_count": null,
      "outputs": [
        {
          "output_type": "execute_result",
          "data": {
            "text/html": [
              "<div>\n",
              "<style scoped>\n",
              "    .dataframe tbody tr th:only-of-type {\n",
              "        vertical-align: middle;\n",
              "    }\n",
              "\n",
              "    .dataframe tbody tr th {\n",
              "        vertical-align: top;\n",
              "    }\n",
              "\n",
              "    .dataframe thead th {\n",
              "        text-align: right;\n",
              "    }\n",
              "</style>\n",
              "<table border=\"1\" class=\"dataframe\">\n",
              "  <thead>\n",
              "    <tr style=\"text-align: right;\">\n",
              "      <th></th>\n",
              "      <th>Sensor A</th>\n",
              "      <th>Sensor B</th>\n",
              "      <th>Médias</th>\n",
              "    </tr>\n",
              "  </thead>\n",
              "  <tbody>\n",
              "    <tr>\n",
              "      <th>2018-02-01</th>\n",
              "      <td>27.0</td>\n",
              "      <td>NaN</td>\n",
              "      <td>NaN</td>\n",
              "    </tr>\n",
              "    <tr>\n",
              "      <th>2018-02-02</th>\n",
              "      <td>28.3</td>\n",
              "      <td>28.6</td>\n",
              "      <td>28.45</td>\n",
              "    </tr>\n",
              "  </tbody>\n",
              "</table>\n",
              "</div>"
            ],
            "text/plain": [
              "            Sensor A  Sensor B  Médias\n",
              "2018-02-01      27.0       NaN     NaN\n",
              "2018-02-02      28.3      28.6   28.45"
            ]
          },
          "metadata": {
            "tags": []
          },
          "execution_count": 39
        }
      ]
    },
    {
      "cell_type": "markdown",
      "metadata": {
        "id": "GJPTMcUCYfyw"
      },
      "source": [
        "Selecionando uma posição específica (linha e coluna):"
      ]
    },
    {
      "cell_type": "code",
      "metadata": {
        "id": "uFs2sHnTYW3O",
        "outputId": "cba09abc-305a-4e6f-a36d-988beb16cbab",
        "colab": {
          "base_uri": "https://localhost:8080/",
          "height": 35
        }
      },
      "source": [
        "df1.loc['2018-02-01','Sensor A']"
      ],
      "execution_count": null,
      "outputs": [
        {
          "output_type": "execute_result",
          "data": {
            "text/plain": [
              "27.0"
            ]
          },
          "metadata": {
            "tags": []
          },
          "execution_count": 40
        }
      ]
    },
    {
      "cell_type": "markdown",
      "metadata": {
        "id": "hnDeaJE7YIyz"
      },
      "source": [
        "É possível selecionar algumas linhas e colunas simultaneamente:"
      ]
    },
    {
      "cell_type": "code",
      "metadata": {
        "id": "UkV9hGc8XljU",
        "outputId": "8c8d722b-bba7-4ce0-ce09-085befd89832",
        "colab": {
          "base_uri": "https://localhost:8080/",
          "height": 107
        }
      },
      "source": [
        "df1.loc[['2018-02-01','2018-02-02'],['Sensor A', 'Sensor B']]"
      ],
      "execution_count": null,
      "outputs": [
        {
          "output_type": "execute_result",
          "data": {
            "text/html": [
              "<div>\n",
              "<style scoped>\n",
              "    .dataframe tbody tr th:only-of-type {\n",
              "        vertical-align: middle;\n",
              "    }\n",
              "\n",
              "    .dataframe tbody tr th {\n",
              "        vertical-align: top;\n",
              "    }\n",
              "\n",
              "    .dataframe thead th {\n",
              "        text-align: right;\n",
              "    }\n",
              "</style>\n",
              "<table border=\"1\" class=\"dataframe\">\n",
              "  <thead>\n",
              "    <tr style=\"text-align: right;\">\n",
              "      <th></th>\n",
              "      <th>Sensor A</th>\n",
              "      <th>Sensor B</th>\n",
              "    </tr>\n",
              "  </thead>\n",
              "  <tbody>\n",
              "    <tr>\n",
              "      <th>2018-02-01</th>\n",
              "      <td>27.0</td>\n",
              "      <td>NaN</td>\n",
              "    </tr>\n",
              "    <tr>\n",
              "      <th>2018-02-02</th>\n",
              "      <td>28.3</td>\n",
              "      <td>28.6</td>\n",
              "    </tr>\n",
              "  </tbody>\n",
              "</table>\n",
              "</div>"
            ],
            "text/plain": [
              "            Sensor A  Sensor B\n",
              "2018-02-01      27.0       NaN\n",
              "2018-02-02      28.3      28.6"
            ]
          },
          "metadata": {
            "tags": []
          },
          "execution_count": 133
        }
      ]
    },
    {
      "cell_type": "code",
      "metadata": {
        "id": "vbFvA4xRyX0d",
        "outputId": "49d7652f-662a-40c3-d194-73928b132ff8",
        "colab": {
          "base_uri": "https://localhost:8080/",
          "height": 167
        }
      },
      "source": [
        "# se for especificada uma ordem diferente um novo dataframe sera\n",
        "# criado com as colunas na ordem informada\n",
        "df1[['Sensor B', 'Sensor A']]"
      ],
      "execution_count": null,
      "outputs": [
        {
          "output_type": "execute_result",
          "data": {
            "text/html": [
              "<div>\n",
              "<style scoped>\n",
              "    .dataframe tbody tr th:only-of-type {\n",
              "        vertical-align: middle;\n",
              "    }\n",
              "\n",
              "    .dataframe tbody tr th {\n",
              "        vertical-align: top;\n",
              "    }\n",
              "\n",
              "    .dataframe thead th {\n",
              "        text-align: right;\n",
              "    }\n",
              "</style>\n",
              "<table border=\"1\" class=\"dataframe\">\n",
              "  <thead>\n",
              "    <tr style=\"text-align: right;\">\n",
              "      <th></th>\n",
              "      <th>Sensor B</th>\n",
              "      <th>Sensor A</th>\n",
              "    </tr>\n",
              "  </thead>\n",
              "  <tbody>\n",
              "    <tr>\n",
              "      <th>2018-02-01</th>\n",
              "      <td>NaN</td>\n",
              "      <td>27.0</td>\n",
              "    </tr>\n",
              "    <tr>\n",
              "      <th>2018-02-02</th>\n",
              "      <td>28.6</td>\n",
              "      <td>28.3</td>\n",
              "    </tr>\n",
              "    <tr>\n",
              "      <th>2018-02-03</th>\n",
              "      <td>32.1</td>\n",
              "      <td>29.1</td>\n",
              "    </tr>\n",
              "    <tr>\n",
              "      <th>2018-02-04</th>\n",
              "      <td>26.0</td>\n",
              "      <td>NaN</td>\n",
              "    </tr>\n",
              "  </tbody>\n",
              "</table>\n",
              "</div>"
            ],
            "text/plain": [
              "            Sensor B  Sensor A\n",
              "2018-02-01       NaN      27.0\n",
              "2018-02-02      28.6      28.3\n",
              "2018-02-03      32.1      29.1\n",
              "2018-02-04      26.0       NaN"
            ]
          },
          "metadata": {
            "tags": []
          },
          "execution_count": 134
        }
      ]
    },
    {
      "cell_type": "code",
      "metadata": {
        "id": "hV_EjGtwyX0g"
      },
      "source": [
        "# um dataframe pode ser criado à partir de outro de forma fácil (isso não copia os dados)\n",
        "df5 = pd.DataFrame(df1)"
      ],
      "execution_count": null,
      "outputs": []
    },
    {
      "cell_type": "code",
      "metadata": {
        "id": "JGItkq7KyX0j",
        "outputId": "cde67486-db8f-46d8-e4a0-269a9fba95fa",
        "colab": {
          "base_uri": "https://localhost:8080/",
          "height": 168
        }
      },
      "source": [
        "# ou por uma cópia profunda que cria um novo objeto com sua própria cópia dos dados:\n",
        "df6 = df1.copy()\n",
        "\n",
        "df6"
      ],
      "execution_count": null,
      "outputs": [
        {
          "output_type": "execute_result",
          "data": {
            "text/html": [
              "<div>\n",
              "<style scoped>\n",
              "    .dataframe tbody tr th:only-of-type {\n",
              "        vertical-align: middle;\n",
              "    }\n",
              "\n",
              "    .dataframe tbody tr th {\n",
              "        vertical-align: top;\n",
              "    }\n",
              "\n",
              "    .dataframe thead th {\n",
              "        text-align: right;\n",
              "    }\n",
              "</style>\n",
              "<table border=\"1\" class=\"dataframe\">\n",
              "  <thead>\n",
              "    <tr style=\"text-align: right;\">\n",
              "      <th></th>\n",
              "      <th>Sensor A</th>\n",
              "      <th>Sensor B</th>\n",
              "      <th>Médias</th>\n",
              "    </tr>\n",
              "  </thead>\n",
              "  <tbody>\n",
              "    <tr>\n",
              "      <th>2018-02-01</th>\n",
              "      <td>27.0</td>\n",
              "      <td>NaN</td>\n",
              "      <td>NaN</td>\n",
              "    </tr>\n",
              "    <tr>\n",
              "      <th>2018-02-02</th>\n",
              "      <td>28.3</td>\n",
              "      <td>28.6</td>\n",
              "      <td>28.45</td>\n",
              "    </tr>\n",
              "    <tr>\n",
              "      <th>2018-02-03</th>\n",
              "      <td>29.1</td>\n",
              "      <td>32.1</td>\n",
              "      <td>30.60</td>\n",
              "    </tr>\n",
              "    <tr>\n",
              "      <th>2018-02-04</th>\n",
              "      <td>NaN</td>\n",
              "      <td>26.0</td>\n",
              "      <td>NaN</td>\n",
              "    </tr>\n",
              "  </tbody>\n",
              "</table>\n",
              "</div>"
            ],
            "text/plain": [
              "            Sensor A  Sensor B  Médias\n",
              "2018-02-01      27.0       NaN     NaN\n",
              "2018-02-02      28.3      28.6   28.45\n",
              "2018-02-03      29.1      32.1   30.60\n",
              "2018-02-04       NaN      26.0     NaN"
            ]
          },
          "metadata": {
            "tags": []
          },
          "execution_count": 42
        }
      ]
    },
    {
      "cell_type": "markdown",
      "metadata": {
        "id": "WNemzVWVyX0n"
      },
      "source": [
        "É importante entender que um novo dataframe será criado apenas utilizando a função `copy()` ou o construtor da classe `pd.DataFrame()`. Caso atribua um dataframe existente a uma nova variável, não há criação de um novo dataframe. Ambas as variáveis passam a se referir ao mesmo dataframe, o que frequentemente gera confusão. Veja o exemplo abaixo:"
      ]
    },
    {
      "cell_type": "code",
      "metadata": {
        "id": "HKPONzJSyX0o",
        "outputId": "82bfa935-1b92-4349-ec4b-8bffdc6040fe",
        "colab": {
          "base_uri": "https://localhost:8080/",
          "height": 69
        }
      },
      "source": [
        "# Uma nova variável refere-se ao dataframe anterior associado a df6:\n",
        "df7 = df6\n",
        "\n",
        "# Os três dataframes possuem o valor 27 para o Sensor A em 2018-02-01, que pode ser obtido utilizando-se o acessor `.loc[]`\n",
        "print(df5.loc['2018-02-01','Sensor A'])\n",
        "print(df6.loc['2018-02-01','Sensor A'])\n",
        "print(df7.loc['2018-02-01','Sensor A'])"
      ],
      "execution_count": null,
      "outputs": [
        {
          "output_type": "stream",
          "text": [
            "27.0\n",
            "27.0\n",
            "27.0\n"
          ],
          "name": "stdout"
        }
      ]
    },
    {
      "cell_type": "code",
      "metadata": {
        "id": "GBOMT8WTyX0r",
        "outputId": "fae57c53-16ac-4e57-e902-c9c1c099eafb",
        "colab": {
          "base_uri": "https://localhost:8080/",
          "height": 52
        }
      },
      "source": [
        "# Caso alteremos esse valor para df7:\n",
        "df7.loc['2018-02-01','Sensor A'] = 30\n",
        "\n",
        "# Será também alterado para df6, pois esse referencia o mesmo único objeto:\n",
        "print(df6.loc['2018-02-01','Sensor A'])\n",
        "print(df7.loc['2018-02-01','Sensor A'])"
      ],
      "execution_count": null,
      "outputs": [
        {
          "output_type": "stream",
          "text": [
            "30.0\n",
            "30.0\n"
          ],
          "name": "stdout"
        }
      ]
    },
    {
      "cell_type": "code",
      "metadata": {
        "id": "DwdHBuOSyX0u",
        "outputId": "8f08d8e3-8a6b-4231-9ee5-6c2ef8de25d8",
        "colab": {
          "base_uri": "https://localhost:8080/",
          "height": 52
        }
      },
      "source": [
        "# Já o valor para df1, do qual df6 é uma cópia profunda, não foi alterado:\n",
        "print(df1.loc['2018-02-01','Sensor A'])\n",
        "print(df5.loc['2018-02-01','Sensor A'])"
      ],
      "execution_count": null,
      "outputs": [
        {
          "output_type": "stream",
          "text": [
            "27.0\n",
            "27.0\n"
          ],
          "name": "stdout"
        }
      ]
    },
    {
      "cell_type": "code",
      "metadata": {
        "id": "X6HwUYqcyX0y"
      },
      "source": [
        "# df5 foi criado a partir do construtor de pd.DataFrame(df1), o que também não recopia os dados:\n",
        "# Ou seja, alterando df5:\n",
        "df5.loc['2018-02-01','Sensor A'] = 20"
      ],
      "execution_count": null,
      "outputs": []
    },
    {
      "cell_type": "code",
      "metadata": {
        "id": "X2OhdYSyyX00",
        "outputId": "e3f65c28-b991-4a0b-882c-67445b7bfe8c",
        "colab": {
          "base_uri": "https://localhost:8080/",
          "height": 33
        }
      },
      "source": [
        "# Também altera-se df1:\n",
        "print(df1.loc['2018-02-01','Sensor A'])"
      ],
      "execution_count": null,
      "outputs": [
        {
          "output_type": "stream",
          "text": [
            "20.0\n"
          ],
          "name": "stdout"
        }
      ]
    },
    {
      "cell_type": "code",
      "metadata": {
        "id": "8ndjWFUvIv26",
        "colab": {
          "base_uri": "https://localhost:8080/",
          "height": 168
        },
        "outputId": "3750a49f-d2c6-4799-b461-c1749b89db6c"
      },
      "source": [
        "df5"
      ],
      "execution_count": null,
      "outputs": [
        {
          "output_type": "execute_result",
          "data": {
            "text/html": [
              "<div>\n",
              "<style scoped>\n",
              "    .dataframe tbody tr th:only-of-type {\n",
              "        vertical-align: middle;\n",
              "    }\n",
              "\n",
              "    .dataframe tbody tr th {\n",
              "        vertical-align: top;\n",
              "    }\n",
              "\n",
              "    .dataframe thead th {\n",
              "        text-align: right;\n",
              "    }\n",
              "</style>\n",
              "<table border=\"1\" class=\"dataframe\">\n",
              "  <thead>\n",
              "    <tr style=\"text-align: right;\">\n",
              "      <th></th>\n",
              "      <th>Sensor A</th>\n",
              "      <th>Sensor B</th>\n",
              "      <th>Médias</th>\n",
              "    </tr>\n",
              "  </thead>\n",
              "  <tbody>\n",
              "    <tr>\n",
              "      <th>2018-02-01</th>\n",
              "      <td>27.0</td>\n",
              "      <td>NaN</td>\n",
              "      <td>NaN</td>\n",
              "    </tr>\n",
              "    <tr>\n",
              "      <th>2018-02-02</th>\n",
              "      <td>28.3</td>\n",
              "      <td>28.6</td>\n",
              "      <td>28.45</td>\n",
              "    </tr>\n",
              "    <tr>\n",
              "      <th>2018-02-03</th>\n",
              "      <td>29.1</td>\n",
              "      <td>32.1</td>\n",
              "      <td>30.60</td>\n",
              "    </tr>\n",
              "    <tr>\n",
              "      <th>2018-02-04</th>\n",
              "      <td>NaN</td>\n",
              "      <td>26.0</td>\n",
              "      <td>NaN</td>\n",
              "    </tr>\n",
              "  </tbody>\n",
              "</table>\n",
              "</div>"
            ],
            "text/plain": [
              "            Sensor A  Sensor B  Médias\n",
              "2018-02-01      27.0       NaN     NaN\n",
              "2018-02-02      28.3      28.6   28.45\n",
              "2018-02-03      29.1      32.1   30.60\n",
              "2018-02-04       NaN      26.0     NaN"
            ]
          },
          "metadata": {
            "tags": []
          },
          "execution_count": 48
        }
      ]
    },
    {
      "cell_type": "code",
      "metadata": {
        "id": "GxxJjlFGyX04",
        "outputId": "ee7cb9c7-130e-4748-ddc4-62d06b49f35c",
        "colab": {
          "base_uri": "https://localhost:8080/",
          "height": 168
        }
      },
      "source": [
        "#novas colunas podem ser criadas no dataframe à partir de um valor escalar\n",
        "df5['Sensor C'] = 30\n",
        "\n",
        "df5"
      ],
      "execution_count": null,
      "outputs": [
        {
          "output_type": "execute_result",
          "data": {
            "text/html": [
              "<div>\n",
              "<style scoped>\n",
              "    .dataframe tbody tr th:only-of-type {\n",
              "        vertical-align: middle;\n",
              "    }\n",
              "\n",
              "    .dataframe tbody tr th {\n",
              "        vertical-align: top;\n",
              "    }\n",
              "\n",
              "    .dataframe thead th {\n",
              "        text-align: right;\n",
              "    }\n",
              "</style>\n",
              "<table border=\"1\" class=\"dataframe\">\n",
              "  <thead>\n",
              "    <tr style=\"text-align: right;\">\n",
              "      <th></th>\n",
              "      <th>Sensor A</th>\n",
              "      <th>Sensor B</th>\n",
              "      <th>Médias</th>\n",
              "      <th>Sensor C</th>\n",
              "    </tr>\n",
              "  </thead>\n",
              "  <tbody>\n",
              "    <tr>\n",
              "      <th>2018-02-01</th>\n",
              "      <td>27.0</td>\n",
              "      <td>NaN</td>\n",
              "      <td>NaN</td>\n",
              "      <td>30</td>\n",
              "    </tr>\n",
              "    <tr>\n",
              "      <th>2018-02-02</th>\n",
              "      <td>28.3</td>\n",
              "      <td>28.6</td>\n",
              "      <td>28.45</td>\n",
              "      <td>30</td>\n",
              "    </tr>\n",
              "    <tr>\n",
              "      <th>2018-02-03</th>\n",
              "      <td>29.1</td>\n",
              "      <td>32.1</td>\n",
              "      <td>30.60</td>\n",
              "      <td>30</td>\n",
              "    </tr>\n",
              "    <tr>\n",
              "      <th>2018-02-04</th>\n",
              "      <td>NaN</td>\n",
              "      <td>26.0</td>\n",
              "      <td>NaN</td>\n",
              "      <td>30</td>\n",
              "    </tr>\n",
              "  </tbody>\n",
              "</table>\n",
              "</div>"
            ],
            "text/plain": [
              "            Sensor A  Sensor B  Médias  Sensor C\n",
              "2018-02-01      27.0       NaN     NaN        30\n",
              "2018-02-02      28.3      28.6   28.45        30\n",
              "2018-02-03      29.1      32.1   30.60        30\n",
              "2018-02-04       NaN      26.0     NaN        30"
            ]
          },
          "metadata": {
            "tags": []
          },
          "execution_count": 49
        }
      ]
    },
    {
      "cell_type": "code",
      "metadata": {
        "id": "GP_jPMQSI-1g",
        "colab": {
          "base_uri": "https://localhost:8080/",
          "height": 168
        },
        "outputId": "e596433c-0ac2-4094-eb93-03039d7edac5"
      },
      "source": [
        "df1"
      ],
      "execution_count": null,
      "outputs": [
        {
          "output_type": "execute_result",
          "data": {
            "text/html": [
              "<div>\n",
              "<style scoped>\n",
              "    .dataframe tbody tr th:only-of-type {\n",
              "        vertical-align: middle;\n",
              "    }\n",
              "\n",
              "    .dataframe tbody tr th {\n",
              "        vertical-align: top;\n",
              "    }\n",
              "\n",
              "    .dataframe thead th {\n",
              "        text-align: right;\n",
              "    }\n",
              "</style>\n",
              "<table border=\"1\" class=\"dataframe\">\n",
              "  <thead>\n",
              "    <tr style=\"text-align: right;\">\n",
              "      <th></th>\n",
              "      <th>Sensor A</th>\n",
              "      <th>Sensor B</th>\n",
              "      <th>Médias</th>\n",
              "      <th>Sensor C</th>\n",
              "    </tr>\n",
              "  </thead>\n",
              "  <tbody>\n",
              "    <tr>\n",
              "      <th>2018-02-01</th>\n",
              "      <td>27.0</td>\n",
              "      <td>NaN</td>\n",
              "      <td>NaN</td>\n",
              "      <td>30</td>\n",
              "    </tr>\n",
              "    <tr>\n",
              "      <th>2018-02-02</th>\n",
              "      <td>28.3</td>\n",
              "      <td>28.6</td>\n",
              "      <td>28.45</td>\n",
              "      <td>30</td>\n",
              "    </tr>\n",
              "    <tr>\n",
              "      <th>2018-02-03</th>\n",
              "      <td>29.1</td>\n",
              "      <td>32.1</td>\n",
              "      <td>30.60</td>\n",
              "      <td>30</td>\n",
              "    </tr>\n",
              "    <tr>\n",
              "      <th>2018-02-04</th>\n",
              "      <td>NaN</td>\n",
              "      <td>26.0</td>\n",
              "      <td>NaN</td>\n",
              "      <td>30</td>\n",
              "    </tr>\n",
              "  </tbody>\n",
              "</table>\n",
              "</div>"
            ],
            "text/plain": [
              "            Sensor A  Sensor B  Médias  Sensor C\n",
              "2018-02-01      27.0       NaN     NaN        30\n",
              "2018-02-02      28.3      28.6   28.45        30\n",
              "2018-02-03      29.1      32.1   30.60        30\n",
              "2018-02-04       NaN      26.0     NaN        30"
            ]
          },
          "metadata": {
            "tags": []
          },
          "execution_count": 50
        }
      ]
    },
    {
      "cell_type": "code",
      "metadata": {
        "scrolled": true,
        "id": "coMdUSZRyX07",
        "outputId": "cb8e96af-a787-46d1-f43c-8861020431c1",
        "colab": {
          "base_uri": "https://localhost:8080/",
          "height": 168
        }
      },
      "source": [
        "# novas colunas podem ser criadas no dataframe à partir de listas,\n",
        "# desde que o número de linhas seja igual ao do dataframe\n",
        "df5['Sensor D'] = [1,2,3,4]\n",
        "df5"
      ],
      "execution_count": null,
      "outputs": [
        {
          "output_type": "execute_result",
          "data": {
            "text/html": [
              "<div>\n",
              "<style scoped>\n",
              "    .dataframe tbody tr th:only-of-type {\n",
              "        vertical-align: middle;\n",
              "    }\n",
              "\n",
              "    .dataframe tbody tr th {\n",
              "        vertical-align: top;\n",
              "    }\n",
              "\n",
              "    .dataframe thead th {\n",
              "        text-align: right;\n",
              "    }\n",
              "</style>\n",
              "<table border=\"1\" class=\"dataframe\">\n",
              "  <thead>\n",
              "    <tr style=\"text-align: right;\">\n",
              "      <th></th>\n",
              "      <th>Sensor A</th>\n",
              "      <th>Sensor B</th>\n",
              "      <th>Médias</th>\n",
              "      <th>Sensor C</th>\n",
              "      <th>Sensor D</th>\n",
              "    </tr>\n",
              "  </thead>\n",
              "  <tbody>\n",
              "    <tr>\n",
              "      <th>2018-02-01</th>\n",
              "      <td>27.0</td>\n",
              "      <td>NaN</td>\n",
              "      <td>NaN</td>\n",
              "      <td>30</td>\n",
              "      <td>1</td>\n",
              "    </tr>\n",
              "    <tr>\n",
              "      <th>2018-02-02</th>\n",
              "      <td>28.3</td>\n",
              "      <td>28.6</td>\n",
              "      <td>28.45</td>\n",
              "      <td>30</td>\n",
              "      <td>2</td>\n",
              "    </tr>\n",
              "    <tr>\n",
              "      <th>2018-02-03</th>\n",
              "      <td>29.1</td>\n",
              "      <td>32.1</td>\n",
              "      <td>30.60</td>\n",
              "      <td>30</td>\n",
              "      <td>3</td>\n",
              "    </tr>\n",
              "    <tr>\n",
              "      <th>2018-02-04</th>\n",
              "      <td>NaN</td>\n",
              "      <td>26.0</td>\n",
              "      <td>NaN</td>\n",
              "      <td>30</td>\n",
              "      <td>4</td>\n",
              "    </tr>\n",
              "  </tbody>\n",
              "</table>\n",
              "</div>"
            ],
            "text/plain": [
              "            Sensor A  Sensor B  Médias  Sensor C  Sensor D\n",
              "2018-02-01      27.0       NaN     NaN        30         1\n",
              "2018-02-02      28.3      28.6   28.45        30         2\n",
              "2018-02-03      29.1      32.1   30.60        30         3\n",
              "2018-02-04       NaN      26.0     NaN        30         4"
            ]
          },
          "metadata": {
            "tags": []
          },
          "execution_count": 51
        }
      ]
    },
    {
      "cell_type": "code",
      "metadata": {
        "id": "TafHQm2zXMIL",
        "outputId": "57a33600-5492-47e3-d3a9-6f19a08970b1",
        "colab": {
          "base_uri": "https://localhost:8080/",
          "height": 167
        }
      },
      "source": [
        "# note que as colunas inseridas em df5 não aparecem em df1, de onde df5 se originou\n",
        "df1"
      ],
      "execution_count": null,
      "outputs": [
        {
          "output_type": "execute_result",
          "data": {
            "text/html": [
              "<div>\n",
              "<style scoped>\n",
              "    .dataframe tbody tr th:only-of-type {\n",
              "        vertical-align: middle;\n",
              "    }\n",
              "\n",
              "    .dataframe tbody tr th {\n",
              "        vertical-align: top;\n",
              "    }\n",
              "\n",
              "    .dataframe thead th {\n",
              "        text-align: right;\n",
              "    }\n",
              "</style>\n",
              "<table border=\"1\" class=\"dataframe\">\n",
              "  <thead>\n",
              "    <tr style=\"text-align: right;\">\n",
              "      <th></th>\n",
              "      <th>Sensor A</th>\n",
              "      <th>Sensor B</th>\n",
              "      <th>Médias</th>\n",
              "    </tr>\n",
              "  </thead>\n",
              "  <tbody>\n",
              "    <tr>\n",
              "      <th>2018-02-01</th>\n",
              "      <td>20.0</td>\n",
              "      <td>NaN</td>\n",
              "      <td>NaN</td>\n",
              "    </tr>\n",
              "    <tr>\n",
              "      <th>2018-02-02</th>\n",
              "      <td>28.3</td>\n",
              "      <td>28.6</td>\n",
              "      <td>28.45</td>\n",
              "    </tr>\n",
              "    <tr>\n",
              "      <th>2018-02-03</th>\n",
              "      <td>29.1</td>\n",
              "      <td>32.1</td>\n",
              "      <td>30.60</td>\n",
              "    </tr>\n",
              "    <tr>\n",
              "      <th>2018-02-04</th>\n",
              "      <td>NaN</td>\n",
              "      <td>26.0</td>\n",
              "      <td>NaN</td>\n",
              "    </tr>\n",
              "  </tbody>\n",
              "</table>\n",
              "</div>"
            ],
            "text/plain": [
              "            Sensor A  Sensor B  Médias\n",
              "2018-02-01      20.0       NaN     NaN\n",
              "2018-02-02      28.3      28.6   28.45\n",
              "2018-02-03      29.1      32.1   30.60\n",
              "2018-02-04       NaN      26.0     NaN"
            ]
          },
          "metadata": {
            "tags": []
          },
          "execution_count": 144
        }
      ]
    },
    {
      "cell_type": "code",
      "metadata": {
        "id": "K3mr_-xlyX1A",
        "outputId": "b3d7dd25-002c-4846-ce2e-93a6b93bcce8",
        "colab": {
          "base_uri": "https://localhost:8080/",
          "height": 168
        }
      },
      "source": [
        "# colunas podem ser removidas com o comando del (veja mais sobre o del na documentação do python)\n",
        "del(df5['Sensor C'])\n",
        "del(df5['Sensor D'])\n",
        "df5"
      ],
      "execution_count": null,
      "outputs": [
        {
          "output_type": "execute_result",
          "data": {
            "text/html": [
              "<div>\n",
              "<style scoped>\n",
              "    .dataframe tbody tr th:only-of-type {\n",
              "        vertical-align: middle;\n",
              "    }\n",
              "\n",
              "    .dataframe tbody tr th {\n",
              "        vertical-align: top;\n",
              "    }\n",
              "\n",
              "    .dataframe thead th {\n",
              "        text-align: right;\n",
              "    }\n",
              "</style>\n",
              "<table border=\"1\" class=\"dataframe\">\n",
              "  <thead>\n",
              "    <tr style=\"text-align: right;\">\n",
              "      <th></th>\n",
              "      <th>Sensor A</th>\n",
              "      <th>Sensor B</th>\n",
              "      <th>Médias</th>\n",
              "    </tr>\n",
              "  </thead>\n",
              "  <tbody>\n",
              "    <tr>\n",
              "      <th>2018-02-01</th>\n",
              "      <td>27.0</td>\n",
              "      <td>NaN</td>\n",
              "      <td>NaN</td>\n",
              "    </tr>\n",
              "    <tr>\n",
              "      <th>2018-02-02</th>\n",
              "      <td>28.3</td>\n",
              "      <td>28.6</td>\n",
              "      <td>28.45</td>\n",
              "    </tr>\n",
              "    <tr>\n",
              "      <th>2018-02-03</th>\n",
              "      <td>29.1</td>\n",
              "      <td>32.1</td>\n",
              "      <td>30.60</td>\n",
              "    </tr>\n",
              "    <tr>\n",
              "      <th>2018-02-04</th>\n",
              "      <td>NaN</td>\n",
              "      <td>26.0</td>\n",
              "      <td>NaN</td>\n",
              "    </tr>\n",
              "  </tbody>\n",
              "</table>\n",
              "</div>"
            ],
            "text/plain": [
              "            Sensor A  Sensor B  Médias\n",
              "2018-02-01      27.0       NaN     NaN\n",
              "2018-02-02      28.3      28.6   28.45\n",
              "2018-02-03      29.1      32.1   30.60\n",
              "2018-02-04       NaN      26.0     NaN"
            ]
          },
          "metadata": {
            "tags": []
          },
          "execution_count": 52
        }
      ]
    },
    {
      "cell_type": "code",
      "metadata": {
        "id": "8Y3DU7PiJTPx"
      },
      "source": [
        "del df7"
      ],
      "execution_count": null,
      "outputs": []
    },
    {
      "cell_type": "code",
      "metadata": {
        "id": "KT12RbrUyX1E",
        "outputId": "cdd181e5-81ec-4a53-d981-d15e0a7ea978",
        "colab": {
          "base_uri": "https://localhost:8080/",
          "height": 197
        }
      },
      "source": [
        "# as listas de colunas e índices podem ter nomes atribuídos\n",
        "df5.columns.name = 'Sensores'\n",
        "df5.index.name = 'Data'\n",
        "\n",
        "df5"
      ],
      "execution_count": null,
      "outputs": [
        {
          "output_type": "execute_result",
          "data": {
            "text/html": [
              "<div>\n",
              "<style scoped>\n",
              "    .dataframe tbody tr th:only-of-type {\n",
              "        vertical-align: middle;\n",
              "    }\n",
              "\n",
              "    .dataframe tbody tr th {\n",
              "        vertical-align: top;\n",
              "    }\n",
              "\n",
              "    .dataframe thead th {\n",
              "        text-align: right;\n",
              "    }\n",
              "</style>\n",
              "<table border=\"1\" class=\"dataframe\">\n",
              "  <thead>\n",
              "    <tr style=\"text-align: right;\">\n",
              "      <th>Sensores</th>\n",
              "      <th>Sensor A</th>\n",
              "      <th>Sensor B</th>\n",
              "      <th>Médias</th>\n",
              "    </tr>\n",
              "    <tr>\n",
              "      <th>Data</th>\n",
              "      <th></th>\n",
              "      <th></th>\n",
              "      <th></th>\n",
              "    </tr>\n",
              "  </thead>\n",
              "  <tbody>\n",
              "    <tr>\n",
              "      <th>2018-02-01</th>\n",
              "      <td>20.0</td>\n",
              "      <td>NaN</td>\n",
              "      <td>NaN</td>\n",
              "    </tr>\n",
              "    <tr>\n",
              "      <th>2018-02-02</th>\n",
              "      <td>28.3</td>\n",
              "      <td>28.6</td>\n",
              "      <td>28.45</td>\n",
              "    </tr>\n",
              "    <tr>\n",
              "      <th>2018-02-03</th>\n",
              "      <td>29.1</td>\n",
              "      <td>32.1</td>\n",
              "      <td>30.60</td>\n",
              "    </tr>\n",
              "    <tr>\n",
              "      <th>2018-02-04</th>\n",
              "      <td>NaN</td>\n",
              "      <td>26.0</td>\n",
              "      <td>NaN</td>\n",
              "    </tr>\n",
              "  </tbody>\n",
              "</table>\n",
              "</div>"
            ],
            "text/plain": [
              "Sensores    Sensor A  Sensor B  Médias\n",
              "Data                                  \n",
              "2018-02-01      20.0       NaN     NaN\n",
              "2018-02-02      28.3      28.6   28.45\n",
              "2018-02-03      29.1      32.1   30.60\n",
              "2018-02-04       NaN      26.0     NaN"
            ]
          },
          "metadata": {
            "tags": []
          },
          "execution_count": 146
        }
      ]
    },
    {
      "cell_type": "markdown",
      "metadata": {
        "id": "i7XSrseGyX1J"
      },
      "source": [
        "A maioria dos métodos vistos para Series funcionam para DataFrames também, mas podem ter variações ou limitações dependendo do tipo de dado de cada série."
      ]
    },
    {
      "cell_type": "code",
      "metadata": {
        "scrolled": false,
        "id": "rYWG18pTyX1K",
        "outputId": "f80d112d-98e1-406b-bed9-3d8744bccc4a",
        "colab": {
          "base_uri": "https://localhost:8080/",
          "height": 415
        }
      },
      "source": [
        "#totalizações por coluna\n",
        "#valor mínimo por coluna\n",
        "print('min:\\n', df1.min())\n",
        "\n",
        "# maior valor\n",
        "print('\\nmax:\\n', df1.max())\n",
        "\n",
        "# média\n",
        "print('\\nmean:\\n', df1.mean())\n",
        "\n",
        "# mediana\n",
        "print('\\nmedian:\\n', df1.median())"
      ],
      "execution_count": null,
      "outputs": [
        {
          "output_type": "stream",
          "text": [
            "min:\n",
            " Sensor A    27.00\n",
            "Sensor B    26.00\n",
            "Médias      28.45\n",
            "dtype: float64\n",
            "\n",
            "max:\n",
            " Sensor A    29.1\n",
            "Sensor B    32.1\n",
            "Médias      30.6\n",
            "dtype: float64\n",
            "\n",
            "mean:\n",
            " Sensor A    28.133333\n",
            "Sensor B    28.900000\n",
            "Médias      29.525000\n",
            "dtype: float64\n",
            "\n",
            "median:\n",
            " Sensor A    28.300\n",
            "Sensor B    28.600\n",
            "Médias      29.525\n",
            "dtype: float64\n"
          ],
          "name": "stdout"
        }
      ]
    },
    {
      "cell_type": "code",
      "metadata": {
        "id": "VHLDPYadcW58",
        "outputId": "d9ab8437-df8d-4190-d413-b4a065d649f1",
        "colab": {
          "base_uri": "https://localhost:8080/",
          "height": 484
        }
      },
      "source": [
        "#totalizações por linha  NOTE QUE A OPERAÇÃO AGREGADA DESPREZA OS NaN\n",
        "#valor mínimo por linha\n",
        "print('min:\\n', df1[['Sensor A','Sensor B']].min(axis=1))\n",
        "\n",
        "# maior valor\n",
        "print('\\nmax:\\n', df1[['Sensor A','Sensor B']].max(axis=1))\n",
        "\n",
        "# média\n",
        "print('\\nmean:\\n', df1[['Sensor A','Sensor B']].mean(axis=1))\n",
        "\n",
        "# mediana\n",
        "print('\\nmedian:\\n', df1[['Sensor A','Sensor B']].median(axis=1))"
      ],
      "execution_count": null,
      "outputs": [
        {
          "output_type": "stream",
          "text": [
            "min:\n",
            " 2018-02-01    27.0\n",
            "2018-02-02    28.3\n",
            "2018-02-03    29.1\n",
            "2018-02-04    26.0\n",
            "dtype: float64\n",
            "\n",
            "max:\n",
            " 2018-02-01    27.0\n",
            "2018-02-02    28.6\n",
            "2018-02-03    32.1\n",
            "2018-02-04    26.0\n",
            "dtype: float64\n",
            "\n",
            "mean:\n",
            " 2018-02-01    27.00\n",
            "2018-02-02    28.45\n",
            "2018-02-03    30.60\n",
            "2018-02-04    26.00\n",
            "dtype: float64\n",
            "\n",
            "median:\n",
            " 2018-02-01    27.00\n",
            "2018-02-02    28.45\n",
            "2018-02-03    30.60\n",
            "2018-02-04    26.00\n",
            "dtype: float64\n"
          ],
          "name": "stdout"
        }
      ]
    },
    {
      "cell_type": "markdown",
      "metadata": {
        "id": "EJAKdJXvbl_9"
      },
      "source": [
        "## Transposta\n",
        "\n",
        "Permite visualizar o dataframe com os índices como colunas e as colunas como índices"
      ]
    },
    {
      "cell_type": "code",
      "metadata": {
        "id": "YnROKqNsb7Zv"
      },
      "source": [
        "df5t = df5.T"
      ],
      "execution_count": null,
      "outputs": []
    },
    {
      "cell_type": "code",
      "metadata": {
        "id": "I3JGnVT0cJdG",
        "colab": {
          "base_uri": "https://localhost:8080/",
          "height": 86
        },
        "outputId": "fd81c581-abc4-41a6-800d-4e58cab863c3"
      },
      "source": [
        "df5t.min(axis=1)"
      ],
      "execution_count": null,
      "outputs": [
        {
          "output_type": "execute_result",
          "data": {
            "text/plain": [
              "Sensor A    27.00\n",
              "Sensor B    26.00\n",
              "Médias      28.45\n",
              "dtype: float64"
            ]
          },
          "metadata": {
            "tags": []
          },
          "execution_count": 67
        }
      ]
    },
    {
      "cell_type": "markdown",
      "metadata": {
        "id": "XDeUcVCcyX1N"
      },
      "source": [
        "Documentação do Pandas para a classe DataFrame:\n",
        "https://pandas.pydata.org/pandas-docs/stable/api.html#series"
      ]
    },
    {
      "cell_type": "markdown",
      "metadata": {
        "id": "b8eSbaRUyX1O"
      },
      "source": [
        "### Pandas\n",
        "* outras formas de criar DataFrames podem ser consultadas aqui: http://pandas.pydata.org/pandas-docs/stable/dsintro.html#alternate-constructors"
      ]
    },
    {
      "cell_type": "markdown",
      "metadata": {
        "id": "mgedJEw4tCgw"
      },
      "source": [
        "# Exercício 4\n",
        "\n",
        "A partir da série criada no exercício 3 crie outras duas com valores  fictícios de dolar em datas próximas para mais duas agências. Em seguida crie um dataframe com as três séries de cotações e uma quarta série com o valor médio do dólar no dia. Obtenha as estatísticas básicas do seu dataframe."
      ]
    },
    {
      "cell_type": "code",
      "source": [],
      "metadata": {
        "id": "CdLRsmhsxajL"
      },
      "execution_count": null,
      "outputs": []
    },
    {
      "cell_type": "markdown",
      "metadata": {
        "id": "FYE2UOEJyX1O"
      },
      "source": [
        "# Seleções e subconjuntos de dados"
      ]
    },
    {
      "cell_type": "markdown",
      "metadata": {
        "id": "xVavTQSJyX1P"
      },
      "source": [
        "Esta seção pretende reforçar as  mais variadas formas de seleções de dados utilizando DataFrames, Séries e Índices.\n",
        "\n"
      ]
    },
    {
      "cell_type": "markdown",
      "metadata": {
        "id": "hqWlxBmIyX1k"
      },
      "source": [
        "### Opções de indexação\n",
        "\n",
        "__df[val]__\n",
        "* seleciona uma ou uma sequência de colunas em um DataFrame\n",
        "* seleciona linhas com expressões\n",
        "* seleciona linhas por posição\n",
        "* seleciona linhas por índice (label), cuidado, resultado pode ser ambíguo (utilize loc neste caso)\n",
        "* caso esteja sendo feito algum filtro de linhas, não permite seleção de colunas ao mesmo tempo. Retornará todas\n",
        "\n",
        "__df.loc[val]__\n",
        "* seleciona uma ou mais linhas pelo índice\n",
        "\n",
        "__df.loc[:, val]__\n",
        "* seleciona uma ou mais colunas pelo nome das colunas\n",
        "\n",
        "__df.loc[val1, val2]__\n",
        "* seleciona linhas e colunas\n",
        "\n",
        "__df.iloc[onde]__\n",
        "* seleciona uma ou mais linhas pela posição. 'onde' pode ser uma posição, slice ou uma lista de posições\n",
        "\n",
        "__df.iloc[, onde]__\n",
        "* seleciona uma ou mais colunas pela posição. 'onde' pode ser uma posição, slice ou uma lista de posições\n",
        "\n",
        "__df.iloc[onde_i, onde_j]__\n",
        "* seleciona uma ou mais linhas e colunas pela posição. 'onde_?' pode ser uma posição, slice ou uma lista de posições"
      ]
    },
    {
      "cell_type": "code",
      "metadata": {
        "id": "7heutck4ySvD",
        "outputId": "e7ef8a92-edf1-4b8a-fb8c-03d351d0a960",
        "colab": {
          "base_uri": "https://localhost:8080/",
          "height": 168
        }
      },
      "source": [
        "df1"
      ],
      "execution_count": null,
      "outputs": [
        {
          "output_type": "execute_result",
          "data": {
            "text/html": [
              "<div>\n",
              "<style scoped>\n",
              "    .dataframe tbody tr th:only-of-type {\n",
              "        vertical-align: middle;\n",
              "    }\n",
              "\n",
              "    .dataframe tbody tr th {\n",
              "        vertical-align: top;\n",
              "    }\n",
              "\n",
              "    .dataframe thead th {\n",
              "        text-align: right;\n",
              "    }\n",
              "</style>\n",
              "<table border=\"1\" class=\"dataframe\">\n",
              "  <thead>\n",
              "    <tr style=\"text-align: right;\">\n",
              "      <th></th>\n",
              "      <th>Sensor A</th>\n",
              "      <th>Sensor B</th>\n",
              "      <th>Médias</th>\n",
              "    </tr>\n",
              "  </thead>\n",
              "  <tbody>\n",
              "    <tr>\n",
              "      <th>2018-02-01</th>\n",
              "      <td>27.0</td>\n",
              "      <td>NaN</td>\n",
              "      <td>NaN</td>\n",
              "    </tr>\n",
              "    <tr>\n",
              "      <th>2018-02-02</th>\n",
              "      <td>28.3</td>\n",
              "      <td>28.6</td>\n",
              "      <td>28.45</td>\n",
              "    </tr>\n",
              "    <tr>\n",
              "      <th>2018-02-03</th>\n",
              "      <td>29.1</td>\n",
              "      <td>32.1</td>\n",
              "      <td>30.60</td>\n",
              "    </tr>\n",
              "    <tr>\n",
              "      <th>2018-02-04</th>\n",
              "      <td>NaN</td>\n",
              "      <td>26.0</td>\n",
              "      <td>NaN</td>\n",
              "    </tr>\n",
              "  </tbody>\n",
              "</table>\n",
              "</div>"
            ],
            "text/plain": [
              "            Sensor A  Sensor B  Médias\n",
              "2018-02-01      27.0       NaN     NaN\n",
              "2018-02-02      28.3      28.6   28.45\n",
              "2018-02-03      29.1      32.1   30.60\n",
              "2018-02-04       NaN      26.0     NaN"
            ]
          },
          "metadata": {
            "tags": []
          },
          "execution_count": 70
        }
      ]
    },
    {
      "cell_type": "code",
      "metadata": {
        "id": "dqKNBqxkyzWw",
        "outputId": "fb444fdd-2907-4881-f0cd-2188df245566",
        "colab": {
          "base_uri": "https://localhost:8080/",
          "height": 119
        }
      },
      "source": [
        "#seleção pelo nome da coluna\n",
        "df1['Sensor B']"
      ],
      "execution_count": null,
      "outputs": [
        {
          "output_type": "execute_result",
          "data": {
            "text/plain": [
              "Data\n",
              "2018-02-01     NaN\n",
              "2018-02-02    28.6\n",
              "2018-02-03    32.1\n",
              "2018-02-04    26.0\n",
              "Name: Sensor B, dtype: float64"
            ]
          },
          "metadata": {
            "tags": []
          },
          "execution_count": 49
        }
      ]
    },
    {
      "cell_type": "code",
      "metadata": {
        "id": "yDARTdCHxaH4",
        "outputId": "11b27bf9-3b66-46d8-fcf8-ae5e20281328",
        "colab": {
          "base_uri": "https://localhost:8080/",
          "height": 85
        }
      },
      "source": [
        "# seleção pelo indice\n",
        "df1.loc['2018-02-02']"
      ],
      "execution_count": null,
      "outputs": [
        {
          "output_type": "execute_result",
          "data": {
            "text/plain": [
              "Sensor A    28.30\n",
              "Sensor B    28.60\n",
              "Médias      28.45\n",
              "Name: 2018-02-02, dtype: float64"
            ]
          },
          "metadata": {
            "tags": []
          },
          "execution_count": 47
        }
      ]
    },
    {
      "cell_type": "code",
      "metadata": {
        "id": "9Rxy9aEIzNdy",
        "outputId": "b0afc258-a167-41e1-8f08-d302a70b18b4",
        "colab": {
          "base_uri": "https://localhost:8080/",
          "height": 173
        }
      },
      "source": [
        "# seleção pelo intervalo de indice\n",
        "df1.loc['2018-02-02':'2018-02-06']\n"
      ],
      "execution_count": null,
      "outputs": [
        {
          "output_type": "execute_result",
          "data": {
            "text/html": [
              "<div>\n",
              "<style scoped>\n",
              "    .dataframe tbody tr th:only-of-type {\n",
              "        vertical-align: middle;\n",
              "    }\n",
              "\n",
              "    .dataframe tbody tr th {\n",
              "        vertical-align: top;\n",
              "    }\n",
              "\n",
              "    .dataframe thead th {\n",
              "        text-align: right;\n",
              "    }\n",
              "</style>\n",
              "<table border=\"1\" class=\"dataframe\">\n",
              "  <thead>\n",
              "    <tr style=\"text-align: right;\">\n",
              "      <th></th>\n",
              "      <th>Sensor A</th>\n",
              "      <th>Sensor B</th>\n",
              "      <th>Médias</th>\n",
              "    </tr>\n",
              "    <tr>\n",
              "      <th>Data</th>\n",
              "      <th></th>\n",
              "      <th></th>\n",
              "      <th></th>\n",
              "    </tr>\n",
              "  </thead>\n",
              "  <tbody>\n",
              "    <tr>\n",
              "      <th>2018-02-02</th>\n",
              "      <td>28.3</td>\n",
              "      <td>28.6</td>\n",
              "      <td>28.45</td>\n",
              "    </tr>\n",
              "    <tr>\n",
              "      <th>2018-02-03</th>\n",
              "      <td>29.1</td>\n",
              "      <td>32.1</td>\n",
              "      <td>30.60</td>\n",
              "    </tr>\n",
              "    <tr>\n",
              "      <th>2018-02-04</th>\n",
              "      <td>NaN</td>\n",
              "      <td>26.0</td>\n",
              "      <td>NaN</td>\n",
              "    </tr>\n",
              "  </tbody>\n",
              "</table>\n",
              "</div>"
            ],
            "text/plain": [
              "            Sensor A  Sensor B  Médias\n",
              "Data                                  \n",
              "2018-02-02      28.3      28.6   28.45\n",
              "2018-02-03      29.1      32.1   30.60\n",
              "2018-02-04       NaN      26.0     NaN"
            ]
          },
          "metadata": {
            "tags": []
          },
          "execution_count": 50
        }
      ]
    },
    {
      "cell_type": "code",
      "metadata": {
        "id": "0aYApdRXzaIX",
        "outputId": "875aae3b-361d-4cbd-f5c5-4f850b7b3c9a",
        "colab": {
          "base_uri": "https://localhost:8080/",
          "height": 102
        }
      },
      "source": [
        "# seleção pelo intervalo de indice e nome de coluna\n",
        "df1.loc['2018-02-02':'2018-02-06','Médias']"
      ],
      "execution_count": null,
      "outputs": [
        {
          "output_type": "execute_result",
          "data": {
            "text/plain": [
              "Data\n",
              "2018-02-02    28.45\n",
              "2018-02-03    30.60\n",
              "2018-02-04      NaN\n",
              "Name: Médias, dtype: float64"
            ]
          },
          "metadata": {
            "tags": []
          },
          "execution_count": 52
        }
      ]
    },
    {
      "cell_type": "code",
      "metadata": {
        "id": "xRgNvTzUzpiv",
        "outputId": "aa41cdd5-1551-4dbf-e3ad-3303fa4e92a8",
        "colab": {
          "base_uri": "https://localhost:8080/",
          "height": 173
        }
      },
      "source": [
        "# seleção pelo intervalo de indice e lista de nomes de coluna\n",
        "df1.loc['2018-02-02':'2018-02-06',['Médias','Sensor A']]"
      ],
      "execution_count": null,
      "outputs": [
        {
          "output_type": "execute_result",
          "data": {
            "text/html": [
              "<div>\n",
              "<style scoped>\n",
              "    .dataframe tbody tr th:only-of-type {\n",
              "        vertical-align: middle;\n",
              "    }\n",
              "\n",
              "    .dataframe tbody tr th {\n",
              "        vertical-align: top;\n",
              "    }\n",
              "\n",
              "    .dataframe thead th {\n",
              "        text-align: right;\n",
              "    }\n",
              "</style>\n",
              "<table border=\"1\" class=\"dataframe\">\n",
              "  <thead>\n",
              "    <tr style=\"text-align: right;\">\n",
              "      <th></th>\n",
              "      <th>Médias</th>\n",
              "      <th>Sensor A</th>\n",
              "    </tr>\n",
              "    <tr>\n",
              "      <th>Data</th>\n",
              "      <th></th>\n",
              "      <th></th>\n",
              "    </tr>\n",
              "  </thead>\n",
              "  <tbody>\n",
              "    <tr>\n",
              "      <th>2018-02-02</th>\n",
              "      <td>28.45</td>\n",
              "      <td>28.3</td>\n",
              "    </tr>\n",
              "    <tr>\n",
              "      <th>2018-02-03</th>\n",
              "      <td>30.60</td>\n",
              "      <td>29.1</td>\n",
              "    </tr>\n",
              "    <tr>\n",
              "      <th>2018-02-04</th>\n",
              "      <td>NaN</td>\n",
              "      <td>NaN</td>\n",
              "    </tr>\n",
              "  </tbody>\n",
              "</table>\n",
              "</div>"
            ],
            "text/plain": [
              "            Médias  Sensor A\n",
              "Data                        \n",
              "2018-02-02   28.45      28.3\n",
              "2018-02-03   30.60      29.1\n",
              "2018-02-04     NaN       NaN"
            ]
          },
          "metadata": {
            "tags": []
          },
          "execution_count": 53
        }
      ]
    },
    {
      "cell_type": "code",
      "metadata": {
        "id": "cDIEPv8rz7Hu",
        "outputId": "d20e1546-8ca7-4169-9ea2-735a5abefab4",
        "colab": {
          "base_uri": "https://localhost:8080/",
          "height": 108
        }
      },
      "source": [
        "# seleção pelo intervalo de posições\n",
        "df1.iloc[1:3]"
      ],
      "execution_count": null,
      "outputs": [
        {
          "output_type": "execute_result",
          "data": {
            "text/html": [
              "<div>\n",
              "<style scoped>\n",
              "    .dataframe tbody tr th:only-of-type {\n",
              "        vertical-align: middle;\n",
              "    }\n",
              "\n",
              "    .dataframe tbody tr th {\n",
              "        vertical-align: top;\n",
              "    }\n",
              "\n",
              "    .dataframe thead th {\n",
              "        text-align: right;\n",
              "    }\n",
              "</style>\n",
              "<table border=\"1\" class=\"dataframe\">\n",
              "  <thead>\n",
              "    <tr style=\"text-align: right;\">\n",
              "      <th></th>\n",
              "      <th>Sensor A</th>\n",
              "      <th>Sensor B</th>\n",
              "      <th>Médias</th>\n",
              "    </tr>\n",
              "  </thead>\n",
              "  <tbody>\n",
              "    <tr>\n",
              "      <th>2018-02-02</th>\n",
              "      <td>28.3</td>\n",
              "      <td>28.6</td>\n",
              "      <td>28.45</td>\n",
              "    </tr>\n",
              "    <tr>\n",
              "      <th>2018-02-03</th>\n",
              "      <td>29.1</td>\n",
              "      <td>32.1</td>\n",
              "      <td>30.60</td>\n",
              "    </tr>\n",
              "  </tbody>\n",
              "</table>\n",
              "</div>"
            ],
            "text/plain": [
              "            Sensor A  Sensor B  Médias\n",
              "2018-02-02      28.3      28.6   28.45\n",
              "2018-02-03      29.1      32.1   30.60"
            ]
          },
          "metadata": {
            "tags": []
          },
          "execution_count": 92
        }
      ]
    },
    {
      "cell_type": "code",
      "metadata": {
        "id": "Mc-sgHNCoFg6",
        "outputId": "c83bea2c-3029-4c0c-9a6c-dc0903664a82",
        "colab": {
          "base_uri": "https://localhost:8080/",
          "height": 69
        }
      },
      "source": [
        "#seleção pela posição de linha e coluna\n",
        "df1.iloc[0,1:3]"
      ],
      "execution_count": null,
      "outputs": [
        {
          "output_type": "execute_result",
          "data": {
            "text/plain": [
              "Sensor B   NaN\n",
              "Médias     NaN\n",
              "Name: 2018-02-01, dtype: float64"
            ]
          },
          "metadata": {
            "tags": []
          },
          "execution_count": 93
        }
      ]
    },
    {
      "cell_type": "markdown",
      "metadata": {
        "id": "nPq8qj7g0T3T"
      },
      "source": [
        "### Expressões\n",
        "\n",
        "Expressões são operações que podem ser feitas com DataFrames, Séries e Índices utilizando operadores lógicos e de comparação, com o objetivo de criar filtros para gerar subconjuntos de dados."
      ]
    },
    {
      "cell_type": "markdown",
      "metadata": {
        "id": "XfjtERFCyX1j"
      },
      "source": [
        "Os comparadores lógicos são:\n",
        "* __<__  : menor que ...\n",
        "* __>__  : maior que ...\n",
        "* __==__  : igual a  ...\n",
        "* __<=__  : menor ou igual a  ...\n",
        "* __>=__  : maior ou igual a  ...\n",
        "* __!=__  : diferente de ...\n",
        "* __isnull()__  : se o valor é nulo ou faltante (NaN) ...\n",
        "* __notnull()__  : se o valor não é nulo e nem faltante (NaN) ...\n",
        "* __isin()__  : se o valor está contido em um dos dados informados em uma lista ...\n",
        "\n",
        "Os operadores lógicos são:\n",
        "* __&__: operador E (and)\n",
        "* __|__: operador OU (or)\n",
        "* __~__: operador NÃO (not)\n",
        "* __^__: operador OU EXCLUSIVO (xor)\n",
        "* __any()__: se algum elemento da lista for True retornará True\n",
        "* __all()__: se todos os elementos da lista forem True retornará True"
      ]
    },
    {
      "cell_type": "markdown",
      "metadata": {
        "id": "FgQnFRtbyX1S"
      },
      "source": [
        "Vejamos um exemplo de expressão:"
      ]
    },
    {
      "cell_type": "code",
      "metadata": {
        "id": "sMNOpaJByX1T",
        "outputId": "6d6cdf80-4882-4d65-b6a1-24362f5a3bf9",
        "colab": {
          "base_uri": "https://localhost:8080/",
          "height": 121
        }
      },
      "source": [
        "# utilizando um operador de comparação associado a uma\n",
        "# estrutura de dados do pandas temos uma expressão\n",
        "expressao = df1['Sensor A'] >= 25\n",
        "\n",
        "print(type(expressao))\n",
        "\n",
        "expressao.head()"
      ],
      "execution_count": null,
      "outputs": [
        {
          "output_type": "stream",
          "text": [
            "<class 'pandas.core.series.Series'>\n"
          ],
          "name": "stdout"
        },
        {
          "output_type": "execute_result",
          "data": {
            "text/plain": [
              "2018-02-01     True\n",
              "2018-02-02     True\n",
              "2018-02-03     True\n",
              "2018-02-04    False\n",
              "Name: Sensor A, dtype: bool"
            ]
          },
          "metadata": {
            "tags": []
          },
          "execution_count": 94
        }
      ]
    },
    {
      "cell_type": "code",
      "metadata": {
        "id": "-zYahtzoyX1Y",
        "outputId": "9a640b23-7a07-4930-9a86-bcb32e5b57b8",
        "colab": {
          "base_uri": "https://localhost:8080/",
          "height": 104
        }
      },
      "source": [
        "expressao.describe()"
      ],
      "execution_count": null,
      "outputs": [
        {
          "output_type": "execute_result",
          "data": {
            "text/plain": [
              "count        4\n",
              "unique       2\n",
              "top       True\n",
              "freq         3\n",
              "Name: Sensor A, dtype: object"
            ]
          },
          "metadata": {
            "tags": []
          },
          "execution_count": 95
        }
      ]
    },
    {
      "cell_type": "markdown",
      "metadata": {
        "id": "8UZd2-u-yX1c"
      },
      "source": [
        "As expressões são séries ou dataframes com o mesmo tamanho dos originais, porém seus valores são preenchidos com True ou False de acordo com a avaliação da expressão para cada item. Essas séries ou dataframes de booleanos podem ser passados para os operadores de indexação `[ ]` e `loc[]`."
      ]
    },
    {
      "cell_type": "code",
      "metadata": {
        "id": "QAEQoKyEyX1c",
        "outputId": "ab1fc9f9-a48c-4440-985b-c79aa4e13295",
        "colab": {
          "base_uri": "https://localhost:8080/",
          "height": 155
        }
      },
      "source": [
        "print(df1[expressao].shape)\n",
        "\n",
        "df1[expressao].head()\n",
        "\n",
        "# ou\n",
        "\n",
        "df1.loc[expressao].head()"
      ],
      "execution_count": null,
      "outputs": [
        {
          "output_type": "stream",
          "text": [
            "(3, 3)\n"
          ],
          "name": "stdout"
        },
        {
          "output_type": "execute_result",
          "data": {
            "text/html": [
              "<div>\n",
              "<style scoped>\n",
              "    .dataframe tbody tr th:only-of-type {\n",
              "        vertical-align: middle;\n",
              "    }\n",
              "\n",
              "    .dataframe tbody tr th {\n",
              "        vertical-align: top;\n",
              "    }\n",
              "\n",
              "    .dataframe thead th {\n",
              "        text-align: right;\n",
              "    }\n",
              "</style>\n",
              "<table border=\"1\" class=\"dataframe\">\n",
              "  <thead>\n",
              "    <tr style=\"text-align: right;\">\n",
              "      <th></th>\n",
              "      <th>Sensor A</th>\n",
              "      <th>Sensor B</th>\n",
              "      <th>Médias</th>\n",
              "    </tr>\n",
              "  </thead>\n",
              "  <tbody>\n",
              "    <tr>\n",
              "      <th>2018-02-01</th>\n",
              "      <td>27.0</td>\n",
              "      <td>NaN</td>\n",
              "      <td>NaN</td>\n",
              "    </tr>\n",
              "    <tr>\n",
              "      <th>2018-02-02</th>\n",
              "      <td>28.3</td>\n",
              "      <td>28.6</td>\n",
              "      <td>28.45</td>\n",
              "    </tr>\n",
              "    <tr>\n",
              "      <th>2018-02-03</th>\n",
              "      <td>29.1</td>\n",
              "      <td>32.1</td>\n",
              "      <td>30.60</td>\n",
              "    </tr>\n",
              "  </tbody>\n",
              "</table>\n",
              "</div>"
            ],
            "text/plain": [
              "            Sensor A  Sensor B  Médias\n",
              "2018-02-01      27.0       NaN     NaN\n",
              "2018-02-02      28.3      28.6   28.45\n",
              "2018-02-03      29.1      32.1   30.60"
            ]
          },
          "metadata": {
            "tags": []
          },
          "execution_count": 96
        }
      ]
    },
    {
      "cell_type": "markdown",
      "metadata": {
        "id": "6kFvew0jyX1g"
      },
      "source": [
        "Podemos utilizar operadores lógicos para avaliar mais de uma expressão caso sejam necessárias condicionais mais complexas para os filtros."
      ]
    },
    {
      "cell_type": "code",
      "metadata": {
        "id": "VT3UPqFryX1g",
        "outputId": "4f62eb89-7e50-42ce-b32f-d26462e919b4",
        "colab": {
          "base_uri": "https://localhost:8080/",
          "height": 185
        }
      },
      "source": [
        "expressao = (df1['Sensor A'] >= 25) | (df1['Sensor A'].isnull())\n",
        "print(df1[expressao].shape)\n",
        "df1.loc[expressao].head()"
      ],
      "execution_count": null,
      "outputs": [
        {
          "output_type": "stream",
          "text": [
            "(4, 3)\n"
          ],
          "name": "stdout"
        },
        {
          "output_type": "execute_result",
          "data": {
            "text/html": [
              "<div>\n",
              "<style scoped>\n",
              "    .dataframe tbody tr th:only-of-type {\n",
              "        vertical-align: middle;\n",
              "    }\n",
              "\n",
              "    .dataframe tbody tr th {\n",
              "        vertical-align: top;\n",
              "    }\n",
              "\n",
              "    .dataframe thead th {\n",
              "        text-align: right;\n",
              "    }\n",
              "</style>\n",
              "<table border=\"1\" class=\"dataframe\">\n",
              "  <thead>\n",
              "    <tr style=\"text-align: right;\">\n",
              "      <th></th>\n",
              "      <th>Sensor A</th>\n",
              "      <th>Sensor B</th>\n",
              "      <th>Médias</th>\n",
              "    </tr>\n",
              "  </thead>\n",
              "  <tbody>\n",
              "    <tr>\n",
              "      <th>2018-02-01</th>\n",
              "      <td>27.0</td>\n",
              "      <td>NaN</td>\n",
              "      <td>NaN</td>\n",
              "    </tr>\n",
              "    <tr>\n",
              "      <th>2018-02-02</th>\n",
              "      <td>28.3</td>\n",
              "      <td>28.6</td>\n",
              "      <td>28.45</td>\n",
              "    </tr>\n",
              "    <tr>\n",
              "      <th>2018-02-03</th>\n",
              "      <td>29.1</td>\n",
              "      <td>32.1</td>\n",
              "      <td>30.60</td>\n",
              "    </tr>\n",
              "    <tr>\n",
              "      <th>2018-02-04</th>\n",
              "      <td>NaN</td>\n",
              "      <td>26.0</td>\n",
              "      <td>NaN</td>\n",
              "    </tr>\n",
              "  </tbody>\n",
              "</table>\n",
              "</div>"
            ],
            "text/plain": [
              "            Sensor A  Sensor B  Médias\n",
              "2018-02-01      27.0       NaN     NaN\n",
              "2018-02-02      28.3      28.6   28.45\n",
              "2018-02-03      29.1      32.1   30.60\n",
              "2018-02-04       NaN      26.0     NaN"
            ]
          },
          "metadata": {
            "tags": []
          },
          "execution_count": 97
        }
      ]
    },
    {
      "cell_type": "markdown",
      "metadata": {
        "id": "dyf4UdYC6F2y"
      },
      "source": [
        "Exemplo de uso de expressões para tratar dados faltantes:"
      ]
    },
    {
      "cell_type": "code",
      "metadata": {
        "id": "1vl3Gwzm3NJP"
      },
      "source": [
        "exp1 = df1['Sensor A'].isnull()\n",
        "exp2 = df1['Sensor B'].isnull()\n",
        "exp3 = df1['Sensor A'].notnull() & df1['Sensor B'].notnull()"
      ],
      "execution_count": null,
      "outputs": []
    },
    {
      "cell_type": "code",
      "metadata": {
        "id": "VwzI2UTG4knB",
        "outputId": "021202a0-5585-40e4-be54-a2ce10f3443f",
        "colab": {
          "base_uri": "https://localhost:8080/",
          "height": 35
        }
      },
      "source": [
        "df1.shape"
      ],
      "execution_count": null,
      "outputs": [
        {
          "output_type": "execute_result",
          "data": {
            "text/plain": [
              "(4, 3)"
            ]
          },
          "metadata": {
            "tags": []
          },
          "execution_count": 100
        }
      ]
    },
    {
      "cell_type": "code",
      "metadata": {
        "id": "j0eoy7ZL3qb-",
        "outputId": "b34496e3-5352-4c3f-bc83-e8f2f328a993",
        "colab": {
          "base_uri": "https://localhost:8080/",
          "height": 104
        }
      },
      "source": [
        "nv = []\n",
        "for i in range(df1.shape[0]):\n",
        "  if exp3[i]:\n",
        "    nv.append(df1['Médias'][i])\n",
        "  elif exp1[i]:\n",
        "    nv.append(df1['Sensor B'][i])\n",
        "  else:\n",
        "    nv.append(df1['Sensor A'][i])\n",
        "\n",
        "df1['Médias limpas']= nv\n",
        "print(df1)"
      ],
      "execution_count": null,
      "outputs": [
        {
          "output_type": "stream",
          "text": [
            "            Sensor A  Sensor B  Médias  Médias limpas\n",
            "2018-02-01      27.0       NaN     NaN          27.00\n",
            "2018-02-02      28.3      28.6   28.45          28.45\n",
            "2018-02-03      29.1      32.1   30.60          30.60\n",
            "2018-02-04       NaN      26.0     NaN          26.00\n"
          ],
          "name": "stdout"
        }
      ]
    },
    {
      "cell_type": "markdown",
      "metadata": {
        "id": "w6CW2e8Klp-B"
      },
      "source": [
        "## Expressões em duas dimensões"
      ]
    },
    {
      "cell_type": "code",
      "metadata": {
        "id": "OUANz0fOh79x",
        "outputId": "73152bb8-22e6-409c-a40f-4a7a6ea2d29f",
        "colab": {
          "base_uri": "https://localhost:8080/",
          "height": 190
        }
      },
      "source": [
        "exp4 = df1.notnull()\n",
        "exp5 = df1 > 25\n",
        "print(exp4,'\\n',exp5)"
      ],
      "execution_count": null,
      "outputs": [
        {
          "output_type": "stream",
          "text": [
            "            Sensor A  Sensor B  Médias  Médias limpas\n",
            "2018-02-01      True     False   False           True\n",
            "2018-02-02      True      True    True           True\n",
            "2018-02-03      True      True    True           True\n",
            "2018-02-04     False      True   False           True \n",
            "             Sensor A  Sensor B  Médias  Médias limpas\n",
            "2018-02-01      True     False   False           True\n",
            "2018-02-02      True      True    True           True\n",
            "2018-02-03      True      True    True           True\n",
            "2018-02-04     False      True   False           True\n"
          ],
          "name": "stdout"
        }
      ]
    },
    {
      "cell_type": "code",
      "metadata": {
        "id": "l5aPl1rJiXIj",
        "outputId": "da013424-b9e4-4df3-ee54-eeabf78501d4",
        "colab": {
          "base_uri": "https://localhost:8080/",
          "height": 116
        }
      },
      "source": [
        "df1[exp4 & exp5].count(axis=1)"
      ],
      "execution_count": null,
      "outputs": [
        {
          "output_type": "execute_result",
          "data": {
            "text/plain": [
              "Data\n",
              "2018-02-01    0\n",
              "2018-02-02    4\n",
              "2018-02-03    4\n",
              "2018-02-04    2\n",
              "dtype: int64"
            ]
          },
          "metadata": {
            "tags": []
          },
          "execution_count": 164
        }
      ]
    },
    {
      "cell_type": "code",
      "metadata": {
        "id": "B3nvbYv_UOpS",
        "colab": {
          "base_uri": "https://localhost:8080/",
          "height": 168
        },
        "outputId": "d00e6821-7697-4efc-be88-b8fef83fb0e3"
      },
      "source": [
        "df1[exp4 & exp5]"
      ],
      "execution_count": null,
      "outputs": [
        {
          "output_type": "execute_result",
          "data": {
            "text/html": [
              "<div>\n",
              "<style scoped>\n",
              "    .dataframe tbody tr th:only-of-type {\n",
              "        vertical-align: middle;\n",
              "    }\n",
              "\n",
              "    .dataframe tbody tr th {\n",
              "        vertical-align: top;\n",
              "    }\n",
              "\n",
              "    .dataframe thead th {\n",
              "        text-align: right;\n",
              "    }\n",
              "</style>\n",
              "<table border=\"1\" class=\"dataframe\">\n",
              "  <thead>\n",
              "    <tr style=\"text-align: right;\">\n",
              "      <th></th>\n",
              "      <th>Sensor A</th>\n",
              "      <th>Sensor B</th>\n",
              "      <th>Médias</th>\n",
              "      <th>Médias limpas</th>\n",
              "    </tr>\n",
              "  </thead>\n",
              "  <tbody>\n",
              "    <tr>\n",
              "      <th>2018-02-01</th>\n",
              "      <td>27.0</td>\n",
              "      <td>NaN</td>\n",
              "      <td>NaN</td>\n",
              "      <td>27.00</td>\n",
              "    </tr>\n",
              "    <tr>\n",
              "      <th>2018-02-02</th>\n",
              "      <td>28.3</td>\n",
              "      <td>28.6</td>\n",
              "      <td>28.45</td>\n",
              "      <td>28.45</td>\n",
              "    </tr>\n",
              "    <tr>\n",
              "      <th>2018-02-03</th>\n",
              "      <td>29.1</td>\n",
              "      <td>32.1</td>\n",
              "      <td>30.60</td>\n",
              "      <td>30.60</td>\n",
              "    </tr>\n",
              "    <tr>\n",
              "      <th>2018-02-04</th>\n",
              "      <td>NaN</td>\n",
              "      <td>26.0</td>\n",
              "      <td>NaN</td>\n",
              "      <td>26.00</td>\n",
              "    </tr>\n",
              "  </tbody>\n",
              "</table>\n",
              "</div>"
            ],
            "text/plain": [
              "            Sensor A  Sensor B  Médias  Médias limpas\n",
              "2018-02-01      27.0       NaN     NaN          27.00\n",
              "2018-02-02      28.3      28.6   28.45          28.45\n",
              "2018-02-03      29.1      32.1   30.60          30.60\n",
              "2018-02-04       NaN      26.0     NaN          26.00"
            ]
          },
          "metadata": {
            "tags": []
          },
          "execution_count": 103
        }
      ]
    },
    {
      "cell_type": "markdown",
      "metadata": {
        "id": "ukY7v_3QdeNB"
      },
      "source": [
        "### As expressões, embora booleanas, podem ser manipuladas como números (0 e 1) em expressões aritméticas"
      ]
    },
    {
      "cell_type": "code",
      "metadata": {
        "id": "iP75XuwddZjR",
        "outputId": "f3ad7cba-25bf-4e1c-97b7-407cad32c4be",
        "colab": {
          "base_uri": "https://localhost:8080/",
          "height": 35
        }
      },
      "source": [
        "#contando o número de linhas que a expressão 1 define\n",
        "(exp4.sum()).sum()"
      ],
      "execution_count": null,
      "outputs": [
        {
          "output_type": "execute_result",
          "data": {
            "text/plain": [
              "12"
            ]
          },
          "metadata": {
            "tags": []
          },
          "execution_count": 105
        }
      ]
    },
    {
      "cell_type": "code",
      "metadata": {
        "id": "WeHZE-7Dd5r8",
        "outputId": "19b7ec7f-2851-4863-ee7b-f67148b20c0a",
        "colab": {
          "base_uri": "https://localhost:8080/",
          "height": 35
        }
      },
      "source": [
        "#posição na expressão 1 do seu primeiro valor True (primeira linha com nulo na coluna 'Sensor A')\n",
        "exp1.argmax()"
      ],
      "execution_count": null,
      "outputs": [
        {
          "output_type": "execute_result",
          "data": {
            "text/plain": [
              "3"
            ]
          },
          "metadata": {
            "tags": []
          },
          "execution_count": 106
        }
      ]
    },
    {
      "cell_type": "code",
      "metadata": {
        "id": "cYo0ztQUU7d2",
        "colab": {
          "base_uri": "https://localhost:8080/",
          "height": 104
        },
        "outputId": "35dcffe1-ea6e-42ed-915e-ce922753792a"
      },
      "source": [
        "exp1"
      ],
      "execution_count": null,
      "outputs": [
        {
          "output_type": "execute_result",
          "data": {
            "text/plain": [
              "2018-02-01    False\n",
              "2018-02-02    False\n",
              "2018-02-03    False\n",
              "2018-02-04     True\n",
              "Name: Sensor A, dtype: bool"
            ]
          },
          "metadata": {
            "tags": []
          },
          "execution_count": 107
        }
      ]
    },
    {
      "cell_type": "markdown",
      "metadata": {
        "id": "KFvswULv6rN6"
      },
      "source": [
        "# Exercício 5\n",
        "\n",
        "Corrija os problemas de dados faltantes no dataframe do exercício anterior substituindo-os pela taxa média do câmbio no dia."
      ]
    },
    {
      "cell_type": "code",
      "metadata": {
        "id": "LOytLWPEgmsN"
      },
      "source": [],
      "execution_count": null,
      "outputs": []
    },
    {
      "cell_type": "markdown",
      "metadata": {
        "id": "AOzoDVYPgnrQ"
      },
      "source": [
        "## Operações entre colunas"
      ]
    },
    {
      "cell_type": "code",
      "metadata": {
        "id": "9oKsRB51gHOY"
      },
      "source": [
        "#criando uma nova coluna a partir da operação sobre outras\n",
        "df1['desvio A']=df1['Sensor A']-df1['Médias limpas']"
      ],
      "execution_count": null,
      "outputs": []
    },
    {
      "cell_type": "code",
      "metadata": {
        "id": "6SCzRaMeggRN"
      },
      "source": [
        "df1['desvio B']=df1['Sensor B']-df1['Médias limpas']"
      ],
      "execution_count": null,
      "outputs": []
    },
    {
      "cell_type": "code",
      "metadata": {
        "id": "I6KtDl9dgjd8",
        "outputId": "e9f0a39f-ec79-40b6-800f-98e89c988112",
        "colab": {
          "base_uri": "https://localhost:8080/",
          "height": 168
        }
      },
      "source": [
        "df1"
      ],
      "execution_count": null,
      "outputs": [
        {
          "output_type": "execute_result",
          "data": {
            "text/html": [
              "<div>\n",
              "<style scoped>\n",
              "    .dataframe tbody tr th:only-of-type {\n",
              "        vertical-align: middle;\n",
              "    }\n",
              "\n",
              "    .dataframe tbody tr th {\n",
              "        vertical-align: top;\n",
              "    }\n",
              "\n",
              "    .dataframe thead th {\n",
              "        text-align: right;\n",
              "    }\n",
              "</style>\n",
              "<table border=\"1\" class=\"dataframe\">\n",
              "  <thead>\n",
              "    <tr style=\"text-align: right;\">\n",
              "      <th></th>\n",
              "      <th>Sensor A</th>\n",
              "      <th>Sensor B</th>\n",
              "      <th>Médias</th>\n",
              "      <th>Médias limpas</th>\n",
              "      <th>desvio A</th>\n",
              "      <th>desvio B</th>\n",
              "    </tr>\n",
              "  </thead>\n",
              "  <tbody>\n",
              "    <tr>\n",
              "      <th>2018-02-01</th>\n",
              "      <td>27.0</td>\n",
              "      <td>NaN</td>\n",
              "      <td>NaN</td>\n",
              "      <td>27.00</td>\n",
              "      <td>0.00</td>\n",
              "      <td>NaN</td>\n",
              "    </tr>\n",
              "    <tr>\n",
              "      <th>2018-02-02</th>\n",
              "      <td>28.3</td>\n",
              "      <td>28.6</td>\n",
              "      <td>28.45</td>\n",
              "      <td>28.45</td>\n",
              "      <td>-0.15</td>\n",
              "      <td>0.15</td>\n",
              "    </tr>\n",
              "    <tr>\n",
              "      <th>2018-02-03</th>\n",
              "      <td>29.1</td>\n",
              "      <td>32.1</td>\n",
              "      <td>30.60</td>\n",
              "      <td>30.60</td>\n",
              "      <td>-1.50</td>\n",
              "      <td>1.50</td>\n",
              "    </tr>\n",
              "    <tr>\n",
              "      <th>2018-02-04</th>\n",
              "      <td>NaN</td>\n",
              "      <td>26.0</td>\n",
              "      <td>NaN</td>\n",
              "      <td>26.00</td>\n",
              "      <td>NaN</td>\n",
              "      <td>0.00</td>\n",
              "    </tr>\n",
              "  </tbody>\n",
              "</table>\n",
              "</div>"
            ],
            "text/plain": [
              "            Sensor A  Sensor B  Médias  Médias limpas  desvio A  desvio B\n",
              "2018-02-01      27.0       NaN     NaN          27.00      0.00       NaN\n",
              "2018-02-02      28.3      28.6   28.45          28.45     -0.15      0.15\n",
              "2018-02-03      29.1      32.1   30.60          30.60     -1.50      1.50\n",
              "2018-02-04       NaN      26.0     NaN          26.00       NaN      0.00"
            ]
          },
          "metadata": {
            "tags": []
          },
          "execution_count": 111
        }
      ]
    },
    {
      "cell_type": "markdown",
      "metadata": {
        "id": "ZeSs555kelrb"
      },
      "source": [
        "## Histogramas"
      ]
    },
    {
      "cell_type": "code",
      "metadata": {
        "id": "-hp5aLgaadps",
        "outputId": "8f61ad42-b1c3-43ae-e6c6-e9a416966981",
        "colab": {
          "base_uri": "https://localhost:8080/",
          "height": 402
        }
      },
      "source": [
        "df1.hist()"
      ],
      "execution_count": null,
      "outputs": [
        {
          "output_type": "execute_result",
          "data": {
            "text/plain": [
              "array([[<matplotlib.axes._subplots.AxesSubplot object at 0x7fd51861a400>,\n",
              "        <matplotlib.axes._subplots.AxesSubplot object at 0x7fd5185e8710>],\n",
              "       [<matplotlib.axes._subplots.AxesSubplot object at 0x7fd51859b978>,\n",
              "        <matplotlib.axes._subplots.AxesSubplot object at 0x7fd5185cabe0>],\n",
              "       [<matplotlib.axes._subplots.AxesSubplot object at 0x7fd51857ce48>,\n",
              "        <matplotlib.axes._subplots.AxesSubplot object at 0x7fd5185390f0>]],\n",
              "      dtype=object)"
            ]
          },
          "metadata": {
            "tags": []
          },
          "execution_count": 112
        },
        {
          "output_type": "display_data",
          "data": {
            "image/png": "[encoded data removed]",
            "text/plain": [
              "<Figure size 432x288 with 6 Axes>"
            ]
          },
          "metadata": {
            "tags": [],
            "needs_background": "light"
          }
        }
      ]
    },
    {
      "cell_type": "markdown",
      "metadata": {
        "id": "dP_Ncc63hBl8"
      },
      "source": [
        "# Exercício 6\n",
        "\n",
        "A partir do dataframe do exercício anterior crie uma nova coluna com o nome da agência (nome usado na coluna) que ofereceu a menor taxa de câmbio no dia."
      ]
    },
    {
      "cell_type": "code",
      "source": [],
      "metadata": {
        "id": "vdgCqlVDyOS_"
      },
      "execution_count": null,
      "outputs": []
    },
    {
      "cell_type": "markdown",
      "metadata": {
        "id": "SJGQRixvafyo"
      },
      "source": [
        "## Junção de dataframes\n",
        "\n",
        "A junção de múltiplos dataframes pode ser feita de duas maneiras:\n",
        "\n",
        "- quando os dataframes tem as mesmas colunas e índices diferentes: concatenação (união)\n",
        "\n",
        "- quando os dataframes tem colunas diferentes mas índices em comum: junção (join)"
      ]
    },
    {
      "cell_type": "code",
      "metadata": {
        "id": "jO6vbhiIeRVM"
      },
      "source": [
        "#concatenação\n",
        "frame1 = pd.DataFrame({'A': ['A0', 'A1', 'A2', 'A3'],\n",
        "                       'B': ['B0', 'B1', 'B2', 'B3'],\n",
        "                       'C': ['C0', 'C1', 'C2', 'C3'],\n",
        "                       'D': ['D0', 'D1', 'D2', 'D3']},\n",
        "                       index=[0, 1, 2, 3])\n",
        "\n",
        "\n",
        "frame2 = pd.DataFrame({'A': ['A4', 'A5', 'A6', 'A7'],\n",
        "                       'B': ['B4', 'B5', 'B6', 'B7'],\n",
        "                       'C': ['C4', 'C5', 'C6', 'C7'],\n",
        "                       'D': ['D4', 'D5', 'D6', 'D7']},\n",
        "                       index=[4, 5, 6, 7])\n",
        "\n",
        "\n",
        "frame3 = pd.DataFrame({'A': ['A8', 'A9', 'A10', 'A11'],\n",
        "                      'B': ['B8', 'B9', 'B10', 'B11'],\n",
        "                      'C': ['C8', 'C9', 'C10', 'C11'],\n",
        "                      'D': ['D8', 'D9', 'D10', 'D11']},\n",
        "                      index=[8, 9, 10, 11])\n",
        "\n",
        "\n",
        "frames = [frame1, frame2, frame3]\n",
        "resultado = pd.concat(frames)"
      ],
      "execution_count": null,
      "outputs": []
    },
    {
      "cell_type": "code",
      "metadata": {
        "id": "rVX0f1h_rowl",
        "outputId": "fe7b967c-0276-4dff-8137-bd3bc916d9dd",
        "colab": {
          "base_uri": "https://localhost:8080/",
          "height": 408
        }
      },
      "source": [
        "resultado"
      ],
      "execution_count": null,
      "outputs": [
        {
          "output_type": "execute_result",
          "data": {
            "text/html": [
              "<div>\n",
              "<style scoped>\n",
              "    .dataframe tbody tr th:only-of-type {\n",
              "        vertical-align: middle;\n",
              "    }\n",
              "\n",
              "    .dataframe tbody tr th {\n",
              "        vertical-align: top;\n",
              "    }\n",
              "\n",
              "    .dataframe thead th {\n",
              "        text-align: right;\n",
              "    }\n",
              "</style>\n",
              "<table border=\"1\" class=\"dataframe\">\n",
              "  <thead>\n",
              "    <tr style=\"text-align: right;\">\n",
              "      <th></th>\n",
              "      <th>A</th>\n",
              "      <th>B</th>\n",
              "      <th>C</th>\n",
              "      <th>D</th>\n",
              "    </tr>\n",
              "  </thead>\n",
              "  <tbody>\n",
              "    <tr>\n",
              "      <th>0</th>\n",
              "      <td>A0</td>\n",
              "      <td>B0</td>\n",
              "      <td>C0</td>\n",
              "      <td>D0</td>\n",
              "    </tr>\n",
              "    <tr>\n",
              "      <th>1</th>\n",
              "      <td>A1</td>\n",
              "      <td>B1</td>\n",
              "      <td>C1</td>\n",
              "      <td>D1</td>\n",
              "    </tr>\n",
              "    <tr>\n",
              "      <th>2</th>\n",
              "      <td>A2</td>\n",
              "      <td>B2</td>\n",
              "      <td>C2</td>\n",
              "      <td>D2</td>\n",
              "    </tr>\n",
              "    <tr>\n",
              "      <th>3</th>\n",
              "      <td>A3</td>\n",
              "      <td>B3</td>\n",
              "      <td>C3</td>\n",
              "      <td>D3</td>\n",
              "    </tr>\n",
              "    <tr>\n",
              "      <th>4</th>\n",
              "      <td>A4</td>\n",
              "      <td>B4</td>\n",
              "      <td>C4</td>\n",
              "      <td>D4</td>\n",
              "    </tr>\n",
              "    <tr>\n",
              "      <th>5</th>\n",
              "      <td>A5</td>\n",
              "      <td>B5</td>\n",
              "      <td>C5</td>\n",
              "      <td>D5</td>\n",
              "    </tr>\n",
              "    <tr>\n",
              "      <th>6</th>\n",
              "      <td>A6</td>\n",
              "      <td>B6</td>\n",
              "      <td>C6</td>\n",
              "      <td>D6</td>\n",
              "    </tr>\n",
              "    <tr>\n",
              "      <th>7</th>\n",
              "      <td>A7</td>\n",
              "      <td>B7</td>\n",
              "      <td>C7</td>\n",
              "      <td>D7</td>\n",
              "    </tr>\n",
              "    <tr>\n",
              "      <th>8</th>\n",
              "      <td>A8</td>\n",
              "      <td>B8</td>\n",
              "      <td>C8</td>\n",
              "      <td>D8</td>\n",
              "    </tr>\n",
              "    <tr>\n",
              "      <th>9</th>\n",
              "      <td>A9</td>\n",
              "      <td>B9</td>\n",
              "      <td>C9</td>\n",
              "      <td>D9</td>\n",
              "    </tr>\n",
              "    <tr>\n",
              "      <th>10</th>\n",
              "      <td>A10</td>\n",
              "      <td>B10</td>\n",
              "      <td>C10</td>\n",
              "      <td>D10</td>\n",
              "    </tr>\n",
              "    <tr>\n",
              "      <th>11</th>\n",
              "      <td>A11</td>\n",
              "      <td>B11</td>\n",
              "      <td>C11</td>\n",
              "      <td>D11</td>\n",
              "    </tr>\n",
              "  </tbody>\n",
              "</table>\n",
              "</div>"
            ],
            "text/plain": [
              "      A    B    C    D\n",
              "0    A0   B0   C0   D0\n",
              "1    A1   B1   C1   D1\n",
              "2    A2   B2   C2   D2\n",
              "3    A3   B3   C3   D3\n",
              "4    A4   B4   C4   D4\n",
              "5    A5   B5   C5   D5\n",
              "6    A6   B6   C6   D6\n",
              "7    A7   B7   C7   D7\n",
              "8    A8   B8   C8   D8\n",
              "9    A9   B9   C9   D9\n",
              "10  A10  B10  C10  D10\n",
              "11  A11  B11  C11  D11"
            ]
          },
          "metadata": {
            "tags": []
          },
          "execution_count": 117
        }
      ]
    },
    {
      "cell_type": "markdown",
      "metadata": {
        "id": "IkijNzdZsloT"
      },
      "source": [
        "### Join\n",
        "\n",
        "A junção entre tabelas com colunas diferentes mas índices comuns se faz indicando 'axis=1'. Em seguida, é possível definir o tipo da junção:\n",
        "\n",
        "- inner: somente linhas cujos índices apareçam em todos os dataframes a serem juntados vão fazer parte da resposta\n",
        "\n",
        "- outer: quando um índice de um dataframe não tem correspondente em outro os valores das colunas desse outro dataframe constarão como NaN"
      ]
    },
    {
      "cell_type": "code",
      "metadata": {
        "id": "1uuz8So3smWl",
        "outputId": "a3eacdaf-e279-492f-9f31-7654d774b00a",
        "colab": {
          "base_uri": "https://localhost:8080/",
          "height": 363
        }
      },
      "source": [
        "frame4 = pd.DataFrame({'B': ['B2', 'B3', 'B6', 'B7'],\n",
        "                       'D': ['D2', 'D3', 'D6', 'D7'],\n",
        "                       'F': ['F2', 'F3', 'F6', 'F7']},\n",
        "                       index=[2, 3, 6, 7])\n",
        "\n",
        "resultado2 = pd.concat([frame1, frame4], axis=1, sort=False)  # outer join por default\n",
        "resultado3 = pd.concat([frame1, frame4], axis=1, sort=False,join='inner')\n",
        "print(frame1,'\\n',frame4,'\\n',resultado2,'\\n',resultado3)"
      ],
      "execution_count": null,
      "outputs": [
        {
          "output_type": "stream",
          "text": [
            "    A   B   C   D\n",
            "0  A0  B0  C0  D0\n",
            "1  A1  B1  C1  D1\n",
            "2  A2  B2  C2  D2\n",
            "3  A3  B3  C3  D3 \n",
            "     B   D   F\n",
            "2  B2  D2  F2\n",
            "3  B3  D3  F3\n",
            "6  B6  D6  F6\n",
            "7  B7  D7  F7 \n",
            "      A    B    C    D    B    D    F\n",
            "0   A0   B0   C0   D0  NaN  NaN  NaN\n",
            "1   A1   B1   C1   D1  NaN  NaN  NaN\n",
            "2   A2   B2   C2   D2   B2   D2   F2\n",
            "3   A3   B3   C3   D3   B3   D3   F3\n",
            "6  NaN  NaN  NaN  NaN   B6   D6   F6\n",
            "7  NaN  NaN  NaN  NaN   B7   D7   F7 \n",
            "     A   B   C   D   B   D   F\n",
            "2  A2  B2  C2  D2  B2  D2  F2\n",
            "3  A3  B3  C3  D3  B3  D3  F3\n"
          ],
          "name": "stdout"
        }
      ]
    },
    {
      "cell_type": "markdown",
      "metadata": {
        "id": "nYVdiHFDxrQJ"
      },
      "source": [
        "É possível concatenar dataframes que eventualmente tenham sobreposição de índices ignorando todos os índices. Se os dataframes tiverem colunas diferentes e o ajuste será feito com NaNs."
      ]
    },
    {
      "cell_type": "code",
      "metadata": {
        "id": "b_n85OdQxfYc",
        "outputId": "067e0d36-4f33-4790-ab42-c94bd41a19ee",
        "colab": {
          "base_uri": "https://localhost:8080/",
          "height": 333
        }
      },
      "source": [
        "resultado4 = pd.concat([frame1, frame4], ignore_index=True, sort=False)\n",
        "print(frame1,'\\n',frame4,'\\n',resultado4)"
      ],
      "execution_count": null,
      "outputs": [
        {
          "output_type": "stream",
          "text": [
            "    A   B   C   D\n",
            "0  A0  B0  C0  D0\n",
            "1  A1  B1  C1  D1\n",
            "2  A2  B2  C2  D2\n",
            "3  A3  B3  C3  D3 \n",
            "     B   D   F\n",
            "2  B2  D2  F2\n",
            "3  B3  D3  F3\n",
            "6  B6  D6  F6\n",
            "7  B7  D7  F7 \n",
            "      A   B    C   D    F\n",
            "0   A0  B0   C0  D0  NaN\n",
            "1   A1  B1   C1  D1  NaN\n",
            "2   A2  B2   C2  D2  NaN\n",
            "3   A3  B3   C3  D3  NaN\n",
            "4  NaN  B2  NaN  D2   F2\n",
            "5  NaN  B3  NaN  D3   F3\n",
            "6  NaN  B6  NaN  D6   F6\n",
            "7  NaN  B7  NaN  D7   F7\n"
          ],
          "name": "stdout"
        }
      ]
    },
    {
      "cell_type": "markdown",
      "metadata": {
        "id": "XbxkqtDPvK9D"
      },
      "source": [
        "# Exercício 7\n",
        "\n",
        "Crie um segundo dataframe de cotações fictícias de ações de 3 fundos, usando datas parcialmente sobrepostas com as do dataframe de cotações do dólar. Em seguida, crie um dataframe com a junção (outer join) dos dois."
      ]
    },
    {
      "cell_type": "code",
      "metadata": {
        "id": "5alGu6HSvpw8"
      },
      "source": [],
      "execution_count": null,
      "outputs": []
    },
    {
      "cell_type": "markdown",
      "metadata": {
        "id": "TKzjNpXTfUtN"
      },
      "source": [
        "## Ordenando o dataframe"
      ]
    },
    {
      "cell_type": "code",
      "metadata": {
        "id": "6E-qbtasfLCn",
        "outputId": "a5e3564a-fec1-4b8c-82bd-0f21b5bc4296",
        "colab": {
          "base_uri": "https://localhost:8080/",
          "height": 168
        }
      },
      "source": [
        "df1.sort_values(by='Médias limpas', ascending=False)"
      ],
      "execution_count": null,
      "outputs": [
        {
          "output_type": "execute_result",
          "data": {
            "text/html": [
              "<div>\n",
              "<style scoped>\n",
              "    .dataframe tbody tr th:only-of-type {\n",
              "        vertical-align: middle;\n",
              "    }\n",
              "\n",
              "    .dataframe tbody tr th {\n",
              "        vertical-align: top;\n",
              "    }\n",
              "\n",
              "    .dataframe thead th {\n",
              "        text-align: right;\n",
              "    }\n",
              "</style>\n",
              "<table border=\"1\" class=\"dataframe\">\n",
              "  <thead>\n",
              "    <tr style=\"text-align: right;\">\n",
              "      <th></th>\n",
              "      <th>Sensor A</th>\n",
              "      <th>Sensor B</th>\n",
              "      <th>Médias</th>\n",
              "      <th>Médias limpas</th>\n",
              "      <th>desvio A</th>\n",
              "      <th>desvio B</th>\n",
              "    </tr>\n",
              "  </thead>\n",
              "  <tbody>\n",
              "    <tr>\n",
              "      <th>2018-02-03</th>\n",
              "      <td>29.1</td>\n",
              "      <td>32.1</td>\n",
              "      <td>30.60</td>\n",
              "      <td>30.60</td>\n",
              "      <td>-1.50</td>\n",
              "      <td>1.50</td>\n",
              "    </tr>\n",
              "    <tr>\n",
              "      <th>2018-02-02</th>\n",
              "      <td>28.3</td>\n",
              "      <td>28.6</td>\n",
              "      <td>28.45</td>\n",
              "      <td>28.45</td>\n",
              "      <td>-0.15</td>\n",
              "      <td>0.15</td>\n",
              "    </tr>\n",
              "    <tr>\n",
              "      <th>2018-02-01</th>\n",
              "      <td>27.0</td>\n",
              "      <td>NaN</td>\n",
              "      <td>NaN</td>\n",
              "      <td>27.00</td>\n",
              "      <td>0.00</td>\n",
              "      <td>NaN</td>\n",
              "    </tr>\n",
              "    <tr>\n",
              "      <th>2018-02-04</th>\n",
              "      <td>NaN</td>\n",
              "      <td>26.0</td>\n",
              "      <td>NaN</td>\n",
              "      <td>26.00</td>\n",
              "      <td>NaN</td>\n",
              "      <td>0.00</td>\n",
              "    </tr>\n",
              "  </tbody>\n",
              "</table>\n",
              "</div>"
            ],
            "text/plain": [
              "            Sensor A  Sensor B  Médias  Médias limpas  desvio A  desvio B\n",
              "2018-02-03      29.1      32.1   30.60          30.60     -1.50      1.50\n",
              "2018-02-02      28.3      28.6   28.45          28.45     -0.15      0.15\n",
              "2018-02-01      27.0       NaN     NaN          27.00      0.00       NaN\n",
              "2018-02-04       NaN      26.0     NaN          26.00       NaN      0.00"
            ]
          },
          "metadata": {
            "tags": []
          },
          "execution_count": 120
        }
      ]
    },
    {
      "cell_type": "markdown",
      "metadata": {
        "id": "lyCsPpMqbtqU"
      },
      "source": [
        "# Lendo dados de arquivos:\n",
        "\n",
        "O Pandas é um pacote excelente para a carga de dados estruturados a partir de arquivos delimitados e planilhas.\n",
        "\n",
        "Nesse exemplo usaremos dados recentes obtidos da internet relacionados à pandemia do COVID-19 disponibilizados na pasta do Classroom. Inspecione os arquivos disponibilizados para compreende-los e seguir no caderno.\n",
        "\n",
        "Para os exemplos a seguir é preciso seguir os seguintes passos:\n",
        "\n",
        "- criar uma pasta de nome \"dados\" na raiz do seu Google Drive\n",
        "\n",
        "- copiar o arquivo covidPorUF da pasta do Classroom dessa disciplina para essa pasta (dados retirados de https://covid19br.wcota.me/)\n",
        "\n",
        "- \"montar\" o seu google drive usado o comando abaixo (ao clicar no link em azul será aberta uma nova janela onde o usuário deverá autorizar o acesso ao seu drive. Em seguida copie o link gerado e o cole no espaço aberto abaixo do link azul):"
      ]
    },
    {
      "cell_type": "code",
      "metadata": {
        "id": "hJngK37KcgET",
        "outputId": "222274a4-ec2b-4217-daec-06bf8811a09d",
        "colab": {
          "base_uri": "https://localhost:8080/",
          "height": 124
        }
      },
      "source": [
        "from google.colab import drive\n",
        "drive.mount('/content/drive')"
      ],
      "execution_count": null,
      "outputs": [
        {
          "output_type": "stream",
          "text": [
            "Go to this URL in a browser: https://accounts.google.com/o/oauth2/auth?client_id=947318989803-6bn6qk8qdgf4n4g3pfee6491hc0brc4i.apps.googleusercontent.com&redirect_uri=urn%3aietf%3awg%3aoauth%3a2.0%3aoob&response_type=code&scope=email%20https%3a%2f%2fwww.googleapis.com%2fauth%2fdocs.test%20https%3a%2f%2fwww.googleapis.com%2fauth%2fdrive%20https%3a%2f%2fwww.googleapis.com%2fauth%2fdrive.photos.readonly%20https%3a%2f%2fwww.googleapis.com%2fauth%2fpeopleapi.readonly\n",
            "\n",
            "Enter your authorization code:\n",
            "··········\n",
            "Mounted at /content/drive\n"
          ],
          "name": "stdout"
        }
      ]
    },
    {
      "cell_type": "markdown",
      "metadata": {
        "id": "GK8XvbScdFve"
      },
      "source": [
        "Se o procedimento foi bem sucedido será possível ver uma pasta de nome \"drive\" no painel à esquerda.\n"
      ]
    },
    {
      "cell_type": "code",
      "metadata": {
        "id": "B_ZXaBmrdQ4h",
        "outputId": "0a189445-3248-47d8-b64d-a5a08c3ae974",
        "colab": {
          "base_uri": "https://localhost:8080/",
          "height": 69
        }
      },
      "source": [
        "#posicionando no diretório dados\n",
        "%pwd\n",
        "%cd drive\n",
        "%cd My Drive\n",
        "%pwd\n"
      ],
      "execution_count": null,
      "outputs": [
        {
          "output_type": "stream",
          "text": [
            "/content/drive\n",
            "/content/drive/My Drive\n"
          ],
          "name": "stdout"
        },
        {
          "output_type": "execute_result",
          "data": {
            "text/plain": [
              "'/content/drive/My Drive'"
            ]
          },
          "metadata": {
            "tags": []
          },
          "execution_count": 122
        }
      ]
    },
    {
      "cell_type": "code",
      "metadata": {
        "id": "u6cBN1W7fr0e",
        "colab": {
          "base_uri": "https://localhost:8080/",
          "height": 380
        },
        "outputId": "c16d8404-48a7-473c-86ac-90c7ff3ae88f"
      },
      "source": [
        "%ls"
      ],
      "execution_count": null,
      "outputs": [
        {
          "output_type": "stream",
          "text": [
            " \u001b[0m\u001b[01;34mbibliografia\u001b[0m/\n",
            " \u001b[01;34mClassroom\u001b[0m/\n",
            "\u001b[01;34m'Colab Notebooks'\u001b[0m/\n",
            " Consultas.docx\n",
            " \u001b[01;34mCVM\u001b[0m/\n",
            " \u001b[01;34mdados\u001b[0m/\n",
            " \u001b[01;34mDataForTailingDamDetection\u001b[0m/\n",
            " \u001b[01;34mDataForTailingDamDetectionOld\u001b[0m/\n",
            " \u001b[01;34mdocsPessoais\u001b[0m/\n",
            " \u001b[01;34mFotos\u001b[0m/\n",
            " fundosCVM.csv\n",
            "'Jam sem título'\n",
            "'Novo Documento 2020-03-25 15.41.49_20200325154208.pdf'\n",
            " \u001b[01;34mOxford\u001b[0m/\n",
            " \u001b[01;34moxfordcomputador\u001b[0m/\n",
            " \u001b[01;34mpesquisa\u001b[0m/\n",
            "'Structural Identification - general.doc'\n",
            " \u001b[01;34mTailingDamDetection\u001b[0m/\n",
            " \u001b[01;34mTCU\u001b[0m/\n",
            " \u001b[01;34mucb\u001b[0m/\n",
            "'Unidadades de Conservação_13_08.docx'\n"
          ],
          "name": "stdout"
        }
      ]
    },
    {
      "cell_type": "code",
      "metadata": {
        "id": "plsses6DbA7X",
        "outputId": "4a675bf7-bfdf-4959-c78b-34e06e6b3643",
        "colab": {
          "base_uri": "https://localhost:8080/",
          "height": 218
        }
      },
      "source": [
        "# leitura de um arquivo excel\n",
        "arquivo = os.path.join('dados', 'covidPorUF.xlsx')\n",
        "covid = pd.read_excel(arquivo)\n",
        "covid.head()"
      ],
      "execution_count": null,
      "outputs": [
        {
          "output_type": "execute_result",
          "data": {
            "text/html": [
              "<div>\n",
              "<style scoped>\n",
              "    .dataframe tbody tr th:only-of-type {\n",
              "        vertical-align: middle;\n",
              "    }\n",
              "\n",
              "    .dataframe tbody tr th {\n",
              "        vertical-align: top;\n",
              "    }\n",
              "\n",
              "    .dataframe thead th {\n",
              "        text-align: right;\n",
              "    }\n",
              "</style>\n",
              "<table border=\"1\" class=\"dataframe\">\n",
              "  <thead>\n",
              "    <tr style=\"text-align: right;\">\n",
              "      <th></th>\n",
              "      <th>country</th>\n",
              "      <th>state</th>\n",
              "      <th>totalCases</th>\n",
              "      <th>totalCasesMS</th>\n",
              "      <th>notConfirmedByMS</th>\n",
              "      <th>deaths</th>\n",
              "      <th>deathsMS</th>\n",
              "      <th>URL</th>\n",
              "      <th>deaths_per_100k_inhabitants</th>\n",
              "      <th>totalCases_per_100k_inhabitants</th>\n",
              "      <th>deaths_by_totalCases</th>\n",
              "      <th>recovered</th>\n",
              "      <th>suspects</th>\n",
              "      <th>tests</th>\n",
              "      <th>tests_per_100k_inhabitants</th>\n",
              "    </tr>\n",
              "  </thead>\n",
              "  <tbody>\n",
              "    <tr>\n",
              "      <th>0</th>\n",
              "      <td>Brazil</td>\n",
              "      <td>TOTAL</td>\n",
              "      <td>164767</td>\n",
              "      <td>162699</td>\n",
              "      <td>2068</td>\n",
              "      <td>11172</td>\n",
              "      <td>11123</td>\n",
              "      <td>https://covid.saude.gov.br/</td>\n",
              "      <td>531628.0</td>\n",
              "      <td>7840555</td>\n",
              "      <td>0.06780</td>\n",
              "      <td>48269.0</td>\n",
              "      <td>276078.0</td>\n",
              "      <td>359273.0</td>\n",
              "      <td>17096261.0</td>\n",
              "    </tr>\n",
              "    <tr>\n",
              "      <th>1</th>\n",
              "      <td>Brazil</td>\n",
              "      <td>AC</td>\n",
              "      <td>1447</td>\n",
              "      <td>1447</td>\n",
              "      <td>0</td>\n",
              "      <td>41</td>\n",
              "      <td>41</td>\n",
              "      <td>http://saude.acre.gov.br/</td>\n",
              "      <td>464887.0</td>\n",
              "      <td>16407105</td>\n",
              "      <td>0.02833</td>\n",
              "      <td>366.0</td>\n",
              "      <td>471.0</td>\n",
              "      <td>5056.0</td>\n",
              "      <td>57328488.0</td>\n",
              "    </tr>\n",
              "    <tr>\n",
              "      <th>2</th>\n",
              "      <td>Brazil</td>\n",
              "      <td>AL</td>\n",
              "      <td>2258</td>\n",
              "      <td>2258</td>\n",
              "      <td>0</td>\n",
              "      <td>126</td>\n",
              "      <td>126</td>\n",
              "      <td>http://cidadao.saude.al.gov.br/</td>\n",
              "      <td>377544.0</td>\n",
              "      <td>6765833</td>\n",
              "      <td>0.05580</td>\n",
              "      <td>1062.0</td>\n",
              "      <td>1470.0</td>\n",
              "      <td>5629.0</td>\n",
              "      <td>16866640.0</td>\n",
              "    </tr>\n",
              "    <tr>\n",
              "      <th>3</th>\n",
              "      <td>Brazil</td>\n",
              "      <td>AM</td>\n",
              "      <td>12599</td>\n",
              "      <td>12599</td>\n",
              "      <td>0</td>\n",
              "      <td>1004</td>\n",
              "      <td>1004</td>\n",
              "      <td>http://www.amazonas.am.gov.br/</td>\n",
              "      <td>2422431.0</td>\n",
              "      <td>30398613</td>\n",
              "      <td>0.07969</td>\n",
              "      <td>6597.0</td>\n",
              "      <td>993.0</td>\n",
              "      <td>NaN</td>\n",
              "      <td>NaN</td>\n",
              "    </tr>\n",
              "    <tr>\n",
              "      <th>4</th>\n",
              "      <td>Brazil</td>\n",
              "      <td>AP</td>\n",
              "      <td>2613</td>\n",
              "      <td>2613</td>\n",
              "      <td>0</td>\n",
              "      <td>72</td>\n",
              "      <td>72</td>\n",
              "      <td>https://saude.portal.ap.gov.br/</td>\n",
              "      <td>851335.0</td>\n",
              "      <td>30896349</td>\n",
              "      <td>0.02755</td>\n",
              "      <td>707.0</td>\n",
              "      <td>4942.0</td>\n",
              "      <td>10617.0</td>\n",
              "      <td>125536370.0</td>\n",
              "    </tr>\n",
              "  </tbody>\n",
              "</table>\n",
              "</div>"
            ],
            "text/plain": [
              "  country  state  totalCases  ...  suspects     tests  tests_per_100k_inhabitants\n",
              "0  Brazil  TOTAL      164767  ...  276078.0  359273.0                  17096261.0\n",
              "1  Brazil     AC        1447  ...     471.0    5056.0                  57328488.0\n",
              "2  Brazil     AL        2258  ...    1470.0    5629.0                  16866640.0\n",
              "3  Brazil     AM       12599  ...     993.0       NaN                         NaN\n",
              "4  Brazil     AP        2613  ...    4942.0   10617.0                 125536370.0\n",
              "\n",
              "[5 rows x 15 columns]"
            ]
          },
          "metadata": {
            "tags": []
          },
          "execution_count": 124
        }
      ]
    },
    {
      "cell_type": "code",
      "metadata": {
        "id": "tFpjQ7aAgmRU",
        "colab": {
          "base_uri": "https://localhost:8080/",
          "height": 397
        },
        "outputId": "ce9ac37f-880c-475c-cffe-1c37d17d9dd8"
      },
      "source": [
        "covid.info()"
      ],
      "execution_count": null,
      "outputs": [
        {
          "output_type": "stream",
          "text": [
            "<class 'pandas.core.frame.DataFrame'>\n",
            "RangeIndex: 28 entries, 0 to 27\n",
            "Data columns (total 15 columns):\n",
            " #   Column                           Non-Null Count  Dtype  \n",
            "---  ------                           --------------  -----  \n",
            " 0   country                          28 non-null     object \n",
            " 1   state                            28 non-null     object \n",
            " 2   totalCases                       28 non-null     int64  \n",
            " 3   totalCasesMS                     28 non-null     int64  \n",
            " 4   notConfirmedByMS                 28 non-null     int64  \n",
            " 5   deaths                           28 non-null     int64  \n",
            " 6   deathsMS                         28 non-null     int64  \n",
            " 7   URL                              28 non-null     object \n",
            " 8   deaths_per_100k_inhabitants      28 non-null     float64\n",
            " 9   totalCases_per_100k_inhabitants  28 non-null     int64  \n",
            " 10  deaths_by_totalCases             28 non-null     float64\n",
            " 11  recovered                        26 non-null     float64\n",
            " 12  suspects                         22 non-null     float64\n",
            " 13  tests                            25 non-null     float64\n",
            " 14  tests_per_100k_inhabitants       25 non-null     float64\n",
            "dtypes: float64(6), int64(6), object(3)\n",
            "memory usage: 3.4+ KB\n"
          ],
          "name": "stdout"
        }
      ]
    },
    {
      "cell_type": "code",
      "metadata": {
        "id": "uTsGBDQDhNh6"
      },
      "source": [
        "filtro = covid['state']!='TOTAL'"
      ],
      "execution_count": null,
      "outputs": []
    },
    {
      "cell_type": "code",
      "metadata": {
        "id": "L1L8EqkvhuIq"
      },
      "source": [
        "medias = covid[filtro].mean()"
      ],
      "execution_count": null,
      "outputs": []
    },
    {
      "cell_type": "code",
      "metadata": {
        "id": "LC-t7pQNiY5G",
        "colab": {
          "base_uri": "https://localhost:8080/",
          "height": 242
        },
        "outputId": "8784a0ff-ad78-430c-9042-b13155cdb6fd"
      },
      "source": [
        "medias"
      ],
      "execution_count": null,
      "outputs": [
        {
          "output_type": "execute_result",
          "data": {
            "text/plain": [
              "totalCases                         6.102481e+03\n",
              "totalCasesMS                       6.025889e+03\n",
              "notConfirmedByMS                   7.659259e+01\n",
              "deaths                             4.137778e+02\n",
              "deathsMS                           4.119630e+02\n",
              "deaths_per_100k_inhabitants        4.356889e+05\n",
              "totalCases_per_100k_inhabitants    9.341492e+06\n",
              "deaths_by_totalCases               4.552407e-02\n",
              "recovered                          1.930760e+03\n",
              "suspects                           1.314657e+04\n",
              "tests                              1.496971e+04\n",
              "tests_per_100k_inhabitants         3.465954e+07\n",
              "dtype: float64"
            ]
          },
          "metadata": {
            "tags": []
          },
          "execution_count": 136
        }
      ]
    },
    {
      "cell_type": "code",
      "metadata": {
        "id": "ZIC1ibeEidgw"
      },
      "source": [
        "filtro2 = covid['totalCases]\n",
        "covid[filtro & ]"
      ],
      "execution_count": null,
      "outputs": []
    },
    {
      "cell_type": "code",
      "metadata": {
        "id": "h79tD6UWgzcL"
      },
      "source": [
        "covid[filtro].sort_values(by='totalCases', ascending=False)"
      ],
      "execution_count": null,
      "outputs": []
    },
    {
      "cell_type": "markdown",
      "metadata": {
        "id": "zv2cuvnJeXZ7"
      },
      "source": [
        "# Exercício 8:\n",
        "\n",
        "Explore o dataframe criado obtendo:\n",
        "\n",
        "- o estado com maior número de casos\n",
        "\n",
        "- o estado com maior número de mortes\n",
        "\n",
        "- os estados com número de casos por 100 mil habitantes acima da média nacional\n",
        "\n",
        "- os estados com número de mortes proporcional ao número de casos abaixo da média nacional"
      ]
    },
    {
      "cell_type": "code",
      "metadata": {
        "id": "Tk-27db67F7E",
        "colab": {
          "base_uri": "https://localhost:8080/",
          "height": 368
        },
        "outputId": "bc2e66e1-9723-4a29-d00b-b311d9900294"
      },
      "source": [
        "covid.loc[covid.totalCases_per_100k_inhabitants > covid.totalCases_per_100k_inhabitants.mean()].sort_values(\"totalCases_per_100k_inhabitants\", ascending=False)"
      ],
      "execution_count": null,
      "outputs": [
        {
          "output_type": "execute_result",
          "data": {
            "text/html": [
              "<div>\n",
              "<style scoped>\n",
              "    .dataframe tbody tr th:only-of-type {\n",
              "        vertical-align: middle;\n",
              "    }\n",
              "\n",
              "    .dataframe tbody tr th {\n",
              "        vertical-align: top;\n",
              "    }\n",
              "\n",
              "    .dataframe thead th {\n",
              "        text-align: right;\n",
              "    }\n",
              "</style>\n",
              "<table border=\"1\" class=\"dataframe\">\n",
              "  <thead>\n",
              "    <tr style=\"text-align: right;\">\n",
              "      <th></th>\n",
              "      <th>country</th>\n",
              "      <th>state</th>\n",
              "      <th>totalCases</th>\n",
              "      <th>totalCasesMS</th>\n",
              "      <th>notConfirmedByMS</th>\n",
              "      <th>deaths</th>\n",
              "      <th>deathsMS</th>\n",
              "      <th>URL</th>\n",
              "      <th>deaths_per_100k_inhabitants</th>\n",
              "      <th>totalCases_per_100k_inhabitants</th>\n",
              "      <th>deaths_by_totalCases</th>\n",
              "      <th>recovered</th>\n",
              "      <th>suspects</th>\n",
              "      <th>tests</th>\n",
              "      <th>tests_per_100k_inhabitants</th>\n",
              "    </tr>\n",
              "  </thead>\n",
              "  <tbody>\n",
              "    <tr>\n",
              "      <th>4</th>\n",
              "      <td>Brazil</td>\n",
              "      <td>AP</td>\n",
              "      <td>2613</td>\n",
              "      <td>2613</td>\n",
              "      <td>0</td>\n",
              "      <td>72</td>\n",
              "      <td>72</td>\n",
              "      <td>https://saude.portal.ap.gov.br/</td>\n",
              "      <td>851335.0</td>\n",
              "      <td>30896349</td>\n",
              "      <td>0.02755</td>\n",
              "      <td>707.0</td>\n",
              "      <td>4942.0</td>\n",
              "      <td>10617.0</td>\n",
              "      <td>125536370.0</td>\n",
              "    </tr>\n",
              "    <tr>\n",
              "      <th>3</th>\n",
              "      <td>Brazil</td>\n",
              "      <td>AM</td>\n",
              "      <td>12599</td>\n",
              "      <td>12599</td>\n",
              "      <td>0</td>\n",
              "      <td>1004</td>\n",
              "      <td>1004</td>\n",
              "      <td>http://www.amazonas.am.gov.br/</td>\n",
              "      <td>2422431.0</td>\n",
              "      <td>30398613</td>\n",
              "      <td>0.07969</td>\n",
              "      <td>6597.0</td>\n",
              "      <td>993.0</td>\n",
              "      <td>NaN</td>\n",
              "      <td>NaN</td>\n",
              "    </tr>\n",
              "    <tr>\n",
              "      <th>22</th>\n",
              "      <td>Brazil</td>\n",
              "      <td>RR</td>\n",
              "      <td>1290</td>\n",
              "      <td>1290</td>\n",
              "      <td>0</td>\n",
              "      <td>21</td>\n",
              "      <td>21</td>\n",
              "      <td>https://saude.rr.gov.br/</td>\n",
              "      <td>346671.0</td>\n",
              "      <td>21295527</td>\n",
              "      <td>0.01628</td>\n",
              "      <td>271.0</td>\n",
              "      <td>60.0</td>\n",
              "      <td>1731.0</td>\n",
              "      <td>28575626.0</td>\n",
              "    </tr>\n",
              "    <tr>\n",
              "      <th>6</th>\n",
              "      <td>Brazil</td>\n",
              "      <td>CE</td>\n",
              "      <td>16775</td>\n",
              "      <td>16692</td>\n",
              "      <td>83</td>\n",
              "      <td>1114</td>\n",
              "      <td>1114</td>\n",
              "      <td>https://www.saude.ce.gov.br</td>\n",
              "      <td>1219876.0</td>\n",
              "      <td>18369313</td>\n",
              "      <td>0.06641</td>\n",
              "      <td>8463.0</td>\n",
              "      <td>28363.0</td>\n",
              "      <td>43575.0</td>\n",
              "      <td>47716412.0</td>\n",
              "    </tr>\n",
              "    <tr>\n",
              "      <th>1</th>\n",
              "      <td>Brazil</td>\n",
              "      <td>AC</td>\n",
              "      <td>1447</td>\n",
              "      <td>1447</td>\n",
              "      <td>0</td>\n",
              "      <td>41</td>\n",
              "      <td>41</td>\n",
              "      <td>http://saude.acre.gov.br/</td>\n",
              "      <td>464887.0</td>\n",
              "      <td>16407105</td>\n",
              "      <td>0.02833</td>\n",
              "      <td>366.0</td>\n",
              "      <td>471.0</td>\n",
              "      <td>5056.0</td>\n",
              "      <td>57328488.0</td>\n",
              "    </tr>\n",
              "    <tr>\n",
              "      <th>16</th>\n",
              "      <td>Brazil</td>\n",
              "      <td>PE</td>\n",
              "      <td>13275</td>\n",
              "      <td>13275</td>\n",
              "      <td>0</td>\n",
              "      <td>1047</td>\n",
              "      <td>1047</td>\n",
              "      <td>http://www.pe.gov.br/blog/saude/</td>\n",
              "      <td>1095524.0</td>\n",
              "      <td>13890239</td>\n",
              "      <td>0.07887</td>\n",
              "      <td>1522.0</td>\n",
              "      <td>NaN</td>\n",
              "      <td>21380.0</td>\n",
              "      <td>22370871.0</td>\n",
              "    </tr>\n",
              "    <tr>\n",
              "      <th>10</th>\n",
              "      <td>Brazil</td>\n",
              "      <td>MA</td>\n",
              "      <td>8144</td>\n",
              "      <td>7599</td>\n",
              "      <td>545</td>\n",
              "      <td>399</td>\n",
              "      <td>379</td>\n",
              "      <td>http://www.saude.ma.gov.br/</td>\n",
              "      <td>563943.0</td>\n",
              "      <td>11510660</td>\n",
              "      <td>0.04899</td>\n",
              "      <td>1742.0</td>\n",
              "      <td>5024.0</td>\n",
              "      <td>16512.0</td>\n",
              "      <td>23337919.0</td>\n",
              "    </tr>\n",
              "    <tr>\n",
              "      <th>8</th>\n",
              "      <td>Brazil</td>\n",
              "      <td>ES</td>\n",
              "      <td>4599</td>\n",
              "      <td>4599</td>\n",
              "      <td>0</td>\n",
              "      <td>181</td>\n",
              "      <td>181</td>\n",
              "      <td>https://saude.es.gov.br/</td>\n",
              "      <td>450400.0</td>\n",
              "      <td>11444142</td>\n",
              "      <td>0.03936</td>\n",
              "      <td>1655.0</td>\n",
              "      <td>NaN</td>\n",
              "      <td>19952.0</td>\n",
              "      <td>49648514.0</td>\n",
              "    </tr>\n",
              "    <tr>\n",
              "      <th>26</th>\n",
              "      <td>Brazil</td>\n",
              "      <td>SP</td>\n",
              "      <td>46131</td>\n",
              "      <td>45444</td>\n",
              "      <td>687</td>\n",
              "      <td>3709</td>\n",
              "      <td>3709</td>\n",
              "      <td>http://www.saopaulo.sp.gov.br/</td>\n",
              "      <td>807726.0</td>\n",
              "      <td>10046158</td>\n",
              "      <td>0.08040</td>\n",
              "      <td>1524.0</td>\n",
              "      <td>109207.0</td>\n",
              "      <td>35600.0</td>\n",
              "      <td>7752774.0</td>\n",
              "    </tr>\n",
              "    <tr>\n",
              "      <th>19</th>\n",
              "      <td>Brazil</td>\n",
              "      <td>RJ</td>\n",
              "      <td>17062</td>\n",
              "      <td>17062</td>\n",
              "      <td>0</td>\n",
              "      <td>1714</td>\n",
              "      <td>1714</td>\n",
              "      <td>http://www.rj.gov.br/</td>\n",
              "      <td>992763.0</td>\n",
              "      <td>9882454</td>\n",
              "      <td>0.10046</td>\n",
              "      <td>10732.0</td>\n",
              "      <td>NaN</td>\n",
              "      <td>NaN</td>\n",
              "      <td>NaN</td>\n",
              "    </tr>\n",
              "  </tbody>\n",
              "</table>\n",
              "</div>"
            ],
            "text/plain": [
              "   country state  totalCases  ...  suspects    tests  tests_per_100k_inhabitants\n",
              "4   Brazil    AP        2613  ...    4942.0  10617.0                 125536370.0\n",
              "3   Brazil    AM       12599  ...     993.0      NaN                         NaN\n",
              "22  Brazil    RR        1290  ...      60.0   1731.0                  28575626.0\n",
              "6   Brazil    CE       16775  ...   28363.0  43575.0                  47716412.0\n",
              "1   Brazil    AC        1447  ...     471.0   5056.0                  57328488.0\n",
              "16  Brazil    PE       13275  ...       NaN  21380.0                  22370871.0\n",
              "10  Brazil    MA        8144  ...    5024.0  16512.0                  23337919.0\n",
              "8   Brazil    ES        4599  ...       NaN  19952.0                  49648514.0\n",
              "26  Brazil    SP       46131  ...  109207.0  35600.0                   7752774.0\n",
              "19  Brazil    RJ       17062  ...       NaN      NaN                         NaN\n",
              "\n",
              "[10 rows x 15 columns]"
            ]
          },
          "metadata": {
            "tags": []
          },
          "execution_count": 137
        }
      ]
    },
    {
      "cell_type": "code",
      "metadata": {
        "id": "vOAr0eGKjrcR"
      },
      "source": [
        "covid['razao']=covid['deaths']/covid['totalCases']"
      ],
      "execution_count": null,
      "outputs": []
    },
    {
      "cell_type": "code",
      "metadata": {
        "id": "n3u2QjvKj5I6",
        "colab": {
          "base_uri": "https://localhost:8080/",
          "height": 415
        },
        "outputId": "36a0ac64-f40b-498a-d51e-a137891ed8e6"
      },
      "source": [
        "covid.info()"
      ],
      "execution_count": null,
      "outputs": [
        {
          "output_type": "stream",
          "text": [
            "<class 'pandas.core.frame.DataFrame'>\n",
            "RangeIndex: 28 entries, 0 to 27\n",
            "Data columns (total 16 columns):\n",
            " #   Column                           Non-Null Count  Dtype  \n",
            "---  ------                           --------------  -----  \n",
            " 0   country                          28 non-null     object \n",
            " 1   state                            28 non-null     object \n",
            " 2   totalCases                       28 non-null     int64  \n",
            " 3   totalCasesMS                     28 non-null     int64  \n",
            " 4   notConfirmedByMS                 28 non-null     int64  \n",
            " 5   deaths                           28 non-null     int64  \n",
            " 6   deathsMS                         28 non-null     int64  \n",
            " 7   URL                              28 non-null     object \n",
            " 8   deaths_per_100k_inhabitants      28 non-null     float64\n",
            " 9   totalCases_per_100k_inhabitants  28 non-null     int64  \n",
            " 10  deaths_by_totalCases             28 non-null     float64\n",
            " 11  recovered                        26 non-null     float64\n",
            " 12  suspects                         22 non-null     float64\n",
            " 13  tests                            25 non-null     float64\n",
            " 14  tests_per_100k_inhabitants       25 non-null     float64\n",
            " 15  razao                            28 non-null     float64\n",
            "dtypes: float64(7), int64(6), object(3)\n",
            "memory usage: 3.6+ KB\n"
          ],
          "name": "stdout"
        }
      ]
    },
    {
      "cell_type": "code",
      "metadata": {
        "id": "Q-7rwvxtfHxC",
        "outputId": "59071f31-7716-4adf-f2b5-f3670a78ee50",
        "colab": {
          "base_uri": "https://localhost:8080/",
          "height": 594
        }
      },
      "source": [
        "import matplotlib.pyplot as plt\n",
        "fig = plt.figure(figsize=(10,10))\n",
        "ax1 = fig.add_subplot()\n",
        "filtro = covid['state'] != 'TOTAL'\n",
        "ax1.pie(covid[filtro]['totalCases'], labels=covid[filtro]['state'], autopct='%1.1f%%',\n",
        "        shadow=True, startangle=90)\n",
        "ax1.axis('equal')  # Equal aspect ratio ensures that pie is drawn as a circle.\n",
        "\n",
        "plt.show()"
      ],
      "execution_count": null,
      "outputs": [
        {
          "output_type": "display_data",
          "data": {
            "image/png": "[encoded data removed]",
            "text/plain": [
              "<Figure size 720x720 with 1 Axes>"
            ]
          },
          "metadata": {
            "tags": []
          }
        }
      ]
    },
    {
      "cell_type": "code",
      "metadata": {
        "id": "VO4ljpxckSRE"
      },
      "source": [
        "del plt"
      ],
      "execution_count": null,
      "outputs": []
    },
    {
      "cell_type": "code",
      "metadata": {
        "id": "FfTCrzM0yeZi",
        "outputId": "b14c53b1-6a94-448f-c99a-9e501f3a2214",
        "colab": {
          "base_uri": "https://localhost:8080/",
          "height": 305
        }
      },
      "source": [
        "# leitura de um arquivo csv\n",
        "arquivo2 = os.path.join('dados', 'covidporestadoedata1805.csv')\n",
        "seriecovid = pd.read_csv(arquivo2)\n",
        "seriecovid.head()"
      ],
      "execution_count": null,
      "outputs": [
        {
          "output_type": "execute_result",
          "data": {
            "text/html": [
              "<div>\n",
              "<style scoped>\n",
              "    .dataframe tbody tr th:only-of-type {\n",
              "        vertical-align: middle;\n",
              "    }\n",
              "\n",
              "    .dataframe tbody tr th {\n",
              "        vertical-align: top;\n",
              "    }\n",
              "\n",
              "    .dataframe thead th {\n",
              "        text-align: right;\n",
              "    }\n",
              "</style>\n",
              "<table border=\"1\" class=\"dataframe\">\n",
              "  <thead>\n",
              "    <tr style=\"text-align: right;\">\n",
              "      <th></th>\n",
              "      <th>date</th>\n",
              "      <th>country</th>\n",
              "      <th>state</th>\n",
              "      <th>city</th>\n",
              "      <th>newDeaths</th>\n",
              "      <th>deaths</th>\n",
              "      <th>newCases</th>\n",
              "      <th>totalCases</th>\n",
              "      <th>deathsMS</th>\n",
              "      <th>totalCasesMS</th>\n",
              "      <th>deaths_per_100k_inhabitants</th>\n",
              "      <th>totalCases_per_100k_inhabitants</th>\n",
              "      <th>deaths_by_totalCases</th>\n",
              "      <th>recovered</th>\n",
              "      <th>suspects</th>\n",
              "      <th>tests</th>\n",
              "      <th>tests_per_100k_inhabitants</th>\n",
              "    </tr>\n",
              "  </thead>\n",
              "  <tbody>\n",
              "    <tr>\n",
              "      <th>0</th>\n",
              "      <td>2020-02-25</td>\n",
              "      <td>Brazil</td>\n",
              "      <td>SP</td>\n",
              "      <td>TOTAL</td>\n",
              "      <td>0</td>\n",
              "      <td>0</td>\n",
              "      <td>1</td>\n",
              "      <td>1</td>\n",
              "      <td>0</td>\n",
              "      <td>0</td>\n",
              "      <td>0.0</td>\n",
              "      <td>0.00218</td>\n",
              "      <td>0.0</td>\n",
              "      <td>NaN</td>\n",
              "      <td>NaN</td>\n",
              "      <td>NaN</td>\n",
              "      <td>NaN</td>\n",
              "    </tr>\n",
              "    <tr>\n",
              "      <th>1</th>\n",
              "      <td>2020-02-25</td>\n",
              "      <td>Brazil</td>\n",
              "      <td>TOTAL</td>\n",
              "      <td>TOTAL</td>\n",
              "      <td>0</td>\n",
              "      <td>0</td>\n",
              "      <td>1</td>\n",
              "      <td>1</td>\n",
              "      <td>0</td>\n",
              "      <td>0</td>\n",
              "      <td>0.0</td>\n",
              "      <td>0.00048</td>\n",
              "      <td>0.0</td>\n",
              "      <td>NaN</td>\n",
              "      <td>NaN</td>\n",
              "      <td>NaN</td>\n",
              "      <td>NaN</td>\n",
              "    </tr>\n",
              "    <tr>\n",
              "      <th>2</th>\n",
              "      <td>2020-02-26</td>\n",
              "      <td>Brazil</td>\n",
              "      <td>SP</td>\n",
              "      <td>TOTAL</td>\n",
              "      <td>0</td>\n",
              "      <td>0</td>\n",
              "      <td>0</td>\n",
              "      <td>1</td>\n",
              "      <td>0</td>\n",
              "      <td>1</td>\n",
              "      <td>0.0</td>\n",
              "      <td>0.00218</td>\n",
              "      <td>0.0</td>\n",
              "      <td>NaN</td>\n",
              "      <td>NaN</td>\n",
              "      <td>NaN</td>\n",
              "      <td>NaN</td>\n",
              "    </tr>\n",
              "    <tr>\n",
              "      <th>3</th>\n",
              "      <td>2020-02-26</td>\n",
              "      <td>Brazil</td>\n",
              "      <td>TOTAL</td>\n",
              "      <td>TOTAL</td>\n",
              "      <td>0</td>\n",
              "      <td>0</td>\n",
              "      <td>0</td>\n",
              "      <td>1</td>\n",
              "      <td>0</td>\n",
              "      <td>1</td>\n",
              "      <td>0.0</td>\n",
              "      <td>0.00048</td>\n",
              "      <td>0.0</td>\n",
              "      <td>NaN</td>\n",
              "      <td>NaN</td>\n",
              "      <td>NaN</td>\n",
              "      <td>NaN</td>\n",
              "    </tr>\n",
              "    <tr>\n",
              "      <th>4</th>\n",
              "      <td>2020-02-27</td>\n",
              "      <td>Brazil</td>\n",
              "      <td>SP</td>\n",
              "      <td>TOTAL</td>\n",
              "      <td>0</td>\n",
              "      <td>0</td>\n",
              "      <td>0</td>\n",
              "      <td>1</td>\n",
              "      <td>0</td>\n",
              "      <td>1</td>\n",
              "      <td>0.0</td>\n",
              "      <td>0.00218</td>\n",
              "      <td>0.0</td>\n",
              "      <td>NaN</td>\n",
              "      <td>NaN</td>\n",
              "      <td>NaN</td>\n",
              "      <td>NaN</td>\n",
              "    </tr>\n",
              "  </tbody>\n",
              "</table>\n",
              "</div>"
            ],
            "text/plain": [
              "         date country  state  ... suspects  tests  tests_per_100k_inhabitants\n",
              "0  2020-02-25  Brazil     SP  ...      NaN    NaN                         NaN\n",
              "1  2020-02-25  Brazil  TOTAL  ...      NaN    NaN                         NaN\n",
              "2  2020-02-26  Brazil     SP  ...      NaN    NaN                         NaN\n",
              "3  2020-02-26  Brazil  TOTAL  ...      NaN    NaN                         NaN\n",
              "4  2020-02-27  Brazil     SP  ...      NaN    NaN                         NaN\n",
              "\n",
              "[5 rows x 17 columns]"
            ]
          },
          "metadata": {
            "tags": []
          },
          "execution_count": 146
        }
      ]
    },
    {
      "cell_type": "code",
      "metadata": {
        "id": "A1wJvPD560oj",
        "outputId": "bfd8d28f-c902-4114-ac63-101b48776d76",
        "colab": {
          "base_uri": "https://localhost:8080/",
          "height": 1000
        }
      },
      "source": [
        "seriecovid[seriecovid['state'] == 'RJ'].tail(20)"
      ],
      "execution_count": null,
      "outputs": [
        {
          "output_type": "execute_result",
          "data": {
            "text/html": [
              "<div>\n",
              "<style scoped>\n",
              "    .dataframe tbody tr th:only-of-type {\n",
              "        vertical-align: middle;\n",
              "    }\n",
              "\n",
              "    .dataframe tbody tr th {\n",
              "        vertical-align: top;\n",
              "    }\n",
              "\n",
              "    .dataframe thead th {\n",
              "        text-align: right;\n",
              "    }\n",
              "</style>\n",
              "<table border=\"1\" class=\"dataframe\">\n",
              "  <thead>\n",
              "    <tr style=\"text-align: right;\">\n",
              "      <th></th>\n",
              "      <th>date</th>\n",
              "      <th>country</th>\n",
              "      <th>state</th>\n",
              "      <th>city</th>\n",
              "      <th>newDeaths</th>\n",
              "      <th>deaths</th>\n",
              "      <th>newCases</th>\n",
              "      <th>totalCases</th>\n",
              "      <th>deathsMS</th>\n",
              "      <th>totalCasesMS</th>\n",
              "      <th>deaths_per_100k_inhabitants</th>\n",
              "      <th>totalCases_per_100k_inhabitants</th>\n",
              "      <th>deaths_by_totalCases</th>\n",
              "      <th>recovered</th>\n",
              "      <th>suspects</th>\n",
              "      <th>tests</th>\n",
              "      <th>tests_per_100k_inhabitants</th>\n",
              "    </tr>\n",
              "  </thead>\n",
              "  <tbody>\n",
              "    <tr>\n",
              "      <th>1348</th>\n",
              "      <td>2020-04-29</td>\n",
              "      <td>Brazil</td>\n",
              "      <td>RJ</td>\n",
              "      <td>TOTAL</td>\n",
              "      <td>56</td>\n",
              "      <td>794</td>\n",
              "      <td>365</td>\n",
              "      <td>8869</td>\n",
              "      <td>794</td>\n",
              "      <td>8869</td>\n",
              "      <td>4.59891</td>\n",
              "      <td>51.36999</td>\n",
              "      <td>0.08953</td>\n",
              "      <td>4002.0</td>\n",
              "      <td>NaN</td>\n",
              "      <td>NaN</td>\n",
              "      <td>NaN</td>\n",
              "    </tr>\n",
              "    <tr>\n",
              "      <th>1376</th>\n",
              "      <td>2020-04-30</td>\n",
              "      <td>Brazil</td>\n",
              "      <td>RJ</td>\n",
              "      <td>TOTAL</td>\n",
              "      <td>60</td>\n",
              "      <td>854</td>\n",
              "      <td>584</td>\n",
              "      <td>9453</td>\n",
              "      <td>854</td>\n",
              "      <td>9453</td>\n",
              "      <td>4.94644</td>\n",
              "      <td>54.75257</td>\n",
              "      <td>0.09034</td>\n",
              "      <td>5032.0</td>\n",
              "      <td>NaN</td>\n",
              "      <td>NaN</td>\n",
              "      <td>NaN</td>\n",
              "    </tr>\n",
              "    <tr>\n",
              "      <th>1404</th>\n",
              "      <td>2020-05-01</td>\n",
              "      <td>Brazil</td>\n",
              "      <td>RJ</td>\n",
              "      <td>TOTAL</td>\n",
              "      <td>67</td>\n",
              "      <td>921</td>\n",
              "      <td>713</td>\n",
              "      <td>10166</td>\n",
              "      <td>921</td>\n",
              "      <td>10166</td>\n",
              "      <td>5.33451</td>\n",
              "      <td>58.88233</td>\n",
              "      <td>0.09060</td>\n",
              "      <td>5711.0</td>\n",
              "      <td>NaN</td>\n",
              "      <td>NaN</td>\n",
              "      <td>NaN</td>\n",
              "    </tr>\n",
              "    <tr>\n",
              "      <th>1432</th>\n",
              "      <td>2020-05-02</td>\n",
              "      <td>Brazil</td>\n",
              "      <td>RJ</td>\n",
              "      <td>TOTAL</td>\n",
              "      <td>50</td>\n",
              "      <td>971</td>\n",
              "      <td>380</td>\n",
              "      <td>10546</td>\n",
              "      <td>971</td>\n",
              "      <td>10546</td>\n",
              "      <td>5.62411</td>\n",
              "      <td>61.08332</td>\n",
              "      <td>0.09207</td>\n",
              "      <td>6115.0</td>\n",
              "      <td>NaN</td>\n",
              "      <td>NaN</td>\n",
              "      <td>NaN</td>\n",
              "    </tr>\n",
              "    <tr>\n",
              "      <th>1460</th>\n",
              "      <td>2020-05-03</td>\n",
              "      <td>Brazil</td>\n",
              "      <td>RJ</td>\n",
              "      <td>TOTAL</td>\n",
              "      <td>48</td>\n",
              "      <td>1019</td>\n",
              "      <td>593</td>\n",
              "      <td>11139</td>\n",
              "      <td>1019</td>\n",
              "      <td>11139</td>\n",
              "      <td>5.90213</td>\n",
              "      <td>64.51802</td>\n",
              "      <td>0.09148</td>\n",
              "      <td>6284.0</td>\n",
              "      <td>NaN</td>\n",
              "      <td>NaN</td>\n",
              "      <td>NaN</td>\n",
              "    </tr>\n",
              "    <tr>\n",
              "      <th>1488</th>\n",
              "      <td>2020-05-04</td>\n",
              "      <td>Brazil</td>\n",
              "      <td>RJ</td>\n",
              "      <td>TOTAL</td>\n",
              "      <td>46</td>\n",
              "      <td>1065</td>\n",
              "      <td>582</td>\n",
              "      <td>11721</td>\n",
              "      <td>1065</td>\n",
              "      <td>11721</td>\n",
              "      <td>6.16857</td>\n",
              "      <td>67.88902</td>\n",
              "      <td>0.09086</td>\n",
              "      <td>6284.0</td>\n",
              "      <td>NaN</td>\n",
              "      <td>NaN</td>\n",
              "      <td>NaN</td>\n",
              "    </tr>\n",
              "    <tr>\n",
              "      <th>1516</th>\n",
              "      <td>2020-05-05</td>\n",
              "      <td>Brazil</td>\n",
              "      <td>RJ</td>\n",
              "      <td>TOTAL</td>\n",
              "      <td>58</td>\n",
              "      <td>1123</td>\n",
              "      <td>670</td>\n",
              "      <td>12391</td>\n",
              "      <td>1123</td>\n",
              "      <td>12391</td>\n",
              "      <td>6.50451</td>\n",
              "      <td>71.76971</td>\n",
              "      <td>0.09063</td>\n",
              "      <td>7260.0</td>\n",
              "      <td>NaN</td>\n",
              "      <td>NaN</td>\n",
              "      <td>NaN</td>\n",
              "    </tr>\n",
              "    <tr>\n",
              "      <th>1544</th>\n",
              "      <td>2020-05-06</td>\n",
              "      <td>Brazil</td>\n",
              "      <td>RJ</td>\n",
              "      <td>TOTAL</td>\n",
              "      <td>82</td>\n",
              "      <td>1205</td>\n",
              "      <td>904</td>\n",
              "      <td>13295</td>\n",
              "      <td>1205</td>\n",
              "      <td>13295</td>\n",
              "      <td>6.97946</td>\n",
              "      <td>77.00576</td>\n",
              "      <td>0.09064</td>\n",
              "      <td>8300.0</td>\n",
              "      <td>NaN</td>\n",
              "      <td>NaN</td>\n",
              "      <td>NaN</td>\n",
              "    </tr>\n",
              "    <tr>\n",
              "      <th>1572</th>\n",
              "      <td>2020-05-07</td>\n",
              "      <td>Brazil</td>\n",
              "      <td>RJ</td>\n",
              "      <td>TOTAL</td>\n",
              "      <td>189</td>\n",
              "      <td>1394</td>\n",
              "      <td>861</td>\n",
              "      <td>14156</td>\n",
              "      <td>1394</td>\n",
              "      <td>14156</td>\n",
              "      <td>8.07417</td>\n",
              "      <td>81.99274</td>\n",
              "      <td>0.09847</td>\n",
              "      <td>8968.0</td>\n",
              "      <td>NaN</td>\n",
              "      <td>NaN</td>\n",
              "      <td>NaN</td>\n",
              "    </tr>\n",
              "    <tr>\n",
              "      <th>1600</th>\n",
              "      <td>2020-05-08</td>\n",
              "      <td>Brazil</td>\n",
              "      <td>RJ</td>\n",
              "      <td>TOTAL</td>\n",
              "      <td>109</td>\n",
              "      <td>1503</td>\n",
              "      <td>1585</td>\n",
              "      <td>15741</td>\n",
              "      <td>1503</td>\n",
              "      <td>15741</td>\n",
              "      <td>8.70550</td>\n",
              "      <td>91.17319</td>\n",
              "      <td>0.09548</td>\n",
              "      <td>8968.0</td>\n",
              "      <td>NaN</td>\n",
              "      <td>NaN</td>\n",
              "      <td>NaN</td>\n",
              "    </tr>\n",
              "    <tr>\n",
              "      <th>1628</th>\n",
              "      <td>2020-05-09</td>\n",
              "      <td>Brazil</td>\n",
              "      <td>RJ</td>\n",
              "      <td>TOTAL</td>\n",
              "      <td>150</td>\n",
              "      <td>1653</td>\n",
              "      <td>1188</td>\n",
              "      <td>16929</td>\n",
              "      <td>1653</td>\n",
              "      <td>16929</td>\n",
              "      <td>9.57431</td>\n",
              "      <td>98.05419</td>\n",
              "      <td>0.09764</td>\n",
              "      <td>10732.0</td>\n",
              "      <td>NaN</td>\n",
              "      <td>NaN</td>\n",
              "      <td>NaN</td>\n",
              "    </tr>\n",
              "    <tr>\n",
              "      <th>1656</th>\n",
              "      <td>2020-05-10</td>\n",
              "      <td>Brazil</td>\n",
              "      <td>RJ</td>\n",
              "      <td>TOTAL</td>\n",
              "      <td>61</td>\n",
              "      <td>1714</td>\n",
              "      <td>133</td>\n",
              "      <td>17062</td>\n",
              "      <td>1714</td>\n",
              "      <td>17062</td>\n",
              "      <td>9.92763</td>\n",
              "      <td>98.82454</td>\n",
              "      <td>0.10046</td>\n",
              "      <td>10732.0</td>\n",
              "      <td>NaN</td>\n",
              "      <td>NaN</td>\n",
              "      <td>NaN</td>\n",
              "    </tr>\n",
              "    <tr>\n",
              "      <th>1684</th>\n",
              "      <td>2020-05-11</td>\n",
              "      <td>Brazil</td>\n",
              "      <td>RJ</td>\n",
              "      <td>TOTAL</td>\n",
              "      <td>56</td>\n",
              "      <td>1770</td>\n",
              "      <td>877</td>\n",
              "      <td>17939</td>\n",
              "      <td>1770</td>\n",
              "      <td>17939</td>\n",
              "      <td>10.25199</td>\n",
              "      <td>103.90419</td>\n",
              "      <td>0.09867</td>\n",
              "      <td>11654.0</td>\n",
              "      <td>NaN</td>\n",
              "      <td>NaN</td>\n",
              "      <td>NaN</td>\n",
              "    </tr>\n",
              "    <tr>\n",
              "      <th>1712</th>\n",
              "      <td>2020-05-12</td>\n",
              "      <td>Brazil</td>\n",
              "      <td>RJ</td>\n",
              "      <td>TOTAL</td>\n",
              "      <td>158</td>\n",
              "      <td>1928</td>\n",
              "      <td>547</td>\n",
              "      <td>18486</td>\n",
              "      <td>1928</td>\n",
              "      <td>18486</td>\n",
              "      <td>11.16714</td>\n",
              "      <td>107.07246</td>\n",
              "      <td>0.10430</td>\n",
              "      <td>13124.0</td>\n",
              "      <td>NaN</td>\n",
              "      <td>NaN</td>\n",
              "      <td>NaN</td>\n",
              "    </tr>\n",
              "    <tr>\n",
              "      <th>1740</th>\n",
              "      <td>2020-05-13</td>\n",
              "      <td>Brazil</td>\n",
              "      <td>RJ</td>\n",
              "      <td>TOTAL</td>\n",
              "      <td>122</td>\n",
              "      <td>2050</td>\n",
              "      <td>242</td>\n",
              "      <td>18728</td>\n",
              "      <td>2050</td>\n",
              "      <td>18728</td>\n",
              "      <td>11.87377</td>\n",
              "      <td>108.47415</td>\n",
              "      <td>0.10946</td>\n",
              "      <td>13917.0</td>\n",
              "      <td>NaN</td>\n",
              "      <td>NaN</td>\n",
              "      <td>NaN</td>\n",
              "    </tr>\n",
              "    <tr>\n",
              "      <th>1768</th>\n",
              "      <td>2020-05-14</td>\n",
              "      <td>Brazil</td>\n",
              "      <td>RJ</td>\n",
              "      <td>TOTAL</td>\n",
              "      <td>197</td>\n",
              "      <td>2247</td>\n",
              "      <td>739</td>\n",
              "      <td>19467</td>\n",
              "      <td>2247</td>\n",
              "      <td>19467</td>\n",
              "      <td>13.01481</td>\n",
              "      <td>112.75450</td>\n",
              "      <td>0.11543</td>\n",
              "      <td>14818.0</td>\n",
              "      <td>NaN</td>\n",
              "      <td>NaN</td>\n",
              "      <td>NaN</td>\n",
              "    </tr>\n",
              "    <tr>\n",
              "      <th>1796</th>\n",
              "      <td>2020-05-15</td>\n",
              "      <td>Brazil</td>\n",
              "      <td>RJ</td>\n",
              "      <td>TOTAL</td>\n",
              "      <td>191</td>\n",
              "      <td>2438</td>\n",
              "      <td>520</td>\n",
              "      <td>19987</td>\n",
              "      <td>2438</td>\n",
              "      <td>19987</td>\n",
              "      <td>14.12110</td>\n",
              "      <td>115.76638</td>\n",
              "      <td>0.12198</td>\n",
              "      <td>14818.0</td>\n",
              "      <td>NaN</td>\n",
              "      <td>NaN</td>\n",
              "      <td>NaN</td>\n",
              "    </tr>\n",
              "    <tr>\n",
              "      <th>1824</th>\n",
              "      <td>2020-05-16</td>\n",
              "      <td>Brazil</td>\n",
              "      <td>RJ</td>\n",
              "      <td>TOTAL</td>\n",
              "      <td>176</td>\n",
              "      <td>2614</td>\n",
              "      <td>1614</td>\n",
              "      <td>21601</td>\n",
              "      <td>2614</td>\n",
              "      <td>21601</td>\n",
              "      <td>15.14051</td>\n",
              "      <td>125.11481</td>\n",
              "      <td>0.12101</td>\n",
              "      <td>17557.0</td>\n",
              "      <td>NaN</td>\n",
              "      <td>NaN</td>\n",
              "      <td>NaN</td>\n",
              "    </tr>\n",
              "    <tr>\n",
              "      <th>1852</th>\n",
              "      <td>2020-05-17</td>\n",
              "      <td>Brazil</td>\n",
              "      <td>RJ</td>\n",
              "      <td>TOTAL</td>\n",
              "      <td>101</td>\n",
              "      <td>2715</td>\n",
              "      <td>637</td>\n",
              "      <td>22238</td>\n",
              "      <td>2715</td>\n",
              "      <td>22238</td>\n",
              "      <td>15.72551</td>\n",
              "      <td>128.80436</td>\n",
              "      <td>0.12209</td>\n",
              "      <td>17557.0</td>\n",
              "      <td>NaN</td>\n",
              "      <td>NaN</td>\n",
              "      <td>NaN</td>\n",
              "    </tr>\n",
              "    <tr>\n",
              "      <th>1880</th>\n",
              "      <td>2020-05-18</td>\n",
              "      <td>Brazil</td>\n",
              "      <td>RJ</td>\n",
              "      <td>TOTAL</td>\n",
              "      <td>137</td>\n",
              "      <td>2852</td>\n",
              "      <td>4427</td>\n",
              "      <td>26665</td>\n",
              "      <td>2715</td>\n",
              "      <td>22238</td>\n",
              "      <td>16.51902</td>\n",
              "      <td>154.44592</td>\n",
              "      <td>0.10696</td>\n",
              "      <td>21961.0</td>\n",
              "      <td>NaN</td>\n",
              "      <td>NaN</td>\n",
              "      <td>NaN</td>\n",
              "    </tr>\n",
              "  </tbody>\n",
              "</table>\n",
              "</div>"
            ],
            "text/plain": [
              "            date country state  ... suspects  tests  tests_per_100k_inhabitants\n",
              "1348  2020-04-29  Brazil    RJ  ...      NaN    NaN                         NaN\n",
              "1376  2020-04-30  Brazil    RJ  ...      NaN    NaN                         NaN\n",
              "1404  2020-05-01  Brazil    RJ  ...      NaN    NaN                         NaN\n",
              "1432  2020-05-02  Brazil    RJ  ...      NaN    NaN                         NaN\n",
              "1460  2020-05-03  Brazil    RJ  ...      NaN    NaN                         NaN\n",
              "1488  2020-05-04  Brazil    RJ  ...      NaN    NaN                         NaN\n",
              "1516  2020-05-05  Brazil    RJ  ...      NaN    NaN                         NaN\n",
              "1544  2020-05-06  Brazil    RJ  ...      NaN    NaN                         NaN\n",
              "1572  2020-05-07  Brazil    RJ  ...      NaN    NaN                         NaN\n",
              "1600  2020-05-08  Brazil    RJ  ...      NaN    NaN                         NaN\n",
              "1628  2020-05-09  Brazil    RJ  ...      NaN    NaN                         NaN\n",
              "1656  2020-05-10  Brazil    RJ  ...      NaN    NaN                         NaN\n",
              "1684  2020-05-11  Brazil    RJ  ...      NaN    NaN                         NaN\n",
              "1712  2020-05-12  Brazil    RJ  ...      NaN    NaN                         NaN\n",
              "1740  2020-05-13  Brazil    RJ  ...      NaN    NaN                         NaN\n",
              "1768  2020-05-14  Brazil    RJ  ...      NaN    NaN                         NaN\n",
              "1796  2020-05-15  Brazil    RJ  ...      NaN    NaN                         NaN\n",
              "1824  2020-05-16  Brazil    RJ  ...      NaN    NaN                         NaN\n",
              "1852  2020-05-17  Brazil    RJ  ...      NaN    NaN                         NaN\n",
              "1880  2020-05-18  Brazil    RJ  ...      NaN    NaN                         NaN\n",
              "\n",
              "[20 rows x 17 columns]"
            ]
          },
          "metadata": {
            "tags": []
          },
          "execution_count": 147
        }
      ]
    },
    {
      "cell_type": "code",
      "metadata": {
        "id": "1LKNvAoQ6p0G",
        "outputId": "967911a6-c047-4566-d972-6884069f0ace",
        "colab": {
          "base_uri": "https://localhost:8080/",
          "height": 307
        }
      },
      "source": [
        "seriecovid.describe()"
      ],
      "execution_count": null,
      "outputs": [
        {
          "output_type": "execute_result",
          "data": {
            "text/html": [
              "<div>\n",
              "<style scoped>\n",
              "    .dataframe tbody tr th:only-of-type {\n",
              "        vertical-align: middle;\n",
              "    }\n",
              "\n",
              "    .dataframe tbody tr th {\n",
              "        vertical-align: top;\n",
              "    }\n",
              "\n",
              "    .dataframe thead th {\n",
              "        text-align: right;\n",
              "    }\n",
              "</style>\n",
              "<table border=\"1\" class=\"dataframe\">\n",
              "  <thead>\n",
              "    <tr style=\"text-align: right;\">\n",
              "      <th></th>\n",
              "      <th>newDeaths</th>\n",
              "      <th>deaths</th>\n",
              "      <th>newCases</th>\n",
              "      <th>totalCases</th>\n",
              "      <th>deathsMS</th>\n",
              "      <th>totalCasesMS</th>\n",
              "      <th>deaths_per_100k_inhabitants</th>\n",
              "      <th>totalCases_per_100k_inhabitants</th>\n",
              "      <th>deaths_by_totalCases</th>\n",
              "      <th>recovered</th>\n",
              "      <th>suspects</th>\n",
              "      <th>tests</th>\n",
              "      <th>tests_per_100k_inhabitants</th>\n",
              "    </tr>\n",
              "  </thead>\n",
              "  <tbody>\n",
              "    <tr>\n",
              "      <th>count</th>\n",
              "      <td>1890.000000</td>\n",
              "      <td>1890.000000</td>\n",
              "      <td>1890.000000</td>\n",
              "      <td>1890.000000</td>\n",
              "      <td>1890.000000</td>\n",
              "      <td>1890.000000</td>\n",
              "      <td>1890.000000</td>\n",
              "      <td>1890.000000</td>\n",
              "      <td>1890.000000</td>\n",
              "      <td>1219.000000</td>\n",
              "      <td>1194.000000</td>\n",
              "      <td>569.000000</td>\n",
              "      <td>569.000000</td>\n",
              "    </tr>\n",
              "    <tr>\n",
              "      <th>mean</th>\n",
              "      <td>17.730159</td>\n",
              "      <td>284.140741</td>\n",
              "      <td>269.247619</td>\n",
              "      <td>4275.547090</td>\n",
              "      <td>280.852910</td>\n",
              "      <td>4214.252910</td>\n",
              "      <td>1.590397</td>\n",
              "      <td>31.931110</td>\n",
              "      <td>0.035476</td>\n",
              "      <td>1680.997539</td>\n",
              "      <td>15205.973199</td>\n",
              "      <td>25102.305800</td>\n",
              "      <td>282.824856</td>\n",
              "    </tr>\n",
              "    <tr>\n",
              "      <th>std</th>\n",
              "      <td>70.815758</td>\n",
              "      <td>1250.269856</td>\n",
              "      <td>1075.503053</td>\n",
              "      <td>18055.091959</td>\n",
              "      <td>1237.525797</td>\n",
              "      <td>17814.412493</td>\n",
              "      <td>3.481988</td>\n",
              "      <td>59.810773</td>\n",
              "      <td>0.032074</td>\n",
              "      <td>6745.167731</td>\n",
              "      <td>42980.165511</td>\n",
              "      <td>62991.551179</td>\n",
              "      <td>356.714854</td>\n",
              "    </tr>\n",
              "    <tr>\n",
              "      <th>min</th>\n",
              "      <td>-1.000000</td>\n",
              "      <td>0.000000</td>\n",
              "      <td>-290.000000</td>\n",
              "      <td>1.000000</td>\n",
              "      <td>0.000000</td>\n",
              "      <td>0.000000</td>\n",
              "      <td>0.000000</td>\n",
              "      <td>0.000480</td>\n",
              "      <td>0.000000</td>\n",
              "      <td>1.000000</td>\n",
              "      <td>1.000000</td>\n",
              "      <td>854.000000</td>\n",
              "      <td>36.761660</td>\n",
              "    </tr>\n",
              "    <tr>\n",
              "      <th>25%</th>\n",
              "      <td>0.000000</td>\n",
              "      <td>1.000000</td>\n",
              "      <td>4.000000</td>\n",
              "      <td>44.000000</td>\n",
              "      <td>1.000000</td>\n",
              "      <td>42.000000</td>\n",
              "      <td>0.009702</td>\n",
              "      <td>1.091730</td>\n",
              "      <td>0.006817</td>\n",
              "      <td>28.000000</td>\n",
              "      <td>183.000000</td>\n",
              "      <td>3904.000000</td>\n",
              "      <td>92.639730</td>\n",
              "    </tr>\n",
              "    <tr>\n",
              "      <th>50%</th>\n",
              "      <td>1.000000</td>\n",
              "      <td>14.000000</td>\n",
              "      <td>31.000000</td>\n",
              "      <td>421.000000</td>\n",
              "      <td>14.000000</td>\n",
              "      <td>407.500000</td>\n",
              "      <td>0.315690</td>\n",
              "      <td>7.747035</td>\n",
              "      <td>0.031950</td>\n",
              "      <td>187.000000</td>\n",
              "      <td>621.000000</td>\n",
              "      <td>8402.000000</td>\n",
              "      <td>165.681920</td>\n",
              "    </tr>\n",
              "    <tr>\n",
              "      <th>75%</th>\n",
              "      <td>5.000000</td>\n",
              "      <td>73.750000</td>\n",
              "      <td>130.000000</td>\n",
              "      <td>1929.750000</td>\n",
              "      <td>72.000000</td>\n",
              "      <td>1867.000000</td>\n",
              "      <td>1.283185</td>\n",
              "      <td>34.541915</td>\n",
              "      <td>0.054080</td>\n",
              "      <td>992.500000</td>\n",
              "      <td>4471.000000</td>\n",
              "      <td>19757.000000</td>\n",
              "      <td>298.760040</td>\n",
              "    </tr>\n",
              "    <tr>\n",
              "      <th>max</th>\n",
              "      <td>913.000000</td>\n",
              "      <td>16755.000000</td>\n",
              "      <td>15461.000000</td>\n",
              "      <td>254439.000000</td>\n",
              "      <td>16118.000000</td>\n",
              "      <td>241080.000000</td>\n",
              "      <td>34.575130</td>\n",
              "      <td>504.584640</td>\n",
              "      <td>0.222220</td>\n",
              "      <td>93391.000000</td>\n",
              "      <td>322937.000000</td>\n",
              "      <td>466209.000000</td>\n",
              "      <td>2210.218130</td>\n",
              "    </tr>\n",
              "  </tbody>\n",
              "</table>\n",
              "</div>"
            ],
            "text/plain": [
              "         newDeaths        deaths  ...          tests  tests_per_100k_inhabitants\n",
              "count  1890.000000   1890.000000  ...     569.000000                  569.000000\n",
              "mean     17.730159    284.140741  ...   25102.305800                  282.824856\n",
              "std      70.815758   1250.269856  ...   62991.551179                  356.714854\n",
              "min      -1.000000      0.000000  ...     854.000000                   36.761660\n",
              "25%       0.000000      1.000000  ...    3904.000000                   92.639730\n",
              "50%       1.000000     14.000000  ...    8402.000000                  165.681920\n",
              "75%       5.000000     73.750000  ...   19757.000000                  298.760040\n",
              "max     913.000000  16755.000000  ...  466209.000000                 2210.218130\n",
              "\n",
              "[8 rows x 13 columns]"
            ]
          },
          "metadata": {
            "tags": []
          },
          "execution_count": 207
        }
      ]
    },
    {
      "cell_type": "code",
      "metadata": {
        "id": "U5Xy1cfdzyGF",
        "outputId": "6d715841-268b-46a7-d4c7-d7e932eee444",
        "colab": {
          "base_uri": "https://localhost:8080/",
          "height": 569
        }
      },
      "source": [
        "fig = plt.figure(figsize=(20,10))\n",
        "filtroRJ = seriecovid['state'] == 'RJ'\n",
        "filtroSP = seriecovid['state'] == 'SP'\n",
        "filtroAM = seriecovid['state'] == 'AM'\n",
        "filtroDF = seriecovid['state'] == 'DF'\n",
        "plt.plot(seriecovid[filtroRJ]['date'],seriecovid[filtroRJ]['deaths_per_100k_inhabitants'])\n",
        "plt.plot(seriecovid[filtroSP]['date'],seriecovid[filtroSP]['deaths_per_100k_inhabitants'])\n",
        "plt.plot(seriecovid[filtroAM]['date'],seriecovid[filtroAM]['deaths_per_100k_inhabitants'])\n",
        "plt.plot(seriecovid[filtroDF]['date'],seriecovid[filtroDF]['deaths_per_100k_inhabitants'])\n",
        "plt.xlabel('data',rotation=90)\n",
        "plt.ylabel('mortes')\n",
        "plt.legend(['RJ', 'SP','AM','DF'])\n",
        "plt.title('Mortes por COVID')\n",
        "plt.show()"
      ],
      "execution_count": null,
      "outputs": [
        {
          "output_type": "display_data",
          "data": {
            "image/png": "[encoded data removed]",
            "text/plain": [
              "<Figure size 1440x720 with 1 Axes>"
            ]
          },
          "metadata": {
            "tags": [],
            "needs_background": "light"
          }
        }
      ]
    },
    {
      "cell_type": "markdown",
      "metadata": {
        "id": "GlBSV1TC6V2N"
      },
      "source": [
        "## Group by\n",
        "\n",
        "Permite a agregação de dados em segmentos."
      ]
    },
    {
      "cell_type": "code",
      "metadata": {
        "id": "Ss3LAN1H1wY-",
        "outputId": "505bbb15-7dc3-4331-830b-21204de40cc6",
        "colab": {
          "base_uri": "https://localhost:8080/",
          "height": 516
        }
      },
      "source": [
        "seriecovid.groupby('state')['totalCases_per_100k_inhabitants'].max()"
      ],
      "execution_count": null,
      "outputs": [
        {
          "output_type": "execute_result",
          "data": {
            "text/plain": [
              "state\n",
              "AC       253.30665\n",
              "AL       120.78420\n",
              "AM       504.58464\n",
              "AP       475.68317\n",
              "BA        59.71197\n",
              "CE       288.68566\n",
              "DF       153.15388\n",
              "ES       178.09463\n",
              "GO        25.37632\n",
              "MA       187.10475\n",
              "MG        22.17888\n",
              "MS        22.05841\n",
              "MT        27.00557\n",
              "PA       179.78894\n",
              "PB       108.18473\n",
              "PE       210.25270\n",
              "PI        69.86989\n",
              "PR        20.64027\n",
              "RJ       154.44592\n",
              "RN        89.45342\n",
              "RO       110.45309\n",
              "RR       309.69310\n",
              "RS        32.82870\n",
              "SC        72.22824\n",
              "SE       145.43028\n",
              "SP       137.21103\n",
              "TO        95.11300\n",
              "TOTAL    121.07660\n",
              "Name: totalCases_per_100k_inhabitants, dtype: float64"
            ]
          },
          "metadata": {
            "tags": []
          },
          "execution_count": 213
        }
      ]
    },
    {
      "cell_type": "code",
      "metadata": {
        "id": "6A_77AcX1xAe"
      },
      "source": [],
      "execution_count": null,
      "outputs": []
    },
    {
      "cell_type": "markdown",
      "metadata": {
        "id": "HKUMl_gn8HDN"
      },
      "source": [
        "# Exercício 9\n",
        "\n",
        "Encontre um arquivo de dados na internet, formato excel ou csv, faça a importação para um dataframe e sua análise preliminar."
      ]
    }
  ]
}