{
  "nbformat": 4,
  "nbformat_minor": 0,
  "metadata": {
    "colab": {
      "provenance": []
    },
    "kernelspec": {
      "name": "python3",
      "display_name": "Python 3"
    }
  },
  "cells": [
    {
      "cell_type": "markdown",
      "metadata": {
        "id": "ZJQ3QFpV6SQS"
      },
      "source": [
        "![](https://ucb.catolica.edu.br/hubfs/SITE/logo__catolica--footer.svg)\n",
        "\n",
        "## Novas Tecnologias\n",
        "\n",
        "Professor: Remis Balaniuk, 2024\n",
        "\n",
        "## Aula 2 - Manipulando coleções de dados\n",
        "\n",
        "A análise de dados se faz em coleções, onde uma estrutura única armazena os valores de uma quantidade finita, mas potencialmente grande, de dados de um mesmo tipo (de forma geral). Cada exemplar de uma coleção é chamado de **instância**.\n",
        "\n",
        "Os dados na forma de coleção são muito úteis pois permitem o processamento de grandes quantidades de instâncias com um mesmo trecho de script, contido dentro de um loop.\n",
        "\n",
        "Nessa aula aprenderemos os conceitos básicos de criação e manipilação de coleções."
      ]
    },
    {
      "cell_type": "markdown",
      "metadata": {
        "id": "2fVHIxLJDh96"
      },
      "source": [
        "## Listas\n",
        "\n",
        "Listas, ou objetos do tipo list, são utilizados para representar sequências de itens. As listas podem ser criadas explicitamente no script.\n",
        "\n",
        "Alguns exemplos:"
      ]
    },
    {
      "cell_type": "code",
      "metadata": {
        "id": "bnMVutr66Yuj"
      },
      "source": [
        "# declaração de uma lista vazia\n",
        "lista_vazia = []\n",
        "\n",
        "# lista de compras\n",
        "lista_de_compras = ['maçã', 'banana', 'laranja']\n",
        "\n",
        "# aposta na mega sena\n",
        "aposta_mega_sena = [6, 14, 19, 20, 39, 53]\n",
        "\n"
      ],
      "execution_count": null,
      "outputs": []
    },
    {
      "cell_type": "code",
      "metadata": {
        "id": "vgeheKWcAzgu",
        "outputId": "47e33fad-3aab-44f2-e567-67c7b3611211",
        "colab": {
          "base_uri": "https://localhost:8080/"
        }
      },
      "source": [
        "type(aposta_mega_sena)"
      ],
      "execution_count": null,
      "outputs": [
        {
          "output_type": "execute_result",
          "data": {
            "text/plain": [
              "list"
            ]
          },
          "metadata": {},
          "execution_count": 2
        }
      ]
    },
    {
      "cell_type": "markdown",
      "metadata": {
        "id": "Ogsi6DCLE83W"
      },
      "source": [
        "Cada dado de um conjunto sequencial é rapidamente acessível através de índices. A primeira posição é acessível utilizando o índice 0."
      ]
    },
    {
      "cell_type": "code",
      "source": [
        "aposta_mega_sena[0]"
      ],
      "metadata": {
        "colab": {
          "base_uri": "https://localhost:8080/"
        },
        "id": "iouT8DecXvkU",
        "outputId": "9f773633-ebe8-4a10-e3c4-4559f152044e"
      },
      "execution_count": null,
      "outputs": [
        {
          "output_type": "execute_result",
          "data": {
            "text/plain": [
              "6"
            ]
          },
          "metadata": {},
          "execution_count": 3
        }
      ]
    },
    {
      "cell_type": "code",
      "metadata": {
        "id": "gj1NQV1OBFy4",
        "outputId": "e6148133-32fe-48dc-f1f0-0f1b6662bfa6",
        "colab": {
          "base_uri": "https://localhost:8080/"
        }
      },
      "source": [
        "type(aposta_mega_sena[0])"
      ],
      "execution_count": null,
      "outputs": [
        {
          "output_type": "execute_result",
          "data": {
            "text/plain": [
              "int"
            ]
          },
          "metadata": {},
          "execution_count": 4
        }
      ]
    },
    {
      "cell_type": "markdown",
      "metadata": {
        "id": "Wyc9ofNiClJd"
      },
      "source": [
        "Observação: uma lista pode conter instâncias de tipos diferentes."
      ]
    },
    {
      "cell_type": "code",
      "source": [
        "lista_tipos_diferentes= [100,'a',10.0]\n",
        "print(lista_tipos_diferentes,type(lista_tipos_diferentes[0]),type(lista_tipos_diferentes[1]),type(lista_tipos_diferentes[2]))"
      ],
      "metadata": {
        "colab": {
          "base_uri": "https://localhost:8080/"
        },
        "id": "h9KoEO-mXJvJ",
        "outputId": "473b5f37-3b98-4950-d388-dde243ce4ad0"
      },
      "execution_count": null,
      "outputs": [
        {
          "output_type": "stream",
          "name": "stdout",
          "text": [
            "[100, 'a', 10.0] <class 'int'> <class 'str'> <class 'float'>\n"
          ]
        }
      ]
    },
    {
      "cell_type": "markdown",
      "metadata": {
        "id": "4WLqUVrNFYO2"
      },
      "source": [
        "É possível também utilizar o índice para indicar uma posição a partir do final da lista em direção ao seu início. Para isso deve-se utilizar um índice negativo, com o -1 indicando a última posição da lista."
      ]
    },
    {
      "cell_type": "code",
      "metadata": {
        "id": "Bi2gWCaiFLCr",
        "outputId": "0dba454e-3307-4fda-bf6d-c75bbba83120",
        "colab": {
          "base_uri": "https://localhost:8080/",
          "height": 35
        }
      },
      "source": [
        "lista_de_compras[-0]"
      ],
      "execution_count": null,
      "outputs": [
        {
          "output_type": "execute_result",
          "data": {
            "text/plain": [
              "'maçã'"
            ],
            "application/vnd.google.colaboratory.intrinsic+json": {
              "type": "string"
            }
          },
          "metadata": {},
          "execution_count": 6
        }
      ]
    },
    {
      "cell_type": "code",
      "source": [
        "lista_de_compras[-2]"
      ],
      "metadata": {
        "colab": {
          "base_uri": "https://localhost:8080/",
          "height": 36
        },
        "id": "CveIt9yyX93i",
        "outputId": "f2876125-ff70-4f08-97ed-da677ea1bd0a"
      },
      "execution_count": null,
      "outputs": [
        {
          "output_type": "execute_result",
          "data": {
            "text/plain": [
              "'banana'"
            ],
            "application/vnd.google.colaboratory.intrinsic+json": {
              "type": "string"
            }
          },
          "metadata": {},
          "execution_count": 21
        }
      ]
    },
    {
      "cell_type": "markdown",
      "metadata": {
        "id": "6-1UuRlSF529"
      },
      "source": [
        "Para saber o número de elementos de uma lista utilize o comando *len*:"
      ]
    },
    {
      "cell_type": "code",
      "metadata": {
        "id": "PnyLjZuQFt-z",
        "outputId": "891c4f78-bbe0-4980-9d60-d690b95b6f3c",
        "colab": {
          "base_uri": "https://localhost:8080/"
        }
      },
      "source": [
        "len(aposta_mega_sena)"
      ],
      "execution_count": null,
      "outputs": [
        {
          "output_type": "execute_result",
          "data": {
            "text/plain": [
              "6"
            ]
          },
          "metadata": {},
          "execution_count": 22
        }
      ]
    },
    {
      "cell_type": "markdown",
      "metadata": {
        "id": "JIR96OreLpSr"
      },
      "source": [
        "A última posição de uma lista tem como índice o seu comprimento -1, pois a primeira posição é a 0: (note que o uso de um índice além desse valor gerará um erro)"
      ]
    },
    {
      "cell_type": "code",
      "metadata": {
        "id": "shWVmvJmLzrE",
        "outputId": "2cbb2f2f-2baa-4c19-ec08-8881e11cda46",
        "colab": {
          "base_uri": "https://localhost:8080/",
          "height": 141
        }
      },
      "source": [
        "aposta_mega_sena[6]\n"
      ],
      "execution_count": null,
      "outputs": [
        {
          "output_type": "error",
          "ename": "IndexError",
          "evalue": "list index out of range",
          "traceback": [
            "\u001b[0;31m---------------------------------------------------------------------------\u001b[0m",
            "\u001b[0;31mIndexError\u001b[0m                                Traceback (most recent call last)",
            "\u001b[0;32m<ipython-input-24-e9804fea36ac>\u001b[0m in \u001b[0;36m<cell line: 1>\u001b[0;34m()\u001b[0m\n\u001b[0;32m----> 1\u001b[0;31m \u001b[0maposta_mega_sena\u001b[0m\u001b[0;34m[\u001b[0m\u001b[0;36m6\u001b[0m\u001b[0;34m]\u001b[0m\u001b[0;34m\u001b[0m\u001b[0;34m\u001b[0m\u001b[0m\n\u001b[0m",
            "\u001b[0;31mIndexError\u001b[0m: list index out of range"
          ]
        }
      ]
    },
    {
      "cell_type": "code",
      "source": [
        "aposta_mega_sena[-7]"
      ],
      "metadata": {
        "colab": {
          "base_uri": "https://localhost:8080/",
          "height": 141
        },
        "id": "th1LcnkNXBUb",
        "outputId": "1b278cf5-73ce-4b03-d374-af5f1a27741b"
      },
      "execution_count": null,
      "outputs": [
        {
          "output_type": "error",
          "ename": "IndexError",
          "evalue": "list index out of range",
          "traceback": [
            "\u001b[0;31m---------------------------------------------------------------------------\u001b[0m",
            "\u001b[0;31mIndexError\u001b[0m                                Traceback (most recent call last)",
            "\u001b[0;32m<ipython-input-28-edb18c59191b>\u001b[0m in \u001b[0;36m<cell line: 1>\u001b[0;34m()\u001b[0m\n\u001b[0;32m----> 1\u001b[0;31m \u001b[0maposta_mega_sena\u001b[0m\u001b[0;34m[\u001b[0m\u001b[0;34m-\u001b[0m\u001b[0;36m7\u001b[0m\u001b[0;34m]\u001b[0m\u001b[0;34m\u001b[0m\u001b[0;34m\u001b[0m\u001b[0m\n\u001b[0m",
            "\u001b[0;31mIndexError\u001b[0m: list index out of range"
          ]
        }
      ]
    },
    {
      "cell_type": "markdown",
      "metadata": {
        "id": "vIj51YB59bNc"
      },
      "source": [
        "## Exercício 0\n",
        "\n",
        "Crie sua própria lista e acesse seus elementos (nos exemplos mostrado nesse caderno reproduza-os usando sua própria lista)."
      ]
    },
    {
      "cell_type": "code",
      "metadata": {
        "id": "hdLGtwnVGQM8"
      },
      "source": [],
      "execution_count": null,
      "outputs": []
    },
    {
      "cell_type": "markdown",
      "metadata": {
        "id": "0FoXJlZGBBxI"
      },
      "source": [
        "O índice pode ser usado também para alterar o valor de uma instância:"
      ]
    },
    {
      "cell_type": "code",
      "metadata": {
        "id": "_lwWcA9jBA7a",
        "outputId": "b461bdc5-00c4-4fd5-9da5-12795bfbf9f6",
        "colab": {
          "base_uri": "https://localhost:8080/"
        }
      },
      "source": [
        "aposta_mega_sena[5] = '40'\n",
        "print(aposta_mega_sena)"
      ],
      "execution_count": null,
      "outputs": [
        {
          "output_type": "stream",
          "name": "stdout",
          "text": [
            "[6, 14, 19, 20, 39, '40']\n"
          ]
        }
      ]
    },
    {
      "cell_type": "markdown",
      "source": [
        "Só posições já definidas podem ser alteradas:"
      ],
      "metadata": {
        "id": "Uvpche1RaHW6"
      }
    },
    {
      "cell_type": "code",
      "metadata": {
        "id": "5HFk9IRuCEYM",
        "outputId": "8c57a5c7-7286-4829-ba2f-ee1ebb5f39fb",
        "colab": {
          "base_uri": "https://localhost:8080/",
          "height": 165
        }
      },
      "source": [
        "lista_vazia[0]=1"
      ],
      "execution_count": null,
      "outputs": [
        {
          "output_type": "error",
          "ename": "IndexError",
          "evalue": "ignored",
          "traceback": [
            "\u001b[0;31m---------------------------------------------------------------------------\u001b[0m",
            "\u001b[0;31mIndexError\u001b[0m                                Traceback (most recent call last)",
            "\u001b[0;32m<ipython-input-16-92f2019d1005>\u001b[0m in \u001b[0;36m<module>\u001b[0;34m()\u001b[0m\n\u001b[0;32m----> 1\u001b[0;31m \u001b[0mlista_vazia\u001b[0m\u001b[0;34m[\u001b[0m\u001b[0;36m0\u001b[0m\u001b[0;34m]\u001b[0m\u001b[0;34m=\u001b[0m\u001b[0;36m1\u001b[0m\u001b[0;34m\u001b[0m\u001b[0;34m\u001b[0m\u001b[0m\n\u001b[0m",
            "\u001b[0;31mIndexError\u001b[0m: list assignment index out of range"
          ]
        }
      ]
    },
    {
      "cell_type": "markdown",
      "metadata": {
        "id": "4IGJIAHtNEcJ"
      },
      "source": [
        "Algumas operações comuns com listas:\n",
        "\n",
        "- x in v: se o item x está na lista v retorna True, senão False\n",
        "- x not in v: se o item x está na lista v retorna False, senão True\n",
        "- t + v: concatena as lista t e v\n",
        "- v[i:j]: o 'slice' retorna uma sublista da posição i até a j (não inclui a posição j)\n",
        "- min(v): retorna o menor elemeto da lista v\n",
        "- max(v): retorna o maior elemeto da lista v\n",
        "-sum(v): retorna o somatório dos elementos da lista v"
      ]
    },
    {
      "cell_type": "code",
      "metadata": {
        "id": "6V3Hmm21Nda5",
        "outputId": "c0af74bd-f3a6-4d80-8efc-49629bc2f80b",
        "colab": {
          "base_uri": "https://localhost:8080/"
        }
      },
      "source": [
        "190 in aposta_mega_sena"
      ],
      "execution_count": null,
      "outputs": [
        {
          "output_type": "execute_result",
          "data": {
            "text/plain": [
              "False"
            ]
          },
          "metadata": {},
          "execution_count": 11
        }
      ]
    },
    {
      "cell_type": "code",
      "source": [
        "aposta_mega_sena + aposta_mega_sena + aposta_mega_sena"
      ],
      "metadata": {
        "colab": {
          "base_uri": "https://localhost:8080/"
        },
        "id": "LiwsMhWGs0B5",
        "outputId": "5af38ba8-13c9-4c07-b4f9-0331cf60e6eb"
      },
      "execution_count": null,
      "outputs": [
        {
          "output_type": "execute_result",
          "data": {
            "text/plain": [
              "[6, 14, 19, 20, 39, '40', 6, 14, 19, 20, 39, '40', 6, 14, 19, 20, 39, '40']"
            ]
          },
          "metadata": {},
          "execution_count": 12
        }
      ]
    },
    {
      "cell_type": "code",
      "metadata": {
        "id": "sVBiPDMjNkEA",
        "outputId": "abd0cfa8-d146-4eb2-a7dd-f69a49e970d2",
        "colab": {
          "base_uri": "https://localhost:8080/"
        }
      },
      "source": [
        "# slice completo (intervalo)\n",
        "aposta_mega_sena[2:4]"
      ],
      "execution_count": null,
      "outputs": [
        {
          "output_type": "execute_result",
          "data": {
            "text/plain": [
              "[19, 20]"
            ]
          },
          "metadata": {},
          "execution_count": 30
        }
      ]
    },
    {
      "cell_type": "code",
      "metadata": {
        "id": "PoH87bMFNssI",
        "outputId": "7a17d8e4-e412-4284-cc02-a0762da7e86f",
        "colab": {
          "base_uri": "https://localhost:8080/"
        }
      },
      "source": [
        "# intervalo definido usando contagem reversa (do fim em direção ao início)\n",
        "aposta_mega_sena[1:-2]"
      ],
      "execution_count": null,
      "outputs": [
        {
          "output_type": "execute_result",
          "data": {
            "text/plain": [
              "[14, 19, 20]"
            ]
          },
          "metadata": {},
          "execution_count": 31
        }
      ]
    },
    {
      "cell_type": "code",
      "metadata": {
        "id": "hXNstv8ATqCa",
        "outputId": "1573d366-7b99-4ddf-c3b6-d36e762570a5",
        "colab": {
          "base_uri": "https://localhost:8080/"
        }
      },
      "source": [
        "# intervalo definido só pelo término (inicia no primeiro elemento da lista)\n",
        "aposta_mega_sena[:-3]"
      ],
      "execution_count": null,
      "outputs": [
        {
          "output_type": "execute_result",
          "data": {
            "text/plain": [
              "[6, 14, 19]"
            ]
          },
          "metadata": {},
          "execution_count": 13
        }
      ]
    },
    {
      "cell_type": "code",
      "source": [
        "# intervalo definido só pelo início (termina no último elemento da lista)\n",
        "aposta_mega_sena[2:]"
      ],
      "metadata": {
        "colab": {
          "base_uri": "https://localhost:8080/"
        },
        "id": "EklnY23Nywuq",
        "outputId": "b29e2ec8-db86-4724-b5e8-96b51b2ea9c0"
      },
      "execution_count": null,
      "outputs": [
        {
          "output_type": "execute_result",
          "data": {
            "text/plain": [
              "[19, 20, 39, '40']"
            ]
          },
          "metadata": {},
          "execution_count": 14
        }
      ]
    },
    {
      "cell_type": "code",
      "source": [
        "aposta_mega_sena[5] = 40"
      ],
      "metadata": {
        "id": "X1TZRkBYuRte"
      },
      "execution_count": null,
      "outputs": []
    },
    {
      "cell_type": "code",
      "metadata": {
        "id": "apIgHbenOGa4",
        "outputId": "e91755df-8a80-41cf-ad46-8598f8c33811",
        "colab": {
          "base_uri": "https://localhost:8080/"
        }
      },
      "source": [
        "max(aposta_mega_sena)"
      ],
      "execution_count": null,
      "outputs": [
        {
          "output_type": "execute_result",
          "data": {
            "text/plain": [
              "40"
            ]
          },
          "metadata": {},
          "execution_count": 18
        }
      ]
    },
    {
      "cell_type": "markdown",
      "metadata": {
        "id": "jV6ELjtcOLHv"
      },
      "source": [
        "Note que a comparação de ordem de dados em formato texto é feita pela ordem lexicográfica:"
      ]
    },
    {
      "cell_type": "code",
      "metadata": {
        "id": "INztu9xwOYdv",
        "outputId": "550db609-f663-4381-ec82-dafb3a8bf876",
        "colab": {
          "base_uri": "https://localhost:8080/"
        }
      },
      "source": [
        "'carro' > 'casa'"
      ],
      "execution_count": null,
      "outputs": [
        {
          "output_type": "execute_result",
          "data": {
            "text/plain": [
              "False"
            ]
          },
          "metadata": {},
          "execution_count": 35
        }
      ]
    },
    {
      "cell_type": "markdown",
      "metadata": {
        "id": "Vs2HT0XZGqPR"
      },
      "source": [
        "Comparação de ordem não deve ser feita entre instâncias de tipos diferentes!"
      ]
    },
    {
      "cell_type": "code",
      "metadata": {
        "id": "JvIKLFBsGZx3",
        "outputId": "442df110-1035-430b-ac6b-e8d9264f08cc",
        "colab": {
          "base_uri": "https://localhost:8080/",
          "height": 141
        }
      },
      "source": [
        "1 > 'carro'"
      ],
      "execution_count": null,
      "outputs": [
        {
          "output_type": "error",
          "ename": "TypeError",
          "evalue": "'>' not supported between instances of 'int' and 'str'",
          "traceback": [
            "\u001b[0;31m---------------------------------------------------------------------------\u001b[0m",
            "\u001b[0;31mTypeError\u001b[0m                                 Traceback (most recent call last)",
            "\u001b[0;32m<ipython-input-36-d16f7dd34d94>\u001b[0m in \u001b[0;36m<cell line: 1>\u001b[0;34m()\u001b[0m\n\u001b[0;32m----> 1\u001b[0;31m \u001b[0;36m1\u001b[0m \u001b[0;34m>\u001b[0m \u001b[0;34m'carro'\u001b[0m\u001b[0;34m\u001b[0m\u001b[0;34m\u001b[0m\u001b[0m\n\u001b[0m",
            "\u001b[0;31mTypeError\u001b[0m: '>' not supported between instances of 'int' and 'str'"
          ]
        }
      ]
    },
    {
      "cell_type": "code",
      "source": [
        "sum(aposta_mega_sena)"
      ],
      "metadata": {
        "colab": {
          "base_uri": "https://localhost:8080/"
        },
        "id": "y9L_QeKJwLwo",
        "outputId": "8a373f66-9d44-40b9-fd11-f8a231042ec9"
      },
      "execution_count": null,
      "outputs": [
        {
          "output_type": "execute_result",
          "data": {
            "text/plain": [
              "138"
            ]
          },
          "metadata": {},
          "execution_count": 19
        }
      ]
    },
    {
      "cell_type": "code",
      "source": [
        "# sum só funciona em listas numéricas\n",
        "sum(lista_de_compras)"
      ],
      "metadata": {
        "colab": {
          "base_uri": "https://localhost:8080/",
          "height": 158
        },
        "id": "N27c-q3FwWie",
        "outputId": "e8b96dd2-db4e-4888-f5d2-3a4b675906ba"
      },
      "execution_count": null,
      "outputs": [
        {
          "output_type": "error",
          "ename": "TypeError",
          "evalue": "unsupported operand type(s) for +: 'int' and 'str'",
          "traceback": [
            "\u001b[0;31m---------------------------------------------------------------------------\u001b[0m",
            "\u001b[0;31mTypeError\u001b[0m                                 Traceback (most recent call last)",
            "\u001b[0;32m<ipython-input-20-2726f92610ed>\u001b[0m in \u001b[0;36m<cell line: 2>\u001b[0;34m()\u001b[0m\n\u001b[1;32m      1\u001b[0m \u001b[0;31m# sum só funciona em listas numéricas\u001b[0m\u001b[0;34m\u001b[0m\u001b[0;34m\u001b[0m\u001b[0m\n\u001b[0;32m----> 2\u001b[0;31m \u001b[0msum\u001b[0m\u001b[0;34m(\u001b[0m\u001b[0mlista_de_compras\u001b[0m\u001b[0;34m)\u001b[0m\u001b[0;34m\u001b[0m\u001b[0;34m\u001b[0m\u001b[0m\n\u001b[0m",
            "\u001b[0;31mTypeError\u001b[0m: unsupported operand type(s) for +: 'int' and 'str'"
          ]
        }
      ]
    },
    {
      "cell_type": "markdown",
      "metadata": {
        "id": "8ozq-XiuC-n3"
      },
      "source": [
        "### Outras operações em listas:\n",
        "\n",
        "É possível \"somar\" duas listas, o que corresponde a concatena-las, e \"multiplicar\" uma lista por um inteiro, o que corresponde a concatenar uma lista com ela mesma várias vezes:"
      ]
    },
    {
      "cell_type": "code",
      "metadata": {
        "id": "9CTwlpJ-N_4g",
        "outputId": "4d13ba99-cc85-429b-bfc2-c44355297ebe",
        "colab": {
          "base_uri": "https://localhost:8080/"
        }
      },
      "source": [
        "lista_de_compras + aposta_mega_sena"
      ],
      "execution_count": null,
      "outputs": [
        {
          "output_type": "execute_result",
          "data": {
            "text/plain": [
              "['maçã', 'banana', 'laranja', 6, 14, 19, 20, 39, 53]"
            ]
          },
          "metadata": {},
          "execution_count": 33
        }
      ]
    },
    {
      "cell_type": "code",
      "metadata": {
        "id": "mn8dzGyFC_GI"
      },
      "source": [
        "aposta_dupla = aposta_mega_sena * 2"
      ],
      "execution_count": null,
      "outputs": []
    },
    {
      "cell_type": "code",
      "source": [
        "aposta_mega_sena"
      ],
      "metadata": {
        "colab": {
          "base_uri": "https://localhost:8080/"
        },
        "id": "xi88Hzlfuy7H",
        "outputId": "e3fc0d68-272d-47a2-b4b6-0c72f433a081"
      },
      "execution_count": null,
      "outputs": [
        {
          "output_type": "execute_result",
          "data": {
            "text/plain": [
              "[6, 14, 19, 20, 39, 40]"
            ]
          },
          "metadata": {},
          "execution_count": 24
        }
      ]
    },
    {
      "cell_type": "code",
      "source": [
        "aposta_dupla"
      ],
      "metadata": {
        "colab": {
          "base_uri": "https://localhost:8080/"
        },
        "id": "e_ldfVKau6PN",
        "outputId": "08fedc97-263e-4a41-e892-2269eb7cfe45"
      },
      "execution_count": null,
      "outputs": [
        {
          "output_type": "execute_result",
          "data": {
            "text/plain": [
              "[6, 14, 19, 20, 39, 40, 6, 14, 19, 20, 39, 40]"
            ]
          },
          "metadata": {},
          "execution_count": 25
        }
      ]
    },
    {
      "cell_type": "markdown",
      "metadata": {
        "id": "30swVSaSTx6H"
      },
      "source": [
        "## Exercício 1:\n",
        "\n",
        "Crie um nova lista concatenando a segunda metade da lista aposta_mega_sena com a primeira metade da lista lista_de_compras e em seguida duplicando o resultado."
      ]
    },
    {
      "cell_type": "code",
      "metadata": {
        "id": "oeFzegHwUWc7",
        "colab": {
          "base_uri": "https://localhost:8080/"
        },
        "outputId": "33a76898-2e75-4239-c02e-b7679da4a1cb"
      },
      "source": [
        "nova = (aposta_mega_sena[len(aposta_mega_sena)//2:]+lista_de_compras[:len(lista_de_compras)//2])*2\n",
        "print(nova)"
      ],
      "execution_count": null,
      "outputs": [
        {
          "output_type": "stream",
          "name": "stdout",
          "text": [
            "[20, 39, 40, 'maçã', 20, 39, 40, 'maçã']\n"
          ]
        }
      ]
    },
    {
      "cell_type": "markdown",
      "metadata": {
        "id": "XFDpsMukIinU"
      },
      "source": [
        "## Listas e loops:\n",
        "\n",
        "Estruturas sequenciais como as listas são ideiais para serem manipuladas por loops do tipo FOR. No exemplo abaixo a variável de controle do FOR é usada como índice para percorrer a coleção:"
      ]
    },
    {
      "cell_type": "code",
      "metadata": {
        "id": "HYfIXMXIGFax",
        "outputId": "92e2ffcf-0d24-4fca-c9a0-3106c5782f41",
        "colab": {
          "base_uri": "https://localhost:8080/"
        }
      },
      "source": [
        "for i in range(0,len(aposta_mega_sena)):\n",
        "  print(\"Posição {} = {}\".format(i,aposta_mega_sena[i]))"
      ],
      "execution_count": null,
      "outputs": [
        {
          "output_type": "stream",
          "name": "stdout",
          "text": [
            "Posição 0 = 6\n",
            "Posição 1 = 14\n",
            "Posição 2 = 19\n",
            "Posição 3 = 20\n",
            "Posição 4 = 39\n",
            "Posição 5 = 40\n"
          ]
        }
      ]
    },
    {
      "cell_type": "markdown",
      "metadata": {
        "id": "A845xMKDKCpf"
      },
      "source": [
        "#### Considerações importantes:\n",
        "\n",
        "Note que a função *len()* foi utilizada para definir o intervalo de valores do índices de acesso à lista."
      ]
    },
    {
      "cell_type": "markdown",
      "metadata": {
        "id": "3cgaAzBVKovt"
      },
      "source": [
        "Outras versões da função *range()*:\n",
        "\n",
        "- um único atributo define o final do intervalo, sendo que o início é definido implicitamente como sendo 0:"
      ]
    },
    {
      "cell_type": "code",
      "metadata": {
        "id": "kVsd-yqcJ-19",
        "outputId": "00e88760-ee40-48f1-e6ba-feacaf249d09",
        "colab": {
          "base_uri": "https://localhost:8080/"
        }
      },
      "source": [
        "for i in range(len(aposta_mega_sena)):\n",
        "  print(\"Posição {} = {}\".format(len(aposta_mega_sena)-i-1,aposta_mega_sena[-(i+1)]))"
      ],
      "execution_count": null,
      "outputs": [
        {
          "output_type": "stream",
          "name": "stdout",
          "text": [
            "Posição 5 = 40\n",
            "Posição 4 = 39\n",
            "Posição 3 = 20\n",
            "Posição 2 = 19\n",
            "Posição 1 = 14\n",
            "Posição 0 = 6\n"
          ]
        }
      ]
    },
    {
      "cell_type": "markdown",
      "metadata": {
        "id": "VcXHUfezLCsq"
      },
      "source": [
        "- uma versão completa na qual é possível definir início, fim e passo de cada loop:"
      ]
    },
    {
      "cell_type": "code",
      "metadata": {
        "id": "qBgFKq2XK_Wq",
        "outputId": "40a40808-f7ef-4150-c401-2f84a0a08625",
        "colab": {
          "base_uri": "https://localhost:8080/"
        }
      },
      "source": [
        "for i in range(0,len(aposta_mega_sena),2):\n",
        "  print(\"Posição {} = {}\".format(i,aposta_mega_sena[i]))"
      ],
      "execution_count": null,
      "outputs": [
        {
          "output_type": "stream",
          "name": "stdout",
          "text": [
            "Posição 0 = 6\n",
            "Posição 2 = 19\n",
            "Posição 4 = 39\n"
          ]
        }
      ]
    },
    {
      "cell_type": "code",
      "metadata": {
        "id": "te4dRQKtLNkw",
        "outputId": "d0a30dc2-1c2a-485b-d72d-fa88e1efbe31",
        "colab": {
          "base_uri": "https://localhost:8080/"
        }
      },
      "source": [
        "for i in range(len(aposta_mega_sena)-1,0,-1):\n",
        "  print(\"Posição {} = {}\".format(i,aposta_mega_sena[i]))"
      ],
      "execution_count": null,
      "outputs": [
        {
          "output_type": "stream",
          "name": "stdout",
          "text": [
            "Posição 5 = 53\n",
            "Posição 4 = 39\n",
            "Posição 3 = 20\n",
            "Posição 2 = 19\n",
            "Posição 1 = 14\n"
          ]
        }
      ]
    },
    {
      "cell_type": "markdown",
      "metadata": {
        "id": "zD8rcpH4LX1M"
      },
      "source": [
        "Note que nesse último exemplo percorremos a lista começando da última posição até a primeira com um passo negativo."
      ]
    },
    {
      "cell_type": "markdown",
      "metadata": {
        "id": "qDCq6a9kMbok"
      },
      "source": [
        "## Exercício 2:\n",
        "\n",
        "Percorra a lista aposta_mega_sena na ordem inversa usando um loop com variável de controle crescente e índices em ordem decrerscente."
      ]
    },
    {
      "cell_type": "code",
      "metadata": {
        "id": "j5dOMtrlLUrB",
        "colab": {
          "base_uri": "https://localhost:8080/"
        },
        "outputId": "69c7c139-92b6-42cd-9c61-29537a52e703"
      },
      "source": [
        "for i in range(len(aposta_mega_sena)):\n",
        "  print(\"Posição {} = {}\".format(len(aposta_mega_sena)-i-1,aposta_mega_sena[-i-1]))"
      ],
      "execution_count": null,
      "outputs": [
        {
          "output_type": "stream",
          "name": "stdout",
          "text": [
            "Posição 9 = 10\n",
            "Posição 8 = 22\n",
            "Posição 7 = 33\n",
            "Posição 6 = 53\n",
            "Posição 5 = 39\n",
            "Posição 4 = 20\n",
            "Posição 3 = 19\n",
            "Posição 2 = 14\n",
            "Posição 1 = 10\n",
            "Posição 0 = 10\n"
          ]
        }
      ]
    },
    {
      "cell_type": "markdown",
      "metadata": {
        "id": "lyzy0bN3MvC7"
      },
      "source": [
        "Um segundo formato de FOR permite o percorrimento da lista sem a função range:"
      ]
    },
    {
      "cell_type": "code",
      "source": [
        "lista_de_compras + aposta_mega_sena"
      ],
      "metadata": {
        "colab": {
          "base_uri": "https://localhost:8080/"
        },
        "id": "xgx_a49lz0uP",
        "outputId": "9e156f6d-5567-4bad-9df6-397b1d8cadb4"
      },
      "execution_count": null,
      "outputs": [
        {
          "output_type": "execute_result",
          "data": {
            "text/plain": [
              "['maçã', 'banana', 'laranja', 6, 14, 19, 20, 39, 40]"
            ]
          },
          "metadata": {},
          "execution_count": 33
        }
      ]
    },
    {
      "cell_type": "code",
      "metadata": {
        "id": "4JK2c2_4RId1",
        "outputId": "9332a1be-4e37-4f12-d7f6-8a3b9ca17035",
        "colab": {
          "base_uri": "https://localhost:8080/"
        }
      },
      "source": [
        "for x in lista_de_compras + aposta_mega_sena:\n",
        "  print(x,type(x))"
      ],
      "execution_count": null,
      "outputs": [
        {
          "output_type": "stream",
          "name": "stdout",
          "text": [
            "maçã <class 'str'>\n",
            "banana <class 'str'>\n",
            "laranja <class 'str'>\n",
            "6 <class 'int'>\n",
            "14 <class 'int'>\n",
            "19 <class 'int'>\n",
            "20 <class 'int'>\n",
            "39 <class 'int'>\n",
            "40 <class 'int'>\n"
          ]
        }
      ]
    },
    {
      "cell_type": "markdown",
      "metadata": {
        "id": "QBFOmm1lRc1b"
      },
      "source": [
        "Note que não usamos nem range nem índices. A variável x extrai um dado por vez da coleção passada como parâmetro após o *in*."
      ]
    },
    {
      "cell_type": "markdown",
      "metadata": {
        "id": "BtIz5WDgaJEu"
      },
      "source": [
        "### Copiando uma lista\n",
        "\n",
        "Usando uma atribuição é possível criar uma nova lista com trechos de outra:"
      ]
    },
    {
      "cell_type": "code",
      "metadata": {
        "id": "8tgpxQnwcDGA"
      },
      "source": [
        "lista_curta_de_compras = lista_de_compras[1:]"
      ],
      "execution_count": null,
      "outputs": []
    },
    {
      "cell_type": "code",
      "metadata": {
        "id": "mGlIA3ygcTz5",
        "outputId": "6fbeb999-433a-4a78-8f8c-de01331c5d8d",
        "colab": {
          "base_uri": "https://localhost:8080/"
        }
      },
      "source": [
        "lista_curta_de_compras"
      ],
      "execution_count": null,
      "outputs": [
        {
          "output_type": "execute_result",
          "data": {
            "text/plain": [
              "['banana', 'acacacac']"
            ]
          },
          "metadata": {},
          "execution_count": 37
        }
      ]
    },
    {
      "cell_type": "markdown",
      "metadata": {
        "id": "0NnBmNBOcZqA"
      },
      "source": [
        "### Cuidados na cópia de listas\n",
        "\n",
        "A variável que armazena uma lista na verdade é somente uma indicação (ponteiro) de onde essa lista está armazenada. Assim, é preciso bastante cuidado ao fazer cópias de uma lista pois uma atribuição simples estará somente criando outro ponteiro apontando para a mesma área."
      ]
    },
    {
      "cell_type": "code",
      "source": [
        "copia_aposta_mega_sena = aposta_mega_sena"
      ],
      "metadata": {
        "id": "n_rqnKn8cUe1"
      },
      "execution_count": null,
      "outputs": []
    },
    {
      "cell_type": "code",
      "source": [
        "print('1:',copia_aposta_mega_sena,aposta_mega_sena)\n",
        "copia_aposta_mega_sena[0] = -1\n",
        "print('2:',copia_aposta_mega_sena,aposta_mega_sena)\n",
        "aposta_mega_sena[-1] = -1\n",
        "print('3:',copia_aposta_mega_sena,aposta_mega_sena)\n",
        "copia_aposta_mega_sena[-1] = -100\n",
        "print('4:',copia_aposta_mega_sena,aposta_mega_sena)"
      ],
      "metadata": {
        "colab": {
          "base_uri": "https://localhost:8080/"
        },
        "id": "Z3ykh7URcY0R",
        "outputId": "0dd64522-41ed-43c9-e2cf-b9f8a9aabcac"
      },
      "execution_count": null,
      "outputs": [
        {
          "output_type": "stream",
          "name": "stdout",
          "text": [
            "1: [6, 14, 19, 20, 39, 40] [6, 14, 19, 20, 39, 40]\n",
            "2: [-1, 14, 19, 20, 39, 40] [-1, 14, 19, 20, 39, 40]\n",
            "3: [-1, 14, 19, 20, 39, -1] [-1, 14, 19, 20, 39, -1]\n",
            "4: [-1, 14, 19, 20, 39, -100] [-1, 14, 19, 20, 39, -100]\n"
          ]
        }
      ]
    },
    {
      "cell_type": "code",
      "source": [
        "aposta_mega_sena = [6, 14, 19, 20, 39, 53]"
      ],
      "metadata": {
        "id": "TEuBFZ5qc0iH"
      },
      "execution_count": null,
      "outputs": []
    },
    {
      "cell_type": "markdown",
      "source": [
        "Mas note que se a cópia for só parcial o mesmo não acontece:"
      ],
      "metadata": {
        "id": "esWdHecdc1cW"
      }
    },
    {
      "cell_type": "code",
      "metadata": {
        "id": "epseZORjaMRk"
      },
      "source": [
        "copia_aposta_mega_sena = aposta_mega_sena[:-2]"
      ],
      "execution_count": null,
      "outputs": []
    },
    {
      "cell_type": "code",
      "source": [
        "print('1:',copia_aposta_mega_sena,aposta_mega_sena)\n",
        "copia_aposta_mega_sena[0] = -1\n",
        "print('2:',copia_aposta_mega_sena,aposta_mega_sena)\n",
        "aposta_mega_sena[-1] = -1\n",
        "print('3:',copia_aposta_mega_sena,aposta_mega_sena)\n",
        "copia_aposta_mega_sena[-1] = -100\n",
        "print('4:',copia_aposta_mega_sena,aposta_mega_sena)\n"
      ],
      "metadata": {
        "colab": {
          "base_uri": "https://localhost:8080/"
        },
        "id": "Jl-L_igfbS9y",
        "outputId": "e72aff3a-3865-4704-b91d-28f20a491830"
      },
      "execution_count": null,
      "outputs": [
        {
          "output_type": "stream",
          "name": "stdout",
          "text": [
            "1: [6, 14, 19, 20] [6, 14, 19, 20, 39, 53]\n",
            "2: [-1, 14, 19, 20] [6, 14, 19, 20, 39, 53]\n",
            "3: [-1, 14, 19, 20] [6, 14, 19, 20, 39, -1]\n",
            "4: [-1, 14, 19, -100] [6, 14, 19, 20, 39, -1]\n"
          ]
        }
      ]
    },
    {
      "cell_type": "code",
      "source": [
        "aposta_mega_sena = [6, 14, 19, 20, 39, 53]\n",
        "copia_aposta_mega_sena = aposta_mega_sena"
      ],
      "metadata": {
        "id": "qTi_pQdac9le"
      },
      "execution_count": null,
      "outputs": []
    },
    {
      "cell_type": "markdown",
      "metadata": {
        "id": "i1nZ0E7qYwz-"
      },
      "source": [
        "### Alterando o conteúdo de uma lista com loop:\n",
        "\n",
        "Os índices podem ser utilizados para alterar o conteúdo da lista em posições específicas:"
      ]
    },
    {
      "cell_type": "code",
      "metadata": {
        "id": "ESEhsNrtZPJt",
        "outputId": "dd0bbd3d-2220-4935-c8f4-78615d7fc1cf",
        "colab": {
          "base_uri": "https://localhost:8080/"
        }
      },
      "source": [
        "print(\"Antes:\",copia_aposta_mega_sena, aposta_mega_sena)\n",
        "for i in range(len(aposta_mega_sena)):\n",
        "  if copia_aposta_mega_sena[i]%2==1:\n",
        "    copia_aposta_mega_sena[i]+=1\n",
        "print(\"Depois:\",copia_aposta_mega_sena, aposta_mega_sena)"
      ],
      "execution_count": null,
      "outputs": [
        {
          "output_type": "stream",
          "name": "stdout",
          "text": [
            "Antes: [6, 14, 19, 20, 39, 53] [6, 14, 19, 20, 39, 53]\n",
            "Depois: [6, 14, 20, 20, 40, 54] [6, 14, 20, 20, 40, 54]\n"
          ]
        }
      ]
    },
    {
      "cell_type": "markdown",
      "metadata": {
        "id": "IQcm49U5bpCj"
      },
      "source": [
        "Note que a alteração foi feita na cópia mas a lista \"original\" TAMBÉM FOI ALTERADA! A forma correta de fazer uma cópia independente de uma lista requer o uso da função copy:"
      ]
    },
    {
      "cell_type": "code",
      "metadata": {
        "id": "o2PNYsOrcyfB"
      },
      "source": [
        "aposta_mega_sena = [6, 14, 19, 20, 39, 53]\n",
        "copia_aposta_mega_sena = aposta_mega_sena.copy()\n"
      ],
      "execution_count": null,
      "outputs": []
    },
    {
      "cell_type": "code",
      "metadata": {
        "id": "XZtJac_NdRNK",
        "outputId": "00f3bf17-e078-435e-a9a9-f30178f0b647",
        "colab": {
          "base_uri": "https://localhost:8080/"
        }
      },
      "source": [
        "print(\"Antes:\",copia_aposta_mega_sena, aposta_mega_sena)\n",
        "for i in range(len(aposta_mega_sena)):\n",
        "  if copia_aposta_mega_sena[i]%2==1:\n",
        "    copia_aposta_mega_sena[i]+=1\n",
        "print(\"Depois:\",copia_aposta_mega_sena, aposta_mega_sena)"
      ],
      "execution_count": null,
      "outputs": [
        {
          "output_type": "stream",
          "name": "stdout",
          "text": [
            "Antes: [6, 14, 19, 20, 39, 53] [6, 14, 19, 20, 39, 53]\n",
            "Depois: [6, 14, 20, 20, 40, 54] [6, 14, 19, 20, 39, 53]\n"
          ]
        }
      ]
    },
    {
      "cell_type": "markdown",
      "metadata": {
        "id": "KzdlSPmbdkyP"
      },
      "source": [
        "## Exercício 3:\n",
        "\n",
        "Crie uma cópia independente da lista aposta_mega_sena sem o primeiro e o último elementos. Em seguida altere essa nova lista multiplicando seus termos por 10.\n"
      ]
    },
    {
      "cell_type": "code",
      "metadata": {
        "id": "mnyPyhkYWVbV",
        "colab": {
          "base_uri": "https://localhost:8080/",
          "height": 34
        },
        "outputId": "a9ebada1-0db9-419e-c459-e23b19414da1"
      },
      "source": [
        "aposta_mega_sena[1:-1]"
      ],
      "execution_count": null,
      "outputs": [
        {
          "output_type": "execute_result",
          "data": {
            "text/plain": [
              "[14, 19, 20, 39]"
            ]
          },
          "metadata": {
            "tags": []
          },
          "execution_count": 15
        }
      ]
    },
    {
      "cell_type": "code",
      "metadata": {
        "id": "YbyvjdY0d6oR",
        "colab": {
          "base_uri": "https://localhost:8080/"
        },
        "outputId": "bd88e6da-dbbd-406d-f914-96c19cea2ea8"
      },
      "source": [
        "copia = aposta_mega_sena[1:-1].copy()\n",
        "for i in range(len(copia)):\n",
        "  copia[i] *=10\n",
        "print(copia)"
      ],
      "execution_count": null,
      "outputs": [
        {
          "output_type": "stream",
          "name": "stdout",
          "text": [
            "[140, 190, 200, 390]\n"
          ]
        }
      ]
    },
    {
      "cell_type": "markdown",
      "metadata": {
        "id": "XknPW8GyZBPO"
      },
      "source": [
        "### Outras operações que modificam a lista original:\n",
        "\n",
        "- v.append(x): adiciona o elemento x ao final da lista v\n",
        "- v.extend(t): adiciona a lista de elementos t ao final da lista v\n",
        "- v.insert(i, x): adiciona o elemento x na posição i da lista v (o índice começa em 0)\n",
        "- v.remove(x): remove o primeiro item com o valor x\n",
        "- v.pop(i): se i for informado, remove o elemento da posição i da lista v e retorna o elemento. Se i não for informado, retorna o último elemento e o remove da lista"
      ]
    },
    {
      "cell_type": "code",
      "metadata": {
        "id": "--LX44t4e7CG",
        "outputId": "7acb9c79-9130-4fc7-d261-7d41d15b524c",
        "colab": {
          "base_uri": "https://localhost:8080/"
        }
      },
      "source": [
        "print(\"antes:\",aposta_mega_sena)\n",
        "aposta_mega_sena.append(33)\n",
        "print(\"depois:\",aposta_mega_sena)"
      ],
      "execution_count": null,
      "outputs": [
        {
          "output_type": "stream",
          "name": "stdout",
          "text": [
            "antes: [6, 14, 19, 20, 39, 53]\n",
            "depois: [6, 14, 19, 20, 39, 53, 33]\n"
          ]
        }
      ]
    },
    {
      "cell_type": "code",
      "source": [
        "aposta_mega_sena.extend([22,23])"
      ],
      "metadata": {
        "id": "3ds_Lv7v2tsF"
      },
      "execution_count": null,
      "outputs": []
    },
    {
      "cell_type": "code",
      "source": [
        "aposta_mega_sena"
      ],
      "metadata": {
        "colab": {
          "base_uri": "https://localhost:8080/"
        },
        "id": "wWIISc2e23qF",
        "outputId": "7580e25d-b294-4632-f93c-2bfcf2326ec2"
      },
      "execution_count": null,
      "outputs": [
        {
          "output_type": "execute_result",
          "data": {
            "text/plain": [
              "[6, 14, 19, 20, 39, 53, 33, 22, 23]"
            ]
          },
          "metadata": {},
          "execution_count": 50
        }
      ]
    },
    {
      "cell_type": "code",
      "metadata": {
        "id": "IvgEILyDfV-d",
        "outputId": "937e5fa1-f129-47a0-9399-2a82539da683",
        "colab": {
          "base_uri": "https://localhost:8080/"
        }
      },
      "source": [
        "print(aposta_mega_sena.pop())\n",
        "print(aposta_mega_sena)"
      ],
      "execution_count": null,
      "outputs": [
        {
          "output_type": "stream",
          "name": "stdout",
          "text": [
            "23\n",
            "[6, 14, 19, 20, 39, 53, 33, 22]\n"
          ]
        }
      ]
    },
    {
      "cell_type": "markdown",
      "metadata": {
        "id": "EhW7GO6HfzzT"
      },
      "source": [
        "Cuidados ao usar o insert:\n",
        "\n",
        "- inserir um dado numa posição além da última causa uma extensão da lista em uma só posição e o dado pode não ficar na posição indicada:"
      ]
    },
    {
      "cell_type": "code",
      "source": [
        "len(aposta_mega_sena)"
      ],
      "metadata": {
        "colab": {
          "base_uri": "https://localhost:8080/"
        },
        "id": "nVQAzFLI3YKz",
        "outputId": "4bf52cd6-3fd2-4a8e-e735-ec84f3835506"
      },
      "execution_count": null,
      "outputs": [
        {
          "output_type": "execute_result",
          "data": {
            "text/plain": [
              "8"
            ]
          },
          "metadata": {},
          "execution_count": 52
        }
      ]
    },
    {
      "cell_type": "code",
      "metadata": {
        "id": "Y3PGxoxgfm_z",
        "outputId": "41db0caa-7099-4aa1-823f-c6399a46f129",
        "colab": {
          "base_uri": "https://localhost:8080/"
        }
      },
      "source": [
        "aposta_mega_sena.insert(15,10)\n",
        "aposta_mega_sena"
      ],
      "execution_count": null,
      "outputs": [
        {
          "output_type": "execute_result",
          "data": {
            "text/plain": [
              "[6, 14, 19, 20, 39, 53, 33, 22, 10]"
            ]
          },
          "metadata": {},
          "execution_count": 53
        }
      ]
    },
    {
      "cell_type": "markdown",
      "metadata": {
        "id": "6HJ-pR5ygP-z"
      },
      "source": [
        "A inserção numa posição intermediária \"empurra\" os dados seguintes uma posição adiante."
      ]
    },
    {
      "cell_type": "code",
      "metadata": {
        "id": "zhKTqMSagGCy"
      },
      "source": [
        "aposta_mega_sena.insert(1,10)"
      ],
      "execution_count": null,
      "outputs": []
    },
    {
      "cell_type": "code",
      "metadata": {
        "id": "RjFE41tugMH7",
        "outputId": "a908c151-01fc-47a6-d075-1e63e405207b",
        "colab": {
          "base_uri": "https://localhost:8080/"
        }
      },
      "source": [
        "aposta_mega_sena"
      ],
      "execution_count": null,
      "outputs": [
        {
          "output_type": "execute_result",
          "data": {
            "text/plain": [
              "[6, 10, 14, 19, 20, 39, 53, 33, 22, 10]"
            ]
          },
          "metadata": {},
          "execution_count": 55
        }
      ]
    },
    {
      "cell_type": "markdown",
      "source": [
        "Retirando um elemento da lista:"
      ],
      "metadata": {
        "id": "kY1SIuVOpxG9"
      }
    },
    {
      "cell_type": "code",
      "source": [
        "del aposta_mega_sena[2]\n",
        "aposta_mega_sena"
      ],
      "metadata": {
        "colab": {
          "base_uri": "https://localhost:8080/"
        },
        "id": "XQTa25WwpZXg",
        "outputId": "a6514850-9c66-4c2c-b29b-5a0aa15c5815"
      },
      "execution_count": null,
      "outputs": [
        {
          "output_type": "execute_result",
          "data": {
            "text/plain": [
              "[6, 14, 20, 39, 53]"
            ]
          },
          "metadata": {},
          "execution_count": 74
        }
      ]
    },
    {
      "cell_type": "markdown",
      "metadata": {
        "id": "YJX0Qy_4Ir6x"
      },
      "source": [
        "Ordenando uma lista:"
      ]
    },
    {
      "cell_type": "code",
      "metadata": {
        "id": "kst8h7PiLRNy",
        "outputId": "021a5153-1c48-4941-d51e-706e54665429",
        "colab": {
          "base_uri": "https://localhost:8080/"
        }
      },
      "source": [
        "vogais = ['e', 'a', 'u', 'o', 'i']\n",
        "\n",
        "vogais.sort()\n",
        "\n",
        "print('Vogais ordenadas:', vogais)"
      ],
      "execution_count": null,
      "outputs": [
        {
          "output_type": "stream",
          "name": "stdout",
          "text": [
            "Vogais ordenadas: ['a', 'e', 'i', 'o', 'u']\n"
          ]
        }
      ]
    },
    {
      "cell_type": "code",
      "metadata": {
        "id": "-APzF1ThNQ2x",
        "outputId": "6c5a1d2a-79ed-430e-f465-9c161fbe00e7",
        "colab": {
          "base_uri": "https://localhost:8080/"
        }
      },
      "source": [
        "vogais.sort(reverse = True)\n",
        "\n",
        "print('Vogais na ordem inversa:', vogais)"
      ],
      "execution_count": null,
      "outputs": [
        {
          "output_type": "stream",
          "name": "stdout",
          "text": [
            "Vogais na ordem inversa: ['u', 'o', 'i', 'e', 'a']\n"
          ]
        }
      ]
    },
    {
      "cell_type": "markdown",
      "metadata": {
        "id": "twCAWcCageBq"
      },
      "source": [
        "## Exercício 4:\n",
        "\n",
        "Usando um loop adicione os dados de aposta_mega_sena em lista_vazia de forma que fiquem em ordem decrescente e sem repetição."
      ]
    },
    {
      "cell_type": "code",
      "source": [
        "lista_vazia = []"
      ],
      "metadata": {
        "id": "R_TPpYvh6tEP"
      },
      "execution_count": null,
      "outputs": []
    },
    {
      "cell_type": "code",
      "source": [
        "lista_vazia"
      ],
      "metadata": {
        "colab": {
          "base_uri": "https://localhost:8080/"
        },
        "id": "rJFqZVm97La7",
        "outputId": "52bbd8aa-1d6b-4249-928d-bcfe3762311f"
      },
      "execution_count": null,
      "outputs": [
        {
          "output_type": "execute_result",
          "data": {
            "text/plain": [
              "[53, 39, 33, 22, 20, 19, 14, 10]"
            ]
          },
          "metadata": {},
          "execution_count": 70
        }
      ]
    },
    {
      "cell_type": "code",
      "source": [
        "aposta_mega_sena[0] = 10"
      ],
      "metadata": {
        "id": "fDdGIfjX6_QH"
      },
      "execution_count": null,
      "outputs": []
    },
    {
      "cell_type": "code",
      "source": [
        "aposta_mega_sena"
      ],
      "metadata": {
        "colab": {
          "base_uri": "https://localhost:8080/"
        },
        "id": "pUZkfxmH7Ekk",
        "outputId": "6eef0b46-ba5c-4046-bbb7-e952c7c7022b"
      },
      "execution_count": null,
      "outputs": [
        {
          "output_type": "execute_result",
          "data": {
            "text/plain": [
              "[10, 10, 14, 19, 20, 39, 53, 33, 22, 10]"
            ]
          },
          "metadata": {},
          "execution_count": 64
        }
      ]
    },
    {
      "cell_type": "code",
      "source": [
        "for i in aposta_mega_sena:\n",
        "  if i not in lista_vazia:\n",
        "    lista_vazia.append(i)\n",
        "lista_vazia.sort(reverse = True)"
      ],
      "metadata": {
        "id": "M9iY3tbQ6Rv4"
      },
      "execution_count": null,
      "outputs": []
    },
    {
      "cell_type": "code",
      "metadata": {
        "id": "G2loghIIYEwg"
      },
      "source": [
        "aposta_mega_sena = [6, 14, 19, 20, 39, 53]\n",
        "lista_vazia = []\n",
        "copia=aposta_mega_sena.copy()\n",
        "copia.sort(reverse = True)"
      ],
      "execution_count": null,
      "outputs": []
    },
    {
      "cell_type": "code",
      "metadata": {
        "id": "bSMVBUtDgtiD",
        "colab": {
          "base_uri": "https://localhost:8080/"
        },
        "outputId": "15beeb3a-e885-46ad-ad5e-897d03caf249"
      },
      "source": [
        "print(\"antes:\",lista_vazia,aposta_mega_sena,copia)\n",
        "for x in copia:\n",
        "  if x not in lista_vazia:\n",
        "    lista_vazia.append(x)\n",
        "print(\"depois\",lista_vazia)"
      ],
      "execution_count": null,
      "outputs": [
        {
          "output_type": "stream",
          "name": "stdout",
          "text": [
            "antes: [] [6, 14, 19, 20, 39, 53] [53, 39, 20, 19, 14, 6]\n",
            "depois [53, 39, 20, 19, 14, 6]\n"
          ]
        }
      ]
    },
    {
      "cell_type": "markdown",
      "source": [
        "## Strings e listas\n"
      ],
      "metadata": {
        "id": "-aJXBXmuFzs_"
      }
    },
    {
      "cell_type": "code",
      "source": [
        "texto = '1.0 2.0 3.2 4.1 5 6 7 8'"
      ],
      "metadata": {
        "id": "STbqzcf69Un1"
      },
      "execution_count": null,
      "outputs": []
    },
    {
      "cell_type": "code",
      "source": [
        "type(texto)"
      ],
      "metadata": {
        "colab": {
          "base_uri": "https://localhost:8080/"
        },
        "id": "mJ20b56w9ZmM",
        "outputId": "867ff5cc-f13b-4cb2-8831-0d58f995d112"
      },
      "execution_count": null,
      "outputs": [
        {
          "output_type": "execute_result",
          "data": {
            "text/plain": [
              "str"
            ]
          },
          "metadata": {},
          "execution_count": 75
        }
      ]
    },
    {
      "cell_type": "code",
      "source": [
        "li = texto.split()"
      ],
      "metadata": {
        "id": "xvFh51zA9ivt"
      },
      "execution_count": null,
      "outputs": []
    },
    {
      "cell_type": "code",
      "source": [
        "li"
      ],
      "metadata": {
        "colab": {
          "base_uri": "https://localhost:8080/"
        },
        "id": "dGoep88_9myq",
        "outputId": "a999d28f-fd55-4b9a-bee1-d79f5e056d50"
      },
      "execution_count": null,
      "outputs": [
        {
          "output_type": "execute_result",
          "data": {
            "text/plain": [
              "['1.0', '2.0', '3.2', '4.1', '5', '6', '7', '8']"
            ]
          },
          "metadata": {},
          "execution_count": 83
        }
      ]
    },
    {
      "cell_type": "code",
      "source": [
        "x = 0\n",
        "for y in li:\n",
        "  x += int(y)\n",
        "print(x)"
      ],
      "metadata": {
        "colab": {
          "base_uri": "https://localhost:8080/"
        },
        "id": "4eCPaPFC9utR",
        "outputId": "69348004-1da4-4a77-aac3-aff12134f692"
      },
      "execution_count": null,
      "outputs": [
        {
          "output_type": "stream",
          "name": "stdout",
          "text": [
            "36\n"
          ]
        }
      ]
    },
    {
      "cell_type": "code",
      "source": [
        "# Operações com strings\n",
        "nome_completo = input('Digite seu nome completo: ')\n",
        "\n",
        "print(nome_completo.upper())\n",
        "print(nome_completo.lower())\n",
        "print(nome_completo.lower().capitalize())\n",
        "print(nome_completo.split())\n",
        "\n",
        "# Podemos separar o nome em uma lista, onde poderemos acessar cada um dos nomes\n",
        "# como um item da lista. O acesso é feito pelo índice do nome na lista\n",
        "# Temos que lembrar: programadores sempre começam contando de ZERO\n",
        "nome_separado = nome_completo.split()\n",
        "print(nome_separado[0])\n",
        "\n",
        "# Podemos adicionar elementos à lista\n",
        "nome_separado.append('Teste')\n",
        "print(nome_separado)\n",
        "\n",
        "# Podemos excluir elementos pelo indice\n",
        "del nome_separado[1]\n",
        "print(nome_separado)\n",
        "\n",
        "# Para ver o nome como lista nem precisamos criar outra variável\n",
        "print(nome_completo.split())\n",
        "# Mas criando outra variável podemos saber o que estamos guardando para uso futuro e\n",
        "# podemos acessar facilmente um valor guardado\n",
        "\n",
        "# Mas como uma string já é uma sequencia de caracteres, nem precisamos usar split\n",
        "# Cuidado com os indices\n",
        "print(nome_completo[0:5])"
      ],
      "metadata": {
        "id": "-BvfBxZ8F3XV",
        "colab": {
          "base_uri": "https://localhost:8080/"
        },
        "outputId": "9da0f7e3-91d1-45d9-ec58-e8b65d751167"
      },
      "execution_count": null,
      "outputs": [
        {
          "output_type": "stream",
          "name": "stdout",
          "text": [
            "Digite seu nome completo: Remis Balaniuk\n",
            "REMIS BALANIUK\n",
            "remis balaniuk\n",
            "Remis balaniuk\n",
            "['Remis', 'Balaniuk']\n",
            "Remis\n",
            "['Remis', 'Balaniuk', 'Teste']\n",
            "['Remis', 'Teste']\n",
            "['Remis', 'Balaniuk']\n",
            "Remis\n"
          ]
        }
      ]
    },
    {
      "cell_type": "markdown",
      "metadata": {
        "id": "uAdiqoMAUhQE"
      },
      "source": [
        "### Listas de listas\n",
        "\n",
        "É possível criar uma lista de listas (o que não é a mesma coisa que concatenar duas listas)."
      ]
    },
    {
      "cell_type": "code",
      "metadata": {
        "id": "IKjnzixVRYGl"
      },
      "source": [
        "lista_de_listas = [aposta_mega_sena,lista_de_compras,lista_vazia]"
      ],
      "execution_count": null,
      "outputs": []
    },
    {
      "cell_type": "code",
      "metadata": {
        "id": "pluBUdPxU7SQ",
        "outputId": "c3ab8dc0-029b-4322-f9c3-15bf30e9f520",
        "colab": {
          "base_uri": "https://localhost:8080/"
        }
      },
      "source": [
        "print(lista_de_listas)"
      ],
      "execution_count": null,
      "outputs": [
        {
          "output_type": "stream",
          "name": "stdout",
          "text": [
            "[[10, 10, 14, 19, 20, 39, 53, 33, 22, 10], ['maçã', 'banana', 'laranja'], [53, 39, 33, 22, 20, 19, 14, 10]]\n"
          ]
        }
      ]
    },
    {
      "cell_type": "code",
      "metadata": {
        "id": "SwrI761yWWNb",
        "outputId": "6c8d5789-9a4c-4747-c928-36deaab9e748",
        "colab": {
          "base_uri": "https://localhost:8080/"
        }
      },
      "source": [
        "len(lista_de_listas)"
      ],
      "execution_count": null,
      "outputs": [
        {
          "output_type": "execute_result",
          "data": {
            "text/plain": [
              "3"
            ]
          },
          "metadata": {},
          "execution_count": 87
        }
      ]
    },
    {
      "cell_type": "markdown",
      "metadata": {
        "id": "E1CVbiKxWC-0"
      },
      "source": [
        "Com o primeiro índice obtem-se uma das listas:"
      ]
    },
    {
      "cell_type": "code",
      "metadata": {
        "id": "I-Of4EZmWJzC",
        "outputId": "ab09aa06-3eb1-4a5d-b58c-6f1305cb3c24",
        "colab": {
          "base_uri": "https://localhost:8080/"
        }
      },
      "source": [
        "lista_de_listas[1]"
      ],
      "execution_count": null,
      "outputs": [
        {
          "output_type": "execute_result",
          "data": {
            "text/plain": [
              "['maçã', 'banana', 'laranja']"
            ]
          },
          "metadata": {},
          "execution_count": 88
        }
      ]
    },
    {
      "cell_type": "markdown",
      "metadata": {
        "id": "A6qDFw7OWL37"
      },
      "source": [
        "E um segundo índice permite acessar um dado dentro da lista escolhida com o primeiro índice:"
      ]
    },
    {
      "cell_type": "code",
      "metadata": {
        "id": "R4qtbwwlU-C5",
        "outputId": "4fbd6c31-2afe-45b7-febc-39800dffc566",
        "colab": {
          "base_uri": "https://localhost:8080/",
          "height": 35
        }
      },
      "source": [
        "lista_de_listas[1][1]"
      ],
      "execution_count": null,
      "outputs": [
        {
          "output_type": "execute_result",
          "data": {
            "text/plain": [
              "'banana'"
            ],
            "application/vnd.google.colaboratory.intrinsic+json": {
              "type": "string"
            }
          },
          "metadata": {},
          "execution_count": 89
        }
      ]
    },
    {
      "cell_type": "markdown",
      "metadata": {
        "id": "FdTbLLWwD-pt"
      },
      "source": [
        "### Criando matrizes como lista de listas\n",
        "\n"
      ]
    },
    {
      "cell_type": "code",
      "metadata": {
        "id": "DY-ibCoXED3B",
        "outputId": "f688f838-b97b-4fa3-a014-65893198b93f",
        "colab": {
          "base_uri": "https://localhost:8080/"
        }
      },
      "source": [
        "linha = [0] *10\n",
        "print(linha)"
      ],
      "execution_count": null,
      "outputs": [
        {
          "output_type": "stream",
          "name": "stdout",
          "text": [
            "[0, 0, 0, 0, 0, 0, 0, 0, 0, 0]\n"
          ]
        }
      ]
    },
    {
      "cell_type": "markdown",
      "metadata": {
        "id": "LoPhvgw4FXtY"
      },
      "source": [
        "Note que nesse comando expandimos um lista com um elemento numa lista de 10 elementos iguais."
      ]
    },
    {
      "cell_type": "code",
      "metadata": {
        "id": "dqiwDd4UErwg",
        "outputId": "a91e2a85-0c67-48c0-8952-105ffb1a19cb",
        "colab": {
          "base_uri": "https://localhost:8080/"
        }
      },
      "source": [
        "matriz = [linha] * 10\n",
        "print(matriz)"
      ],
      "execution_count": null,
      "outputs": [
        {
          "output_type": "stream",
          "name": "stdout",
          "text": [
            "[[0, 0, 0, 0, 0, 0, 0, 0, 0, 0], [0, 0, 0, 0, 0, 0, 0, 0, 0, 0], [0, 0, 0, 0, 0, 0, 0, 0, 0, 0], [0, 0, 0, 0, 0, 0, 0, 0, 0, 0], [0, 0, 0, 0, 0, 0, 0, 0, 0, 0], [0, 0, 0, 0, 0, 0, 0, 0, 0, 0], [0, 0, 0, 0, 0, 0, 0, 0, 0, 0], [0, 0, 0, 0, 0, 0, 0, 0, 0, 0], [0, 0, 0, 0, 0, 0, 0, 0, 0, 0], [0, 0, 0, 0, 0, 0, 0, 0, 0, 0]]\n"
          ]
        }
      ]
    },
    {
      "cell_type": "markdown",
      "metadata": {
        "id": "hufVNTThFheZ"
      },
      "source": [
        "Nesse segundo comando expandimos uma lista que tinha como elemento único a lista criada no comando anterior e expandimos essa lista de listas 10 vezes."
      ]
    },
    {
      "cell_type": "code",
      "metadata": {
        "id": "woQYXL3-E6ku",
        "outputId": "1f33df19-aeb5-42a4-a6d6-4c6c8d3cd39e",
        "colab": {
          "base_uri": "https://localhost:8080/"
        }
      },
      "source": [
        "matriz[5][5]"
      ],
      "execution_count": null,
      "outputs": [
        {
          "output_type": "execute_result",
          "data": {
            "text/plain": [
              "0"
            ]
          },
          "metadata": {},
          "execution_count": 92
        }
      ]
    },
    {
      "cell_type": "markdown",
      "metadata": {
        "id": "DVlusjH-Fvee"
      },
      "source": [
        "## Exercício 5\n",
        "\n",
        "Crie uma matriz quadrada de 5x5 elementos e preencha-a da seguinte forma usando loops aninhados:\n",
        "\n",
        "[[0 1 2 3 4]\n",
        "\n",
        " [1 2 3 4 5]\n",
        "\n",
        " [2 3 4 5 6]\n",
        "\n",
        " [3 4 5 6 7]\n",
        "\n",
        " [4 5 6 7 8]]"
      ]
    },
    {
      "cell_type": "code",
      "metadata": {
        "id": "y4DiJY5yMTCf"
      },
      "source": [
        "matriz = []\n",
        "for i in range(5):\n",
        "  linha = [0]*5\n",
        "  matriz.append(linha)"
      ],
      "execution_count": null,
      "outputs": []
    },
    {
      "cell_type": "code",
      "metadata": {
        "id": "33_L0GmmN-e2",
        "colab": {
          "base_uri": "https://localhost:8080/"
        },
        "outputId": "20ad4b94-e896-4ab4-ca8e-c15315cb8420"
      },
      "source": [
        "len(matriz)"
      ],
      "execution_count": null,
      "outputs": [
        {
          "output_type": "execute_result",
          "data": {
            "text/plain": [
              "5"
            ]
          },
          "metadata": {},
          "execution_count": 6
        }
      ]
    },
    {
      "cell_type": "code",
      "source": [
        "matriz"
      ],
      "metadata": {
        "colab": {
          "base_uri": "https://localhost:8080/"
        },
        "id": "GwH-JHzCq0Am",
        "outputId": "cd0d510b-0dc2-4426-cab3-c2748e4b4df3"
      },
      "execution_count": null,
      "outputs": [
        {
          "output_type": "execute_result",
          "data": {
            "text/plain": [
              "[[0, 0, 0, 0, 0],\n",
              " [0, 0, 0, 0, 0],\n",
              " [0, 0, 0, 0, 0],\n",
              " [0, 0, 0, 0, 0],\n",
              " [0, 0, 0, 0, 0]]"
            ]
          },
          "metadata": {},
          "execution_count": 103
        }
      ]
    },
    {
      "cell_type": "code",
      "source": [
        "for i in range(5):\n",
        "  for j in range(5):\n",
        "    matriz[i][j] = i + j"
      ],
      "metadata": {
        "id": "OpgX1G9CD4wX"
      },
      "execution_count": null,
      "outputs": []
    },
    {
      "cell_type": "code",
      "metadata": {
        "id": "CPpR6eZIPSjJ",
        "colab": {
          "base_uri": "https://localhost:8080/"
        },
        "outputId": "0630b239-5b52-48dc-939b-8028ca5951de"
      },
      "source": [
        "matriz"
      ],
      "execution_count": null,
      "outputs": [
        {
          "output_type": "execute_result",
          "data": {
            "text/plain": [
              "[[0, 1, 2, 3, 4],\n",
              " [1, 2, 3, 4, 5],\n",
              " [2, 3, 4, 5, 6],\n",
              " [3, 4, 5, 6, 7],\n",
              " [4, 5, 6, 7, 8]]"
            ]
          },
          "metadata": {},
          "execution_count": 105
        }
      ]
    },
    {
      "cell_type": "code",
      "metadata": {
        "id": "nQCaQty_Nt61",
        "colab": {
          "base_uri": "https://localhost:8080/"
        },
        "outputId": "42c53aca-7eb3-4fc4-fa8f-ecb749696824"
      },
      "source": [
        "matriz = []\n",
        "for i in range(5):\n",
        "  matriz.append([])\n",
        "  for j in range(5):\n",
        "    matriz[i].append(j+i)\n",
        "print(matriz)"
      ],
      "execution_count": null,
      "outputs": [
        {
          "output_type": "stream",
          "name": "stdout",
          "text": [
            "[[0, 1, 2, 3, 4], [1, 2, 3, 4, 5], [2, 3, 4, 5, 6], [3, 4, 5, 6, 7], [4, 5, 6, 7, 8]]\n"
          ]
        }
      ]
    },
    {
      "cell_type": "markdown",
      "metadata": {
        "id": "nvDDGZn4W0CK"
      },
      "source": [
        "### Criando uma lista com números usando um iterador num dado intervalo e um passo\n",
        "\n",
        "Usando a função range:"
      ]
    },
    {
      "cell_type": "code",
      "metadata": {
        "id": "GQVuEvrrWAqW"
      },
      "source": [
        "intervalo = range(100,200,10)"
      ],
      "execution_count": null,
      "outputs": []
    },
    {
      "cell_type": "code",
      "metadata": {
        "id": "5wdgdoWrWmc7",
        "outputId": "1942abd2-967e-4353-93d8-492bef447bae",
        "colab": {
          "base_uri": "https://localhost:8080/"
        }
      },
      "source": [
        "print(intervalo)"
      ],
      "execution_count": null,
      "outputs": [
        {
          "output_type": "stream",
          "name": "stdout",
          "text": [
            "range(100, 200, 10)\n"
          ]
        }
      ]
    },
    {
      "cell_type": "code",
      "metadata": {
        "id": "-4L1G_e6Wob9",
        "outputId": "a2202754-f318-44da-97ec-b114c1ba3a90",
        "colab": {
          "base_uri": "https://localhost:8080/"
        }
      },
      "source": [
        "# usando a biblioteca math\n",
        "import math\n",
        "\n",
        "for x in intervalo:\n",
        "  print('A raiz de {} é {:.4f}'.format(x,math.sqrt(x)))"
      ],
      "execution_count": null,
      "outputs": [
        {
          "output_type": "stream",
          "name": "stdout",
          "text": [
            "A raiz de 100 é 10.0000\n",
            "A raiz de 110 é 10.4881\n",
            "A raiz de 120 é 10.9545\n",
            "A raiz de 130 é 11.4018\n",
            "A raiz de 140 é 11.8322\n",
            "A raiz de 150 é 12.2474\n",
            "A raiz de 160 é 12.6491\n",
            "A raiz de 170 é 13.0384\n",
            "A raiz de 180 é 13.4164\n",
            "A raiz de 190 é 13.7840\n"
          ]
        }
      ]
    },
    {
      "cell_type": "markdown",
      "metadata": {
        "id": "Gp0dW8OxegCd"
      },
      "source": [
        "As listas criadas com range não podem ser alteradas."
      ]
    },
    {
      "cell_type": "markdown",
      "metadata": {
        "id": "Dsll_K_t9Bc0"
      },
      "source": [
        "### Index\n",
        "\n",
        "Usando o comando index() é possível obter a posição de um elemento numa lista:"
      ]
    },
    {
      "cell_type": "code",
      "source": [
        "14 in aposta_mega_sena"
      ],
      "metadata": {
        "colab": {
          "base_uri": "https://localhost:8080/"
        },
        "id": "mbqtc95mCByi",
        "outputId": "a4ad2c79-cfb1-4526-922f-7bccea54f640"
      },
      "execution_count": null,
      "outputs": [
        {
          "output_type": "execute_result",
          "data": {
            "text/plain": [
              "True"
            ]
          },
          "metadata": {},
          "execution_count": 94
        }
      ]
    },
    {
      "cell_type": "code",
      "source": [
        "aposta_mega_sena[2]"
      ],
      "metadata": {
        "colab": {
          "base_uri": "https://localhost:8080/"
        },
        "id": "-BmiF4UWCMQP",
        "outputId": "ac4894c9-0bbe-4246-ba64-f684f7b5e2a6"
      },
      "execution_count": null,
      "outputs": [
        {
          "output_type": "execute_result",
          "data": {
            "text/plain": [
              "14"
            ]
          },
          "metadata": {},
          "execution_count": 96
        }
      ]
    },
    {
      "cell_type": "code",
      "metadata": {
        "id": "v8oufcGU8v_C",
        "outputId": "0fa09ca8-3b1f-49be-a926-fadcf52d70b1",
        "colab": {
          "base_uri": "https://localhost:8080/"
        }
      },
      "source": [
        "aposta_mega_sena.index(14)"
      ],
      "execution_count": null,
      "outputs": [
        {
          "output_type": "execute_result",
          "data": {
            "text/plain": [
              "2"
            ]
          },
          "metadata": {},
          "execution_count": 95
        }
      ]
    },
    {
      "cell_type": "markdown",
      "metadata": {
        "id": "WzFdOUchOhgk"
      },
      "source": [
        "Se o elemento aparecer mais de uma vez na lista index vai retornar sua primeira posição."
      ]
    },
    {
      "cell_type": "markdown",
      "metadata": {
        "id": "9EUq6YMJ9H97"
      },
      "source": [
        "Se o elemento não existir o comando vai retornar um erro e interromper o script. Por isso é conveniente testar se o elemento está contido na lista antes de pedir sua posição:"
      ]
    },
    {
      "cell_type": "code",
      "metadata": {
        "id": "8Zzvsvuh9L0J",
        "outputId": "062ba24a-9188-45ec-cabd-30916faf31eb",
        "colab": {
          "base_uri": "https://localhost:8080/"
        }
      },
      "source": [
        "valor_buscado = input(\"Digite um valor:\")\n",
        "if int(valor_buscado) in aposta_mega_sena:\n",
        "  print(\"A posição do valor buscado na lista é:\",aposta_mega_sena.index(int(valor_buscado)))\n",
        "else:\n",
        "  print(\"O valor buscado não existe na lista\")"
      ],
      "execution_count": null,
      "outputs": [
        {
          "output_type": "stream",
          "name": "stdout",
          "text": [
            "Digite um valor:10\n",
            "O valor buscado não existe na lista\n"
          ]
        }
      ]
    },
    {
      "cell_type": "markdown",
      "source": [
        "Outra maneira de lidar com exceções é criar um bloco 'try + except':"
      ],
      "metadata": {
        "id": "IkE-DqbXraFy"
      }
    },
    {
      "cell_type": "code",
      "source": [
        "valor_buscado = input(\"Digite um valor:\")\n",
        "try:\n",
        "  print(\"A posição do valor buscado na lista é:\",aposta_mega_sena.index(int(valor_buscado)))\n",
        "except:\n",
        "  print(\"O valor buscado não existe na lista\")"
      ],
      "metadata": {
        "colab": {
          "base_uri": "https://localhost:8080/"
        },
        "id": "hSKLXlTkrGQk",
        "outputId": "d8966704-996a-4265-f6e8-5f7c45743c09"
      },
      "execution_count": null,
      "outputs": [
        {
          "output_type": "stream",
          "name": "stdout",
          "text": [
            "Digite um valor:14\n",
            "A posição do valor buscado na lista é: 1\n"
          ]
        }
      ]
    },
    {
      "cell_type": "markdown",
      "metadata": {
        "id": "dq0FsKQ8O-jb"
      },
      "source": [
        "## Exercício 6\n",
        "\n",
        "Implemente um script que procure, na matriz criada no exercício anterior, um número digitado pelo usuário. Caso o encontre retorne a linha e a coluna da primeira ocorrência. Caso contrário diga que o valor não existe, sem ocorrência de erro."
      ]
    },
    {
      "cell_type": "code",
      "source": [
        " 1 in matriz"
      ],
      "metadata": {
        "colab": {
          "base_uri": "https://localhost:8080/"
        },
        "id": "JpLjEy0trvV3",
        "outputId": "930e5965-e32a-46dc-e805-508dc1d9bf6d"
      },
      "execution_count": null,
      "outputs": [
        {
          "output_type": "execute_result",
          "data": {
            "text/plain": [
              "False"
            ]
          },
          "metadata": {},
          "execution_count": 90
        }
      ]
    },
    {
      "cell_type": "code",
      "metadata": {
        "id": "xp9ZDYS8P91E",
        "colab": {
          "base_uri": "https://localhost:8080/",
          "height": 51
        },
        "outputId": "cc7ea632-303c-40e0-b8ef-f3a03071d814"
      },
      "source": [
        "valor_buscado = input(\"Digite um valor:\")\n",
        "achou = False\n",
        "for i in range(len(matriz)):\n",
        "  if int(valor_buscado) in matriz[i]:\n",
        "    print(\"A posição do valor buscado na matriz é: linha={} coluna={}\".format(i,matriz[i].index(int(valor_buscado))))\n",
        "    achou = True\n",
        "\n",
        "if not achou:\n",
        "  print(\"O valor buscado não existe na matriz\")"
      ],
      "execution_count": null,
      "outputs": [
        {
          "output_type": "stream",
          "text": [
            "Digite um valor:8\n",
            "A posição do valor buscado na matriz é: linha=4 coluna=4\n"
          ],
          "name": "stdout"
        }
      ]
    },
    {
      "cell_type": "markdown",
      "metadata": {
        "id": "lUUVxWyq78mK"
      },
      "source": [
        "## Cadeias de caracteres - Strings\n",
        "\n",
        "Os strings são armazenados como sequências de caracteres e podem ser manipulados utilizando índices, como nas listas:"
      ]
    },
    {
      "cell_type": "code",
      "metadata": {
        "id": "5Lxd-fxt8NNZ"
      },
      "source": [
        "linha = \"Toda célula de um notebook pode ser alterada, menos essa.\""
      ],
      "execution_count": null,
      "outputs": []
    },
    {
      "cell_type": "code",
      "metadata": {
        "id": "JAP8xvuD8PRE",
        "outputId": "60c5b57f-63af-47e5-bc5f-ab599e700392",
        "colab": {
          "base_uri": "https://localhost:8080/",
          "height": 35
        }
      },
      "source": [
        "linha[5:]"
      ],
      "execution_count": null,
      "outputs": [
        {
          "output_type": "execute_result",
          "data": {
            "text/plain": [
              "'célula de um notebook pode ser alterada'"
            ],
            "application/vnd.google.colaboratory.intrinsic+json": {
              "type": "string"
            }
          },
          "metadata": {},
          "execution_count": 4
        }
      ]
    },
    {
      "cell_type": "code",
      "metadata": {
        "id": "EC1qY4DsQJSq",
        "outputId": "2e2c4680-0854-4664-d25a-ce1b4c2d0ea6",
        "colab": {
          "base_uri": "https://localhost:8080/",
          "height": 34
        }
      },
      "source": [
        "linha[:-10]"
      ],
      "execution_count": null,
      "outputs": [
        {
          "output_type": "execute_result",
          "data": {
            "text/plain": [
              "'Toda célula de um notebook pode se'"
            ]
          },
          "metadata": {
            "tags": []
          },
          "execution_count": 67
        }
      ]
    },
    {
      "cell_type": "code",
      "metadata": {
        "id": "vRl-G1sj8bKc",
        "outputId": "394c393b-7ab6-4d2c-9390-6a41cf149349",
        "colab": {
          "base_uri": "https://localhost:8080/",
          "height": 34
        }
      },
      "source": [
        "\"pode\" in linha"
      ],
      "execution_count": null,
      "outputs": [
        {
          "output_type": "execute_result",
          "data": {
            "text/plain": [
              "True"
            ]
          },
          "metadata": {
            "tags": []
          },
          "execution_count": 69
        }
      ]
    },
    {
      "cell_type": "code",
      "metadata": {
        "id": "88e85Tbq8hLV",
        "outputId": "f662d7df-4672-4624-9f3d-c8e03bae1456",
        "colab": {
          "base_uri": "https://localhost:8080/",
          "height": 34
        }
      },
      "source": [
        "linha.index(\"alterada\")"
      ],
      "execution_count": null,
      "outputs": [
        {
          "output_type": "execute_result",
          "data": {
            "text/plain": [
              "36"
            ]
          },
          "metadata": {
            "tags": []
          },
          "execution_count": 70
        }
      ]
    },
    {
      "cell_type": "code",
      "metadata": {
        "id": "HRb_5v-0SENx",
        "outputId": "0d75eb69-8869-40e0-d671-935b5ad86987",
        "colab": {
          "base_uri": "https://localhost:8080/",
          "height": 34
        }
      },
      "source": [
        "linha.index(\" \")"
      ],
      "execution_count": null,
      "outputs": [
        {
          "output_type": "execute_result",
          "data": {
            "text/plain": [
              "4"
            ]
          },
          "metadata": {
            "tags": []
          },
          "execution_count": 69
        }
      ]
    },
    {
      "cell_type": "markdown",
      "metadata": {
        "id": "1jR496NZT_SM"
      },
      "source": [
        "## Desafio\n",
        "\n",
        "Escreva a linha faltante."
      ]
    },
    {
      "cell_type": "code",
      "metadata": {
        "id": "k1TfGNVDQn14",
        "outputId": "d2155d80-9143-49a5-e694-ded2ef25c3e5",
        "colab": {
          "base_uri": "https://localhost:8080/"
        }
      },
      "source": [
        "i = 0\n",
        "linha = 'Toda célula de um notebook pode ser alterada, menos essa.'\n",
        "lista_palavras = []\n",
        "while ' ' in linha:\n",
        "  lista_palavras.append(linha[:linha.index(' ')])\n",
        "  i = linha.index(' ')+1\n",
        "  ??????????????????????????\n",
        "  print(i,linha)\n",
        "lista_palavras.append(linha)\n",
        "print(lista_palavras)"
      ],
      "execution_count": null,
      "outputs": [
        {
          "output_type": "stream",
          "name": "stdout",
          "text": [
            "5 célula de um notebook pode ser alterada, menos essa.\n",
            "7 de um notebook pode ser alterada, menos essa.\n",
            "3 um notebook pode ser alterada, menos essa.\n",
            "3 notebook pode ser alterada, menos essa.\n",
            "9 pode ser alterada, menos essa.\n",
            "5 ser alterada, menos essa.\n",
            "4 alterada, menos essa.\n",
            "10 menos essa.\n",
            "6 essa.\n",
            "['Toda', 'célula', 'de', 'um', 'notebook', 'pode', 'ser', 'alterada,', 'menos', 'essa.']\n"
          ]
        }
      ]
    },
    {
      "cell_type": "code",
      "metadata": {
        "id": "tTBn91vBbhwB",
        "colab": {
          "base_uri": "https://localhost:8080/"
        },
        "outputId": "d63aac87-65c7-4c5b-e60d-a239f0309fd3"
      },
      "source": [
        "i = 0\n",
        "linha = 'Toda célula de um notebook pode ser alterada, menos essa.'\n",
        "lista_palavras = []\n",
        "while ' ' in linha:\n",
        "  lista_palavras.append(linha[:linha.index(' ')])\n",
        "  i = linha.index(' ')+1\n",
        "  if ',' in lista_palavras[-1] :\n",
        "    lista_palavras[-1] = lista_palavras[-1][:-1]\n",
        "  linha = linha[i:]\n",
        "  print(i,linha)\n",
        "if linha[-1] == '.':\n",
        "  linha = linha[:-1]\n",
        "lista_palavras.append(linha)\n",
        "print(lista_palavras)"
      ],
      "execution_count": null,
      "outputs": [
        {
          "output_type": "stream",
          "name": "stdout",
          "text": [
            "5 célula de um notebook pode ser alterada, menos essa.\n",
            "7 de um notebook pode ser alterada, menos essa.\n",
            "3 um notebook pode ser alterada, menos essa.\n",
            "3 notebook pode ser alterada, menos essa.\n",
            "9 pode ser alterada, menos essa.\n",
            "5 ser alterada, menos essa.\n",
            "4 alterada, menos essa.\n",
            "10 menos essa.\n",
            "6 essa.\n",
            "['Toda', 'célula', 'de', 'um', 'notebook', 'pode', 'ser', 'alterada', 'menos', 'essa']\n"
          ]
        }
      ]
    },
    {
      "cell_type": "markdown",
      "metadata": {
        "id": "J6LYQMW__Iso"
      },
      "source": [
        "## Exercício 7:\n",
        "\n",
        "Escreva um script que leia dois textos do teclado e conte quantas sequências de 3 caracteres sucessivos do primeiro texto ocorrem também no segundo."
      ]
    },
    {
      "cell_type": "code",
      "source": [
        "texto1 = input(\"texto 1:\")\n",
        "texto2 = input(\"texto 2:\")\n",
        "cont = 0\n",
        "for i in range(len(texto1)-2):\n",
        "  trecho = texto1[i:i+3]\n",
        "  if trecho in texto2:\n",
        "    cont +=1\n",
        "    print(trecho,texto2.index(trecho))\n",
        "print(cont)"
      ],
      "metadata": {
        "colab": {
          "base_uri": "https://localhost:8080/"
        },
        "id": "S575OrcmHLnf",
        "outputId": "fa88432d-0429-4a65-cf73-ac3f6b3fe904"
      },
      "execution_count": null,
      "outputs": [
        {
          "output_type": "stream",
          "name": "stdout",
          "text": [
            "texto 1:o rato roeu a roupa do rei de roma\n",
            "texto 2:na roupa do rei da frança havia uma mancha\n",
            "o r 10\n",
            "o r 10\n",
            " ro 2\n",
            "a r 1\n",
            " ro 2\n",
            "rou 3\n",
            "oup 4\n",
            "upa 5\n",
            "pa  6\n",
            "a d 7\n",
            " do 8\n",
            "do  9\n",
            "o r 10\n",
            " re 11\n",
            "rei 12\n",
            "ei  13\n",
            "i d 14\n",
            " ro 2\n",
            "18\n"
          ]
        }
      ]
    },
    {
      "cell_type": "code",
      "metadata": {
        "id": "Z2MDMTQ7_nt_",
        "colab": {
          "base_uri": "https://localhost:8080/",
          "height": 374
        },
        "outputId": "65ad5812-28b2-4a9d-9075-8deaa0732efe"
      },
      "source": [
        "texto1 = input(\"texto 1:\")\n",
        "texto2 = input(\"texto 2:\")\n",
        "qtd = 0\n",
        "while len(texto1)>=3:\n",
        "  if texto1[:3] in texto2:\n",
        "    qtd += 1\n",
        "    print(texto1[:3])\n",
        "  texto1=texto1[1:]\n",
        "print(\"Total de ocorrencias:\",qtd)"
      ],
      "execution_count": null,
      "outputs": [
        {
          "output_type": "stream",
          "text": [
            "texto 1:o rato roeu a roupa do rei de roma\n",
            "texto 2:na roupa do rei da frança havia uma mancha\n",
            "o r\n",
            "o r\n",
            " ro\n",
            "a r\n",
            " ro\n",
            "rou\n",
            "oup\n",
            "upa\n",
            "pa \n",
            "a d\n",
            " do\n",
            "do \n",
            "o r\n",
            " re\n",
            "rei\n",
            "ei \n",
            "i d\n",
            " ro\n",
            "Total de ocorrencias: 18\n"
          ],
          "name": "stdout"
        }
      ]
    },
    {
      "cell_type": "markdown",
      "metadata": {
        "id": "Qz3Hrn74g0LU"
      },
      "source": [
        "## Tuplas\n",
        "\n",
        "São as primas imutáveis das listas. Quase tudo que você pode fazer com uma\n",
        "lista, que não envolva modificá-la, é possível ser feito em uma tupla. As listas são destinadas a serem sequências homogêneas, enquanto que os Tuplas são estruturas de dados tipicamente heterogêneas. Tuplas são muito utilizadas na passagem de parâmetros de e para rotinas. Você\n",
        "especifica uma tupla ao usar parênteses (ou nada) em vez de colchetes:"
      ]
    },
    {
      "cell_type": "code",
      "metadata": {
        "id": "7iXsCJSzoBrX"
      },
      "source": [
        "tupla1 = (1,2.2,\"teste\")"
      ],
      "execution_count": null,
      "outputs": []
    },
    {
      "cell_type": "code",
      "metadata": {
        "id": "VgN2NlSmtO9O",
        "outputId": "769fc42b-cd66-490e-cd78-3fd53899760d",
        "colab": {
          "base_uri": "https://localhost:8080/"
        }
      },
      "source": [
        "print(tupla1)"
      ],
      "execution_count": null,
      "outputs": [
        {
          "output_type": "stream",
          "name": "stdout",
          "text": [
            "(1, 2.2, 'teste')\n"
          ]
        }
      ]
    },
    {
      "cell_type": "code",
      "metadata": {
        "id": "TybUDRkUUpoD",
        "outputId": "4bb2cf70-5ec9-44af-c96a-b3f181d2a8cb",
        "colab": {
          "base_uri": "https://localhost:8080/"
        }
      },
      "source": [
        "type(tupla1)"
      ],
      "execution_count": null,
      "outputs": [
        {
          "output_type": "execute_result",
          "data": {
            "text/plain": [
              "tuple"
            ]
          },
          "metadata": {},
          "execution_count": 119
        }
      ]
    },
    {
      "cell_type": "code",
      "metadata": {
        "id": "y69RQtWUtWy1"
      },
      "source": [
        "x = 10\n",
        "y = 'casa'\n",
        "tupla2 = x , y , tupla1"
      ],
      "execution_count": null,
      "outputs": []
    },
    {
      "cell_type": "code",
      "metadata": {
        "id": "80coDQPftikF",
        "outputId": "7152de3f-4da7-4ee7-fd97-7131e8f0c05e",
        "colab": {
          "base_uri": "https://localhost:8080/"
        }
      },
      "source": [
        "print(tupla2)"
      ],
      "execution_count": null,
      "outputs": [
        {
          "output_type": "stream",
          "name": "stdout",
          "text": [
            "(10, 'casa', (1, 2.2, 'teste'))\n"
          ]
        }
      ]
    },
    {
      "cell_type": "code",
      "metadata": {
        "id": "1heXeSdRtnMr",
        "outputId": "1f9d5e08-00bc-40a5-8092-690a507cf9a8",
        "colab": {
          "base_uri": "https://localhost:8080/",
          "height": 36
        }
      },
      "source": [
        "tupla2[1]"
      ],
      "execution_count": null,
      "outputs": [
        {
          "output_type": "execute_result",
          "data": {
            "text/plain": [
              "'casa'"
            ],
            "application/vnd.google.colaboratory.intrinsic+json": {
              "type": "string"
            }
          },
          "metadata": {},
          "execution_count": 122
        }
      ]
    },
    {
      "cell_type": "code",
      "metadata": {
        "id": "Vw921I-BtrjG",
        "outputId": "ee22f9a0-0497-4f8a-a16b-524973bff4cf",
        "colab": {
          "base_uri": "https://localhost:8080/"
        }
      },
      "source": [
        "tupla2[2][0]"
      ],
      "execution_count": null,
      "outputs": [
        {
          "output_type": "execute_result",
          "data": {
            "text/plain": [
              "1"
            ]
          },
          "metadata": {},
          "execution_count": 123
        }
      ]
    },
    {
      "cell_type": "code",
      "source": [
        "10 in tupla2"
      ],
      "metadata": {
        "colab": {
          "base_uri": "https://localhost:8080/"
        },
        "id": "arW96HnW2xv1",
        "outputId": "b2a57ab0-7b8e-467e-f84a-dfc22d10444a"
      },
      "execution_count": null,
      "outputs": [
        {
          "output_type": "execute_result",
          "data": {
            "text/plain": [
              "True"
            ]
          },
          "metadata": {},
          "execution_count": 127
        }
      ]
    },
    {
      "cell_type": "markdown",
      "metadata": {
        "id": "3QL-19L3dLvK"
      },
      "source": [
        "Para contornar o fato das tuplas serem imutáveis é possível converte-la para lista, fazer as alterações e volta-la para tupla:"
      ]
    },
    {
      "cell_type": "code",
      "metadata": {
        "id": "tPvIUkIVcm29",
        "outputId": "0503b3f0-ea1a-44a5-dcdc-e5fb6fa7a855",
        "colab": {
          "base_uri": "https://localhost:8080/"
        }
      },
      "source": [
        "lt = list(tupla1)\n",
        "print(lt)\n",
        "lt.append(22)\n",
        "print(lt)"
      ],
      "execution_count": null,
      "outputs": [
        {
          "output_type": "stream",
          "name": "stdout",
          "text": [
            "[1, 2.2, 'teste']\n",
            "[1, 2.2, 'teste', 22]\n"
          ]
        }
      ]
    },
    {
      "cell_type": "code",
      "metadata": {
        "id": "8AxTMvcLcRbO",
        "outputId": "ae6cf4c6-c529-4ac8-e28f-bf67180b635c",
        "colab": {
          "base_uri": "https://localhost:8080/"
        }
      },
      "source": [
        "tupla1 = tuple(lt)\n",
        "print(tupla1)"
      ],
      "execution_count": null,
      "outputs": [
        {
          "output_type": "stream",
          "name": "stdout",
          "text": [
            "(1, 2.2, 'teste', 22)\n"
          ]
        }
      ]
    },
    {
      "cell_type": "markdown",
      "metadata": {
        "id": "AjD6lGpd4E99"
      },
      "source": [
        "### Index em tuplas\n",
        "\n",
        "Usando o comando index() é possível obter a posição de um elemento numa tupla também:"
      ]
    },
    {
      "cell_type": "code",
      "metadata": {
        "id": "KDHznYGb4QIq",
        "outputId": "d6a44c32-0482-4284-a88f-1bcdbd4e3042",
        "colab": {
          "base_uri": "https://localhost:8080/"
        }
      },
      "source": [
        "meses = (\"janeiro\",\"fevereiro\",\"março\",\"abril\",\"maio\",\"junho\",\"julho\",\"agosto\",\"setembro\",\"outubro\",\"novembro\",\"dezembro\")\n",
        "posição = \"primeiro\",\"segundo\",\"terceiro\",\"quarto\",\"quinto\",\"sexto\",\"sétimo\",\"oitavo\",\"nono\",\"décimo\",\"décimo primeiro\",\"décimo segundo\"\n",
        "escolha = input(\"Escolha um mês:\")\n",
        "print(escolha,\"é o \",posição[meses.index(escolha)],\"mês do ano\" )"
      ],
      "execution_count": null,
      "outputs": [
        {
          "output_type": "stream",
          "name": "stdout",
          "text": [
            "Escolha um mês:maio\n",
            "maio é o  quinto mês do ano\n"
          ]
        }
      ]
    },
    {
      "cell_type": "markdown",
      "metadata": {
        "id": "FCQGmJXdVf7U"
      },
      "source": [
        "## Exercício 8:\n",
        "\n",
        "Altere o código acima de forma a evitar que o usuário informe um mês inválido. Repita o procedimento até que ele informe um mês correto."
      ]
    },
    {
      "cell_type": "code",
      "metadata": {
        "id": "QLtWHuF_dnRC",
        "colab": {
          "base_uri": "https://localhost:8080/"
        },
        "outputId": "a5cd5f87-c325-4b2d-ee32-1dfc555f3cb9"
      },
      "source": [
        "meses = (\"janeiro\",\"fevereiro\",\"março\",\"abril\",\"maio\",\"junho\",\"julho\",\"agosto\",\"setembro\",\"outubro\",\"novembro\",\"dezembro\")\n",
        "posição = \"primeiro\",\"segundo\",\"terceiro\",\"quarto\",\"quinto\",\"sexto\",\"sétimo\",\"oitavo\",\"nono\",\"décimo\",\"décimo primeiro\",\"décimo segundo\"\n",
        "while True:\n",
        "  escolha = input(\"Escolha um mês:\")\n",
        "  if escolha in meses:\n",
        "    print(escolha,\"é o \",posição[meses.index(escolha)],\"mês do ano\" )\n",
        "    break"
      ],
      "execution_count": null,
      "outputs": [
        {
          "output_type": "stream",
          "name": "stdout",
          "text": [
            "Escolha um mês:bfbfbf\n",
            "Escolha um mês:abril\n",
            "abril é o  quarto mês do ano\n"
          ]
        }
      ]
    },
    {
      "cell_type": "markdown",
      "metadata": {
        "id": "LjkHFel9YcL6"
      },
      "source": [
        "## Exercício 9:\n",
        "\n",
        "Crie uma tupla com os dias da semana e uma lista a partir de um range variando de 1 a 31. Em seguida peça ao usuário que diga o dia da semana que o primeiro dia desse mês caiu. Use então um loop para mostrar na tela um calendário simplificado mostando o dia do mês e o dia da semana correspondente lado a lado."
      ]
    },
    {
      "cell_type": "code",
      "metadata": {
        "id": "_6fJtyL9tqhk",
        "colab": {
          "base_uri": "https://localhost:8080/",
          "height": 578
        },
        "outputId": "7850ba4e-3a7d-4ea3-c355-fca10972a876"
      },
      "source": [
        "diassemana = (\"segunda\",\"terça\",\"quarta\",\"quinta\",\"sexta\",\"sábado\",\"domingo\")\n",
        "diasmes = range(31)\n",
        "while True:\n",
        "  inicio = input(\"O dia 1 desse mês caiu em que dia da semana?\")\n",
        "  if inicio in diassemana:\n",
        "    start = diassemana.index(inicio)\n",
        "    break\n",
        "for i in diasmes:\n",
        "  print(\"dia {}: {}\".format(i+1,diassemana[(start+i)%7]))"
      ],
      "execution_count": null,
      "outputs": [
        {
          "output_type": "stream",
          "text": [
            "O dia 1 desse mês caiu em que dia da semana?terca\n",
            "O dia 1 desse mês caiu em que dia da semana?terça\n",
            "dia 1: terça\n",
            "dia 2: quarta\n",
            "dia 3: quinta\n",
            "dia 4: sexta\n",
            "dia 5: sábado\n",
            "dia 6: domingo\n",
            "dia 7: segunda\n",
            "dia 8: terça\n",
            "dia 9: quarta\n",
            "dia 10: quinta\n",
            "dia 11: sexta\n",
            "dia 12: sábado\n",
            "dia 13: domingo\n",
            "dia 14: segunda\n",
            "dia 15: terça\n",
            "dia 16: quarta\n",
            "dia 17: quinta\n",
            "dia 18: sexta\n",
            "dia 19: sábado\n",
            "dia 20: domingo\n",
            "dia 21: segunda\n",
            "dia 22: terça\n",
            "dia 23: quarta\n",
            "dia 24: quinta\n",
            "dia 25: sexta\n",
            "dia 26: sábado\n",
            "dia 27: domingo\n",
            "dia 28: segunda\n",
            "dia 29: terça\n",
            "dia 30: quarta\n",
            "dia 31: quinta\n"
          ],
          "name": "stdout"
        }
      ]
    },
    {
      "cell_type": "markdown",
      "metadata": {
        "id": "i6mW5oDuY3IP"
      },
      "source": [
        "## Dicionários\n",
        "\n",
        "Outra estrutura fundamental é o dicionário, que associa valores com chaves e\n",
        "permite que você recupere o valor correspondente de uma dada chave\n",
        "rapidamente. Todos os tipos de dados compostos que estudamos em detalhes até agora — strings, listas e tuplas — são coleções sequenciais. Isto significa que os itens na coleção estão ordenados da esquerda para a direita e eles usam números inteiros como índices para acessar os valores que eles contêm.\n",
        "\n",
        "Dicionário é um tipo diferente de coleção. Ele é um tipo de mapeamento nativo do Python. Um mapa é uma coleção associativa desordenada. A associação, ou mapeamento, é feita a partir de uma chave, que pode ser qualquer tipo imutável, para um valor, que pode ser qualquer objeto de dados do Python.\n",
        "\n",
        "Como exemplo, vamos criar um dicionário para traduzir palavras em inglês para Espanhol. Para este dicionário, as chaves são strings.\n",
        "\n",
        "Uma maneira de criar um dicionário é começar com o dicionário vazio e adicionar pares chave-valor. O dicionário vazio é denotado {}"
      ]
    },
    {
      "cell_type": "code",
      "metadata": {
        "id": "SLmWjCZW6UZq"
      },
      "source": [
        "eng2sp = {}\n",
        "eng2sp['one'] = 'uno'\n",
        "eng2sp['two'] = 'dos'\n",
        "eng2sp['three'] = 'tres'\n"
      ],
      "execution_count": null,
      "outputs": []
    },
    {
      "cell_type": "code",
      "metadata": {
        "id": "bvri1FSRAJvw",
        "outputId": "5d6db3ba-0585-410e-fd6c-2a5cb7f31b3e",
        "colab": {
          "base_uri": "https://localhost:8080/"
        }
      },
      "source": [
        "print(eng2sp)"
      ],
      "execution_count": null,
      "outputs": [
        {
          "output_type": "stream",
          "name": "stdout",
          "text": [
            "{'one': 'uno', 'two': 'dos', 'three': 'tres'}\n"
          ]
        }
      ]
    },
    {
      "cell_type": "code",
      "metadata": {
        "id": "kyiBaFInWKsB",
        "outputId": "1ebeed00-a609-4e7c-ebb0-b5bb93b40aff",
        "colab": {
          "base_uri": "https://localhost:8080/"
        }
      },
      "source": [
        "type(eng2sp)"
      ],
      "execution_count": null,
      "outputs": [
        {
          "output_type": "execute_result",
          "data": {
            "text/plain": [
              "dict"
            ]
          },
          "metadata": {},
          "execution_count": 130
        }
      ]
    },
    {
      "cell_type": "markdown",
      "metadata": {
        "id": "DnLRMKZ_AGqi"
      },
      "source": [
        "Outra maneira de criar um dicionário é fornecer uma lista de pares chave-valor usando a mesma sintaxe que a saída anterior."
      ]
    },
    {
      "cell_type": "code",
      "metadata": {
        "id": "jfviBF0t_482"
      },
      "source": [
        "eng2sp = {'three': 'tres', 'one': 'uno', 'two': 'dos'}"
      ],
      "execution_count": null,
      "outputs": []
    },
    {
      "cell_type": "markdown",
      "metadata": {
        "id": "gI4HxVF4AWWG"
      },
      "source": [
        "Para acessar um dado do dicionário é preciso usar uma chave existente. O exemplo abaixo mostra como usar uma chave para pesquisar o valor correspondente."
      ]
    },
    {
      "cell_type": "code",
      "metadata": {
        "id": "Q96NtTrYADOn",
        "outputId": "d75bfb49-c9c4-45a0-966e-c0faee6eae50",
        "colab": {
          "base_uri": "https://localhost:8080/",
          "height": 36
        }
      },
      "source": [
        "eng2sp['one']"
      ],
      "execution_count": null,
      "outputs": [
        {
          "output_type": "execute_result",
          "data": {
            "text/plain": [
              "'uno'"
            ],
            "application/vnd.google.colaboratory.intrinsic+json": {
              "type": "string"
            }
          },
          "metadata": {},
          "execution_count": 132
        }
      ]
    },
    {
      "cell_type": "markdown",
      "metadata": {
        "id": "oi8fwZRICrnh"
      },
      "source": [
        "Para obter os nomes das chaves do dicionário use o método keys():"
      ]
    },
    {
      "cell_type": "code",
      "metadata": {
        "id": "QZJpGoiGCoSK",
        "outputId": "543d397c-5b77-47f4-8203-09b5462fd605",
        "colab": {
          "base_uri": "https://localhost:8080/"
        }
      },
      "source": [
        "eng2sp.keys()"
      ],
      "execution_count": null,
      "outputs": [
        {
          "output_type": "execute_result",
          "data": {
            "text/plain": [
              "dict_keys(['three', 'one', 'two'])"
            ]
          },
          "metadata": {},
          "execution_count": 133
        }
      ]
    },
    {
      "cell_type": "markdown",
      "metadata": {
        "id": "e-c67XuDC-G0"
      },
      "source": [
        "Note que o resultado da função keys é uma lista:"
      ]
    },
    {
      "cell_type": "code",
      "metadata": {
        "id": "ZVT-W3a2C3e6",
        "outputId": "33556c6d-86a7-441f-fe83-8813c7b5e3e6",
        "colab": {
          "base_uri": "https://localhost:8080/"
        }
      },
      "source": [
        "'two' in eng2sp.keys()"
      ],
      "execution_count": null,
      "outputs": [
        {
          "output_type": "execute_result",
          "data": {
            "text/plain": [
              "True"
            ]
          },
          "metadata": {},
          "execution_count": 134
        }
      ]
    },
    {
      "cell_type": "markdown",
      "source": [
        "Para obter a lista de valores do dicionário use o método 'values()':"
      ],
      "metadata": {
        "id": "TdtHmS5p3pLy"
      }
    },
    {
      "cell_type": "code",
      "source": [
        "eng2sp.values()"
      ],
      "metadata": {
        "colab": {
          "base_uri": "https://localhost:8080/"
        },
        "id": "-oRUNW-P3fWe",
        "outputId": "734890a3-3247-4371-f04d-e8f8044d8768"
      },
      "execution_count": null,
      "outputs": [
        {
          "output_type": "execute_result",
          "data": {
            "text/plain": [
              "dict_values(['tres', 'uno', 'dos'])"
            ]
          },
          "metadata": {},
          "execution_count": 135
        }
      ]
    },
    {
      "cell_type": "markdown",
      "metadata": {
        "id": "34SfnBIHWrme"
      },
      "source": [
        "## Exercício 10\n",
        "\n",
        "Implemente um script com um dicionário com dias da semana em português e sua tradução em inglês. Então permita que o usuário pergunte ao dicionário a tradução para um dia específico. Teste se o dia pedido existe como chave no dicionário e informe ao usuário. Repita esse procedimento dentro de um loop até que o usuário digite a palavra 'fim'."
      ]
    },
    {
      "cell_type": "code",
      "metadata": {
        "id": "Mxhue-kAf67m",
        "colab": {
          "base_uri": "https://localhost:8080/",
          "height": 119
        },
        "outputId": "f1d25ec8-68be-4cc0-fd79-94b72fbc4f44"
      },
      "source": [
        "diassemana = {\"segunda\":\"monday\",\"terça\":\"tuesday\",\"quarta\":\"wednesday\",\"quinta\":\"thursday\",\"sexta\":\"friday\",\"sábado\":\"saturday\",\"domingo\":\"sunday\"}\n",
        "while True:\n",
        "  qual = input(\"Escolha um dia da semana ou fim para terminar:\")\n",
        "  if qual == \"fim\":\n",
        "    break\n",
        "  if qual in diassemana.keys():\n",
        "    print(diassemana[qual])\n"
      ],
      "execution_count": null,
      "outputs": [
        {
          "output_type": "stream",
          "text": [
            "Escolha um dia da semana ou fim para terminar:terca\n",
            "Escolha um dia da semana ou fim para terminar:terça\n",
            "tuesday\n",
            "Escolha um dia da semana ou fim para terminar:quarta\n",
            "wednesday\n",
            "Escolha um dia da semana ou fim para terminar:fim\n"
          ],
          "name": "stdout"
        }
      ]
    },
    {
      "cell_type": "markdown",
      "metadata": {
        "id": "MHEMLSmBA322"
      },
      "source": [
        "### Operações com dicionários\n",
        "\n",
        "Dicionários também são mutáveis. Como vimos antes, com listas, isso significa que o dicionário pode ser modificado pela referência a uma associação no lado esquerdo de um comando de atribuição. Por exemplo, o seguinte dicionário contém os nomes de várias frutas e o número de cada fruta em estoque:"
      ]
    },
    {
      "cell_type": "code",
      "metadata": {
        "id": "N5rcIFW9AowE",
        "outputId": "9645412b-5214-4bff-afc8-7a092031c022",
        "colab": {
          "base_uri": "https://localhost:8080/"
        }
      },
      "source": [
        "inventario = {'kiwis': 430, 'bananas': 312, 'laranjas': 525, 'peras': 217}\n",
        "\n",
        "print(inventario)\n",
        "print(len(inventario))\n"
      ],
      "execution_count": null,
      "outputs": [
        {
          "output_type": "stream",
          "name": "stdout",
          "text": [
            "{'kiwis': 430, 'bananas': 312, 'laranjas': 525, 'peras': 217}\n",
            "4\n"
          ]
        }
      ]
    },
    {
      "cell_type": "code",
      "metadata": {
        "id": "QoS6kA_MBoWu"
      },
      "source": [
        "inventario['peras'] = 0"
      ],
      "execution_count": null,
      "outputs": []
    },
    {
      "cell_type": "code",
      "metadata": {
        "id": "rqre-cKrBuau",
        "outputId": "eff52e91-af8c-4ecd-dee7-cc8b119535fb",
        "colab": {
          "base_uri": "https://localhost:8080/"
        }
      },
      "source": [
        "print(inventario)"
      ],
      "execution_count": null,
      "outputs": [
        {
          "output_type": "stream",
          "name": "stdout",
          "text": [
            "{'kiwis': 430, 'bananas': 312, 'laranjas': 525, 'peras': 0}\n"
          ]
        }
      ]
    },
    {
      "cell_type": "markdown",
      "metadata": {
        "id": "z0Qmlrc1BF7d"
      },
      "source": [
        "O comando del remove um par chave-valor de um dicionário.  Se alguém compra todas as peras, podemos remover a entrada do dicionário."
      ]
    },
    {
      "cell_type": "code",
      "metadata": {
        "id": "QauvKSQBCA_7",
        "outputId": "ad776199-f9cd-4480-87d8-21b291444c07",
        "colab": {
          "base_uri": "https://localhost:8080/"
        }
      },
      "source": [
        "del inventario['peras']\n",
        "print(inventario)"
      ],
      "execution_count": null,
      "outputs": [
        {
          "output_type": "stream",
          "name": "stdout",
          "text": [
            "{'kiwis': 430, 'bananas': 312, 'laranjas': 525}\n"
          ]
        }
      ]
    },
    {
      "cell_type": "markdown",
      "metadata": {
        "id": "XdV6-AINJGXS"
      },
      "source": [
        "Para inserir novos dados no dicionário use a atribuição nessa forma:"
      ]
    },
    {
      "cell_type": "code",
      "metadata": {
        "id": "3buiEdWrI9Kj",
        "outputId": "170ba076-3062-444d-febb-ebeac5518398",
        "colab": {
          "base_uri": "https://localhost:8080/"
        }
      },
      "source": [
        "inventario['maças'] = 200\n",
        "print(inventario)"
      ],
      "execution_count": null,
      "outputs": [
        {
          "output_type": "stream",
          "name": "stdout",
          "text": [
            "{'kiwis': 430, 'bananas': 312, 'laranjas': 525, 'maças': 200}\n"
          ]
        }
      ]
    },
    {
      "cell_type": "markdown",
      "metadata": {
        "id": "bTnFpoZ5G1Tw"
      },
      "source": [
        "## Exercício 11:\n",
        "\n",
        "Vetores esparsos: é comum em algumas aplicações manipularem grandes coleções de dados onde somente alguns valores são relevantes. Nesse exercício você explorará o uso de dicionários para compactar uma lista cujos valores são majoritariamente 0. Escreva um script que, começando por uma lista de inteiros com 0s e valores não zero gere um dicionário de - para onde as chaves são as posições cujos valores são não zero, juntamente com seus valores. Em seguida mostre que consegue reproduzir a lista original só com o dicionário.\n",
        "\n",
        "entrada = [0, 0, 0, 1, 0, 0, 5, 0]\n",
        "\n",
        "dicionario = {3 : 1, 6 : 5}"
      ]
    },
    {
      "cell_type": "code",
      "metadata": {
        "id": "GxHib2f3CU9z",
        "colab": {
          "base_uri": "https://localhost:8080/",
          "height": 51
        },
        "outputId": "513d9b32-e168-43e8-ee8e-d9cf8c16bf47"
      },
      "source": [
        "matsp = {}\n",
        "entrada = [0, 0, 0, 1, 0, 0, 5, 0]\n",
        "for i in range(len(entrada)):\n",
        "  if entrada[i] != 0:\n",
        "    matsp[i] = entrada[i]\n",
        "print(matsp)\n",
        "saida = [0]*len(entrada)\n",
        "for x in matsp.keys():\n",
        "  saida[x] = matsp[x]\n",
        "print(saida)"
      ],
      "execution_count": null,
      "outputs": [
        {
          "output_type": "stream",
          "text": [
            "{3: 1, 6: 5}\n",
            "[0, 0, 0, 1, 0, 0, 5, 0]\n"
          ],
          "name": "stdout"
        }
      ]
    },
    {
      "cell_type": "markdown",
      "metadata": {
        "id": "b16RUcEmYGHP"
      },
      "source": [
        "# Conjuntos\n",
        "\n",
        "Um conjunto (set) é um tipo de dados de coleção, suportando o operador de associação in, a função len() e é iterável. Conjuntos não possuem noção de ordem por isso seus elementos não podem ser acessados com colchetes [] nem podem ser fatiados.\n",
        "\n",
        "Os conjuntos (set) não aceitam valores repetidos ao tentar criar um conjunto com valores repetidos eles serão descartados só sobrando um valor do mesmo.\n",
        "\n",
        "## Criando um conjunto\n",
        "\n",
        "Conjuntos só aceitam tipos de dados imutáveis como inteiros, floats, tuplas e strings não aceitando listas, dicionários e outros conjuntos (set).\n",
        "\n",
        "Para criar um conjunto basta colocar os valores entre chaves {} :\n",
        "\n"
      ]
    },
    {
      "cell_type": "code",
      "metadata": {
        "id": "rLSrl3_uYOmz"
      },
      "source": [
        "c = {'Paulo', 'Claudio', 'Marcio', 'Erica'}"
      ],
      "execution_count": null,
      "outputs": []
    },
    {
      "cell_type": "code",
      "metadata": {
        "id": "Lkllx5PaYUWp",
        "outputId": "f72dc0ac-22db-401e-f54a-ffe85f90f4b7",
        "colab": {
          "base_uri": "https://localhost:8080/"
        }
      },
      "source": [
        "type(c)"
      ],
      "execution_count": null,
      "outputs": [
        {
          "output_type": "execute_result",
          "data": {
            "text/plain": [
              "set"
            ]
          },
          "metadata": {},
          "execution_count": 142
        }
      ]
    },
    {
      "cell_type": "code",
      "metadata": {
        "id": "z-7NTZmnYoUj",
        "outputId": "db7c94cb-cba3-4a5c-f9f9-0cf0db1312a3",
        "colab": {
          "base_uri": "https://localhost:8080/"
        }
      },
      "source": [
        "len(c)"
      ],
      "execution_count": null,
      "outputs": [
        {
          "output_type": "execute_result",
          "data": {
            "text/plain": [
              "4"
            ]
          },
          "metadata": {},
          "execution_count": 143
        }
      ]
    },
    {
      "cell_type": "code",
      "metadata": {
        "id": "laL_cgg9YX8L",
        "outputId": "1b70c105-a7d2-4d2d-964a-3c561ea9170a",
        "colab": {
          "base_uri": "https://localhost:8080/"
        }
      },
      "source": [
        "for nome in c:\n",
        "  print(nome)"
      ],
      "execution_count": null,
      "outputs": [
        {
          "output_type": "stream",
          "name": "stdout",
          "text": [
            "Marcio\n",
            "Paulo\n",
            "Claudio\n",
            "Erica\n"
          ]
        }
      ]
    },
    {
      "cell_type": "markdown",
      "metadata": {
        "id": "80GCgv3YY2wu"
      },
      "source": [
        "O a sintaxe do método é s.add(x) onde adiciona ao conjunto s o elemento x se esse ainda não existir no conjunto:"
      ]
    },
    {
      "cell_type": "code",
      "metadata": {
        "id": "QByQkS9LY8Qr",
        "outputId": "77fdf196-09f4-4255-e1bf-2462211cbd4a",
        "colab": {
          "base_uri": "https://localhost:8080/"
        }
      },
      "source": [
        "c.add('João')\n",
        "print(c)"
      ],
      "execution_count": null,
      "outputs": [
        {
          "output_type": "stream",
          "name": "stdout",
          "text": [
            "{'João', 'Paulo', 'Marcio', 'Erica', 'Claudio'}\n"
          ]
        }
      ]
    },
    {
      "cell_type": "markdown",
      "metadata": {
        "id": "JobkXWUeZWAA"
      },
      "source": [
        "Para retirar um elemento do conjunto use discard:"
      ]
    },
    {
      "cell_type": "code",
      "metadata": {
        "id": "aKjHamqyZbPS",
        "outputId": "e5976e7c-3a55-4bc4-c781-a3f75ebc0113",
        "colab": {
          "base_uri": "https://localhost:8080/"
        }
      },
      "source": [
        "c.discard('Erica')\n",
        "print(c)"
      ],
      "execution_count": null,
      "outputs": [
        {
          "output_type": "stream",
          "name": "stdout",
          "text": [
            "{'João', 'Paulo', 'Marcio', 'Claudio'}\n"
          ]
        }
      ]
    },
    {
      "cell_type": "markdown",
      "metadata": {
        "id": "MAYG8Oo_Zt0p"
      },
      "source": [
        "É possível adicionar um conjunto a outro:"
      ]
    },
    {
      "cell_type": "code",
      "metadata": {
        "id": "AeE56ru-Zymr",
        "outputId": "eec44133-b85a-4695-bc8b-15eefe19cfc7",
        "colab": {
          "base_uri": "https://localhost:8080/"
        }
      },
      "source": [
        "c.update({'Maria','José'})\n",
        "print(c)"
      ],
      "execution_count": null,
      "outputs": [
        {
          "output_type": "stream",
          "name": "stdout",
          "text": [
            "{'João', 'Paulo', 'Maria', 'Marcio', 'José', 'Claudio'}\n"
          ]
        }
      ]
    },
    {
      "cell_type": "markdown",
      "metadata": {
        "id": "mIJXy213Z_tU"
      },
      "source": [
        "Os conjuntos são bastante úteis quando se deseja realizar operações típicas desse tipo de estrutura, como as uniões, interseções e diferenças:"
      ]
    },
    {
      "cell_type": "code",
      "metadata": {
        "id": "c1YBlsYdaR4Y"
      },
      "source": [
        "d = {'Tiago','João','José','Carla'}"
      ],
      "execution_count": null,
      "outputs": []
    },
    {
      "cell_type": "code",
      "metadata": {
        "id": "Yim8MyDsacXb",
        "outputId": "02b5a180-d2c4-420d-9b4d-a11f789b0c2e",
        "colab": {
          "base_uri": "https://localhost:8080/"
        }
      },
      "source": [
        "c.difference(d)\n"
      ],
      "execution_count": null,
      "outputs": [
        {
          "output_type": "execute_result",
          "data": {
            "text/plain": [
              "{'Claudio', 'Marcio', 'Maria', 'Paulo'}"
            ]
          },
          "metadata": {},
          "execution_count": 149
        }
      ]
    },
    {
      "cell_type": "code",
      "metadata": {
        "id": "S1JVQqcHavaB",
        "outputId": "c901ee72-1a5d-491d-a135-a0641f357f7d",
        "colab": {
          "base_uri": "https://localhost:8080/"
        }
      },
      "source": [
        "d.difference(c)"
      ],
      "execution_count": null,
      "outputs": [
        {
          "output_type": "execute_result",
          "data": {
            "text/plain": [
              "{'Carla', 'Tiago'}"
            ]
          },
          "metadata": {},
          "execution_count": 150
        }
      ]
    },
    {
      "cell_type": "code",
      "metadata": {
        "id": "wYAWHxUhaxRA",
        "outputId": "04c01560-34e7-4b2e-8eef-2efb4ac3a944",
        "colab": {
          "base_uri": "https://localhost:8080/"
        }
      },
      "source": [
        "d.intersection(c)"
      ],
      "execution_count": null,
      "outputs": [
        {
          "output_type": "execute_result",
          "data": {
            "text/plain": [
              "{'José', 'João'}"
            ]
          },
          "metadata": {},
          "execution_count": 151
        }
      ]
    },
    {
      "cell_type": "code",
      "metadata": {
        "id": "o0tZnR4Ea29G",
        "outputId": "4c6be4e5-995d-48e6-86dd-6a315ff9e023",
        "colab": {
          "base_uri": "https://localhost:8080/"
        }
      },
      "source": [
        "d.union(c)"
      ],
      "execution_count": null,
      "outputs": [
        {
          "output_type": "execute_result",
          "data": {
            "text/plain": [
              "{'Carla', 'Claudio', 'José', 'João', 'Marcio', 'Maria', 'Paulo', 'Tiago'}"
            ]
          },
          "metadata": {},
          "execution_count": 152
        }
      ]
    },
    {
      "cell_type": "markdown",
      "metadata": {
        "id": "L-bnywB8YkAN"
      },
      "source": [
        "Podemos ainda criar conjuntos a partir de uma lista ou tupla com set, uma grande vantagem é por exemplo limpar os dados repetidos em uma lista:"
      ]
    },
    {
      "cell_type": "code",
      "metadata": {
        "id": "JVtbtuioYlEC",
        "outputId": "1fade800-8831-43af-8c44-9691c46dc24c",
        "colab": {
          "base_uri": "https://localhost:8080/"
        }
      },
      "source": [
        "li = ['Maçã', 'Laranja', 'Uva', 'Abacaxi', 'Maçã', 'Abacate', 'Laranja']\n",
        "frutas = set(li)\n",
        "print(frutas)\n"
      ],
      "execution_count": null,
      "outputs": [
        {
          "output_type": "stream",
          "name": "stdout",
          "text": [
            "{'Maçã', 'Abacaxi', 'Uva', 'Laranja', 'Abacate'}\n"
          ]
        }
      ]
    },
    {
      "cell_type": "code",
      "metadata": {
        "id": "_SiEq7nCbMmG",
        "outputId": "eaa1ba2a-d095-4dd4-c1d7-d83d481416a2",
        "colab": {
          "base_uri": "https://localhost:8080/"
        }
      },
      "source": [
        "li = list(frutas)\n",
        "print(li)"
      ],
      "execution_count": null,
      "outputs": [
        {
          "output_type": "stream",
          "name": "stdout",
          "text": [
            "['Maçã', 'Abacaxi', 'Uva', 'Laranja', 'Abacate']\n"
          ]
        }
      ]
    },
    {
      "cell_type": "markdown",
      "metadata": {
        "id": "aviarGrkbaVq"
      },
      "source": [
        "## Exercício 12:\n",
        "\n",
        "Crie um conjunto com os elementos contidos na matriz criada no exercício 5 de forma a mostrar os números alí contidos sem repetição."
      ]
    },
    {
      "cell_type": "code",
      "metadata": {
        "id": "F-aneLDVb6I5",
        "colab": {
          "base_uri": "https://localhost:8080/",
          "height": 102
        },
        "outputId": "eddf0554-51c2-4545-a579-bee5f6072d5d"
      },
      "source": [
        "matriz"
      ],
      "execution_count": null,
      "outputs": [
        {
          "output_type": "execute_result",
          "data": {
            "text/plain": [
              "[[0, 1, 2, 3, 4],\n",
              " [1, 2, 3, 4, 5],\n",
              " [2, 3, 4, 5, 6],\n",
              " [3, 4, 5, 6, 7],\n",
              " [4, 5, 6, 7, 8]]"
            ]
          },
          "metadata": {
            "tags": []
          },
          "execution_count": 43
        }
      ]
    },
    {
      "cell_type": "code",
      "metadata": {
        "id": "SSyGLoWFjRts",
        "colab": {
          "base_uri": "https://localhost:8080/",
          "height": 34
        },
        "outputId": "36b7f5cf-f029-4499-81b8-030655ed4248"
      },
      "source": [
        "resp = set()\n",
        "for x in matriz:\n",
        "  resp = resp.union(set(x))\n",
        "print(resp)"
      ],
      "execution_count": null,
      "outputs": [
        {
          "output_type": "stream",
          "text": [
            "{0, 1, 2, 3, 4, 5, 6, 7, 8}\n"
          ],
          "name": "stdout"
        }
      ]
    },
    {
      "cell_type": "code",
      "metadata": {
        "id": "pRETqutsjtK9"
      },
      "source": [],
      "execution_count": null,
      "outputs": []
    }
  ]
}